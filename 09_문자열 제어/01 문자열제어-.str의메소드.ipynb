{
 "cells": [
  {
   "cell_type": "markdown",
   "id": "cd03df1f",
   "metadata": {},
   "source": [
    "## 데이터 셋\n",
    "- https://www.kaggle.com/datasets/abcsds/pokemon\n",
    "- 1번은 이상해씨"
   ]
  },
  {
   "cell_type": "code",
   "execution_count": null,
   "id": "660becc2",
   "metadata": {},
   "outputs": [],
   "source": [
    "import pandas as pd"
   ]
  },
  {
   "cell_type": "code",
   "execution_count": null,
   "id": "df512a35",
   "metadata": {
    "scrolled": true
   },
   "outputs": [],
   "source": [
    "pokemons = pd.read_csv('Pokemon.csv', index_col='#')\n",
    "pokemons"
   ]
  },
  {
   "cell_type": "markdown",
   "id": "a4d9c4c0",
   "metadata": {},
   "source": [
    "## .str\n",
    "- https://pandas.pydata.org/docs/reference/api/pandas.Series.str.html\n",
    "- 문자열 메소드를 실행할 때는, .str이 먼저 나온다고 생각하자!\n",
    "- Series와 Index에 대한 벡터화된 문자열 함수\n",
    "- 반복문을 사용하지 않고도 간단하게 문자열 데이터를 처리할 수 있다. (문자열 검색, 치환, 분리, 결합 등)\n",
    "- 특정한 메서드에서 다르게 처리하지 않는 한 NA 값은 NA 상태로 유지."
   ]
  },
  {
   "cell_type": "code",
   "execution_count": null,
   "id": "347c5be5",
   "metadata": {},
   "outputs": [],
   "source": []
  },
  {
   "cell_type": "code",
   "execution_count": null,
   "id": "83768f22",
   "metadata": {},
   "outputs": [],
   "source": []
  },
  {
   "cell_type": "code",
   "execution_count": null,
   "id": "f5705e11",
   "metadata": {
    "scrolled": true
   },
   "outputs": [],
   "source": [
    "# .str은 형변환이 아니다. 형변환은 .astype() 으로 하자!\n"
   ]
  },
  {
   "cell_type": "markdown",
   "id": "ae6200a9",
   "metadata": {},
   "source": [
    "## .str.upper(),  .str.lower()\n",
    "- https://pandas.pydata.org/docs/reference/api/pandas.Series.str.upper.html\n",
    "- https://pandas.pydata.org/docs/reference/api/pandas.Series.str.lower.html\n",
    "- 보면 Series.upper, Series.lower가 아닌 Series.str.upper, Series.str.lower"
   ]
  },
  {
   "cell_type": "code",
   "execution_count": null,
   "id": "905c7ead",
   "metadata": {},
   "outputs": [],
   "source": [
    "# 시리즈가 string(object)여도 문자열 메소드는 바로 동작하지 않는다.\n",
    "# 시리즈 객체에 upper() 메소드가 없다.\n"
   ]
  },
  {
   "cell_type": "code",
   "execution_count": null,
   "id": "b0586f1e",
   "metadata": {},
   "outputs": [],
   "source": [
    "# 형변환을 시켜줘도 메소드는 바로 동작하지 않는다.\n"
   ]
  },
  {
   "cell_type": "code",
   "execution_count": null,
   "id": "ad3bc33a",
   "metadata": {},
   "outputs": [],
   "source": [
    "# .str.upper()로 해야한다.\n"
   ]
  },
  {
   "cell_type": "code",
   "execution_count": null,
   "id": "f242e079",
   "metadata": {
    "scrolled": true
   },
   "outputs": [],
   "source": [
    "# .str.lower()도 실습\n"
   ]
  },
  {
   "cell_type": "markdown",
   "id": "cb9b025c",
   "metadata": {},
   "source": [
    "## 문자열 슬라이싱"
   ]
  },
  {
   "cell_type": "code",
   "execution_count": null,
   "id": "a984fc0c",
   "metadata": {},
   "outputs": [],
   "source": []
  },
  {
   "cell_type": "code",
   "execution_count": null,
   "id": "83f541d6",
   "metadata": {},
   "outputs": [],
   "source": [
    "# Name의 5자만 본다면?\n"
   ]
  },
  {
   "cell_type": "code",
   "execution_count": null,
   "id": "e334d0d8",
   "metadata": {},
   "outputs": [],
   "source": []
  },
  {
   "cell_type": "code",
   "execution_count": null,
   "id": "0bd8a7d4",
   "metadata": {},
   "outputs": [],
   "source": [
    "# 역정렬\n"
   ]
  },
  {
   "cell_type": "markdown",
   "id": "01efe2ed",
   "metadata": {},
   "source": [
    "## .str.contains(pat)\n",
    "- https://pandas.pydata.org/docs/reference/api/pandas.Series.str.contains.html\n",
    "\n",
    "### Series.str.contains(pat, case=True, flags=0, na=None, regex=True)\n",
    "- 문자열 Series 또는 Index에서 주어진 패턴 또는 정규식이 포함되어 있는지 확인\n",
    "- 주어진 문자열이나 정규식이 다수의 문자열 요소에 대해 포함 여부를 효과적으로 확인\n",
    "\n",
    "**parameter**:\n",
    "- pat: 문자열 또는 정규식 패턴\n",
    "- case : 대소문자 구분 여부를 지정하는 부울 값. \n",
    "    - True면 대소문자를 구분.\n",
    "- flags : re 모듈에 전달할 플래그. 정규식 패턴의 세부 제어 설정.\n",
    "    - re.IGNORECASE(re.I) : 대소문자를 구분하지 않고 패턴을 매칭.\n",
    "    - re.MULTILINE(re.M) : 문자열이 여러 줄로 이루어져 있을 때, 각 줄의 시작과 끝을 패턴 매칭.\n",
    "    - re.DOTALL(re.S) : 줄바꿈 문자를 포함한 모든 문자와 매칭.\n",
    "    - re.UNICODE(re.U) : 유니코드 문자 범위를 이해하고 매칭.\n",
    "    - re.VERBOSE(re.X) : 정규식 패턴을 가독성 있게 작성할 수 있도록 여러 줄과 주석을 사용한다.\n",
    "- na : 누락된 값에 대한 대체값(채움값). NA데이터를 만낫을 때 어떻게 처리할 건지 설정.\n",
    "- regex: 패턴을 정규식인지를 파악할 지 설정. \n",
    "    - True면 패턴을 정규식으로 해석. \n",
    "    - False면 패턴을 리터럴 문자열로 이해하고 처리.\n",
    "\n",
    "**return**\n",
    "- 포함 여부에 따라 부울 Series 또는 Index를 반환. \n",
    "- 패턴이나 정규식이 포함되어 있는 경우 True로 표시. \n",
    "- 포함되어 있지 않은 경우 False로 표시."
   ]
  },
  {
   "cell_type": "code",
   "execution_count": null,
   "id": "b5f10e19",
   "metadata": {},
   "outputs": [],
   "source": [
    "# q 탐색 필터(mask랑 비슷), 대소문자 구분O\n"
   ]
  },
  {
   "cell_type": "code",
   "execution_count": null,
   "id": "6d9dd53a",
   "metadata": {},
   "outputs": [],
   "source": []
  },
  {
   "cell_type": "code",
   "execution_count": null,
   "id": "46c855d7",
   "metadata": {
    "scrolled": true
   },
   "outputs": [],
   "source": [
    "# q 탐색 필터(mask랑 비슷), 대소문자 구분X\n"
   ]
  },
  {
   "cell_type": "code",
   "execution_count": null,
   "id": "bbd65c25",
   "metadata": {},
   "outputs": [],
   "source": [
    "# saurus(파충류), Dragon(용) -> saur, ragon 이름에 들어간 걸 찾기\n"
   ]
  },
  {
   "cell_type": "markdown",
   "id": "dfe08696",
   "metadata": {},
   "source": [
    "이상해씨 라인과 신룡, 망나뇽이 나왔다."
   ]
  },
  {
   "cell_type": "markdown",
   "id": "aef16bc5",
   "metadata": {},
   "source": [
    "## .str.startswith(), .str.endswith()\n",
    "- https://pandas.pydata.org/docs/reference/api/pandas.Series.str.startswith.html\n",
    "- https://pandas.pydata.org/docs/reference/api/pandas.Series.str.endswith.html"
   ]
  },
  {
   "cell_type": "code",
   "execution_count": null,
   "id": "40bbd443",
   "metadata": {},
   "outputs": [],
   "source": [
    "# 1가지\n"
   ]
  },
  {
   "cell_type": "code",
   "execution_count": null,
   "id": "9dadf9c9",
   "metadata": {},
   "outputs": [],
   "source": [
    "# 2가지\n"
   ]
  },
  {
   "cell_type": "code",
   "execution_count": null,
   "id": "9e83d4f5",
   "metadata": {},
   "outputs": [],
   "source": [
    "# 1가지\n"
   ]
  },
  {
   "cell_type": "code",
   "execution_count": null,
   "id": "e59366c2",
   "metadata": {},
   "outputs": [],
   "source": [
    "# 2가지\n"
   ]
  },
  {
   "cell_type": "markdown",
   "id": "61c33735",
   "metadata": {},
   "source": [
    "## .str.replace()\n",
    "- https://pandas.pydata.org/docs/reference/api/pandas.Series.str.replace.html"
   ]
  },
  {
   "cell_type": "code",
   "execution_count": null,
   "id": "8677ea2d",
   "metadata": {},
   "outputs": [],
   "source": [
    "# 'Fire'를 'Flame'로 변경하기\n"
   ]
  },
  {
   "cell_type": "code",
   "execution_count": null,
   "id": "f98cf8b5",
   "metadata": {},
   "outputs": [],
   "source": []
  },
  {
   "cell_type": "code",
   "execution_count": null,
   "id": "54896f5c",
   "metadata": {},
   "outputs": [],
   "source": []
  },
  {
   "cell_type": "markdown",
   "id": "aa9b2623",
   "metadata": {},
   "source": [
    "## .index.str, .columns.str\n",
    "- https://pandas.pydata.org/docs/reference/api/pandas.Index.str.html\n",
    "- .columns.str은 딱히 공식문서 설명이 있는 건 아님."
   ]
  },
  {
   "cell_type": "code",
   "execution_count": null,
   "id": "984900ed",
   "metadata": {},
   "outputs": [],
   "source": [
    "# 실습을 위해서 Name을 ID로 설정\n"
   ]
  },
  {
   "cell_type": "code",
   "execution_count": null,
   "id": "b1f74ccb",
   "metadata": {},
   "outputs": [],
   "source": []
  },
  {
   "cell_type": "code",
   "execution_count": null,
   "id": "cb49de0f",
   "metadata": {},
   "outputs": [],
   "source": [
    "# .index.str\n"
   ]
  },
  {
   "cell_type": "code",
   "execution_count": null,
   "id": "6bce1aa3",
   "metadata": {},
   "outputs": [],
   "source": [
    "# columns.str\n"
   ]
  },
  {
   "cell_type": "code",
   "execution_count": null,
   "id": "b620eb45",
   "metadata": {},
   "outputs": [],
   "source": []
  }
 ],
 "metadata": {
  "kernelspec": {
   "display_name": "Python 3 (ipykernel)",
   "language": "python",
   "name": "python3"
  },
  "language_info": {
   "codemirror_mode": {
    "name": "ipython",
    "version": 3
   },
   "file_extension": ".py",
   "mimetype": "text/x-python",
   "name": "python",
   "nbconvert_exporter": "python",
   "pygments_lexer": "ipython3",
   "version": "3.11.5"
  }
 },
 "nbformat": 4,
 "nbformat_minor": 5
}
