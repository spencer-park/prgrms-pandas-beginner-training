{
 "cells": [
  {
   "cell_type": "markdown",
   "id": "73f93aa0",
   "metadata": {},
   "source": [
    "## 범위 지정 필터링 between\n",
    "- Series의 메소드\n",
    "- 주어진 범위 안에 있는 요소를 가진 불리언 시리즈(Boolean Series)를 반환하는 메소드\n",
    "- 주어진 시리즈(Series)의 각 요소가 left와 right 사이에 있는 경우에 해당하는 위치에 True를 포함하는 불리언 벡터를 반환합니다. \n",
    "- NA 값은 False로 처리\n",
    "- https://pandas.pydata.org/docs/reference/api/pandas.Series.between.html"
   ]
  },
  {
   "cell_type": "markdown",
   "id": "bfa04801",
   "metadata": {},
   "source": [
    "### `Series.between(left, right, inclusive='both')`\n",
    "- left: 왼쪽 경계값.\n",
    "- right: 오른쪽 경계값.\n",
    "- inclusive: 경계값을 포함할지 여부를 지정하는 매개변수. \n",
    "    - 기본값은 'both'로, 왼쪽과 오른쪽 경계값을 모두 포함. \n",
    "    - 그 외로 'left', 'right', 'neither'를 선택 가능."
   ]
  },
  {
   "cell_type": "code",
   "execution_count": null,
   "id": "ef73f7a1",
   "metadata": {},
   "outputs": [],
   "source": [
    "# 참조\n",
    "import pandas as pd"
   ]
  },
  {
   "cell_type": "code",
   "execution_count": null,
   "id": "0fd039a3",
   "metadata": {
    "scrolled": true
   },
   "outputs": [],
   "source": [
    "# 데이터프레임 생성\n",
    "cols = ['name', 'survived', 'pclass', 'fare', 'sex', 'age']\n",
    "titanic = pd.read_excel('titanic3.xls', usecols=cols, index_col='name')\n",
    "titanic"
   ]
  },
  {
   "cell_type": "markdown",
   "id": "d1d7aa33",
   "metadata": {},
   "source": [
    "## 조건문으로 20대 찾기"
   ]
  },
  {
   "cell_type": "code",
   "execution_count": null,
   "id": "a0d9c490",
   "metadata": {
    "scrolled": true
   },
   "outputs": [],
   "source": []
  },
  {
   "cell_type": "code",
   "execution_count": null,
   "id": "8b9c85a6",
   "metadata": {
    "scrolled": false
   },
   "outputs": [],
   "source": []
  },
  {
   "cell_type": "markdown",
   "id": "0066fe7d",
   "metadata": {},
   "source": [
    "## between으로 20대 찾기"
   ]
  },
  {
   "cell_type": "code",
   "execution_count": null,
   "id": "6da5744a",
   "metadata": {},
   "outputs": [],
   "source": []
  },
  {
   "cell_type": "code",
   "execution_count": null,
   "id": "ad0a6be1",
   "metadata": {},
   "outputs": [],
   "source": []
  },
  {
   "cell_type": "markdown",
   "id": "9432176f",
   "metadata": {},
   "source": [
    "## inclusive 값의 변화"
   ]
  },
  {
   "cell_type": "code",
   "execution_count": null,
   "id": "dd695bdb",
   "metadata": {},
   "outputs": [],
   "source": [
    "# 20이상 30이하\n"
   ]
  },
  {
   "cell_type": "code",
   "execution_count": null,
   "id": "2601641d",
   "metadata": {},
   "outputs": [],
   "source": [
    "# 20초과 30이하\n"
   ]
  },
  {
   "cell_type": "code",
   "execution_count": null,
   "id": "6ca19554",
   "metadata": {
    "scrolled": true
   },
   "outputs": [],
   "source": [
    "# 20초과 30미만\n"
   ]
  }
 ],
 "metadata": {
  "kernelspec": {
   "display_name": "Python 3 (ipykernel)",
   "language": "python",
   "name": "python3"
  },
  "language_info": {
   "codemirror_mode": {
    "name": "ipython",
    "version": 3
   },
   "file_extension": ".py",
   "mimetype": "text/x-python",
   "name": "python",
   "nbconvert_exporter": "python",
   "pygments_lexer": "ipython3",
   "version": "3.11.5"
  }
 },
 "nbformat": 4,
 "nbformat_minor": 5
}
