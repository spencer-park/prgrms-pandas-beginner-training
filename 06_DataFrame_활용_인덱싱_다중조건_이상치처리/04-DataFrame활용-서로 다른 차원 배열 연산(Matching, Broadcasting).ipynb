{
 "cells": [
  {
   "cell_type": "markdown",
   "id": "73f93aa0",
   "metadata": {},
   "source": [
    "## Broadcasting이란?\n",
    "- 여러분의 공간 지각 능력이 필요합니다.\n",
    "- 교과 과정에서 행렬을 배웠을 수도 안 배웠을 수도 있습니다.\n",
    "- numpy에선 Array, Pandas에서는 DataFrame또는 Series의 모양이 다른 경우에 연산이 가능하도록 모양을 처리하는 방법을 말합니다.\n",
    "\n",
    "### 참고 - Numpy의 Broadcasting\n",
    "- [Numpy의 Broadcasting 공식문서](https://numpy.org/doc/stable/user/basics.broadcasting.html)\n",
    "- 이런 느낌이구나! 정도만 숙지합시다!\n",
    "- 오해하지맙시다. Numpy와 Pandas의 Broadcasting의 진행 방식은 다릅니다.\n",
    "    - Numpy Broadcasting 방식 != Pandas Broadcasting\n",
    "    - Broadcasting == 크기나 모양이 다를 때의 처리 방식을 정하는 것"
   ]
  },
  {
   "cell_type": "code",
   "execution_count": null,
   "id": "ef73f7a1",
   "metadata": {},
   "outputs": [],
   "source": [
    "# 참조\n",
    "import pandas as pd\n",
    "import numpy as np"
   ]
  },
  {
   "attachments": {
    "image.png": {
     "image/png": "[encoded data removed]"
    }
   },
   "cell_type": "markdown",
   "id": "0fa3eb6f",
   "metadata": {},
   "source": [
    "# BroadCasting 비교 - Numpy vs Pandas\n",
    "### 아래 그림은 numpy의 예시\n",
    "![image.png](attachment:image.png)"
   ]
  },
  {
   "cell_type": "code",
   "execution_count": null,
   "id": "81f63726",
   "metadata": {},
   "outputs": [],
   "source": [
    "# numpy Array로 할 때\n",
    "a = np.array([1.0, 2.0, 3.0])\n",
    "b = np.array([2.0])"
   ]
  },
  {
   "cell_type": "code",
   "execution_count": null,
   "id": "c86852d8",
   "metadata": {},
   "outputs": [],
   "source": [
    "a, b"
   ]
  },
  {
   "cell_type": "code",
   "execution_count": null,
   "id": "8c7406c6",
   "metadata": {},
   "outputs": [],
   "source": [
    "# * 연산\n",
    "a * b"
   ]
  },
  {
   "cell_type": "code",
   "execution_count": null,
   "id": "395049af",
   "metadata": {},
   "outputs": [],
   "source": [
    "# + 연산\n",
    "a + b"
   ]
  },
  {
   "cell_type": "code",
   "execution_count": null,
   "id": "5c5a8eb1",
   "metadata": {},
   "outputs": [],
   "source": [
    "# pandas Series로 할 때\n",
    "a = pd.Series(data = [1, 2, 3])\n",
    "b = pd.Series(data = [2])"
   ]
  },
  {
   "cell_type": "code",
   "execution_count": null,
   "id": "1b1c1926",
   "metadata": {},
   "outputs": [],
   "source": [
    "# * 연산\n",
    "a * b"
   ]
  },
  {
   "cell_type": "code",
   "execution_count": null,
   "id": "3070bb9c",
   "metadata": {},
   "outputs": [],
   "source": [
    "# + 연산\n",
    "a + b"
   ]
  },
  {
   "cell_type": "markdown",
   "id": "553c297c",
   "metadata": {},
   "source": [
    "- numpy는 Stretch(스케일 변환, 뻗다. 스트레칭하다)는 방식이고\n",
    "- pandas는 각각 처리하고 반영이 어려운 곳은 결측치(NA)로 처리하는 방식"
   ]
  },
  {
   "cell_type": "markdown",
   "id": "ff5204d4",
   "metadata": {},
   "source": [
    "## Pandas의 Matching / Broadcasting behavior\n",
    "- Pandas의 Broadcasting을 설명하려면 Matching도 함께 해야함.\n",
    "- https://pandas.pydata.org/docs/user_guide/basics.html#matching-broadcasting-behavior"
   ]
  },
  {
   "cell_type": "markdown",
   "id": "ef3563fe",
   "metadata": {},
   "source": [
    "## 행렬의 크기가 같을 때"
   ]
  },
  {
   "cell_type": "code",
   "execution_count": null,
   "id": "c174740a",
   "metadata": {},
   "outputs": [],
   "source": [
    "a = pd.Series(data = [1, 2, 3])\n",
    "b = pd.Series(data = [3, 5, 7])"
   ]
  },
  {
   "cell_type": "code",
   "execution_count": null,
   "id": "89bdcb33",
   "metadata": {},
   "outputs": [],
   "source": [
    "a + b"
   ]
  },
  {
   "cell_type": "code",
   "execution_count": null,
   "id": "1cf2beb4",
   "metadata": {},
   "outputs": [],
   "source": [
    "a - b"
   ]
  },
  {
   "cell_type": "code",
   "execution_count": null,
   "id": "d1fefab4",
   "metadata": {},
   "outputs": [],
   "source": [
    "a * b"
   ]
  },
  {
   "cell_type": "code",
   "execution_count": null,
   "id": "5479e232",
   "metadata": {
    "scrolled": true
   },
   "outputs": [],
   "source": [
    "a / b"
   ]
  },
  {
   "cell_type": "code",
   "execution_count": null,
   "id": "775d0457",
   "metadata": {},
   "outputs": [],
   "source": [
    "a // b"
   ]
  },
  {
   "cell_type": "code",
   "execution_count": null,
   "id": "35968419",
   "metadata": {},
   "outputs": [],
   "source": [
    "a % b"
   ]
  },
  {
   "cell_type": "code",
   "execution_count": null,
   "id": "420f2091",
   "metadata": {},
   "outputs": [],
   "source": [
    "a ** b"
   ]
  },
  {
   "cell_type": "code",
   "execution_count": null,
   "id": "c421e31f",
   "metadata": {},
   "outputs": [],
   "source": [
    "# 여담 : 비트 연산자 &(AND) |(OR) ^(XOR) 등도 된다. 공학도라면 참고.\n",
    "a ^ b"
   ]
  },
  {
   "cell_type": "markdown",
   "id": "35ecb13c",
   "metadata": {},
   "source": [
    "## 행렬 크기가 다를 때"
   ]
  },
  {
   "cell_type": "code",
   "execution_count": null,
   "id": "23764ec0",
   "metadata": {},
   "outputs": [],
   "source": [
    "# Case1. 크기가 다른 Series를 DataFrame시킬 때\n",
    "s1 = pd.Series(data = [1, 2, 3], index=['a', 'b', 'c'])\n",
    "s2 = pd.Series(data = [4, 5, 6, 7], index=['a', 'b', 'c', 'd'])\n",
    "s3 = pd.Series(data = [8, 9, 10], index=['a', 'b', 'd'])"
   ]
  },
  {
   "cell_type": "code",
   "execution_count": null,
   "id": "c8d6370d",
   "metadata": {},
   "outputs": [],
   "source": [
    "df1 = pd.DataFrame(\n",
    "    data = {\n",
    "        '1열': s1, '2열': s2, '3열': s3\n",
    "    }\n",
    ")\n",
    "df2 = pd.DataFrame(\n",
    "    data = {\n",
    "        '2열': s2\n",
    "    }\n",
    ")"
   ]
  },
  {
   "cell_type": "code",
   "execution_count": null,
   "id": "1a70aa0c",
   "metadata": {
    "scrolled": false
   },
   "outputs": [],
   "source": [
    "# 매칭이 안되는 곳은 결측치로 처리한다.\n",
    "df1"
   ]
  },
  {
   "cell_type": "code",
   "execution_count": null,
   "id": "87042f0f",
   "metadata": {
    "scrolled": true
   },
   "outputs": [],
   "source": [
    "df2"
   ]
  },
  {
   "cell_type": "code",
   "execution_count": null,
   "id": "f901ecde",
   "metadata": {},
   "outputs": [],
   "source": [
    "# Case2. 모두 DataFrame이고 행렬 크기가 다르나 동일한 열이름이 있는 경우 사칙 연산은?\n",
    "df1 - df2"
   ]
  },
  {
   "cell_type": "markdown",
   "id": "c7625edc",
   "metadata": {},
   "source": [
    "동일한 label만 가진 열만 계산되고 나머지는 모두 결측치가 되었다."
   ]
  },
  {
   "cell_type": "code",
   "execution_count": null,
   "id": "7512ca33",
   "metadata": {},
   "outputs": [],
   "source": [
    "# Case3. DataFrame과 Series의 연산이라면?\n",
    "s4 = df2.squeeze()\n",
    "s4"
   ]
  },
  {
   "cell_type": "code",
   "execution_count": null,
   "id": "6d30aa5d",
   "metadata": {},
   "outputs": [],
   "source": [
    "# 위의 df2는 df1의 2열 조회와 동일\n"
   ]
  },
  {
   "cell_type": "code",
   "execution_count": null,
   "id": "8037bb71",
   "metadata": {},
   "outputs": [],
   "source": [
    "# - 연산\n"
   ]
  },
  {
   "cell_type": "code",
   "execution_count": null,
   "id": "8a9f18bc",
   "metadata": {
    "scrolled": true
   },
   "outputs": [],
   "source": [
    "# sub 함수로 축을 변경해주면, Stretch가 일어났다!\n"
   ]
  },
  {
   "cell_type": "code",
   "execution_count": null,
   "id": "e3c49b92",
   "metadata": {},
   "outputs": [],
   "source": [
    "# 비교를 위한 df1 확인\n"
   ]
  },
  {
   "attachments": {
    "image.png": {
     "image/png": "[encoded data removed]"
    }
   },
   "cell_type": "markdown",
   "id": "07343f25",
   "metadata": {},
   "source": [
    "numpy에서의 Strech랑 같은 상황\n",
    "![image.png](attachment:image.png)"
   ]
  },
  {
   "cell_type": "code",
   "execution_count": null,
   "id": "1a3bfbb6",
   "metadata": {},
   "outputs": [],
   "source": [
    "# Case4, 그러면 행을 연산시키면 어떻게 될까?\n"
   ]
  },
  {
   "cell_type": "code",
   "execution_count": null,
   "id": "399179be",
   "metadata": {
    "scrolled": true
   },
   "outputs": [],
   "source": [
    "# 여기서도 Stretch가 발생했다.\n"
   ]
  },
  {
   "cell_type": "code",
   "execution_count": null,
   "id": "99e60849",
   "metadata": {},
   "outputs": [],
   "source": []
  },
  {
   "cell_type": "markdown",
   "id": "32c75c83",
   "metadata": {},
   "source": [
    "축을 이용할 때는 다음 메소드를 써야한다.\n",
    "| 연산자 | 메소드 | 사용 예시 |\n",
    "| - | - | - |\n",
    "| + | add() | df.add(row, axis='columns'), df.add(column, axis='index') |\n",
    "| - | sub() | df.sub(row, axis='columns'), df.sub(column, axis='index') |\n",
    "| * | mul() | df.mul(row, axis='columns'), df.mul(column, axis='index') |\n",
    "| / | div() | df.div(row, axis='columns'), df.div(column, axis='index') |\n"
   ]
  },
  {
   "cell_type": "markdown",
   "id": "5ada06e5",
   "metadata": {},
   "source": [
    "## 실습 활용"
   ]
  },
  {
   "cell_type": "code",
   "execution_count": null,
   "id": "0fd039a3",
   "metadata": {},
   "outputs": [],
   "source": []
  },
  {
   "cell_type": "code",
   "execution_count": null,
   "id": "a0d9c490",
   "metadata": {},
   "outputs": [],
   "source": []
  },
  {
   "cell_type": "code",
   "execution_count": null,
   "id": "678f280c",
   "metadata": {},
   "outputs": [],
   "source": [
    "# 출항이 늦어져서 30% Discount 해주기로 했다면?\n"
   ]
  },
  {
   "cell_type": "code",
   "execution_count": null,
   "id": "337db0c4",
   "metadata": {},
   "outputs": [],
   "source": [
    "# 할인가를 DataFrame에 열 추가\n"
   ]
  },
  {
   "cell_type": "code",
   "execution_count": null,
   "id": "b7d173e9",
   "metadata": {},
   "outputs": [],
   "source": [
    "# 반올림처리\n"
   ]
  }
 ],
 "metadata": {
  "kernelspec": {
   "display_name": "Python 3 (ipykernel)",
   "language": "python",
   "name": "python3"
  },
  "language_info": {
   "codemirror_mode": {
    "name": "ipython",
    "version": 3
   },
   "file_extension": ".py",
   "mimetype": "text/x-python",
   "name": "python",
   "nbconvert_exporter": "python",
   "pygments_lexer": "ipython3",
   "version": "3.11.5"
  }
 },
 "nbformat": 4,
 "nbformat_minor": 5
}
