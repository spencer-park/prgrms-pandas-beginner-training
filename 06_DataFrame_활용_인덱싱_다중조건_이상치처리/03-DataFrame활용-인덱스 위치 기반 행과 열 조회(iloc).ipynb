{
 "cells": [
  {
   "cell_type": "markdown",
   "id": "73f93aa0",
   "metadata": {},
   "source": [
    "## 데이터셋 준비\n",
    "- The Complete Titanic Dataset : https://www.kaggle.com/datasets/vinicius150987/titanic3\n",
    "- 스프레드 시트로 정리 : https://docs.google.com/spreadsheets/d/1p8SgoOqLPGZbkkNBfWDyxdjlM1sBoOLo/edit?usp=sharing&ouid=104295259370579267197&rtpof=true&sd=true"
   ]
  },
  {
   "cell_type": "code",
   "execution_count": null,
   "id": "ef73f7a1",
   "metadata": {},
   "outputs": [],
   "source": [
    "# 참조\n",
    "import pandas as pd"
   ]
  },
  {
   "cell_type": "code",
   "execution_count": null,
   "id": "66a0eef3",
   "metadata": {},
   "outputs": [],
   "source": []
  },
  {
   "cell_type": "code",
   "execution_count": null,
   "id": "2e6175f2",
   "metadata": {},
   "outputs": [],
   "source": [
    "# loc을 이용한 999 조회\n"
   ]
  },
  {
   "cell_type": "code",
   "execution_count": null,
   "id": "eba6ce2d",
   "metadata": {
    "scrolled": true
   },
   "outputs": [],
   "source": [
    "# iloc을 이용한 999 조회\n"
   ]
  },
  {
   "cell_type": "code",
   "execution_count": null,
   "id": "067b20d1",
   "metadata": {},
   "outputs": [],
   "source": [
    "# 0 행 삭제\n"
   ]
  },
  {
   "cell_type": "code",
   "execution_count": null,
   "id": "ab449357",
   "metadata": {},
   "outputs": [],
   "source": [
    "# loc을 이용한 0 조회 -> 오류 발생\n"
   ]
  },
  {
   "cell_type": "code",
   "execution_count": null,
   "id": "4cfc38ca",
   "metadata": {},
   "outputs": [],
   "source": [
    "# iloc을 이용한 0 조회 -> index label이 1인 것이 조회\n"
   ]
  },
  {
   "cell_type": "code",
   "execution_count": null,
   "id": "c192fe0e",
   "metadata": {
    "scrolled": false
   },
   "outputs": [],
   "source": []
  },
  {
   "cell_type": "markdown",
   "id": "a6f5f8a0",
   "metadata": {},
   "source": [
    "## loc[ ] vs iloc[ ]\n",
    "- loc은 label, iloc은 index position을 사용하여 단일 행 또는 여러 행을 선택\n",
    "- index(index label)는 문자일 수도, 숫자일 수도 있다.\n",
    "- index position은 고정이다. (마치 파이썬의 리스트 인덱스)\n",
    "- 헷갈리지 않는다면 괜찮지만, 가능하면 index label 숫자는 피하도록 하자.\n",
    "- index의 중복값이 우려된다면 그 땐 index label이 정수여도 괜찮을 듯"
   ]
  },
  {
   "cell_type": "code",
   "execution_count": null,
   "id": "f1fc50e5",
   "metadata": {},
   "outputs": [],
   "source": [
    "# 슬라이싱 1\n"
   ]
  },
  {
   "cell_type": "code",
   "execution_count": null,
   "id": "92fcbd67",
   "metadata": {
    "scrolled": true
   },
   "outputs": [],
   "source": [
    "# 슬라이싱 2\n"
   ]
  },
  {
   "cell_type": "markdown",
   "id": "4a454019",
   "metadata": {},
   "source": [
    "- 헷갈리지 않는다면 괜찮지만, 가능하면 index label 숫자는 피하도록 하자.\n",
    "- inedx의 중복값이 우려된다면 그 땐 index label이 정수여도 괜찮을 듯"
   ]
  },
  {
   "cell_type": "code",
   "execution_count": null,
   "id": "94d42625",
   "metadata": {},
   "outputs": [],
   "source": [
    "# index label의 numeric 피하기\n"
   ]
  },
  {
   "cell_type": "code",
   "execution_count": null,
   "id": "fc33d0ee",
   "metadata": {},
   "outputs": [],
   "source": [
    "# 여전히 iloc은 잘 동작한다 - 슬라이싱 1\n"
   ]
  },
  {
   "cell_type": "code",
   "execution_count": null,
   "id": "f95b4b8b",
   "metadata": {},
   "outputs": [],
   "source": [
    "# 여전히 iloc은 잘 동작한다 - 슬라이싱 2\n"
   ]
  },
  {
   "cell_type": "code",
   "execution_count": null,
   "id": "cd530709",
   "metadata": {},
   "outputs": [],
   "source": [
    "# 여러 행 조회\n"
   ]
  },
  {
   "cell_type": "code",
   "execution_count": null,
   "id": "ada3ffd3",
   "metadata": {
    "scrolled": true
   },
   "outputs": [],
   "source": [
    "# 역순환 조회 - 파이썬 리스트처럼\n"
   ]
  },
  {
   "cell_type": "code",
   "execution_count": null,
   "id": "ddfeb913",
   "metadata": {},
   "outputs": [],
   "source": [
    "# Series가 아닌 DataFrame으로 받으려면?\n"
   ]
  },
  {
   "cell_type": "code",
   "execution_count": null,
   "id": "5c542725",
   "metadata": {},
   "outputs": [],
   "source": [
    "# tail로 확인해보자.\n"
   ]
  },
  {
   "cell_type": "markdown",
   "id": "7375a228",
   "metadata": {},
   "source": [
    "## iloc을 통한 행과 열 지정하여 조회"
   ]
  },
  {
   "cell_type": "markdown",
   "id": "da03130e",
   "metadata": {},
   "source": [
    "1. `iloc[index_position]` > Series\n",
    "1. `iloc[[index_position]]` > DataFrame\n",
    "1. `iloc[[index_position1, 2, 3]]` > DataFrame\n",
    "1. `iloc[index_position, column_position]`\n",
    "1. `iloc[[index_position], column_position]`\n",
    "1. `iloc[[index_position], [column_position]]`\n",
    "1. `iloc[index_position, [column_position]]`"
   ]
  },
  {
   "cell_type": "code",
   "execution_count": null,
   "id": "ed974129",
   "metadata": {},
   "outputs": [],
   "source": [
    "# 3번째 위치한 사람 행 데이터\n"
   ]
  },
  {
   "cell_type": "code",
   "execution_count": null,
   "id": "3ce5943a",
   "metadata": {},
   "outputs": [],
   "source": [
    "# iloc[index_position, column_position] -> 스칼라\n"
   ]
  },
  {
   "cell_type": "code",
   "execution_count": null,
   "id": "0eac9bb6",
   "metadata": {},
   "outputs": [],
   "source": [
    "# iloc[[index_position], column_position] -> Series\n"
   ]
  },
  {
   "cell_type": "markdown",
   "id": "0826d108",
   "metadata": {},
   "source": [
    "여담 : Series에서 배운 `squeeze`는 차원 축소 함수로\n",
    "- DataFrame을 축소하면 Series\n",
    "- Series 또는 1행 1열만 있는 DataFrame을 축소하면 스칼라(값)가 됩니다."
   ]
  },
  {
   "cell_type": "code",
   "execution_count": null,
   "id": "8be9d910",
   "metadata": {},
   "outputs": [],
   "source": [
    "# iloc[[index_position], [column_position]] -> DataFrame 1\n"
   ]
  },
  {
   "cell_type": "code",
   "execution_count": null,
   "id": "f7521331",
   "metadata": {},
   "outputs": [],
   "source": [
    "# iloc[[index_position], [column_position]] -> DataFrame 2\n"
   ]
  },
  {
   "cell_type": "code",
   "execution_count": null,
   "id": "7deb325d",
   "metadata": {},
   "outputs": [],
   "source": [
    "# iloc[index_position, [column_position]] -> Series\n"
   ]
  },
  {
   "cell_type": "code",
   "execution_count": null,
   "id": "a26ac4a3",
   "metadata": {
    "scrolled": true
   },
   "outputs": [],
   "source": [
    "# iloc[index_position, [column_position]] -> Series\n"
   ]
  },
  {
   "cell_type": "code",
   "execution_count": null,
   "id": "a87d3651",
   "metadata": {},
   "outputs": [],
   "source": [
    "# 모든 행의 2, 3 열만 보고 싶다면?\n"
   ]
  },
  {
   "cell_type": "markdown",
   "id": "13f6a5bd",
   "metadata": {},
   "source": [
    "- 편하게 사용할 수 있는 건 `iloc` 같으나\n",
    "- 유의미하고 명확하게 사용하게 되는 건 `loc`\n",
    "- '특정 누구를 찾는다'라고 할 땐 loc이 유리\n",
    "- 정렬을 하다보면 index position은 바뀌기 마련.\n",
    "- 때문에 '특정 행에서 특정처리를 한다'는 상황은 가능한 `loc`을 지향"
   ]
  }
 ],
 "metadata": {
  "kernelspec": {
   "display_name": "Python 3 (ipykernel)",
   "language": "python",
   "name": "python3"
  },
  "language_info": {
   "codemirror_mode": {
    "name": "ipython",
    "version": 3
   },
   "file_extension": ".py",
   "mimetype": "text/x-python",
   "name": "python",
   "nbconvert_exporter": "python",
   "pygments_lexer": "ipython3",
   "version": "3.11.5"
  }
 },
 "nbformat": 4,
 "nbformat_minor": 5
}
