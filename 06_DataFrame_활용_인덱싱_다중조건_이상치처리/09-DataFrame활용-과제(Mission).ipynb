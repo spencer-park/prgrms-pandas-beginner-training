{
 "cells": [
  {
   "cell_type": "markdown",
   "id": "445bbe1f",
   "metadata": {},
   "source": [
    "## Pandas참조 후 titanic 데이터를 가져오기\n",
    "- name열이 index로 설정"
   ]
  },
  {
   "cell_type": "code",
   "execution_count": null,
   "id": "5ee7d69b",
   "metadata": {
    "scrolled": true
   },
   "outputs": [],
   "source": []
  },
  {
   "cell_type": "markdown",
   "id": "fc74c034",
   "metadata": {},
   "source": [
    "## 데이터프레임의 columns만 조회"
   ]
  },
  {
   "cell_type": "code",
   "execution_count": null,
   "id": "c57e0bea",
   "metadata": {},
   "outputs": [],
   "source": []
  },
  {
   "cell_type": "markdown",
   "id": "685cc2db",
   "metadata": {},
   "source": [
    "## .drop()을 이용해서 2개의 열을 삭제\n",
    "- home.dest\n",
    "- embarked\n",
    "- sibsp\n",
    "- 원본에 반영"
   ]
  },
  {
   "cell_type": "code",
   "execution_count": null,
   "id": "703b48e1",
   "metadata": {},
   "outputs": [],
   "source": []
  },
  {
   "cell_type": "markdown",
   "id": "858fe5b0",
   "metadata": {},
   "source": [
    "## del을 이용한 열 삭제\n",
    "- parch"
   ]
  },
  {
   "cell_type": "code",
   "execution_count": null,
   "id": "c7479951",
   "metadata": {},
   "outputs": [],
   "source": []
  },
  {
   "cell_type": "markdown",
   "id": "22c79cd4",
   "metadata": {},
   "source": [
    "## 사망자 명단 조회하기"
   ]
  },
  {
   "cell_type": "code",
   "execution_count": null,
   "id": "c00e0b16",
   "metadata": {},
   "outputs": [],
   "source": []
  },
  {
   "cell_type": "markdown",
   "id": "65c7166d",
   "metadata": {},
   "source": [
    "## 시신 식별번호(body)가 없는 데이터 조회하기"
   ]
  },
  {
   "cell_type": "code",
   "execution_count": null,
   "id": "b5df37d9",
   "metadata": {},
   "outputs": [],
   "source": []
  },
  {
   "cell_type": "markdown",
   "id": "88ee4bc1",
   "metadata": {},
   "source": [
    "살아있는 사람은 시신 식별번호가 없는 것은 당연"
   ]
  },
  {
   "cell_type": "markdown",
   "id": "469789be",
   "metadata": {},
   "source": [
    "## 사망자이나 시신식별번호가 없는 명단 찾기"
   ]
  },
  {
   "cell_type": "code",
   "execution_count": null,
   "id": "4a310f73",
   "metadata": {},
   "outputs": [],
   "source": []
  },
  {
   "cell_type": "markdown",
   "id": "b723d9d5",
   "metadata": {},
   "source": [
    "사망자가 809명인데, 식별번호가 없는 명단이 688명이나 된다."
   ]
  },
  {
   "cell_type": "markdown",
   "id": "98cf04a3",
   "metadata": {},
   "source": [
    "## 사망자이나 시신식별번호가 없는 명단으로 새로운 df 만들기\n",
    "- `notfound_list`"
   ]
  },
  {
   "cell_type": "code",
   "execution_count": null,
   "id": "00bb9dfe",
   "metadata": {},
   "outputs": [],
   "source": []
  },
  {
   "cell_type": "markdown",
   "id": "23750636",
   "metadata": {},
   "source": [
    "## notfound_list의 승객 등급별 개수 확인"
   ]
  },
  {
   "cell_type": "code",
   "execution_count": null,
   "id": "cff67eb3",
   "metadata": {
    "scrolled": true
   },
   "outputs": [],
   "source": []
  },
  {
   "cell_type": "markdown",
   "id": "a10445fd",
   "metadata": {},
   "source": [
    "3등급(하류층)이 많으나, 이건 당연할 수 있다. 비율을 구해보자."
   ]
  },
  {
   "cell_type": "markdown",
   "id": "02f40a88",
   "metadata": {},
   "source": [
    "## 전체 titanic 전체 승객 등급별 개수 확인"
   ]
  },
  {
   "cell_type": "code",
   "execution_count": null,
   "id": "c8934144",
   "metadata": {},
   "outputs": [],
   "source": []
  },
  {
   "cell_type": "markdown",
   "id": "f4cb10ef",
   "metadata": {},
   "source": [
    "## 승객 등급별 실종 비율 확인"
   ]
  },
  {
   "cell_type": "code",
   "execution_count": null,
   "id": "c866b6a8",
   "metadata": {},
   "outputs": [],
   "source": []
  },
  {
   "cell_type": "markdown",
   "id": "fb15052e",
   "metadata": {},
   "source": [
    "## 1. 사망자의 하류층 티겟 가격 분포와 2. 생존자의 하류층 티켓 가격 분포를 확인해보자."
   ]
  },
  {
   "cell_type": "code",
   "execution_count": null,
   "id": "0d698295",
   "metadata": {},
   "outputs": [],
   "source": []
  },
  {
   "cell_type": "markdown",
   "id": "75d17729",
   "metadata": {},
   "source": [
    "3등급에서 티켓가격의 차이가 생존유무와 관련성이 있어보이지 않는다."
   ]
  }
 ],
 "metadata": {
  "kernelspec": {
   "display_name": "Python 3 (ipykernel)",
   "language": "python",
   "name": "python3"
  },
  "language_info": {
   "codemirror_mode": {
    "name": "ipython",
    "version": 3
   },
   "file_extension": ".py",
   "mimetype": "text/x-python",
   "name": "python",
   "nbconvert_exporter": "python",
   "pygments_lexer": "ipython3",
   "version": "3.11.5"
  }
 },
 "nbformat": 4,
 "nbformat_minor": 5
}
