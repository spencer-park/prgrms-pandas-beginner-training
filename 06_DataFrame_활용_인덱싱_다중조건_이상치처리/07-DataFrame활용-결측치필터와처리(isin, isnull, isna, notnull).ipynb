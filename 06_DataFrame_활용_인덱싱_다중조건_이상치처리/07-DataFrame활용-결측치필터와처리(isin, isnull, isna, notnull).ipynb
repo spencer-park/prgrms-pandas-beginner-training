{
 "cells": [
  {
   "cell_type": "markdown",
   "id": "73f93aa0",
   "metadata": {},
   "source": [
    "## 결측치를 제어해서 조건문을 단순화 시키기\n",
    "- 조건문이 복잡해지기 전에 미리 데이터를 정리하는 연습을 해보자.\n",
    "- isin, isnull, notnull 메소드는 Series, DataFrame 모두 있다.\n",
    "\n",
    "**isin**\n",
    "- https://pandas.pydata.org/docs/reference/api/pandas.Series.isin.html\n",
    "- https://pandas.pydata.org/docs/reference/api/pandas.DataFrame.isin.html\n",
    "\n",
    "**isnull**\n",
    "- https://pandas.pydata.org/docs/reference/api/pandas.Series.isnull.html\n",
    "- https://pandas.pydata.org/docs/reference/api/pandas.DataFrame.isnull.html\n",
    "\n",
    "**notnull**\n",
    "- https://pandas.pydata.org/docs/reference/api/pandas.Series.notnull.html\n",
    "- https://pandas.pydata.org/docs/reference/api/pandas.DataFrame.notnull.html"
   ]
  },
  {
   "cell_type": "code",
   "execution_count": null,
   "id": "ef73f7a1",
   "metadata": {},
   "outputs": [],
   "source": [
    "# 참조\n",
    "import pandas as pd"
   ]
  },
  {
   "cell_type": "code",
   "execution_count": null,
   "id": "0fd039a3",
   "metadata": {
    "scrolled": true
   },
   "outputs": [],
   "source": [
    "# 데이터프레임 생성\n",
    "cols = ['name', 'survived', 'pclass', 'fare', 'sex', 'age']\n",
    "titanic = pd.read_excel('titanic3.xls', usecols=cols, index_col='name')\n",
    "titanic"
   ]
  },
  {
   "cell_type": "markdown",
   "id": "d1d7aa33",
   "metadata": {},
   "source": [
    "## 상류층 | 중산층 모두 찾을 조건문(마스크)를 만들 때\n",
    "- 기존에 배운 방식으로 한다면"
   ]
  },
  {
   "cell_type": "code",
   "execution_count": null,
   "id": "a0d9c490",
   "metadata": {
    "scrolled": true
   },
   "outputs": [],
   "source": []
  },
  {
   "cell_type": "code",
   "execution_count": null,
   "id": "1c4f9e29",
   "metadata": {
    "scrolled": true
   },
   "outputs": [],
   "source": []
  },
  {
   "cell_type": "code",
   "execution_count": null,
   "id": "ac03e478",
   "metadata": {},
   "outputs": [],
   "source": []
  },
  {
   "cell_type": "markdown",
   "id": "4d726294",
   "metadata": {},
   "source": [
    "## `.isin()`으로 동일코드를 구현해보면\n",
    "\n",
    "> ### `Series.isin(values)`\n",
    "**Parameters**\n",
    "values : set or list-like  \n",
    "**Returns**\n",
    "Series : Series of booleans indicating if each element is in values.  \n",
    "**Raises** TypeError : If values is a string\n",
    "\n",
    "---\n",
    "- 파이썬의 in 과 비슷하게 생각해보자.\n",
    "    - `1 in [1, 2]` `2 in [1, 2]` 모두 True가 나옴\n",
    "- `isin` 메소드를 사용하여 각 요소가 특정 값들에 속하는지 여부를 확인할 수 있다.\n",
    "- Series의 각 요소가 주어진 값(values)에 포함되는지 여부를 나타내는 불리언 Series를 반환\n",
    "- values는 집합(set)이나 리스트 형태의 값들로 이루어진 시퀀스\n",
    "- values에 단일 문자열을 전달할 경우 TypeError가 발생\n",
    "    - 단일 문자열을 하나의 요소로 갖는 리스트로 변환해야함."
   ]
  },
  {
   "cell_type": "code",
   "execution_count": null,
   "id": "a0be3c7a",
   "metadata": {},
   "outputs": [],
   "source": []
  },
  {
   "cell_type": "code",
   "execution_count": null,
   "id": "ced15d1c",
   "metadata": {},
   "outputs": [],
   "source": []
  },
  {
   "cell_type": "code",
   "execution_count": null,
   "id": "4efddece",
   "metadata": {},
   "outputs": [],
   "source": [
    "# 1, 2, 3 모두 확인한다면\n"
   ]
  },
  {
   "cell_type": "markdown",
   "id": "5f49eb63",
   "metadata": {},
   "source": [
    "## `.isnull()`\n",
    "- null 요소가 있는지 확인하는 메서드\n",
    "- NA를 발견하면 True로 반환한다."
   ]
  },
  {
   "cell_type": "code",
   "execution_count": null,
   "id": "136b06ec",
   "metadata": {},
   "outputs": [],
   "source": [
    "# null이 있는 데이터 확인하기\n"
   ]
  },
  {
   "cell_type": "code",
   "execution_count": null,
   "id": "f4f2b417",
   "metadata": {
    "scrolled": true
   },
   "outputs": [],
   "source": [
    "# age열 isnull()\n"
   ]
  },
  {
   "cell_type": "code",
   "execution_count": null,
   "id": "26c26c21",
   "metadata": {},
   "outputs": [],
   "source": [
    "# 개수 확인\n"
   ]
  },
  {
   "cell_type": "markdown",
   "id": "93514879",
   "metadata": {},
   "source": [
    "## `.notnull()`\n",
    "- isnull과 반대로 NA가 아닌 걸 발견하면 True로 반환"
   ]
  },
  {
   "cell_type": "code",
   "execution_count": null,
   "id": "06d82f90",
   "metadata": {},
   "outputs": [],
   "source": []
  },
  {
   "cell_type": "code",
   "execution_count": null,
   "id": "b7b7d72a",
   "metadata": {},
   "outputs": [],
   "source": [
    "# 개수 확인\n"
   ]
  },
  {
   "cell_type": "markdown",
   "id": "6020e364",
   "metadata": {},
   "source": [
    "## 이를 이용하여 조건문(Mask)만들기"
   ]
  },
  {
   "cell_type": "code",
   "execution_count": null,
   "id": "047cb815",
   "metadata": {},
   "outputs": [],
   "source": []
  },
  {
   "cell_type": "code",
   "execution_count": null,
   "id": "248a5116",
   "metadata": {},
   "outputs": [],
   "source": [
    "# 나이가 식별되지 않은 사람 확인\n"
   ]
  },
  {
   "cell_type": "code",
   "execution_count": null,
   "id": "f3b27650",
   "metadata": {},
   "outputs": [],
   "source": [
    "# 나이가 식별된 사람 확인\n"
   ]
  }
 ],
 "metadata": {
  "kernelspec": {
   "display_name": "Python 3 (ipykernel)",
   "language": "python",
   "name": "python3"
  },
  "language_info": {
   "codemirror_mode": {
    "name": "ipython",
    "version": 3
   },
   "file_extension": ".py",
   "mimetype": "text/x-python",
   "name": "python",
   "nbconvert_exporter": "python",
   "pygments_lexer": "ipython3",
   "version": "3.11.5"
  }
 },
 "nbformat": 4,
 "nbformat_minor": 5
}
