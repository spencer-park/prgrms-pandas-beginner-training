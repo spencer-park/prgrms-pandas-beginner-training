{
 "cells": [
  {
   "cell_type": "markdown",
   "id": "73f93aa0",
   "metadata": {},
   "source": [
    "## 이름(name) 변경"
   ]
  },
  {
   "cell_type": "code",
   "execution_count": null,
   "id": "ef73f7a1",
   "metadata": {},
   "outputs": [],
   "source": [
    "# 참조\n",
    "import pandas as pd"
   ]
  },
  {
   "cell_type": "code",
   "execution_count": null,
   "id": "0fd039a3",
   "metadata": {
    "scrolled": true
   },
   "outputs": [],
   "source": [
    "# 데이터프레임 생성\n",
    "cols = ['name', 'survived', 'pclass', 'fare', 'sex', 'age']\n",
    "titanic = pd.read_excel('titanic3.xls', usecols=cols, index_col='name')\n",
    "titanic"
   ]
  },
  {
   "cell_type": "markdown",
   "id": "e434909c",
   "metadata": {},
   "source": [
    "## 열(column) 이름 변경"
   ]
  },
  {
   "cell_type": "code",
   "execution_count": null,
   "id": "616d5347",
   "metadata": {},
   "outputs": [],
   "source": [
    "# 열 목록(columns index) 조회\n"
   ]
  },
  {
   "cell_type": "code",
   "execution_count": null,
   "id": "2ee53398",
   "metadata": {},
   "outputs": [],
   "source": [
    "# 특정 열 이름 접근\n"
   ]
  },
  {
   "cell_type": "code",
   "execution_count": null,
   "id": "4cc193f7",
   "metadata": {},
   "outputs": [],
   "source": [
    "# Try : 수정 = 접근 후 할당 \n"
   ]
  },
  {
   "cell_type": "code",
   "execution_count": null,
   "id": "73996df2",
   "metadata": {},
   "outputs": [],
   "source": [
    "# 방법 1 : rename을 이용하기\n"
   ]
  },
  {
   "cell_type": "code",
   "execution_count": null,
   "id": "ba9b7676",
   "metadata": {},
   "outputs": [],
   "source": []
  },
  {
   "cell_type": "code",
   "execution_count": null,
   "id": "0e39bf32",
   "metadata": {},
   "outputs": [],
   "source": [
    "# 방법 2 : 같은 길이의 리스트를 준비해서 교체하기\n"
   ]
  },
  {
   "cell_type": "code",
   "execution_count": null,
   "id": "8e98b64e",
   "metadata": {},
   "outputs": [],
   "source": [
    "# 길이가 5이니 5개 요소의 리스트 준비하기, 비용(fare->cost)로 변경\n"
   ]
  },
  {
   "cell_type": "code",
   "execution_count": null,
   "id": "fb53a7e5",
   "metadata": {},
   "outputs": [],
   "source": []
  },
  {
   "cell_type": "code",
   "execution_count": null,
   "id": "6899071d",
   "metadata": {},
   "outputs": [],
   "source": []
  },
  {
   "cell_type": "markdown",
   "id": "aa7d2662",
   "metadata": {},
   "source": [
    "## rename() 좀 더 살펴보기 - 행과 열의 인덱스 이름 변경\n",
    "- https://pandas.pydata.org/docs/reference/api/pandas.DataFrame.rename.html\n",
    "- https://pandas.pydata.org/docs/reference/api/pandas.Series.rename.html\n",
    "- https://pandas.pydata.org/docs/reference/api/pandas.Index.rename.html"
   ]
  },
  {
   "cell_type": "code",
   "execution_count": null,
   "id": "2ac930bd",
   "metadata": {},
   "outputs": [],
   "source": [
    "# 1. 2개의 열을 변경하려면?\n"
   ]
  },
  {
   "cell_type": "code",
   "execution_count": null,
   "id": "3f579401",
   "metadata": {},
   "outputs": [],
   "source": [
    "# axis인자를 빼고 한다면\n"
   ]
  },
  {
   "cell_type": "code",
   "execution_count": null,
   "id": "8d19fbf4",
   "metadata": {
    "scrolled": true
   },
   "outputs": [],
   "source": [
    "# 2. 인덱스에서 'Allen, Miss. Elisabeth Walton' 이름 변경\n"
   ]
  },
  {
   "cell_type": "code",
   "execution_count": null,
   "id": "3e5f5b59",
   "metadata": {},
   "outputs": [],
   "source": [
    "# axis인자를 빼고 한다면\n"
   ]
  },
  {
   "cell_type": "code",
   "execution_count": null,
   "id": "90ddcf37",
   "metadata": {},
   "outputs": [],
   "source": [
    "# 3. 행렬 인덱스를 설정\n"
   ]
  },
  {
   "cell_type": "code",
   "execution_count": null,
   "id": "01d7f83b",
   "metadata": {},
   "outputs": [],
   "source": []
  }
 ],
 "metadata": {
  "kernelspec": {
   "display_name": "Python 3 (ipykernel)",
   "language": "python",
   "name": "python3"
  },
  "language_info": {
   "codemirror_mode": {
    "name": "ipython",
    "version": 3
   },
   "file_extension": ".py",
   "mimetype": "text/x-python",
   "name": "python",
   "nbconvert_exporter": "python",
   "pygments_lexer": "ipython3",
   "version": "3.11.5"
  }
 },
 "nbformat": 4,
 "nbformat_minor": 5
}
