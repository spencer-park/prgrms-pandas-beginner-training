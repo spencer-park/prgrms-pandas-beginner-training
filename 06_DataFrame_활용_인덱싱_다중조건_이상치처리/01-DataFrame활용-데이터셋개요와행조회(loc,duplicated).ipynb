{
 "cells": [
  {
   "cell_type": "markdown",
   "id": "73f93aa0",
   "metadata": {},
   "source": [
    "## 데이터셋 준비\n",
    "- The Complete Titanic Dataset : https://www.kaggle.com/datasets/vinicius150987/titanic3\n",
    "- 다양한 타이타닉 Dataset : https://www.kaggle.com/datasets?search=titanic"
   ]
  },
  {
   "cell_type": "code",
   "execution_count": null,
   "id": "71eea38d",
   "metadata": {},
   "outputs": [],
   "source": [
    "%%html\n",
    "<style> .rendered_html table{margin-left:5px} </style>"
   ]
  },
  {
   "cell_type": "code",
   "execution_count": null,
   "id": "4246d368",
   "metadata": {},
   "outputs": [],
   "source": [
    "import pandas as pd"
   ]
  },
  {
   "cell_type": "code",
   "execution_count": null,
   "id": "fba9d7e5",
   "metadata": {},
   "outputs": [],
   "source": []
  },
  {
   "cell_type": "markdown",
   "id": "edcff634",
   "metadata": {},
   "source": [
    "만일 다음과 같은 에러가 발생한다면 xlrd설치가 필요하다.  \n",
    "`Missing optional dependency 'xlrd'. Install xlrd >= 1.0.0 for Excel support Use pip or conda to install xlrd.`"
   ]
  },
  {
   "cell_type": "markdown",
   "id": "6490d73e",
   "metadata": {},
   "source": [
    "### 1. About Dataset\n",
    "타이타닉 데이터셋은 타이타닉호의 침몰 사건과 관련된 정보를 담고 있습니다.   \n",
    "타이타닉호는 역사상 가장 유명한 난파선 사건 중 하나입니다.\n",
    "\n",
    "1912년 4월 15일, 타이타닉호는 첫 항해 중에 있던 도중에 빙산과 충돌하여 침몰했습니다.  \n",
    "이 배는 \"침몰하지 않을 것\"이라고 여겨져 왔지만,  \n",
    "탑승자들을 위한 구명보트가 충분하지 않아 2224명의 승객과 선원 중 1502명이 목숨을 잃었습니다.\n",
    "\n",
    "생존에는 일부 운이 개입되었지만,  \n",
    "특정 그룹의 사람들은 다른 사람들보다 생존할 가능성이 더 높은 것으로 보입니다.\n",
    "\n",
    "이 과제에서는 **승객들의 데이터(예: 이름, 나이, 성별, 사회경제적 지위 등)** 를 사용하여  \n",
    "**\"어떤 종류의 사람들이 생존할 가능성이 더 높았는가?\"** 라는 예측 모델을 구축하도록 요청합니다."
   ]
  },
  {
   "cell_type": "markdown",
   "id": "e5212091",
   "metadata": {},
   "source": [
    "### 2. 예상해볼 수 있는 분석\n",
    "**생존율 분석**  \n",
    "승객들의 **특성(성별, 나이, 객실 등급 등)에 따른 생존율을 분석**할 수 있습니다.  \n",
    "어떤 그룹의 사람들이 생존할 가능성이 높았는지, **그들의 특징은 무엇인지** 알 수 있습니다.\n",
    "\n",
    "**특성 엔지니어링**  \n",
    "데이터셋에는 승객의 이름, 성별, 나이, 객실 등급, 승선 항구 등 다양한 특성이 포함되어 있습니다.  \n",
    "이러한 특성들을 활용하여 **새로운 특성을 만들어내거나 범주형 특성을 수치형으로 변환**할 수 있습니다.\n",
    "\n",
    "**데이터 시각화**  \n",
    "데이터셋을 시각화하여 **생존 여부와 관련된 패턴이나 상관관계를 탐색**할 수 있습니다.  \n",
    "막대 그래프, 히스토그램, 상자 그림, 히트맵 등 다양한 시각화 기법을 사용하여 데이터를 탐색하고 이해할 수 있습니다.\n",
    "\n",
    "**예측 모델링**  \n",
    "타이타닉 데이터셋을 사용하여 생존 여부를 예측하는 머신 러닝 모델을 개발할 수 있습니다.  \n",
    "다양한 알고리즘을 사용하여 모델을 학습하고 테스트하여 최적의 모델을 찾을 수 있습니다.\n",
    "\n",
    "**특성 중요도 분석**  \n",
    "학습된 모델을 통해 **각 특성의 중요도**를 분석할 수 있습니다.  \n",
    "어떤 특성이 생존 예측에 가장 중요한 역할을 하는지 파악할 수 있습니다."
   ]
  },
  {
   "cell_type": "markdown",
   "id": "1065df3a",
   "metadata": {},
   "source": [
    "### 3. 항목 설명\n",
    "항목 | 설명\n",
    "-|:-\n",
    "pclass\t| Passenger Class (1 = 1st; 2 = 2nd; 3 = 3rd), 승객의 등급 (1 = 1등급, 2 = 2등급, 3 = 3등급)\n",
    "survived | Survival (0 = No; 1 = Yes), 생존 여부 (0 = 생존하지 않음, 1 = 생존)\n",
    "name | Name, 이름\n",
    "sex\t| Sex, 성별\n",
    "age | Age, 나이\n",
    "sibsp | Number of Siblings/Spouses Aboard, 함께 탑승한 형제자매/배우자의 수\n",
    "parch | Number of Parents/Children Aboard, 함께 탑승한 부모/자녀의 수\n",
    "ticket | Ticket Number, 티켓 번호\n",
    "fare | Passenger Fare (British pound), 승객 요금 (영국 파운드)\n",
    "cabin | Cabin, 객실 번호\n",
    "embarked | Port of Embarkation (C = Cherbourg; Q = Queenstown; S = Southampton), 탑승 항구 (C = 쉐르부르, Q = 퀸스타운, S = 사우샘프턴)\n",
    "boat | Lifeboat, 구명보트 번호\n",
    "body | Body Identification Number, 시신 식별 번호\n",
    "home.dest | Home/Destination, 거주지/목적지"
   ]
  },
  {
   "cell_type": "markdown",
   "id": "99e4dabb",
   "metadata": {},
   "source": [
    "### 4. 특이사항\n",
    "**Pclass는 사회경제적 지위(SES)를 나타내는 대리 변수입니다.**   \n",
    "1등급은 상류층, 2등급은 중산층, 3등급은 하류층을 대표합니다.  \n",
    "  \n",
    "**Age는 연령으로 표시되며, 만약 1보다 적은 경우 소수점으로 표현됩니다.**    \n",
    "만약 연령이 추정된 경우 xx.5와 같은 형식으로 표시됩니다.\n",
    "  \n",
    "**Fare는 1970년 이전의 영국 파운드로 표시됩니다.**  \n",
    "-환산 계수: 1 파운드 = 12 실링 = 240 페니, 1 실링 = 20 페니\n",
    "  \n",
    "**가족 관계 변수인 sibsp와 parch에 대해서는 일부 관계가 무시되었습니다.**   \n",
    "-다음은 sibsp와 parch에 사용된 정의입니다.  \n",
    "-Sibling: 타이타닉호에 함께 탑승한 형제, 자매, 이복형제, 이복자매  \n",
    "-Spouse: 타이타닉호에 함께 탑승한 남편 또는 아내 (연인과 약혼자는 제외)  \n",
    "-Parent: 타이타닉호에 함께 탑승한 어머니 또는 아버지  \n",
    "-Child: 타이타닉호에 함께 탑승한 아들, 딸, 이복아들, 이복딸  \n",
    "  \n",
    "**이 연구에서 제외된 다른 가족 관계에는 사촌, 조카, 이모, 고모, 시부모 등이 포함됩니다.**   \n",
    "-일부 아이들은 유모와 함께만 여행했으므로, 그들에 대해서는 parch=0으로 표시되었습니다.   \n",
    "-또한, 일부 사람들은 아주 가까운 친구나 이웃과 함께 여행했지만, 이러한 관계는 정의에서 지원되지 않습니다."
   ]
  },
  {
   "cell_type": "markdown",
   "id": "d4511957",
   "metadata": {},
   "source": [
    "## 5. dtype 등 info 파악"
   ]
  },
  {
   "cell_type": "code",
   "execution_count": null,
   "id": "12b10e6e",
   "metadata": {},
   "outputs": [],
   "source": [
    "# 타이타닉 데이터셋 info\n"
   ]
  },
  {
   "cell_type": "markdown",
   "id": "f4926cc7",
   "metadata": {},
   "source": [
    "1. 데이터 행은 총 1309개\n",
    "2. pclass, survived, name, sex, sibsp, parch, ticket 은 결측치 없음\n",
    "3. age, fare, cabin, embarked, boat, body, home.dest는 결측치 있음.\n",
    "4. int64 : pclass, survived, sibsp, parch\n",
    "5. float64 : age, fare, body\n",
    "6. object : name, sex, ticket, cabin, embarked, boat, home.dest"
   ]
  },
  {
   "cell_type": "markdown",
   "id": "236cf589",
   "metadata": {},
   "source": [
    "## 데이터프레임 준비\n",
    "- 실습을 위해 name을 인덱스로 사용할 예정"
   ]
  },
  {
   "cell_type": "code",
   "execution_count": null,
   "id": "8513e2f2",
   "metadata": {},
   "outputs": [],
   "source": [
    "# index_col = 'name'으로 지정\n"
   ]
  },
  {
   "cell_type": "code",
   "execution_count": null,
   "id": "efacbfb4",
   "metadata": {
    "scrolled": false
   },
   "outputs": [],
   "source": [
    "# 정렬 : 이름 순\n",
    "# 문자부호표 원리로 소문자가 뒤로 배치 됨\n"
   ]
  },
  {
   "cell_type": "code",
   "execution_count": null,
   "id": "efe889c8",
   "metadata": {},
   "outputs": [],
   "source": [
    "# 정렬 : 이름 순 - 대소문자 상관없이 정렬\n",
    "# key : 크고 작음을 처리하는 방식을 정하는 함수 지정\n"
   ]
  },
  {
   "cell_type": "markdown",
   "id": "e696ff74",
   "metadata": {},
   "source": [
    "## .loc\n",
    "- https://pandas.pydata.org/docs/reference/api/pandas.DataFrame.loc.html\n",
    "- 인덱스 레이블로 행 조회\n",
    "- 메소드(함수)가 아닌 속성(property)\n",
    "- `.loc[]`은 주로 레이블(label)을 기반으로 행과 열에 접근하는 데 사용되지만, boolean 배열과 함께 사용할 수도 있습니다."
   ]
  },
  {
   "cell_type": "markdown",
   "id": "de647efb",
   "metadata": {},
   "source": [
    "**다음과 같은 입력이 가능합니다**\n",
    "1. 하나의 레이블\n",
    "    - `5` 또는 `'a'` (5는 인덱스의 레이블로 해석되며 정수 위치로 해석되지는 않음).\n",
    "2. 레이블의 리스트 또는 배열\n",
    "    - `['a', 'b', 'c']`\n",
    "3. 레이블 범위로 된 슬라이스 객체\n",
    "    - `'a':'f'`\n",
    "4. 축과 길이가 같은 boolean 배열\n",
    "    - `[True, False, True]`"
   ]
  },
  {
   "cell_type": "code",
   "execution_count": null,
   "id": "722bfe0f",
   "metadata": {},
   "outputs": [],
   "source": []
  },
  {
   "cell_type": "code",
   "execution_count": null,
   "id": "aebbd70e",
   "metadata": {
    "scrolled": true
   },
   "outputs": [],
   "source": [
    "# 1. Abbing, Mr. Anthony 를 조회\n",
    "# 5 또는 'a'\n"
   ]
  },
  {
   "cell_type": "code",
   "execution_count": null,
   "id": "faa537c3",
   "metadata": {},
   "outputs": [],
   "source": [
    "# 1-1 시리즈 말고 데이터프레임으로 받고 싶으면\n"
   ]
  },
  {
   "cell_type": "code",
   "execution_count": null,
   "id": "357be629",
   "metadata": {},
   "outputs": [],
   "source": [
    "# 2. Abbing, Mr. Anthony와 Zimmerman, Mr. Leo 를 조회\n",
    "# ['a', 'b', 'c']\n"
   ]
  },
  {
   "cell_type": "code",
   "execution_count": null,
   "id": "d4c4a440",
   "metadata": {},
   "outputs": [],
   "source": [
    "# 3. Abbott, Master. Eugene Joseph 에서 Abelseth, Miss. Karen Marie까지 조회\n",
    "# 'a':'f'\n"
   ]
  },
  {
   "cell_type": "code",
   "execution_count": null,
   "id": "cf33f2eb",
   "metadata": {},
   "outputs": [],
   "source": []
  },
  {
   "cell_type": "code",
   "execution_count": null,
   "id": "0659dadf",
   "metadata": {
    "scrolled": true
   },
   "outputs": [],
   "source": [
    "# 4. 없는 이름 조회\n"
   ]
  },
  {
   "cell_type": "markdown",
   "id": "d6cf3173",
   "metadata": {},
   "source": [
    "### 없는 경우에 대처 방법 - if..else.."
   ]
  },
  {
   "cell_type": "code",
   "execution_count": null,
   "id": "56e124db",
   "metadata": {},
   "outputs": [],
   "source": [
    "# if문으로 제어\n"
   ]
  },
  {
   "cell_type": "markdown",
   "id": "0bdea735",
   "metadata": {},
   "source": [
    "### 없는 경우에 대처 방법 - try..except.."
   ]
  },
  {
   "cell_type": "code",
   "execution_count": null,
   "id": "83047e9c",
   "metadata": {},
   "outputs": [],
   "source": [
    "# try문으로 제어\n"
   ]
  },
  {
   "cell_type": "markdown",
   "id": "183f7351",
   "metadata": {},
   "source": [
    "## .duplicated() - 동명이인 발생하는 경우\n",
    "- 정리한 스프레드시트 : https://docs.google.com/spreadsheets/d/1p8SgoOqLPGZbkkNBfWDyxdjlM1sBoOLo/edit?usp=sharing&ouid=104295259370579267197&rtpof=true&sd=true\n",
    "- 동명 이인\n",
    "    - 'Connolly, Miss. Kate'\n",
    "    - 'Kelly, Mr. James'"
   ]
  },
  {
   "cell_type": "markdown",
   "id": "004cdcbd",
   "metadata": {},
   "source": [
    "- DataFrame.index : https://pandas.pydata.org/docs/reference/api/pandas.DataFrame.index.html\n",
    "- DataFrame.duplicated : https://pandas.pydata.org/docs/reference/api/pandas.DataFrame.duplicated.html"
   ]
  },
  {
   "cell_type": "code",
   "execution_count": null,
   "id": "4c555919",
   "metadata": {
    "scrolled": true
   },
   "outputs": [],
   "source": [
    "# 'Connolly, Miss. Kate' 조회\n"
   ]
  },
  {
   "cell_type": "code",
   "execution_count": null,
   "id": "c2d675ad",
   "metadata": {},
   "outputs": [],
   "source": [
    "# 'Kelly, Mr. James'\n"
   ]
  },
  {
   "cell_type": "code",
   "execution_count": null,
   "id": "d7c1c353",
   "metadata": {},
   "outputs": [],
   "source": [
    "# 1. 데이터프레임.인덱스.중복확인()\n"
   ]
  },
  {
   "cell_type": "code",
   "execution_count": null,
   "id": "a372e11f",
   "metadata": {
    "scrolled": false
   },
   "outputs": [],
   "source": [
    "# 2. 1에 조건에 맞는 행 출력\n"
   ]
  },
  {
   "cell_type": "markdown",
   "id": "07a83ad3",
   "metadata": {},
   "source": [
    "총 4명이 나와야 하는데, 하나의 데이터만 나오고 있다."
   ]
  },
  {
   "cell_type": "code",
   "execution_count": null,
   "id": "fb8e54ec",
   "metadata": {},
   "outputs": [],
   "source": [
    "# 여기서부터 이미 2만 나오고 있던 상황\n"
   ]
  },
  {
   "cell_type": "markdown",
   "id": "199fec06",
   "metadata": {},
   "source": [
    "## keep="
   ]
  },
  {
   "cell_type": "markdown",
   "id": "5a279015",
   "metadata": {},
   "source": [
    "**keep : 중복된 값 중 어떤 값을 유지할지를 지정**\n",
    "1. first\n",
    "    - 첫 번째 등장하는 값을 제외하고 중복된 값을 True로 표시\n",
    "    - 중복된 값 중 첫 번째 값은 유지되고, 이후 등장하는 중복된 값들은 True로 표시.\n",
    "2. last\n",
    "    - 마지막 등장하는 값을 제외하고 중복된 값을 True로 표시\n",
    "    - 중복된 값 중 마지막 값은 유지되고, 이전에 등장하는 중복된 값들은 True로 표시.\n",
    "3. False \n",
    "    - 모든 중복된 값을 True로 표시합니다\n",
    "    - 중복된 값들 모두를 유지하지 않고 True로 표시."
   ]
  },
  {
   "cell_type": "code",
   "execution_count": null,
   "id": "a131fb58",
   "metadata": {
    "scrolled": true
   },
   "outputs": [],
   "source": [
    "# 3. 2에서 중복값을 포함하도록 한다.\n"
   ]
  }
 ],
 "metadata": {
  "kernelspec": {
   "display_name": "Python 3 (ipykernel)",
   "language": "python",
   "name": "python3"
  },
  "language_info": {
   "codemirror_mode": {
    "name": "ipython",
    "version": 3
   },
   "file_extension": ".py",
   "mimetype": "text/x-python",
   "name": "python",
   "nbconvert_exporter": "python",
   "pygments_lexer": "ipython3",
   "version": "3.11.5"
  }
 },
 "nbformat": 4,
 "nbformat_minor": 5
}
