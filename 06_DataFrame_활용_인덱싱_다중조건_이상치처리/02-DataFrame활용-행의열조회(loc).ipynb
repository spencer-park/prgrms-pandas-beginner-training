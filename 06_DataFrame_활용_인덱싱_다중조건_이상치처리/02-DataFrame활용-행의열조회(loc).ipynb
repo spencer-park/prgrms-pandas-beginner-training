{
 "cells": [
  {
   "cell_type": "markdown",
   "id": "73f93aa0",
   "metadata": {},
   "source": [
    "## 데이터셋 준비\n",
    "- The Complete Titanic Dataset : https://www.kaggle.com/datasets/vinicius150987/titanic3\n",
    "- 스프레드 시트로 정리 : https://docs.google.com/spreadsheets/d/1p8SgoOqLPGZbkkNBfWDyxdjlM1sBoOLo/edit?usp=sharing&ouid=104295259370579267197&rtpof=true&sd=true"
   ]
  },
  {
   "cell_type": "markdown",
   "id": "c9a1bb66",
   "metadata": {},
   "source": [
    "### 3. 항목 설명\n",
    "항목 | 설명\n",
    "-|:-\n",
    "pclass\t| Passenger Class (1 = 1st; 2 = 2nd; 3 = 3rd), 승객의 등급 (1 = 1등급, 2 = 2등급, 3 = 3등급)\n",
    "survival | Survival (0 = No; 1 = Yes), 생존 여부 (0 = 생존하지 않음, 1 = 생존)\n",
    "name | Name, 이름\n",
    "sex\t| Sex, 성별\n",
    "age | Age, 나이\n",
    "sibsp | Number of Siblings/Spouses Aboard, 함께 탑승한 형제자매/배우자의 수\n",
    "parch | Number of Parents/Children Aboard, 함께 탑승한 부모/자녀의 수\n",
    "ticket | Ticket Number, 티켓 번호\n",
    "fare | Passenger Fare (British pound), 승객 요금 (영국 파운드)\n",
    "cabin | Cabin, 객실 번호\n",
    "embarked | Port of Embarkation (C = Cherbourg; Q = Queenstown; S = Southampton), 탑승 항구 (C = 쉐르부르, Q = 퀸스타운, S = 사우샘프턴)\n",
    "boat | Lifeboat, 구명보트 번호\n",
    "body | Body Identification Number, 시신 식별 번호\n",
    "home.dest | Home/Destination, 거주지/목적지"
   ]
  },
  {
   "cell_type": "code",
   "execution_count": null,
   "id": "4246d368",
   "metadata": {},
   "outputs": [],
   "source": [
    "import pandas as pd"
   ]
  },
  {
   "cell_type": "code",
   "execution_count": null,
   "id": "8513e2f2",
   "metadata": {
    "scrolled": true
   },
   "outputs": [],
   "source": [
    "# index_col = 'name'으로 지정\n"
   ]
  },
  {
   "cell_type": "markdown",
   "id": "ab41ecc4",
   "metadata": {},
   "source": [
    "## loc - 특정 행의 특정 열 조회"
   ]
  },
  {
   "cell_type": "markdown",
   "id": "897436bb",
   "metadata": {},
   "source": [
    "생존자 'Blank, Mr. Henry'를 조사해보자"
   ]
  },
  {
   "cell_type": "markdown",
   "id": "75902093",
   "metadata": {},
   "source": [
    "### 예제 1 : Blank, Mr. Henry의 승객 등급과 요금은?"
   ]
  },
  {
   "cell_type": "code",
   "execution_count": null,
   "id": "b9dc1d06",
   "metadata": {},
   "outputs": [],
   "source": [
    "# 1. Blank, Mr. Henry는 승객 등급은?\n"
   ]
  },
  {
   "cell_type": "markdown",
   "id": "927a1376",
   "metadata": {},
   "source": [
    "DataFrame.loc : https://pandas.pydata.org/docs/reference/api/pandas.DataFrame.loc.html  \n",
    "의 하단 `Examples`의 `Getting values`을 확인해보면"
   ]
  },
  {
   "cell_type": "markdown",
   "id": "7a367e0b",
   "metadata": {},
   "source": [
    "Single label for row and column\n",
    "```python\n",
    ">>> df.loc['cobra', 'shield']\n",
    "2\n",
    "```"
   ]
  },
  {
   "cell_type": "code",
   "execution_count": null,
   "id": "5b8fce29",
   "metadata": {},
   "outputs": [],
   "source": [
    "# 2. Blank, Mr. Henry는 승객 등급과 요금은?\n"
   ]
  },
  {
   "cell_type": "code",
   "execution_count": null,
   "id": "ae83b732",
   "metadata": {
    "scrolled": true
   },
   "outputs": [],
   "source": [
    "# 3. Blank, Mr. Henry는 승객 등급과 요금은? -> DataFrame으로\n"
   ]
  },
  {
   "cell_type": "markdown",
   "id": "d1afe7dd",
   "metadata": {},
   "source": [
    "### 예제 2 : Herman, Miss. Alice 와 Herman, Miss. Kate는?\n",
    "- 2명의 정보가 모두 같다! 쌍둥이지 않았을까?"
   ]
  },
  {
   "cell_type": "code",
   "execution_count": null,
   "id": "958440c9",
   "metadata": {},
   "outputs": [],
   "source": [
    "# 탑승자\n"
   ]
  },
  {
   "cell_type": "code",
   "execution_count": null,
   "id": "3dfe3992",
   "metadata": {},
   "outputs": [],
   "source": [
    "# 1. 모든 열 조회\n"
   ]
  },
  {
   "cell_type": "code",
   "execution_count": null,
   "id": "c4dd848e",
   "metadata": {},
   "outputs": [],
   "source": [
    "# 2. 승객 등급과 요금은?\n"
   ]
  }
 ],
 "metadata": {
  "kernelspec": {
   "display_name": "Python 3 (ipykernel)",
   "language": "python",
   "name": "python3"
  },
  "language_info": {
   "codemirror_mode": {
    "name": "ipython",
    "version": 3
   },
   "file_extension": ".py",
   "mimetype": "text/x-python",
   "name": "python",
   "nbconvert_exporter": "python",
   "pygments_lexer": "ipython3",
   "version": "3.11.5"
  }
 },
 "nbformat": 4,
 "nbformat_minor": 5
}
