{
 "cells": [
  {
   "cell_type": "markdown",
   "id": "aca81d5c",
   "metadata": {},
   "source": [
    "## 데이터 준비\n",
    "- https://www.kaggle.com/datasets/harshitshankhdhar/imdb-dataset-of-top-1000-movies-and-tv-shows/"
   ]
  },
  {
   "cell_type": "code",
   "execution_count": null,
   "id": "67af615e",
   "metadata": {},
   "outputs": [],
   "source": [
    "import pandas as pd"
   ]
  },
  {
   "cell_type": "code",
   "execution_count": null,
   "id": "4d1a084f",
   "metadata": {
    "scrolled": true
   },
   "outputs": [],
   "source": [
    "# 가져올 열 지정하기\n",
    "movie_df = pd.read_csv('imdb_top_1000.csv')\n",
    "movie_df"
   ]
  },
  {
   "cell_type": "markdown",
   "id": "faeca122",
   "metadata": {},
   "source": [
    "## .drop() - 1. 열 삭제(columns=)\n",
    "- https://pandas.pydata.org/docs/reference/api/pandas.DataFrame.drop.html\n",
    "- 불필요해보이는 Poster_link와 Overview를 삭제하자."
   ]
  },
  {
   "cell_type": "code",
   "execution_count": null,
   "id": "510d23ad",
   "metadata": {},
   "outputs": [],
   "source": []
  },
  {
   "cell_type": "markdown",
   "id": "bab3ac0d",
   "metadata": {},
   "source": [
    "## .drop() - 2. 행 삭제(by label)"
   ]
  },
  {
   "cell_type": "code",
   "execution_count": null,
   "id": "f1a280e7",
   "metadata": {
    "scrolled": true
   },
   "outputs": [],
   "source": [
    "# index label이 1인 것을 삭제\n"
   ]
  },
  {
   "cell_type": "markdown",
   "id": "81a1bcb5",
   "metadata": {},
   "source": [
    "## .drop() - 3. 행 삭제(by labels, list-like)"
   ]
  },
  {
   "cell_type": "code",
   "execution_count": null,
   "id": "a6dbf00a",
   "metadata": {
    "scrolled": true
   },
   "outputs": [],
   "source": [
    "# 삭제할 index label을 리스트로 전달\n",
    "# movie_df.drop(labels=[2, 3, 4], inplace=True)\n"
   ]
  },
  {
   "cell_type": "markdown",
   "id": "3786ffcb",
   "metadata": {},
   "source": [
    "## .drop() - 4. 열 삭제(axis=1 필요)"
   ]
  },
  {
   "cell_type": "markdown",
   "id": "3471f5dc",
   "metadata": {},
   "source": [
    "**다시보는 axis설명**\n",
    "- axis = 0 : index 방향\n",
    "- axis = 1 : columns 방향"
   ]
  },
  {
   "cell_type": "code",
   "execution_count": null,
   "id": "81561451",
   "metadata": {},
   "outputs": [],
   "source": []
  },
  {
   "cell_type": "markdown",
   "id": "2e1b3173",
   "metadata": {},
   "source": [
    "## errors= : .drop() 에러 제어"
   ]
  },
  {
   "cell_type": "markdown",
   "id": "09c05435",
   "metadata": {},
   "source": [
    "**errors : {‘ignore’, ‘raise’}, default ‘raise**  \n",
    "If ‘ignore’, suppress error and only existing labels are dropped."
   ]
  },
  {
   "cell_type": "code",
   "execution_count": null,
   "id": "77118c60",
   "metadata": {
    "scrolled": true
   },
   "outputs": [],
   "source": [
    "# 이미 삭제한 데이터라 에러 발생\n"
   ]
  },
  {
   "cell_type": "code",
   "execution_count": null,
   "id": "121b0dda",
   "metadata": {},
   "outputs": [],
   "source": [
    "# 이미 삭제한 데이터지만 에러가 발생안 함\n"
   ]
  },
  {
   "cell_type": "markdown",
   "id": "6e087973",
   "metadata": {},
   "source": [
    "## del을 이용한 열 삭제"
   ]
  },
  {
   "cell_type": "code",
   "execution_count": null,
   "id": "e5813cfc",
   "metadata": {},
   "outputs": [],
   "source": [
    "# Runtime을 삭제를 한다고 할 때\n"
   ]
  },
  {
   "cell_type": "code",
   "execution_count": null,
   "id": "5e303cf5",
   "metadata": {
    "scrolled": true
   },
   "outputs": [],
   "source": [
    "# 이미 삭제된, 없는 열을 삭제 시도하면? -> 에러 발생\n"
   ]
  },
  {
   "cell_type": "markdown",
   "id": "b0262b45",
   "metadata": {},
   "source": [
    "1. 해당 데이터 주소로 찾아가서\n",
    "2. del로 그 할당을 삭제\n",
    "\n",
    "[생각하기] `del`은 리스트 전용, 딕셔너리 전용 삭제 키워드가 아니다."
   ]
  }
 ],
 "metadata": {
  "kernelspec": {
   "display_name": "Python 3 (ipykernel)",
   "language": "python",
   "name": "python3"
  },
  "language_info": {
   "codemirror_mode": {
    "name": "ipython",
    "version": 3
   },
   "file_extension": ".py",
   "mimetype": "text/x-python",
   "name": "python",
   "nbconvert_exporter": "python",
   "pygments_lexer": "ipython3",
   "version": "3.11.5"
  }
 },
 "nbformat": 4,
 "nbformat_minor": 5
}
