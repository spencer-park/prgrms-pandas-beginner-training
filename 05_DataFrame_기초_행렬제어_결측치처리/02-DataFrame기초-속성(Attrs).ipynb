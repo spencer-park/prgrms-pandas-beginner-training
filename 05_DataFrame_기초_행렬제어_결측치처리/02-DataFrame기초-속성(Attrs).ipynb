{
 "cells": [
  {
   "cell_type": "markdown",
   "id": "45531bb6",
   "metadata": {},
   "source": [
    "## DataFrame\n",
    "- Series는 1차원 구조\n",
    "- DataFrame은 2차원 구조\n",
    "  - axis = 0 : index 방향\n",
    "  - axis = 1 : columns 방향\n",
    "  - 2개 이상의 Series로 구성\n",
    "- https://pandas.pydata.org/docs/reference/api/pandas.DataFrame.html"
   ]
  },
  {
   "cell_type": "markdown",
   "id": "734f5aaf",
   "metadata": {},
   "source": [
    "## DataFrame 생성"
   ]
  },
  {
   "cell_type": "code",
   "execution_count": null,
   "id": "5f746a1a",
   "metadata": {},
   "outputs": [],
   "source": [
    "import pandas as pd"
   ]
  },
  {
   "cell_type": "code",
   "execution_count": null,
   "id": "4095e9aa",
   "metadata": {
    "scrolled": true
   },
   "outputs": [],
   "source": [
    "member = {\n",
    "    'Attack' : [111, 222, 333],\n",
    "    'Defence' : [444, 555, 666],\n",
    "    'Luck' : [777, 888, 999]\n",
    "}\n"
   ]
  },
  {
   "cell_type": "markdown",
   "id": "292f7b6d",
   "metadata": {},
   "source": [
    "## DataFrame의 속성(Attr, attr, attributes)\n",
    "- dot(.)을 통해 접근하며 활용할 수 있는 속성을 확인해보자"
   ]
  },
  {
   "cell_type": "markdown",
   "id": "f1a9a9b0",
   "metadata": {},
   "source": [
    "## .shape"
   ]
  },
  {
   "cell_type": "code",
   "execution_count": null,
   "id": "a4747b4f",
   "metadata": {},
   "outputs": [],
   "source": []
  },
  {
   "cell_type": "markdown",
   "id": "4a305ba5",
   "metadata": {},
   "source": [
    ".shape는 행렬 크기(모양)을 알 수 있다."
   ]
  },
  {
   "cell_type": "markdown",
   "id": "77b940cc",
   "metadata": {},
   "source": [
    "## .info?"
   ]
  },
  {
   "cell_type": "code",
   "execution_count": null,
   "id": "f3a5aa40",
   "metadata": {
    "scrolled": true
   },
   "outputs": [],
   "source": []
  },
  {
   "cell_type": "markdown",
   "id": "0e0dbe59",
   "metadata": {},
   "source": [
    "`bound method` 처럼 method라고 안내해주고 있다.\n",
    "이는 메소드라 .info()로 사용한다."
   ]
  },
  {
   "cell_type": "code",
   "execution_count": null,
   "id": "384a1121",
   "metadata": {},
   "outputs": [],
   "source": []
  },
  {
   "cell_type": "markdown",
   "id": "3225f517",
   "metadata": {},
   "source": [
    "## .size"
   ]
  },
  {
   "cell_type": "code",
   "execution_count": null,
   "id": "6803a7ed",
   "metadata": {},
   "outputs": [],
   "source": []
  },
  {
   "cell_type": "markdown",
   "id": "2d9eea1e",
   "metadata": {},
   "source": [
    ".shape는 구조, .size는 크기"
   ]
  },
  {
   "cell_type": "markdown",
   "id": "71c002ee",
   "metadata": {},
   "source": [
    "## .values"
   ]
  },
  {
   "cell_type": "code",
   "execution_count": null,
   "id": "d0a7fe18",
   "metadata": {},
   "outputs": [],
   "source": []
  },
  {
   "cell_type": "markdown",
   "id": "b5ac52af",
   "metadata": {},
   "source": [
    "## .dtypes"
   ]
  },
  {
   "cell_type": "code",
   "execution_count": null,
   "id": "b48a25ea",
   "metadata": {},
   "outputs": [],
   "source": []
  },
  {
   "cell_type": "markdown",
   "id": "73a38ca0",
   "metadata": {},
   "source": [
    "## .index"
   ]
  },
  {
   "cell_type": "code",
   "execution_count": null,
   "id": "53fbe38a",
   "metadata": {},
   "outputs": [],
   "source": []
  },
  {
   "cell_type": "markdown",
   "id": "81d4107a",
   "metadata": {},
   "source": [
    "## .columns"
   ]
  },
  {
   "cell_type": "code",
   "execution_count": null,
   "id": "335eac1d",
   "metadata": {},
   "outputs": [],
   "source": []
  },
  {
   "cell_type": "markdown",
   "id": "6eef3119",
   "metadata": {},
   "source": [
    "## .axes"
   ]
  },
  {
   "cell_type": "code",
   "execution_count": null,
   "id": "b02a371d",
   "metadata": {},
   "outputs": [],
   "source": []
  },
  {
   "cell_type": "markdown",
   "id": "abc0a916",
   "metadata": {},
   "source": [
    "맨 처음에 적혀있던 DataFrame 설명을 보자.\n",
    "- DataFrame은 2차원 구조\n",
    "  - axis = 0 : index 방향\n",
    "  - axis = 1 : columns 방향\n",
    "  - 2개 이상의 Series로 구성\n",
    "  \n",
    "즉 .axes는 인덱스 정보와 열 정보를 알 수 있다."
   ]
  }
 ],
 "metadata": {
  "kernelspec": {
   "display_name": "Python 3 (ipykernel)",
   "language": "python",
   "name": "python3"
  },
  "language_info": {
   "codemirror_mode": {
    "name": "ipython",
    "version": 3
   },
   "file_extension": ".py",
   "mimetype": "text/x-python",
   "name": "python",
   "nbconvert_exporter": "python",
   "pygments_lexer": "ipython3",
   "version": "3.11.5"
  }
 },
 "nbformat": 4,
 "nbformat_minor": 5
}
