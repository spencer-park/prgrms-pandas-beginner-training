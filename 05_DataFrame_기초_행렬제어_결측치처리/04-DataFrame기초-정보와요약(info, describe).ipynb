{
 "cells": [
  {
   "cell_type": "markdown",
   "id": "aca81d5c",
   "metadata": {},
   "source": [
    "## 데이터 셋\n",
    "영화 좋아하시나요?\n",
    "- https://www.kaggle.com/datasets/harshitshankhdhar/imdb-dataset-of-top-1000-movies-and-tv-shows/"
   ]
  },
  {
   "cell_type": "markdown",
   "id": "be9b6f88",
   "metadata": {},
   "source": [
    "[별첨] # 마크다운 테이블 왼쪽 정렬을 위한 팁"
   ]
  },
  {
   "cell_type": "code",
   "execution_count": null,
   "id": "b6ae2ce4",
   "metadata": {},
   "outputs": [],
   "source": [
    "%%html\n",
    "<style> .rendered_html table{margin-left:5px} </style>"
   ]
  },
  {
   "cell_type": "markdown",
   "id": "ba538edd",
   "metadata": {},
   "source": [
    "**데이터(data)**\n",
    "이름 | 설명\n",
    "- | -\n",
    "Poster_Link | imdb가 사용하는 포스터 링크\n",
    "Series_Title  | 영화 이름\n",
    "Released_Year | 해당 영화가 개봉된 연도\n",
    "Certificate | 인증서, 해당 영화로 얻은 인증서\n",
    "Runtime  | 영화의 총 진행길이\n",
    "Genre | 영화의 장르\n",
    "IMDB_Rating | IMDB 사이트의 영화 등급\n",
    "Overview | 개요. 미니스토리/요약\n",
    "Meta_score | 영화에서 얻은 점수\n",
    "Director | 영화 감독 이름\n",
    "Star1,Star2,Star3,Star4 | 대표 배우 이름\n",
    "No_of_votes | 총 투표 수\n",
    "Gross | 해당 영화로 수익(돈)"
   ]
  },
  {
   "cell_type": "markdown",
   "id": "7006d2e6",
   "metadata": {},
   "source": [
    "**영감(Inspiration)**\n",
    "- 영화 대 감독의 흥행 분석.\n",
    "- 영화의 흥행 대 다른 스타의 총체적 분석.\n",
    "- 영화 대 감독의 득표수 분석.\n",
    "- 영화와 다른 스타의 투표수 분석.\n",
    "- 어떤 배우가 어떤 장르를 더 선호하나요?\n",
    "- IMDB_Rating 최대 시간이 좋은 배우 조합은 무엇입니까?\n",
    "- 어떤 배우 조합이 좋은 성적을 내고 있나요?"
   ]
  },
  {
   "cell_type": "markdown",
   "id": "2fdde31b",
   "metadata": {},
   "source": [
    "## 실습"
   ]
  },
  {
   "cell_type": "code",
   "execution_count": null,
   "id": "67af615e",
   "metadata": {},
   "outputs": [],
   "source": [
    "import pandas as pd"
   ]
  },
  {
   "cell_type": "code",
   "execution_count": null,
   "id": "1d24b306",
   "metadata": {
    "scrolled": true
   },
   "outputs": [],
   "source": [
    "movie_df = pd.read_csv('imdb_top_1000.csv')\n",
    "movie_df"
   ]
  },
  {
   "cell_type": "markdown",
   "id": "0d5cdcfe",
   "metadata": {},
   "source": [
    "## 필요한 열만 가져오기"
   ]
  },
  {
   "cell_type": "code",
   "execution_count": null,
   "id": "b1e6be02",
   "metadata": {},
   "outputs": [],
   "source": [
    "cols = ['Series_Title', 'Released_Year', 'Certificate', 'Genre', 'IMDB_Rating', 'Meta_score', 'Director', 'No_of_Votes', 'Gross']"
   ]
  },
  {
   "cell_type": "code",
   "execution_count": null,
   "id": "4d1a084f",
   "metadata": {},
   "outputs": [],
   "source": [
    "# 가져올 열 지정하기\n"
   ]
  },
  {
   "cell_type": "markdown",
   "id": "e02daf65",
   "metadata": {},
   "source": [
    "## 열 순서를 변경하기\n",
    "- 열의 우선순위를 생각해서 가져와보도록 하자.\n",
    "- cols에 저장된 순서를 바꾸면 될까?"
   ]
  },
  {
   "cell_type": "code",
   "execution_count": null,
   "id": "b1a44ad9",
   "metadata": {},
   "outputs": [],
   "source": [
    "cols = ['Released_Year', 'Genre', 'Series_Title', 'Director', 'Meta_score', 'IMDB_Rating', 'No_of_Votes', 'Certificate', 'Gross']"
   ]
  },
  {
   "cell_type": "code",
   "execution_count": null,
   "id": "f3475133",
   "metadata": {
    "scrolled": true
   },
   "outputs": [],
   "source": [
    "# 순서 바꿔서 열 지정하기\n"
   ]
  },
  {
   "cell_type": "markdown",
   "id": "15be13b8",
   "metadata": {},
   "source": [
    "변경이 되지 않는다.\n",
    "다음과 같은 방법으로 변경할 수 있다."
   ]
  },
  {
   "cell_type": "code",
   "execution_count": null,
   "id": "76ebe187",
   "metadata": {},
   "outputs": [],
   "source": []
  },
  {
   "cell_type": "code",
   "execution_count": null,
   "id": "ce194972",
   "metadata": {},
   "outputs": [],
   "source": []
  },
  {
   "cell_type": "markdown",
   "id": "4c2c24b9",
   "metadata": {},
   "source": [
    "## .info()\n",
    "- 간략한 요약 출력\n",
    "- index dtype, columns, non-nulll values, memry usage"
   ]
  },
  {
   "cell_type": "code",
   "execution_count": null,
   "id": "169deb3e",
   "metadata": {},
   "outputs": [],
   "source": []
  },
  {
   "cell_type": "markdown",
   "id": "fcf8e40e",
   "metadata": {},
   "source": [
    "**누락값(결측치) 존재 확인**\n",
    "- 누락값이 Meta_score와 Certificate, Gross 열에서 보인다.\n",
    "- 총 1000개의 데이터가 있어야하는데, `843 non-null`, `899 non-null`, `831 non-null`로 나온다."
   ]
  },
  {
   "cell_type": "markdown",
   "id": "ae244453",
   "metadata": {},
   "source": [
    "## .describe()\n",
    "- 집계 함수의 요약"
   ]
  },
  {
   "cell_type": "code",
   "execution_count": null,
   "id": "de775304",
   "metadata": {},
   "outputs": [],
   "source": []
  },
  {
   "cell_type": "code",
   "execution_count": null,
   "id": "e809e6c5",
   "metadata": {
    "scrolled": true
   },
   "outputs": [],
   "source": [
    "# 반올림 처리를 한다면\n"
   ]
  },
  {
   "cell_type": "code",
   "execution_count": null,
   "id": "26a86039",
   "metadata": {},
   "outputs": [],
   "source": [
    "# 유효숫자 1자리 = 소수점 2자리에서 반올림 처리\n"
   ]
  },
  {
   "cell_type": "markdown",
   "id": "4af15ea9",
   "metadata": {},
   "source": [
    "## 왜 수익은 .describe()에서 안나올까? "
   ]
  },
  {
   "cell_type": "code",
   "execution_count": null,
   "id": "e389aa1e",
   "metadata": {},
   "outputs": [],
   "source": [
    "# Gross의 타입을 보면 숫자형 타입이 아닌 object임을 알 수 있다.\n"
   ]
  },
  {
   "cell_type": "code",
   "execution_count": null,
   "id": "67c73fd0",
   "metadata": {
    "scrolled": true
   },
   "outputs": [],
   "source": [
    "# Gross의 포맷을 확인\n"
   ]
  },
  {
   "cell_type": "markdown",
   "id": "eef58edb",
   "metadata": {},
   "source": [
    "## .str.replace() - 1단계 : 포맷 변경하기\n",
    "- 숫자형 데이터로 변환 가능한 형태로 처리\n",
    "- 데이터 분석에 유용한 형태로 가공하는 작업 : 데이터 전처리\n",
    "- comma(,)부터 .str.replace() 로 삭제하자.\n",
    "- https://pandas.pydata.org/docs/reference/api/pandas.Series.str.replace.html"
   ]
  },
  {
   "cell_type": "code",
   "execution_count": null,
   "id": "2a718a9d",
   "metadata": {},
   "outputs": [],
   "source": [
    "# 1단계 comma(,) 삭제하기\n"
   ]
  },
  {
   "cell_type": "code",
   "execution_count": null,
   "id": "a5236e5b",
   "metadata": {},
   "outputs": [],
   "source": [
    "# 확인\n"
   ]
  },
  {
   "cell_type": "markdown",
   "id": "142a354b",
   "metadata": {},
   "source": [
    "## .fillna() - 2단계 : 결측치 대체하기\n",
    "- NaN으로 나오고 있는 결측치는 0으로 대체"
   ]
  },
  {
   "cell_type": "code",
   "execution_count": null,
   "id": "bd7cec87",
   "metadata": {},
   "outputs": [],
   "source": [
    "# movie_df['Gross'].fillna(0, inplace=True)\n"
   ]
  },
  {
   "cell_type": "code",
   "execution_count": null,
   "id": "1b6f5415",
   "metadata": {},
   "outputs": [],
   "source": [
    "# .info()로도 .count()로도 결측치 확인이 가능\n"
   ]
  },
  {
   "cell_type": "markdown",
   "id": "f3c4ef9c",
   "metadata": {},
   "source": [
    "## .astype() - 3단계 : dtype 변환하기\n",
    "- 정수형 dtype인 int64로 변환"
   ]
  },
  {
   "cell_type": "code",
   "execution_count": null,
   "id": "7b175bab",
   "metadata": {},
   "outputs": [],
   "source": [
    "# .astype('변환형')\n"
   ]
  },
  {
   "cell_type": "code",
   "execution_count": null,
   "id": "4f1adca0",
   "metadata": {},
   "outputs": [],
   "source": [
    "# 데이터 조회하면\n"
   ]
  },
  {
   "cell_type": "code",
   "execution_count": null,
   "id": "b2f20054",
   "metadata": {},
   "outputs": [],
   "source": [
    "# .describe()로 요약하면\n"
   ]
  },
  {
   "cell_type": "markdown",
   "id": "5e8185d7",
   "metadata": {},
   "source": [
    "## percentiles=\n",
    "- 각 OO% 백분위수를 확인할 수 있다."
   ]
  },
  {
   "cell_type": "code",
   "execution_count": null,
   "id": "5c977c4b",
   "metadata": {},
   "outputs": [],
   "source": [
    "# 필요하다면 퍼센트 범위를 지정할 수도 있다.\n",
    "# [20%, 40%, 60%, 80%] -> [.2, .4, .6, .8]\n"
   ]
  },
  {
   "cell_type": "markdown",
   "id": "9e327804",
   "metadata": {},
   "source": [
    ">**percentiles : list-like of numbers, optional**  \n",
    "The percentiles to include in the output.   \n",
    "All should fall between 0 and 1. The default is ``[.25, .5, .75]``, which returns the 25th, 50th, and 75th percentiles."
   ]
  },
  {
   "cell_type": "code",
   "execution_count": null,
   "id": "677616de",
   "metadata": {},
   "outputs": [],
   "source": [
    "# 빈 리스트를 넣으면? -> 50%는 남는다\n"
   ]
  },
  {
   "cell_type": "markdown",
   "id": "f3fc2a2e",
   "metadata": {},
   "source": [
    "- 왜냐하면 50%는 사실은 median(중앙값)이고, 이 때문에 percentiles처리에 오류가 있다는 오해가 종종 있다."
   ]
  },
  {
   "cell_type": "markdown",
   "id": "8e8101d2",
   "metadata": {},
   "source": [
    "## DataFrame 집계함수에서 numeric_only=\n",
    "- max, min, mean 등을 DataFrame에서 바로 사용하면 때때로 경고(Warning)이 발생한다.\n",
    "- 숫자형 데이터만 있는 건 아니기 때문임으로 숫자만 처리하도록 지정하는 것."
   ]
  },
  {
   "cell_type": "code",
   "execution_count": null,
   "id": "fb17cbcd",
   "metadata": {
    "scrolled": true
   },
   "outputs": [],
   "source": [
    "# 이러면 Warning 발생 - max\n"
   ]
  },
  {
   "cell_type": "code",
   "execution_count": null,
   "id": "11468ebe",
   "metadata": {},
   "outputs": [],
   "source": [
    "# numeric_only=True\n"
   ]
  },
  {
   "cell_type": "code",
   "execution_count": null,
   "id": "4ce659c6",
   "metadata": {},
   "outputs": [],
   "source": []
  },
  {
   "cell_type": "code",
   "execution_count": null,
   "id": "32c1f909",
   "metadata": {},
   "outputs": [],
   "source": []
  },
  {
   "cell_type": "markdown",
   "id": "7dc079bb",
   "metadata": {},
   "source": [
    "## .quantile()\n",
    "- quantile : 분위수 - 오름차순/내림차순 되있을 때 이를 나누는 지점\n",
    "  - percentiles : 백분위수, 100개 영역 지점이 존재. 퍼센트\n",
    "  - quartiles : 4분위수, 4구역 지점이 존재"
   ]
  },
  {
   "cell_type": "code",
   "execution_count": null,
   "id": "360c288b",
   "metadata": {},
   "outputs": [],
   "source": [
    "# 만일 50% 지점을 확인한다면 0.5\n"
   ]
  },
  {
   "cell_type": "code",
   "execution_count": null,
   "id": "99c75b5e",
   "metadata": {},
   "outputs": [],
   "source": [
    "# 50% 지점 == median(중앙값)\n"
   ]
  },
  {
   "cell_type": "markdown",
   "id": "3238bfae",
   "metadata": {},
   "source": [
    "## include=\n",
    "\n",
    "> **include : ‘all’, list-like of dtypes or None (default), optional**  \n",
    "A white list of data types to include in the result. Ignored for Series. Here are the options:  \n",
    "  \n",
    "- all : All columns of the input will be included in the output.  \n",
    "- A list-like of dtypes : Limits the results to the provided data types. To limit the result to numeric types submit numpy.number. To limit it instead to object columns submit the numpy.object data type. Strings can also be used in the style of select_dtypes (e.g. **df.describe(include=['O'])**). To select pandas categorical columns, use 'category'  \n",
    "- None (default) : The result will include all numeric columns.  \n",
    "\n",
    "---\n",
    "1. 'all': 입력된 모든 열이 결과에 포함됩니다.\n",
    "2. 데이터 유형의 목록 형태(list-like of dtypes): 결과를 지정된 데이터 유형으로 제한합니다. \n",
    "    - 숫자 유형에 대한 결과를 제한하려면 numpy.number를 사용하고, \n",
    "    - 객체 열에 대한 결과를 제한하려면 numpy.object 데이터 유형을 사용합니다. \n",
    "    - select_dtypes와 유사한 방식으로 문자열도 사용할 수 있습니다 (예: **df.describe(include=['O'])**). 알파벳임. 0아님  \n",
    "    - pandas 범주형 열을 선택하려면 'category'를 사용합니다.\n",
    "3. None (기본값): 결과에는 모든 숫자 열이 포함됩니다."
   ]
  },
  {
   "cell_type": "code",
   "execution_count": null,
   "id": "9f34964d",
   "metadata": {
    "scrolled": true
   },
   "outputs": [],
   "source": []
  },
  {
   "cell_type": "markdown",
   "id": "485988f2",
   "metadata": {},
   "source": [
    "- count: 해당 열의 비어 있지 않은(non-null) 값의 개수\n",
    "- unique: 해당 열에서 고유한(unique) 값의 개수\n",
    "- top: 해당 열에서 가장 빈도가 높은 값(top value)\n",
    "- freq: top 값의 빈도수"
   ]
  },
  {
   "cell_type": "code",
   "execution_count": null,
   "id": "e4301fdb",
   "metadata": {},
   "outputs": [],
   "source": [
    "# 문자열 타입에 대한 요약 정보\n"
   ]
  },
  {
   "cell_type": "code",
   "execution_count": null,
   "id": "0bcf266a",
   "metadata": {
    "scrolled": false
   },
   "outputs": [],
   "source": [
    "# 숫자형 타입에 대한 요약 정보\n"
   ]
  },
  {
   "cell_type": "code",
   "execution_count": null,
   "id": "e47b940d",
   "metadata": {},
   "outputs": [],
   "source": [
    "# 문자열, int형에 대한 요약 정보\n"
   ]
  },
  {
   "cell_type": "code",
   "execution_count": null,
   "id": "592e670e",
   "metadata": {},
   "outputs": [],
   "source": [
    "# 모든(all) 타입에 대한 요약 정보\n"
   ]
  },
  {
   "cell_type": "markdown",
   "id": "4bf3a3a8",
   "metadata": {},
   "source": [
    "표현할 수 없는 항목은 NaN으로 나온다.\n",
    "- 문자열 데이터는 mean, std, min등을 표현할 수 없고\n",
    "- 숫자형 데이터는 unique, top, freq를 표현할 수 있을 것 같은데, 크게 의미가 없습니다.\n",
    "  - unique: 숫자형 데이터는 고유한(unique) 값의 개수를 가질 수 없으므로 NaN으로 처리\n",
    "  - top: 숫자형 데이터는 가장 빈도가 높은(top) 값이라는 개념이 적용되지 않으므로 NaN으로 처리\n",
    "  - freq: 숫자형 데이터는 각 값의 빈도수를 측정할 수 없으므로 NaN으로 처리"
   ]
  }
 ],
 "metadata": {
  "kernelspec": {
   "display_name": "Python 3 (ipykernel)",
   "language": "python",
   "name": "python3"
  },
  "language_info": {
   "codemirror_mode": {
    "name": "ipython",
    "version": 3
   },
   "file_extension": ".py",
   "mimetype": "text/x-python",
   "name": "python",
   "nbconvert_exporter": "python",
   "pygments_lexer": "ipython3",
   "version": "3.11.5"
  }
 },
 "nbformat": 4,
 "nbformat_minor": 5
}
