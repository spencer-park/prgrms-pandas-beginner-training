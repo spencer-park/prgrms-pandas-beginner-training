{
 "cells": [
  {
   "cell_type": "markdown",
   "id": "f23af557",
   "metadata": {},
   "source": [
    "## DataFrame\n",
    "- Series는 1차원 구조\n",
    "- DataFrame은 2차원 구조\n",
    "  - axis = 0 : index 방향\n",
    "  - axis = 1 : columns 방향\n",
    "  - 2개 이상의 Series로 구성\n",
    "- https://pandas.pydata.org/docs/reference/api/pandas.DataFrame.html"
   ]
  },
  {
   "cell_type": "markdown",
   "id": "b04c5a01",
   "metadata": {},
   "source": [
    "## DataFrame 생성"
   ]
  },
  {
   "cell_type": "code",
   "execution_count": null,
   "id": "ac361fca",
   "metadata": {},
   "outputs": [],
   "source": []
  },
  {
   "cell_type": "code",
   "execution_count": null,
   "id": "56b838e4",
   "metadata": {},
   "outputs": [],
   "source": [
    "member = {\n",
    "    'Attack': [111, 222, 333],\n",
    "    'Defence': [444, 555, 666],\n",
    "    'Luck': [777, 888, 999]\n",
    "}\n"
   ]
  },
  {
   "cell_type": "code",
   "execution_count": null,
   "id": "7985c129",
   "metadata": {},
   "outputs": [],
   "source": []
  },
  {
   "cell_type": "markdown",
   "id": "4e3df8df",
   "metadata": {},
   "source": [
    "## 열(Columns) 접근"
   ]
  },
  {
   "cell_type": "code",
   "execution_count": null,
   "id": "39c6daeb",
   "metadata": {},
   "outputs": [],
   "source": []
  },
  {
   "cell_type": "code",
   "execution_count": null,
   "id": "a2e7b1cf",
   "metadata": {},
   "outputs": [],
   "source": []
  },
  {
   "cell_type": "markdown",
   "id": "741f9bd8",
   "metadata": {},
   "source": [
    "열 접근을 하면 Series가 반환된다. "
   ]
  },
  {
   "cell_type": "markdown",
   "id": "088963cb",
   "metadata": {},
   "source": [
    "## DataFrame - columns\n",
    "- DataFrame의 인자 정보를 확인합시다.\n",
    "- https://pandas.pydata.org/docs/reference/api/pandas.DataFrame.html"
   ]
  },
  {
   "cell_type": "code",
   "execution_count": null,
   "id": "8652c15c",
   "metadata": {},
   "outputs": [],
   "source": [
    "# 리스트로 동일한 데이터 프레임을 만든다면 1\n",
    "data = [[111, 222, 333], [444, 555, 666], [777, 888, 999]]\n",
    "columns = ['Attack', 'Defence', 'Luck']\n",
    "\n"
   ]
  },
  {
   "cell_type": "markdown",
   "id": "e3eff11f",
   "metadata": {},
   "source": [
    "실패했다! 다시 만들어보자."
   ]
  },
  {
   "cell_type": "code",
   "execution_count": null,
   "id": "8416f2cc",
   "metadata": {},
   "outputs": [],
   "source": [
    "# 리스트로 동일한 데이터 프레임을 만든다면 2\n",
    "data = [[111, 444, 777], [222, 555, 888], [333, 666, 999]]\n",
    "columns = ['Attack', 'Defence', 'Luck']\n",
    "\n"
   ]
  },
  {
   "cell_type": "code",
   "execution_count": null,
   "id": "6d030a02",
   "metadata": {},
   "outputs": [],
   "source": [
    "# 미리보기\n"
   ]
  },
  {
   "cell_type": "markdown",
   "id": "2d4facb6",
   "metadata": {},
   "source": [
    "> **columns : Index or array-like**  \n",
    "Column labels to use for resulting frame when data does not have them, defaulting to RangeIndex(0, 1, 2, …, n). If data contains column labels, will perform column selection instead.\n",
    "\n",
    "---\n",
    "**columns**\n",
    "- 데이터가 제공되면 그것으로 columns로 설정\n",
    "- 제공되지 않으면 default는 RangeIndex(0, 1, 2...n)로 설정"
   ]
  },
  {
   "cell_type": "markdown",
   "id": "c39d8e76",
   "metadata": {},
   "source": [
    "## DataFrame - index"
   ]
  },
  {
   "cell_type": "code",
   "execution_count": null,
   "id": "3d34d5d1",
   "metadata": {},
   "outputs": [],
   "source": [
    "# 리스트로 동일한 데이터 프레임을 만든다면 2\n",
    "data = [[111, 444, 777], [222, 555, 888], [333, 666, 999]]\n",
    "columns = ['Attack', 'Defence', 'Luck']\n",
    "index = ['Spencer', 'Tommy', 'Uriel']\n",
    "\n"
   ]
  },
  {
   "cell_type": "markdown",
   "id": "669dbe6c",
   "metadata": {},
   "source": [
    "> **index : Index or array-like**\n",
    "Index to use for resulting frame. Will default to RangeIndex if no indexing information part of input data and no index provided.\n",
    "---\n",
    "**index**\n",
    "- 데이터가 제공되면 그것으로 index로 설정\n",
    "- 제공되지 않으면 default는 RangeIndex(0, 1, 2...n)로 설정"
   ]
  },
  {
   "cell_type": "code",
   "execution_count": null,
   "id": "e6ac470a",
   "metadata": {},
   "outputs": [],
   "source": [
    "# 권장하는 방식\n"
   ]
  },
  {
   "cell_type": "code",
   "execution_count": null,
   "id": "c81d933e",
   "metadata": {
    "scrolled": false
   },
   "outputs": [],
   "source": [
    "# 가능은 한데.. 추천하지 않는 방식. .(dot)을 이용한 접근 방식 - 문제가 발생할 수 있음.\n"
   ]
  },
  {
   "cell_type": "markdown",
   "id": "24b24946",
   "metadata": {},
   "source": [
    "## DataFrame의 속성(Attr, attr, attributes)\n",
    "- dot(.)을 통해 접근하며 활용할 수 있는 속성을 확인해보자"
   ]
  },
  {
   "cell_type": "markdown",
   "id": "25d4167e",
   "metadata": {},
   "source": [
    "## .shape"
   ]
  },
  {
   "cell_type": "code",
   "execution_count": null,
   "id": "1d45a54a",
   "metadata": {},
   "outputs": [],
   "source": []
  },
  {
   "cell_type": "markdown",
   "id": "1b611c70",
   "metadata": {},
   "source": [
    ".shape는 행렬 크기(모양)을 알 수 있다."
   ]
  },
  {
   "cell_type": "markdown",
   "id": "d1c7a432",
   "metadata": {},
   "source": [
    "## [생각해보기] 만일 열이 shape였다면?"
   ]
  },
  {
   "cell_type": "code",
   "execution_count": null,
   "id": "25444f50",
   "metadata": {},
   "outputs": [],
   "source": []
  },
  {
   "cell_type": "code",
   "execution_count": null,
   "id": "088b2039",
   "metadata": {},
   "outputs": [],
   "source": []
  },
  {
   "cell_type": "code",
   "execution_count": null,
   "id": "87804b0d",
   "metadata": {},
   "outputs": [],
   "source": []
  },
  {
   "cell_type": "code",
   "execution_count": null,
   "id": "5c7ec067",
   "metadata": {},
   "outputs": [],
   "source": []
  },
  {
   "cell_type": "code",
   "execution_count": null,
   "id": "66575aab",
   "metadata": {},
   "outputs": [],
   "source": []
  },
  {
   "cell_type": "markdown",
   "id": "6a4f08e3",
   "metadata": {},
   "source": [
    "이전 예시 `member_df.Attack`처럼 dot을 통해 접근되지 않는다."
   ]
  },
  {
   "cell_type": "markdown",
   "id": "02242347",
   "metadata": {},
   "source": [
    "## csv로 DataFrame 생성"
   ]
  },
  {
   "cell_type": "code",
   "execution_count": null,
   "id": "a8d88709",
   "metadata": {},
   "outputs": [],
   "source": []
  },
  {
   "cell_type": "code",
   "execution_count": null,
   "id": "7ca782e7",
   "metadata": {},
   "outputs": [],
   "source": [
    "# 테스트\n"
   ]
  },
  {
   "cell_type": "code",
   "execution_count": null,
   "id": "e6de9aac",
   "metadata": {},
   "outputs": [],
   "source": [
    "# 단일 열 접근 -> Series\n"
   ]
  },
  {
   "cell_type": "code",
   "execution_count": null,
   "id": "4bec098c",
   "metadata": {
    "scrolled": false
   },
   "outputs": [],
   "source": [
    "# 미리보기 : 다중 열 접근 -> DataFrame\n"
   ]
  },
  {
   "cell_type": "code",
   "execution_count": null,
   "id": "f879ca58",
   "metadata": {},
   "outputs": [],
   "source": []
  }
 ],
 "metadata": {
  "kernelspec": {
   "display_name": "Python 3 (ipykernel)",
   "language": "python",
   "name": "python3"
  },
  "language_info": {
   "codemirror_mode": {
    "name": "ipython",
    "version": 3
   },
   "file_extension": ".py",
   "mimetype": "text/x-python",
   "name": "python",
   "nbconvert_exporter": "python",
   "pygments_lexer": "ipython3",
   "version": "3.11.5"
  }
 },
 "nbformat": 4,
 "nbformat_minor": 5
}
