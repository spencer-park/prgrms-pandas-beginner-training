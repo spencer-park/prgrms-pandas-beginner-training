{
 "cells": [
  {
   "cell_type": "markdown",
   "id": "aca81d5c",
   "metadata": {},
   "source": [
    "## 데이터 준비\n",
    "- https://www.kaggle.com/datasets/harshitshankhdhar/imdb-dataset-of-top-1000-movies-and-tv-shows/"
   ]
  },
  {
   "cell_type": "code",
   "execution_count": null,
   "id": "67af615e",
   "metadata": {},
   "outputs": [],
   "source": [
    "import pandas as pd"
   ]
  },
  {
   "cell_type": "code",
   "execution_count": null,
   "id": "81d6a1a8",
   "metadata": {},
   "outputs": [],
   "source": [
    "cols = ['Series_Title', 'Released_Year', 'Meta_score', 'IMDB_Rating', 'Overview']"
   ]
  },
  {
   "cell_type": "code",
   "execution_count": null,
   "id": "4d1a084f",
   "metadata": {
    "scrolled": true
   },
   "outputs": [],
   "source": [
    "# 가져올 열 지정하기\n",
    "movie_df = pd.read_csv('imdb_top_1000.csv', usecols=cols)\n",
    "movie_df"
   ]
  },
  {
   "cell_type": "markdown",
   "id": "9b1f6959",
   "metadata": {},
   "source": [
    "## 열 조회"
   ]
  },
  {
   "cell_type": "code",
   "execution_count": null,
   "id": "018c34dd",
   "metadata": {},
   "outputs": [],
   "source": [
    "# 단일 열 조회를 하면 Series가 return된다.\n"
   ]
  },
  {
   "cell_type": "code",
   "execution_count": null,
   "id": "cc9a877c",
   "metadata": {},
   "outputs": [],
   "source": [
    "# 다중 열 조회를 하면 DataFrame\n"
   ]
  },
  {
   "cell_type": "code",
   "execution_count": null,
   "id": "5a9ab531",
   "metadata": {
    "scrolled": true
   },
   "outputs": [],
   "source": [
    "# 없는 열을 조회하면 Error\n",
    "movie_df['AAA']"
   ]
  },
  {
   "cell_type": "markdown",
   "id": "6a5eacfb",
   "metadata": {},
   "source": [
    "좀 더 안전하게 가져올 땐, 파이썬 Dictionary처럼 .get()를 이용해보자."
   ]
  },
  {
   "cell_type": "code",
   "execution_count": null,
   "id": "28a69079",
   "metadata": {},
   "outputs": [],
   "source": []
  },
  {
   "cell_type": "code",
   "execution_count": null,
   "id": "6befa5ec",
   "metadata": {},
   "outputs": [],
   "source": []
  },
  {
   "cell_type": "code",
   "execution_count": null,
   "id": "eede0592",
   "metadata": {},
   "outputs": [],
   "source": []
  },
  {
   "cell_type": "markdown",
   "id": "056bdad3",
   "metadata": {},
   "source": [
    "1. 에러 발생을 제어할 건지\n",
    "2. `.get()`함수로 안전하게 조회할 건지 결정\n",
    "3. `[ ]` 로 접근하는 건 address access고 .get()조회하는 건 return value(값 반환)이라서\n",
    "4. 전자는 접근 후 수정이 되고, 후자는 수정이 되지 않는다."
   ]
  },
  {
   "cell_type": "markdown",
   "id": "0233a961",
   "metadata": {},
   "source": [
    "## 열 추가 - 1. 일련화 된 값\n",
    "- 내가 본 영화를 체크하는 란을 만들자.\n",
    "- 리스트의 .append()처럼 위치는 지정할 수 없다. (뒤에 붙음)"
   ]
  },
  {
   "cell_type": "code",
   "execution_count": null,
   "id": "078621d3",
   "metadata": {},
   "outputs": [],
   "source": [
    "# 마치 dict형에서 값 추가하듯\n"
   ]
  },
  {
   "cell_type": "code",
   "execution_count": null,
   "id": "8397f39f",
   "metadata": {},
   "outputs": [],
   "source": [
    "# 확인해 보면\n"
   ]
  },
  {
   "cell_type": "markdown",
   "id": "18bd5081",
   "metadata": {},
   "source": [
    "## 열 추가 - 2. .insert()를 이용한 일련화된 값\n",
    "- https://pandas.pydata.org/docs/reference/api/pandas.DataFrame.insert.html\n",
    "- 나만의 평점을 추가해본다고 하자\n",
    "- .insert()를 이용하면 위치도 지정할 수 있다."
   ]
  },
  {
   "cell_type": "markdown",
   "id": "c9e7ae08",
   "metadata": {},
   "source": [
    "**loc : int**\n",
    "Insertion index. Must verify 0 <= loc <= len(columns).\n",
    "\n",
    "**column :str, number, or hashable object**\n",
    "Label of the inserted column.\n",
    "\n",
    "**value : Scalar, Series, or array-like**\n",
    "\n",
    "**allow_duplicates : bool, optional, default lib.no_default**"
   ]
  },
  {
   "cell_type": "markdown",
   "id": "15ea0de3",
   "metadata": {},
   "source": [
    "- Scalar : 단일 값"
   ]
  },
  {
   "cell_type": "code",
   "execution_count": null,
   "id": "5e1de2b9",
   "metadata": {},
   "outputs": [],
   "source": [
    "# Watched 앞에 넣어보자 ->  추가된 후 최종 위치 -> 0 1 2 3 4 [5] 6위치\n"
   ]
  },
  {
   "cell_type": "code",
   "execution_count": null,
   "id": "aaf77953",
   "metadata": {},
   "outputs": [],
   "source": [
    "# 조회\n"
   ]
  },
  {
   "cell_type": "markdown",
   "id": "4d05a272",
   "metadata": {},
   "source": [
    "## 열 추가 - 3. 다양한 값 추가(Series or array-like)"
   ]
  },
  {
   "cell_type": "markdown",
   "id": "d532c6d6",
   "metadata": {},
   "source": [
    "- value인자 설명을 보면 Series or array-like\n",
    "- Series와 array-like가 개수만 맞다면 추가 가능"
   ]
  },
  {
   "cell_type": "markdown",
   "id": "f6fb46e1",
   "metadata": {},
   "source": [
    "일단은 `My_Score`, `Watched`를 삭제 drop합시다."
   ]
  },
  {
   "cell_type": "code",
   "execution_count": null,
   "id": "8ba4e75d",
   "metadata": {},
   "outputs": [],
   "source": [
    "# 지난 수업 복습겸 작성해보자.\n"
   ]
  },
  {
   "cell_type": "markdown",
   "id": "d93b97a1",
   "metadata": {},
   "source": [
    "### 예시1. Watched를 리스트로 추가해보기"
   ]
  },
  {
   "cell_type": "code",
   "execution_count": null,
   "id": "4d899c5a",
   "metadata": {
    "scrolled": true
   },
   "outputs": [],
   "source": [
    "# 예시 watched 생성\n"
   ]
  },
  {
   "cell_type": "code",
   "execution_count": null,
   "id": "828d0983",
   "metadata": {},
   "outputs": [],
   "source": [
    "# 처음 배운 [] 방식으로 추가하기\n"
   ]
  },
  {
   "cell_type": "markdown",
   "id": "4d0be8df",
   "metadata": {},
   "source": [
    "### 예시 2. My_Score를 시리즈로 추가해보기"
   ]
  },
  {
   "cell_type": "code",
   "execution_count": null,
   "id": "e95da164",
   "metadata": {},
   "outputs": [],
   "source": [
    "import random\n",
    "my_score = [random.randint(0, 10) for x in range(1000)]\n",
    "my_score"
   ]
  },
  {
   "cell_type": "code",
   "execution_count": null,
   "id": "118c598f",
   "metadata": {},
   "outputs": [],
   "source": [
    "# 시리즈 생성\n"
   ]
  },
  {
   "cell_type": "code",
   "execution_count": null,
   "id": "751cc34e",
   "metadata": {},
   "outputs": [],
   "source": [
    "# IMDB_Rating 앞에 추가해보자.\n"
   ]
  },
  {
   "cell_type": "code",
   "execution_count": null,
   "id": "736a82b6",
   "metadata": {},
   "outputs": [],
   "source": [
    "# 확인\n"
   ]
  },
  {
   "cell_type": "markdown",
   "id": "82325d0e",
   "metadata": {},
   "source": [
    "## 만일 데이터의 개수가 안 맞는다면?"
   ]
  },
  {
   "cell_type": "markdown",
   "id": "e44d72b1",
   "metadata": {},
   "source": [
    "### 테스트 1 : [] + `array-like` 로 열 추가 방식"
   ]
  },
  {
   "cell_type": "code",
   "execution_count": null,
   "id": "7ebc2a9d",
   "metadata": {},
   "outputs": [],
   "source": [
    "watched"
   ]
  },
  {
   "cell_type": "code",
   "execution_count": null,
   "id": "bc68f731",
   "metadata": {},
   "outputs": [],
   "source": [
    "del watched[0]"
   ]
  },
  {
   "cell_type": "code",
   "execution_count": null,
   "id": "3163f319",
   "metadata": {},
   "outputs": [],
   "source": [
    "len(watched)"
   ]
  },
  {
   "cell_type": "code",
   "execution_count": null,
   "id": "472f3941",
   "metadata": {
    "scrolled": true
   },
   "outputs": [],
   "source": [
    "# 테스트 1000개 <-999개  : 에러발생\n"
   ]
  },
  {
   "cell_type": "markdown",
   "id": "420921da",
   "metadata": {},
   "source": [
    "ValueError: Length of values (999) does not match length of index (1000)"
   ]
  },
  {
   "cell_type": "markdown",
   "id": "6f0b6135",
   "metadata": {},
   "source": [
    "### 테스트 2 : insert+`Series`로 열 추가 방식"
   ]
  },
  {
   "cell_type": "code",
   "execution_count": null,
   "id": "800e9bd8",
   "metadata": {
    "scrolled": false
   },
   "outputs": [],
   "source": []
  },
  {
   "cell_type": "code",
   "execution_count": null,
   "id": "5068afcc",
   "metadata": {},
   "outputs": [],
   "source": [
    "# 테스트 1000개 <-999개  : 에러 발생?\n"
   ]
  },
  {
   "cell_type": "code",
   "execution_count": null,
   "id": "523e31b0",
   "metadata": {
    "scrolled": true
   },
   "outputs": [],
   "source": []
  },
  {
   "cell_type": "markdown",
   "id": "c9b4f278",
   "metadata": {},
   "source": [
    "1. 일치된 인덱스에 맞춰 값이 추가된다.\n",
    "2. 일치되지 않은 행은 NaN으로 대체된다."
   ]
  },
  {
   "cell_type": "markdown",
   "id": "ddd59b71",
   "metadata": {},
   "source": [
    "데이터 전처리를 열심히 하다보면 이렇게 NaN데이터가 쉽게 생겨나기도 한다."
   ]
  },
  {
   "cell_type": "markdown",
   "id": "5a8415cf",
   "metadata": {},
   "source": [
    "### 테스트 3. [] + `Series` 추가하면?"
   ]
  },
  {
   "cell_type": "code",
   "execution_count": null,
   "id": "6f67c175",
   "metadata": {},
   "outputs": [],
   "source": []
  },
  {
   "cell_type": "code",
   "execution_count": null,
   "id": "58dd42aa",
   "metadata": {},
   "outputs": [],
   "source": []
  }
 ],
 "metadata": {
  "kernelspec": {
   "display_name": "Python 3 (ipykernel)",
   "language": "python",
   "name": "python3"
  },
  "language_info": {
   "codemirror_mode": {
    "name": "ipython",
    "version": 3
   },
   "file_extension": ".py",
   "mimetype": "text/x-python",
   "name": "python",
   "nbconvert_exporter": "python",
   "pygments_lexer": "ipython3",
   "version": "3.11.5"
  }
 },
 "nbformat": 4,
 "nbformat_minor": 5
}
