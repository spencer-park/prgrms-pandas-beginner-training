{
 "cells": [
  {
   "cell_type": "markdown",
   "id": "aca81d5c",
   "metadata": {},
   "source": [
    "## 데이터 준비\n",
    "- https://www.kaggle.com/datasets/harshitshankhdhar/imdb-dataset-of-top-1000-movies-and-tv-shows/"
   ]
  },
  {
   "cell_type": "code",
   "execution_count": null,
   "id": "67af615e",
   "metadata": {},
   "outputs": [],
   "source": [
    "import pandas as pd"
   ]
  },
  {
   "cell_type": "code",
   "execution_count": null,
   "id": "81d6a1a8",
   "metadata": {},
   "outputs": [],
   "source": [
    "cols = ['Released_Year', 'Genre', 'Series_Title', 'Director', 'Meta_score', 'IMDB_Rating', 'No_of_Votes', 'Certificate', 'Gross']"
   ]
  },
  {
   "cell_type": "code",
   "execution_count": null,
   "id": "4d1a084f",
   "metadata": {
    "scrolled": true
   },
   "outputs": [],
   "source": [
    "# 가져올 열 지정하기\n",
    "movie_df = pd.read_csv('imdb_top_1000.csv')\n",
    "movie_df = movie_df[cols]\n",
    "movie_df"
   ]
  },
  {
   "cell_type": "code",
   "execution_count": null,
   "id": "5a1ee0b2",
   "metadata": {},
   "outputs": [],
   "source": [
    "movie_df.info()"
   ]
  },
  {
   "cell_type": "markdown",
   "id": "9a2a1da2",
   "metadata": {},
   "source": [
    "## .dropna()\n",
    "- NaN 유형 데이터를 drop(삭제)시킨다."
   ]
  },
  {
   "cell_type": "code",
   "execution_count": null,
   "id": "f17b36d0",
   "metadata": {},
   "outputs": [],
   "source": [
    "# 모든 row x col의 공간. 즉 row의 cell에 NaN이 있으면 1개라도 있으면 row 삭제\n"
   ]
  },
  {
   "cell_type": "code",
   "execution_count": null,
   "id": "5d101a1f",
   "metadata": {},
   "outputs": [],
   "source": [
    "# default : axis=0 -> row를 삭제\n",
    "# 만일 default : axis=1이면? -> col을 삭제\n"
   ]
  },
  {
   "cell_type": "markdown",
   "id": "23d87ea4",
   "metadata": {},
   "source": [
    "## how= : NA발견시 제거되는 방식 설정\n",
    "- https://pandas.pydata.org/docs/reference/api/pandas.DataFrame.dropna.html\n",
    "- NaN 발견시 제거 기준을 정한다."
   ]
  },
  {
   "cell_type": "markdown",
   "id": "32bbc70a",
   "metadata": {},
   "source": [
    "**how : {'any', 'all'}, default 'any'**  \n",
    "Determine if row or column is removed from DataFrame, when we have at least one NA or all NA.\n",
    "- 'any' : If any NA values are present, drop that row or column.\n",
    "- 'all' : If all values are NA, drop that row or column.\n",
    "\n",
    "---\n",
    "- NA 발견시 행 또는 열이 데이터프레임에서 제거되는 방식을 결정\n",
    "- 'any' : 만약 NA 값이 하나라도 존재한다면, 해당 행 또는 열을 제거, default\n",
    "- 'all' : 만약 모든 값이 NA인 경우에 해당하는 행 또는 열을 제거"
   ]
  },
  {
   "cell_type": "code",
   "execution_count": null,
   "id": "e330808d",
   "metadata": {},
   "outputs": [],
   "source": [
    "# 연습용 데이터\n",
    "data = {\n",
    "    'A' : [1, 2, None, 4],\n",
    "    'B' : [None, None, None, 8],\n",
    "    'C' : [9, None, None, None],\n",
    "    'D' : [None, None, None, None]\n",
    "}\n",
    "\n",
    "data_df = pd.DataFrame(data)\n",
    "data_df"
   ]
  },
  {
   "cell_type": "code",
   "execution_count": null,
   "id": "3497e618",
   "metadata": {},
   "outputs": [],
   "source": []
  },
  {
   "cell_type": "markdown",
   "id": "a2418a68",
   "metadata": {},
   "source": [
    "## subset= : 특정열의 NA만 확인"
   ]
  },
  {
   "cell_type": "markdown",
   "id": "38145a84",
   "metadata": {},
   "source": [
    "**subset: column label or sequence of labels, optional**  \n",
    "Labels along other axis to consider, e.g. if you are dropping rows these would be a list of columns to include."
   ]
  },
  {
   "cell_type": "code",
   "execution_count": null,
   "id": "7bef1c80",
   "metadata": {},
   "outputs": [],
   "source": [
    "# 먼저 movie_df를 확인해보면\n",
    "movie_df"
   ]
  },
  {
   "cell_type": "code",
   "execution_count": null,
   "id": "db2ba576",
   "metadata": {},
   "outputs": [],
   "source": [
    "# Certificate 열의 NA여부만 확인하고 dropna()를 실행하면\n",
    "movie_df.dropna(subset='Certificate')"
   ]
  },
  {
   "cell_type": "markdown",
   "id": "0ced7f7f",
   "metadata": {},
   "source": [
    "1. Certificate가 NaN인 경우 row가 삭제되고,\n",
    "2. Gross의 NaN은 제거 연산에서 제외되었다."
   ]
  },
  {
   "cell_type": "code",
   "execution_count": null,
   "id": "8d283094",
   "metadata": {},
   "outputs": [],
   "source": [
    "movie_df.dropna(subset=['Certificate', 'Gross'])"
   ]
  },
  {
   "cell_type": "markdown",
   "id": "da04fcc7",
   "metadata": {},
   "source": [
    "## .fillna() : 결측치 대체하기\n",
    "- fillna() : https://pandas.pydata.org/docs/reference/api/pandas.DataFrame.fillna.html"
   ]
  },
  {
   "cell_type": "code",
   "execution_count": null,
   "id": "242a6de6",
   "metadata": {
    "scrolled": false
   },
   "outputs": [],
   "source": [
    "# 연습용 데이터\n",
    "data = {\n",
    "    'A' : [1, 2, None, 4],\n",
    "    'B' : [None, None, None, 8],\n",
    "    'C' : [9, None, None, None],\n",
    "    'D' : [None, None, None, None]\n",
    "}\n",
    "\n",
    "data_df = pd.DataFrame(data)\n",
    "data_df"
   ]
  },
  {
   "cell_type": "code",
   "execution_count": null,
   "id": "b263a7a8",
   "metadata": {
    "scrolled": true
   },
   "outputs": [],
   "source": [
    "# value=를 이용하여 결측치 대체\n"
   ]
  },
  {
   "cell_type": "markdown",
   "id": "0606d51d",
   "metadata": {},
   "source": [
    "## method= : "
   ]
  },
  {
   "cell_type": "markdown",
   "id": "db6fbdeb",
   "metadata": {},
   "source": [
    "**method{‘backfill’, ‘bfill’, ‘ffill’, None}, default None**  \n",
    "Method to use for filling holes in reindexed Series:\n",
    "- ffill: propagate last valid observation forward to next valid.\n",
    "- backfill / bfill: use next valid observation to fill gap.\n",
    "- [Deprecated] since version 2.1.0: Use ffill or bfill instead.\n",
    "\n",
    "---\n",
    "\n",
    "- ffill : 마지막으로 관찰된 유효한 값(결측값이 아닌 값)을 다음 유효한 값까지 앞으로 전파.\n",
    "  - 쉽게 보면 바로 앞 행 데이터와 동일 값으로 채운다.(axis=0일 때) \n",
    "  - 그렇게 결측치(결측값)을 채워 데이터의 연속성을 유지시킨다.\n",
    "- backfill / bfill : 다음 유효한 값으로 채웁니다.\n",
    "  - 다음 행의 같은 열 값으로 채운다는 말!(axis=0일 때)\n",
    "- [Deprecated] Pandas 2.1.0부터는 ffill 또는 bfill을 사용하세요."
   ]
  },
  {
   "cell_type": "markdown",
   "id": "d5a2fa3c",
   "metadata": {},
   "source": [
    "### method='ffill'"
   ]
  },
  {
   "cell_type": "code",
   "execution_count": null,
   "id": "e2845a7c",
   "metadata": {},
   "outputs": [],
   "source": [
    "# method='ffill' -> NA를 이전 행 같은 열의 관찰 값으로 대체\n"
   ]
  },
  {
   "cell_type": "markdown",
   "id": "98c3b121",
   "metadata": {},
   "source": [
    "### method='bfill'"
   ]
  },
  {
   "cell_type": "code",
   "execution_count": null,
   "id": "701211fd",
   "metadata": {},
   "outputs": [],
   "source": [
    "# method='bfill' -> NA를 다음 행 같은 열의 관찰 값으로 대체\n"
   ]
  },
  {
   "cell_type": "markdown",
   "id": "5fda222a",
   "metadata": {},
   "source": [
    "### method='ffill', axis=1"
   ]
  },
  {
   "cell_type": "code",
   "execution_count": null,
   "id": "c7defb61",
   "metadata": {},
   "outputs": [],
   "source": [
    "# method='ffill' -> NA를 같은 행 이전 열의 관찰 값으로 대체\n"
   ]
  },
  {
   "cell_type": "markdown",
   "id": "5d695072",
   "metadata": {},
   "source": [
    "### method='bfill', axis=1"
   ]
  },
  {
   "cell_type": "code",
   "execution_count": null,
   "id": "02665512",
   "metadata": {},
   "outputs": [],
   "source": [
    "# method='bfill' -> NA를 다음 행 같은 열의 관찰 값으로 대체\n"
   ]
  },
  {
   "cell_type": "markdown",
   "id": "7cc92d62",
   "metadata": {},
   "source": [
    "## limit=  \n",
    "- 연속되어 결측치를 나올 경우, 결측치 대체 횟수 지정"
   ]
  },
  {
   "cell_type": "markdown",
   "id": "39f9ff39",
   "metadata": {},
   "source": [
    "**limit : int, default None**  \n",
    "If method is specified, this is the maximum number of consecutive NaN values to forward/backward fill. In other words, if there is a gap with more than this number of consecutive NaNs, it will only be partially filled. If method is not specified, this is the maximum number of entries along the entire axis where NaNs will be filled. Must be greater than 0 if not None."
   ]
  },
  {
   "cell_type": "markdown",
   "id": "158ca087",
   "metadata": {},
   "source": [
    "### limit=2"
   ]
  },
  {
   "cell_type": "code",
   "execution_count": null,
   "id": "6b138a02",
   "metadata": {},
   "outputs": [],
   "source": [
    "# 원래 data_df\n"
   ]
  },
  {
   "cell_type": "code",
   "execution_count": null,
   "id": "561da32f",
   "metadata": {},
   "outputs": [],
   "source": [
    "# fillna(method='ffill')\n"
   ]
  },
  {
   "cell_type": "code",
   "execution_count": null,
   "id": "2bb5eddd",
   "metadata": {},
   "outputs": [],
   "source": [
    "# limit=2로 제한\n"
   ]
  },
  {
   "cell_type": "markdown",
   "id": "101bedf7",
   "metadata": {},
   "source": [
    "### limit=2, value=0\n",
    "- value=로 결측치 대체값을 지정하고 limit=으로 최대 횟수를 정해보자"
   ]
  },
  {
   "cell_type": "code",
   "execution_count": null,
   "id": "7a60b9ea",
   "metadata": {},
   "outputs": [],
   "source": []
  }
 ],
 "metadata": {
  "kernelspec": {
   "display_name": "Python 3 (ipykernel)",
   "language": "python",
   "name": "python3"
  },
  "language_info": {
   "codemirror_mode": {
    "name": "ipython",
    "version": 3
   },
   "file_extension": ".py",
   "mimetype": "text/x-python",
   "name": "python",
   "nbconvert_exporter": "python",
   "pygments_lexer": "ipython3",
   "version": "3.11.5"
  }
 },
 "nbformat": 4,
 "nbformat_minor": 5
}
