{
 "cells": [
  {
   "cell_type": "markdown",
   "id": "c913d8fd",
   "metadata": {},
   "source": [
    "## Pandas참조합니다. (별칭 사용)"
   ]
  },
  {
   "cell_type": "code",
   "execution_count": null,
   "id": "6f1c1f2b",
   "metadata": {},
   "outputs": [],
   "source": []
  },
  {
   "cell_type": "markdown",
   "id": "ed748166",
   "metadata": {},
   "source": [
    "## imdb 영화 순위 Top1000정보가 들어있는 imdb_top_1000.csv 로 DataFrame만들기"
   ]
  },
  {
   "cell_type": "code",
   "execution_count": null,
   "id": "429003f0",
   "metadata": {
    "scrolled": false
   },
   "outputs": [],
   "source": []
  },
  {
   "cell_type": "markdown",
   "id": "1495f3dc",
   "metadata": {},
   "source": [
    "## 필요한 열만 가져오기\n",
    "- 아래 순서로 열이 정렬되야합니다."
   ]
  },
  {
   "cell_type": "markdown",
   "id": "2d41af53",
   "metadata": {},
   "source": [
    "'Genre', 'Series_Title', 'Released_Year', 'IMDB_Rating', 'Meta_score', 'Director', 'No_of_Votes', 'Gross'"
   ]
  },
  {
   "cell_type": "code",
   "execution_count": null,
   "id": "2cd39788",
   "metadata": {
    "scrolled": true
   },
   "outputs": [],
   "source": []
  },
  {
   "cell_type": "code",
   "execution_count": null,
   "id": "a8511105",
   "metadata": {},
   "outputs": [],
   "source": []
  },
  {
   "cell_type": "markdown",
   "id": "74291f50",
   "metadata": {},
   "source": [
    "## 데이터프레임 정보를 확인합시다.\n",
    "- 각 dtype과 null 여부를 확인합시다."
   ]
  },
  {
   "cell_type": "code",
   "execution_count": null,
   "id": "beadc0ca",
   "metadata": {},
   "outputs": [],
   "source": []
  },
  {
   "cell_type": "markdown",
   "id": "6e298075",
   "metadata": {},
   "source": [
    "## Top1000에 들어간 영화에서 가장 많은 장르 5개를 확인해봅시다."
   ]
  },
  {
   "cell_type": "code",
   "execution_count": null,
   "id": "3cb82394",
   "metadata": {},
   "outputs": [],
   "source": []
  },
  {
   "cell_type": "markdown",
   "id": "3f6bb99d",
   "metadata": {},
   "source": [
    "## 수익이 측정이 안된 영화는 제외하여 저장합시다.\n",
    "- Meta_score는 NA여도 삭제하지 않습니다."
   ]
  },
  {
   "cell_type": "code",
   "execution_count": null,
   "id": "b06f87de",
   "metadata": {
    "scrolled": true
   },
   "outputs": [],
   "source": []
  },
  {
   "cell_type": "markdown",
   "id": "a4f04500",
   "metadata": {},
   "source": [
    "## 메타스코어 평균을 확인합니다."
   ]
  },
  {
   "cell_type": "code",
   "execution_count": null,
   "id": "4887af98",
   "metadata": {
    "scrolled": true
   },
   "outputs": [],
   "source": []
  },
  {
   "cell_type": "markdown",
   "id": "541bc3a3",
   "metadata": {},
   "source": [
    "## 가장 수익을 많이 낸 영화 Top1을 찾아봅시다.\n",
    "- 힌트 : 현재 수익을 나타내는 Gross의 dtype을 주의하자.\n",
    "- 힌트 : 문자열은 크기 정렬이 안된다."
   ]
  },
  {
   "cell_type": "code",
   "execution_count": null,
   "id": "13956e1c",
   "metadata": {
    "scrolled": true
   },
   "outputs": [],
   "source": []
  },
  {
   "cell_type": "markdown",
   "id": "9d1d87a3",
   "metadata": {},
   "source": [
    "## 가장 수익을 많이 낸 영화 Top10을 확인해봅시다."
   ]
  },
  {
   "cell_type": "code",
   "execution_count": null,
   "id": "d6fef4b5",
   "metadata": {},
   "outputs": [],
   "source": []
  },
  {
   "cell_type": "markdown",
   "id": "fa90f77a",
   "metadata": {},
   "source": [
    "## 가장 수익을 많이 낸 영화 Top100의 장르 개수를 확인해봅시다."
   ]
  },
  {
   "cell_type": "code",
   "execution_count": null,
   "id": "4db5ad66",
   "metadata": {
    "scrolled": true
   },
   "outputs": [],
   "source": []
  },
  {
   "cell_type": "markdown",
   "id": "0c22ee1f",
   "metadata": {},
   "source": [
    "## 가장 수익이 적은 영화 Top1을 찾아봅시다."
   ]
  },
  {
   "cell_type": "code",
   "execution_count": null,
   "id": "127c2bbd",
   "metadata": {},
   "outputs": [],
   "source": []
  },
  {
   "cell_type": "markdown",
   "id": "36087dd3",
   "metadata": {},
   "source": [
    "## 가장 수익이 적은 영화를 Top10을 확인해봅시다."
   ]
  },
  {
   "cell_type": "code",
   "execution_count": null,
   "id": "46f6330a",
   "metadata": {
    "scrolled": true
   },
   "outputs": [],
   "source": []
  },
  {
   "cell_type": "markdown",
   "id": "dc1de4b4",
   "metadata": {},
   "source": [
    "## 현재 데이터프레임의 숫자관련 집계 통계를 확인해봅시다."
   ]
  },
  {
   "cell_type": "code",
   "execution_count": null,
   "id": "615f38d9",
   "metadata": {},
   "outputs": [],
   "source": []
  },
  {
   "cell_type": "markdown",
   "id": "1b21ec84",
   "metadata": {},
   "source": [
    "## 현재 데이터프레임의 문자열관련 집계 통계를 확인해봅시다."
   ]
  },
  {
   "cell_type": "code",
   "execution_count": null,
   "id": "2859a379",
   "metadata": {},
   "outputs": [],
   "source": []
  },
  {
   "cell_type": "markdown",
   "id": "5f4c9944",
   "metadata": {},
   "source": [
    "## 현재 데이터프레임의 가능한 모든 집계 통계를 확인해봅시다."
   ]
  },
  {
   "cell_type": "code",
   "execution_count": null,
   "id": "5a575e67",
   "metadata": {},
   "outputs": [],
   "source": []
  },
  {
   "cell_type": "markdown",
   "id": "2746c147",
   "metadata": {},
   "source": [
    "## 인덱스를 영화 이름으로 설정합니다."
   ]
  },
  {
   "cell_type": "code",
   "execution_count": null,
   "id": "0012001b",
   "metadata": {
    "scrolled": true
   },
   "outputs": [],
   "source": []
  },
  {
   "cell_type": "markdown",
   "id": "8a7b4d96",
   "metadata": {},
   "source": [
    "# [미리보기] 키워드, 키워드 포함 행 조회하기"
   ]
  },
  {
   "cell_type": "markdown",
   "id": "47d10b73",
   "metadata": {},
   "source": [
    "## 예제 1: 인덱스에서 조회하기"
   ]
  },
  {
   "cell_type": "code",
   "execution_count": null,
   "id": "0c11dbdc",
   "metadata": {},
   "outputs": [],
   "source": []
  },
  {
   "cell_type": "markdown",
   "id": "8055f714",
   "metadata": {},
   "source": [
    "## 예제2 : 장르에서 Animation조회"
   ]
  },
  {
   "cell_type": "code",
   "execution_count": null,
   "id": "fd4cccdc",
   "metadata": {},
   "outputs": [],
   "source": []
  }
 ],
 "metadata": {
  "kernelspec": {
   "display_name": "Python 3 (ipykernel)",
   "language": "python",
   "name": "python3"
  },
  "language_info": {
   "codemirror_mode": {
    "name": "ipython",
    "version": 3
   },
   "file_extension": ".py",
   "mimetype": "text/x-python",
   "name": "python",
   "nbconvert_exporter": "python",
   "pygments_lexer": "ipython3",
   "version": "3.11.5"
  }
 },
 "nbformat": 4,
 "nbformat_minor": 5
}
