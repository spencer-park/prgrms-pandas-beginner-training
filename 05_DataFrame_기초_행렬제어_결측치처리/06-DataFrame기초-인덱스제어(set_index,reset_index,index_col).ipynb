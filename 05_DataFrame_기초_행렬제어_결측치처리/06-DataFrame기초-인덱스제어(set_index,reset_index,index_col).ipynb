{
 "cells": [
  {
   "cell_type": "markdown",
   "id": "aca81d5c",
   "metadata": {},
   "source": [
    "## 데이터 준비\n",
    "- https://www.kaggle.com/datasets/harshitshankhdhar/imdb-dataset-of-top-1000-movies-and-tv-shows/"
   ]
  },
  {
   "cell_type": "code",
   "execution_count": null,
   "id": "67af615e",
   "metadata": {},
   "outputs": [],
   "source": [
    "import pandas as pd"
   ]
  },
  {
   "cell_type": "code",
   "execution_count": null,
   "id": "b1a44ad9",
   "metadata": {},
   "outputs": [],
   "source": [
    "cols = ['Released_Year', 'Genre', 'Series_Title', 'Director', 'Meta_score', 'IMDB_Rating', 'No_of_Votes', 'Certificate', 'Gross']"
   ]
  },
  {
   "cell_type": "code",
   "execution_count": null,
   "id": "4d1a084f",
   "metadata": {
    "scrolled": true
   },
   "outputs": [],
   "source": [
    "# 가져올 열 지정하기\n"
   ]
  },
  {
   "cell_type": "markdown",
   "id": "3c4ce10c",
   "metadata": {},
   "source": [
    "## .set_index()\n",
    "- https://pandas.pydata.org/docs/reference/api/pandas.DataFrame.set_index.html\n",
    "- 특정 열을 인덱스로 설정하는 기능을 제공\n",
    "- 현재 숫자형 인덱스를 다른 열로 지정해보자."
   ]
  },
  {
   "cell_type": "code",
   "execution_count": null,
   "id": "c55aa921",
   "metadata": {},
   "outputs": [],
   "source": [
    "# 영화 제목을 인덱스로 설정하면\n"
   ]
  },
  {
   "cell_type": "markdown",
   "id": "32de0e95",
   "metadata": {},
   "source": [
    "- 비파괴적 처리기 때문에 저장은 안되었다.\n",
    "- 인덱스 열로 지정되면서 사용된 열이 삭제되었다. (마치 move처럼)\n",
    "- .set_index도 inplace= 인자를 제공한다."
   ]
  },
  {
   "cell_type": "markdown",
   "id": "372d1a08",
   "metadata": {},
   "source": [
    "## .set_index()의 drop=\n",
    "- .set_index()로 index열을 변경할 때, 인덱스로 지정된 열을 기존 열에서 삭제할 지 여부를 정한다.\n",
    "- default가 True라서 삭제된다."
   ]
  },
  {
   "cell_type": "code",
   "execution_count": null,
   "id": "77b51faf",
   "metadata": {},
   "outputs": [],
   "source": [
    "# 영화 제목을 인덱스로 설정, drop=False라서 Series_Title이 여전히 열에 있다.\n"
   ]
  },
  {
   "cell_type": "code",
   "execution_count": null,
   "id": "9a52dff3",
   "metadata": {},
   "outputs": [],
   "source": [
    "# 영화 제목을 인덱스로 설정, drop=True라서 Series_Title가 열에서 없어졌다.\n"
   ]
  },
  {
   "cell_type": "markdown",
   "id": "78b3a309",
   "metadata": {},
   "source": [
    "## df.index.name = \n",
    "- Series_Title이란 이름이 어색한 것 같아서 Title로 변경해보자."
   ]
  },
  {
   "cell_type": "code",
   "execution_count": null,
   "id": "ebd24c24",
   "metadata": {
    "scrolled": true
   },
   "outputs": [],
   "source": [
    "# 열 변경 후 저장 -> 열 이름 변경\n"
   ]
  },
  {
   "cell_type": "markdown",
   "id": "ad209245",
   "metadata": {},
   "source": [
    "## .reset_index()\n",
    "- https://pandas.pydata.org/docs/reference/api/pandas.DataFrame.reset_index.html\n",
    "- 인덱스를 초기화합니다.\n",
    "- 나중에 배울 MultiIndex 작업도 초기화 합니다."
   ]
  },
  {
   "cell_type": "code",
   "execution_count": null,
   "id": "638ab909",
   "metadata": {
    "scrolled": false
   },
   "outputs": [],
   "source": [
    "# 비파괴적 처리\n"
   ]
  },
  {
   "cell_type": "markdown",
   "id": "6b44fb58",
   "metadata": {},
   "source": [
    "직접 속성에 접근해서 변경한 Series_Title -> Title은 유지되고 있다."
   ]
  },
  {
   "cell_type": "markdown",
   "id": "401815a5",
   "metadata": {},
   "source": [
    "## .reset_index()의 drop=\n",
    "- 기존 인덱스를 데이터 열로 삽입되지않고 삭제됩니다.\n",
    "- 인덱스는 기본 정수형 인덱스로 재설정됩니다."
   ]
  },
  {
   "cell_type": "code",
   "execution_count": null,
   "id": "8d137cd8",
   "metadata": {
    "scrolled": true
   },
   "outputs": [],
   "source": []
  },
  {
   "cell_type": "markdown",
   "id": "8107d5c4",
   "metadata": {},
   "source": [
    "영화 제목(Title) 열이 사라졌다."
   ]
  },
  {
   "cell_type": "markdown",
   "id": "c08d535a",
   "metadata": {},
   "source": [
    "## index_col = : 읽어올 때 index열 설정하기"
   ]
  },
  {
   "cell_type": "code",
   "execution_count": null,
   "id": "21bd5bee",
   "metadata": {},
   "outputs": [],
   "source": [
    "import pandas as pd"
   ]
  },
  {
   "cell_type": "code",
   "execution_count": null,
   "id": "00655d32",
   "metadata": {},
   "outputs": [],
   "source": [
    "cols = ['Released_Year', 'Genre', 'Series_Title', 'Director', 'Meta_score', 'IMDB_Rating', 'No_of_Votes', 'Certificate', 'Gross']"
   ]
  },
  {
   "cell_type": "code",
   "execution_count": null,
   "id": "79087551",
   "metadata": {},
   "outputs": [],
   "source": [
    "# 가져올 열과 인덱스 열을 지정하기\n"
   ]
  }
 ],
 "metadata": {
  "kernelspec": {
   "display_name": "Python 3 (ipykernel)",
   "language": "python",
   "name": "python3"
  },
  "language_info": {
   "codemirror_mode": {
    "name": "ipython",
    "version": 3
   },
   "file_extension": ".py",
   "mimetype": "text/x-python",
   "name": "python",
   "nbconvert_exporter": "python",
   "pygments_lexer": "ipython3",
   "version": "3.11.5"
  }
 },
 "nbformat": 4,
 "nbformat_minor": 5
}
