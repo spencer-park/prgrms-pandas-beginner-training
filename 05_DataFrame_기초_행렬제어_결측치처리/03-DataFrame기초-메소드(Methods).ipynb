{
 "cells": [
  {
   "cell_type": "markdown",
   "id": "45531bb6",
   "metadata": {},
   "source": [
    "## DataFrame\n",
    "- Series는 1차원 구조\n",
    "- DataFrame은 2차원 구조\n",
    "  - axis = 0 : index 방향\n",
    "  - axis = 1 : columns 방향\n",
    "  - 2개 이상의 Series로 구성\n",
    "- https://pandas.pydata.org/docs/reference/api/pandas.DataFrame.html"
   ]
  },
  {
   "cell_type": "markdown",
   "id": "734f5aaf",
   "metadata": {},
   "source": [
    "## DataFrame 생성"
   ]
  },
  {
   "cell_type": "code",
   "execution_count": null,
   "id": "5f746a1a",
   "metadata": {},
   "outputs": [],
   "source": [
    "import pandas as pd"
   ]
  },
  {
   "cell_type": "code",
   "execution_count": null,
   "id": "4095e9aa",
   "metadata": {
    "scrolled": false
   },
   "outputs": [],
   "source": [
    "member = {\n",
    "    'Attack' : [111, 222, 333],\n",
    "    'Defence' : [444, 555, 666],\n",
    "    'Luck' : [777, 888, 999]\n",
    "}\n"
   ]
  },
  {
   "cell_type": "markdown",
   "id": "96999b05",
   "metadata": {},
   "source": [
    "## .sum()"
   ]
  },
  {
   "cell_type": "code",
   "execution_count": null,
   "id": "3ac9295e",
   "metadata": {},
   "outputs": [],
   "source": []
  },
  {
   "cell_type": "markdown",
   "id": "f62e25bb",
   "metadata": {},
   "source": [
    ".sum()은 각 열 => 각 Series를 .sum() 한 결과로 또 다른 Series를 만든다.\n",
    "- Series는 .sum()하면 단일 값\n",
    "- DataFrame을 .sum()하면 Series"
   ]
  },
  {
   "cell_type": "code",
   "execution_count": null,
   "id": "2966cfdb",
   "metadata": {},
   "outputs": [],
   "source": []
  },
  {
   "cell_type": "markdown",
   "id": "c3570287",
   "metadata": {},
   "source": [
    "type(member_df.sum())"
   ]
  },
  {
   "cell_type": "code",
   "execution_count": null,
   "id": "fe881640",
   "metadata": {},
   "outputs": [],
   "source": [
    "# DataFrame -> Series -> 단일 값도 되지 않을까?\n"
   ]
  },
  {
   "cell_type": "markdown",
   "id": "5573589e",
   "metadata": {},
   "source": [
    "## .sum()과 axis\n",
    "- DataFrame은 2차원 구조\n",
    "  - axis = 0 : index 방향\n",
    "  - axis = 1 : columns 방향"
   ]
  },
  {
   "cell_type": "code",
   "execution_count": null,
   "id": "926ab21f",
   "metadata": {},
   "outputs": [],
   "source": [
    "# axis = 0, axis = 'index'\n"
   ]
  },
  {
   "cell_type": "code",
   "execution_count": null,
   "id": "1261fc77",
   "metadata": {},
   "outputs": [],
   "source": []
  },
  {
   "cell_type": "code",
   "execution_count": null,
   "id": "902639a7",
   "metadata": {},
   "outputs": [],
   "source": [
    "# axis = 1, axis = 'columns'\n"
   ]
  },
  {
   "cell_type": "code",
   "execution_count": null,
   "id": "32f2d6aa",
   "metadata": {},
   "outputs": [],
   "source": []
  },
  {
   "cell_type": "code",
   "execution_count": null,
   "id": "a965a4c0",
   "metadata": {},
   "outputs": [],
   "source": [
    "# 어떻게 합쳐진 거지? 확인 해보자\n"
   ]
  },
  {
   "cell_type": "markdown",
   "id": "f1f6493d",
   "metadata": {},
   "source": [
    "## 집계함수 + axis\n",
    "- 공간 절약되서 axis='index', axis=0를 쓰며\n",
    "- sum()말고도 max(), min(), mean() 등의 집계함수와 axis를 사용해보면"
   ]
  },
  {
   "cell_type": "code",
   "execution_count": null,
   "id": "760829fe",
   "metadata": {},
   "outputs": [],
   "source": [
    "# max, axis = 0\n"
   ]
  },
  {
   "cell_type": "code",
   "execution_count": null,
   "id": "c94967ab",
   "metadata": {},
   "outputs": [],
   "source": [
    "# min, axis = 'columns'\n"
   ]
  },
  {
   "cell_type": "code",
   "execution_count": null,
   "id": "ab49f7ba",
   "metadata": {},
   "outputs": [],
   "source": [
    "# mean, axis = 'index'\n"
   ]
  },
  {
   "cell_type": "code",
   "execution_count": null,
   "id": "fe1a6bd3",
   "metadata": {},
   "outputs": [],
   "source": [
    "# median, axis = 1\n"
   ]
  },
  {
   "cell_type": "code",
   "execution_count": null,
   "id": "a27776c6",
   "metadata": {},
   "outputs": [],
   "source": [
    "# prod, axis = 1, prod는 곱셈 연산\n"
   ]
  },
  {
   "cell_type": "markdown",
   "id": "979cdcde",
   "metadata": {},
   "source": [
    "**[미리보기] 집계함수 목록**\n",
    "메소드 | 설명\n",
    "- | -\n",
    "min | 최소값\n",
    "max | 최대값\n",
    "sum | 합계\n",
    "mean | 평균\n",
    "median | 중앙값\n",
    "count | 비결측치의 개수\n",
    "value_counts | 각 값의 빈도\n",
    "describe | 요약 통계량\n",
    "mode | 최빈값\n",
    "std | 표준편차\n",
    "var | 분산\n",
    "prod | 모든 요소의 곱\n",
    "quantile | 분위수\n",
    "cumsum | 누적 합\n",
    "cumprod | 누적 곱\n",
    "cummax | 누적 최대값\n",
    "cummin | 누적 최소값"
   ]
  }
 ],
 "metadata": {
  "kernelspec": {
   "display_name": "Python 3 (ipykernel)",
   "language": "python",
   "name": "python3"
  },
  "language_info": {
   "codemirror_mode": {
    "name": "ipython",
    "version": 3
   },
   "file_extension": ".py",
   "mimetype": "text/x-python",
   "name": "python",
   "nbconvert_exporter": "python",
   "pygments_lexer": "ipython3",
   "version": "3.11.5"
  }
 },
 "nbformat": 4,
 "nbformat_minor": 5
}
