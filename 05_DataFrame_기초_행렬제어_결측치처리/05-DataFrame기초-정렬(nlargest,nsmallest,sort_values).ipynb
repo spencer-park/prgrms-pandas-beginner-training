{
 "cells": [
  {
   "cell_type": "markdown",
   "id": "aca81d5c",
   "metadata": {},
   "source": [
    "## 데이터 준비\n",
    "- https://www.kaggle.com/datasets/harshitshankhdhar/imdb-dataset-of-top-1000-movies-and-tv-shows/"
   ]
  },
  {
   "cell_type": "code",
   "execution_count": null,
   "id": "67af615e",
   "metadata": {},
   "outputs": [],
   "source": [
    "import pandas as pd"
   ]
  },
  {
   "cell_type": "code",
   "execution_count": null,
   "id": "b1a44ad9",
   "metadata": {},
   "outputs": [],
   "source": [
    "cols = ['Released_Year', 'Genre', 'Series_Title', 'Director', 'Meta_score', 'IMDB_Rating', 'No_of_Votes', 'Certificate', 'Gross']"
   ]
  },
  {
   "cell_type": "code",
   "execution_count": null,
   "id": "4d1a084f",
   "metadata": {
    "scrolled": true
   },
   "outputs": [],
   "source": [
    "# 가져올 열 지정하기\n"
   ]
  },
  {
   "cell_type": "markdown",
   "id": "36d9e25d",
   "metadata": {},
   "source": [
    "## .nlargest()"
   ]
  },
  {
   "cell_type": "markdown",
   "id": "8662644d",
   "metadata": {},
   "source": [
    "- https://pandas.pydata.org/docs/reference/api/pandas.DataFrame.nlargest.html#pandas.DataFrame.nlargest\n",
    "\n",
    ">**n : int**  \n",
    "Number of rows to return.\n",
    "\n",
    ">**columns : label or list of labels**  \n",
    "Column label(s) to order by.\n",
    "\n",
    ">**keep : {‘first’, ‘last’, ‘all’}, default ‘first’**  \n",
    "Where there are duplicate values:\n",
    "\n",
    "**중복된 값이 있을 경우 우선순위**\n",
    "- first : prioritize the first occurrence(s)\n",
    "- last : prioritize the last occurrence(s)\n",
    "- all : do not drop any duplicates, even it means selecting more than n items."
   ]
  },
  {
   "cell_type": "code",
   "execution_count": null,
   "id": "a4a90150",
   "metadata": {},
   "outputs": [],
   "source": []
  },
  {
   "cell_type": "markdown",
   "id": "ae66e8e1",
   "metadata": {},
   "source": [
    "nlargest()는 아래 코드를 쉽게 만든거라고도 볼 수 있다.  \n",
    "nlargest()를 쓰지 않고 코드를 작성해보면 할 수는 있다."
   ]
  },
  {
   "cell_type": "code",
   "execution_count": null,
   "id": "f17ebb78",
   "metadata": {},
   "outputs": [],
   "source": [
    "# 이미 공식 문서에 소개된 내용\n"
   ]
  },
  {
   "cell_type": "markdown",
   "id": "01504e02",
   "metadata": {},
   "source": [
    "## .nsmallest()"
   ]
  },
  {
   "cell_type": "code",
   "execution_count": null,
   "id": "d0dd9ab4",
   "metadata": {},
   "outputs": [],
   "source": [
    "# 1차 정렬 IMDB_Rating\n"
   ]
  },
  {
   "cell_type": "code",
   "execution_count": null,
   "id": "0ecd31c8",
   "metadata": {},
   "outputs": [],
   "source": [
    "# 1차 정렬 IMDB_Rating, 2차 정렬 Meta_score\n"
   ]
  },
  {
   "cell_type": "markdown",
   "id": "b39c1b65",
   "metadata": {},
   "source": [
    "## keep="
   ]
  },
  {
   "cell_type": "markdown",
   "id": "4ac13993",
   "metadata": {},
   "source": [
    "**중복된 값이 있는 경우**\n",
    "- first : 첫 번째 등장하는 값들을 우선. (default)\n",
    "- last : 마지막으로 등장하는 값들을 우선.\n",
    "- all : 중복된 값을 제거하지 않고 모든 값들을 선택. 이 경우 n보다 더 많은 항목들이 선택될 수 있다."
   ]
  },
  {
   "cell_type": "code",
   "execution_count": null,
   "id": "de429db6",
   "metadata": {},
   "outputs": [],
   "source": [
    "# IMDB_Rating 최고 7개, 동점의 경우 먼저 등장하는 것부터 우선배치\n"
   ]
  },
  {
   "cell_type": "code",
   "execution_count": null,
   "id": "3fae7b9a",
   "metadata": {},
   "outputs": [],
   "source": [
    "# IMDB_Rating 최고 7개, 동점의 경우 끝에있는 것부터 우선배치\n"
   ]
  },
  {
   "cell_type": "code",
   "execution_count": null,
   "id": "7305a74a",
   "metadata": {},
   "outputs": [],
   "source": [
    "# IMDB_Rating 최고 7개, 동점의 경우 8개가 넘더라도 추가\n"
   ]
  },
  {
   "cell_type": "markdown",
   "id": "5a7977f8",
   "metadata": {},
   "source": [
    "`keep='all'`을 하니 7개를 조회했으나 8개가 나왔다"
   ]
  },
  {
   "cell_type": "markdown",
   "id": "cc9a0514",
   "metadata": {},
   "source": [
    "## .sort_values()\n",
    "- Series.sort_values : https://pandas.pydata.org/docs/reference/api/pandas.Series.sort_values.html\n",
    "- DataFrame.sort_values : https://pandas.pydata.org/docs/reference/api/pandas.DataFrame.sort_values.html\n",
    "- Series.sort_values보다 DataFrame.sort_values인자가 'by' 하나 더 있다.\n",
    "- Series는 단일 열이 였지만, DataFrame은 다중 열이기에 어떤 열을 정렬할 지, 정렬하려는 열 정보가 필요"
   ]
  },
  {
   "cell_type": "markdown",
   "id": "ab57dcc5",
   "metadata": {},
   "source": [
    "**by : str or list of str**  \n",
    "Name or list of names to sort by.\n",
    "- if axis is 0 or ‘index’ then by may contain index levels and/or column labels.\n",
    "- if axis is 1 or ‘columns’ then by may contain column levels and/or index labels."
   ]
  },
  {
   "cell_type": "code",
   "execution_count": null,
   "id": "afe4644e",
   "metadata": {
    "scrolled": true
   },
   "outputs": [],
   "source": []
  }
 ],
 "metadata": {
  "kernelspec": {
   "display_name": "Python 3 (ipykernel)",
   "language": "python",
   "name": "python3"
  },
  "language_info": {
   "codemirror_mode": {
    "name": "ipython",
    "version": 3
   },
   "file_extension": ".py",
   "mimetype": "text/x-python",
   "name": "python",
   "nbconvert_exporter": "python",
   "pygments_lexer": "ipython3",
   "version": "3.11.5"
  }
 },
 "nbformat": 4,
 "nbformat_minor": 5
}
