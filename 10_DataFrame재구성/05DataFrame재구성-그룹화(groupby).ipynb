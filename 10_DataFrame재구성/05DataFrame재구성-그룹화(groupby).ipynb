{
 "cells": [
  {
   "cell_type": "markdown",
   "id": "fd3d391b",
   "metadata": {},
   "source": [
    "## .groupby()\n",
    "- https://pandas.pydata.org/docs/reference/api/pandas.DataFrame.groupby.html\n",
    "- https://pandas.pydata.org/docs/reference/api/pandas.Series.groupby.html\n",
    "- https://pandas.pydata.org/docs/reference/api/pandas.Index.groupby.html\n",
    "\n",
    "- 데이터를 그룹화하고 그룹 단위로 연산을 수행하는 기능을 제공하는 함수\n",
    "- 기준을 정하여 그룹으로 나누고, 각 그룹 단위로 연산을 수행.\n",
    "\n",
    "### 진행 순서\n",
    "1. 그룹으로 나눌 열 또는 열들을 선택\n",
    "    - groupby() 함수에 그룹으로 나눌 열(label or list-like)을 전달. \n",
    "    - 예로 `df.groupby('업종')`은 '업종'열을 기준으로 데이터를 그룹화.\n",
    "2. 그룹 객체에 원하는 연산을 수행\n",
    "    - 그룹 객체를 생성되면 그룹 단위로 집계 함수로 연산을 수행.\n",
    "    - 예로 `df.groupby('업종').mean()`은 '업종'열을 기준으로 그룹화된 데이터 평균을 계산."
   ]
  },
  {
   "cell_type": "markdown",
   "id": "8eefe2e8",
   "metadata": {},
   "source": [
    "## 간단 예제 실습"
   ]
  },
  {
   "cell_type": "code",
   "execution_count": null,
   "id": "06a4fc57",
   "metadata": {},
   "outputs": [],
   "source": [
    "import pandas as pd"
   ]
  },
  {
   "cell_type": "code",
   "execution_count": null,
   "id": "00008535",
   "metadata": {},
   "outputs": [],
   "source": [
    "# 학생 성적 데이터 생성\n",
    "data = {\n",
    "    '학생명': ['철수', '영희', '민수', '수현', '지영', '동희'],\n",
    "    '과목': ['수학', '영어', '수학', '과학', '영어', '과학'],\n",
    "    '성적': [90, 85, 92, 88, 95, 91]\n",
    "}\n",
    "\n",
    "df = pd.DataFrame(data)"
   ]
  },
  {
   "cell_type": "code",
   "execution_count": null,
   "id": "99495b65",
   "metadata": {
    "scrolled": true
   },
   "outputs": [],
   "source": []
  },
  {
   "cell_type": "code",
   "execution_count": null,
   "id": "12a70cc2",
   "metadata": {},
   "outputs": [],
   "source": [
    "# 과목별 평균 성적 계산\n"
   ]
  },
  {
   "cell_type": "code",
   "execution_count": null,
   "id": "877b5672",
   "metadata": {
    "scrolled": true
   },
   "outputs": [],
   "source": []
  },
  {
   "cell_type": "markdown",
   "id": "19732f53",
   "metadata": {},
   "source": [
    "## 실습 1 - 단일 열 그룹화"
   ]
  },
  {
   "cell_type": "code",
   "execution_count": null,
   "id": "ee2a9989",
   "metadata": {},
   "outputs": [],
   "source": [
    "# Pokemon.csv - 포켓몬\n"
   ]
  },
  {
   "cell_type": "code",
   "execution_count": null,
   "id": "7805d4a0",
   "metadata": {},
   "outputs": [],
   "source": [
    "# Type 1의 목록\n"
   ]
  },
  {
   "cell_type": "code",
   "execution_count": null,
   "id": "d0cff10d",
   "metadata": {},
   "outputs": [],
   "source": []
  },
  {
   "cell_type": "code",
   "execution_count": null,
   "id": "5bc7faca",
   "metadata": {},
   "outputs": [],
   "source": [
    "# group화 된 상태 보기\n"
   ]
  },
  {
   "cell_type": "code",
   "execution_count": null,
   "id": "7bd41a53",
   "metadata": {
    "scrolled": false
   },
   "outputs": [],
   "source": [
    "# .get_group(value) -> DataFrame으로 확인\n",
    "# mask로 조건식 하는 것과 같은 출력 pokemons['Type 1'] == 'Dark'\n"
   ]
  },
  {
   "cell_type": "markdown",
   "id": "0eda36de",
   "metadata": {},
   "source": [
    "1. 그룹화를 하면 조건식처럼 하나씩 mask를 만들어 조회하지 않아도 된다.\n",
    "2. 코드와 데이터의 재사용성이 증가한다.\n",
    "3. 그룹별 통계를 낼 수 있게 되어, 집단들의 특징을 파악하기 쉬운 구조가 된다.\n",
    "4. .pivot_table()을 사용할 때보다 수행능력/편의성에 이득이 있다."
   ]
  },
  {
   "cell_type": "code",
   "execution_count": null,
   "id": "d750e1e8",
   "metadata": {
    "scrolled": true
   },
   "outputs": [],
   "source": [
    "# .groupby() vs .pivot_table()\n"
   ]
  },
  {
   "cell_type": "markdown",
   "id": "6fde6b9b",
   "metadata": {},
   "source": [
    "FutureWarning: pivot_table dropped a column because it failed to aggregate. This behavior is deprecated and will raise in a future version of pandas. Select only the columns that can be aggregated.  \n",
    "\n",
    "향후 경고: 피벗_테이블이 집계에 실패하여 열을 삭제했습니다. 이 동작은 더 이상 사용되지 않으며 향후 판다 버전에서 발생할 예정입니다. 집계할 수 있는 열만 선택하세요."
   ]
  },
  {
   "cell_type": "code",
   "execution_count": null,
   "id": "de86555c",
   "metadata": {},
   "outputs": [],
   "source": [
    "# pivot_table에는 numeric_only옵션이 없다. 따라서 경고를 안띄우려면 열 지정이나 메소드 실행 등 추가 데이터전처리가 필요하다.\n",
    "# 하지만 group화된 데이터를 집계할 땐 numeric_only 옵션이 있다.\n"
   ]
  },
  {
   "cell_type": "code",
   "execution_count": null,
   "id": "909d9e57",
   "metadata": {},
   "outputs": [],
   "source": [
    "# 특정 그룹에 대한 집계 함수 수행\n"
   ]
  },
  {
   "cell_type": "raw",
   "id": "c2b492bf",
   "metadata": {},
   "source": [
    "상황과 선호도에 따라 메소드를 선택해서 사용하자. 정답은 없다."
   ]
  },
  {
   "cell_type": "markdown",
   "id": "46f88155",
   "metadata": {},
   "source": [
    "## 실습 2 - 2개 열 그룹화"
   ]
  },
  {
   "cell_type": "code",
   "execution_count": null,
   "id": "5127b1e3",
   "metadata": {},
   "outputs": [],
   "source": []
  },
  {
   "cell_type": "code",
   "execution_count": null,
   "id": "d581d4bb",
   "metadata": {},
   "outputs": [],
   "source": []
  },
  {
   "cell_type": "markdown",
   "id": "0e35c6b2",
   "metadata": {},
   "source": [
    "멀티 인덱스처럼 튜플로 인덱스가 묶여있다."
   ]
  },
  {
   "cell_type": "code",
   "execution_count": null,
   "id": "b3ef7dee",
   "metadata": {},
   "outputs": [],
   "source": [
    "# 여기서 집계함수를 하면\n"
   ]
  },
  {
   "cell_type": "code",
   "execution_count": null,
   "id": "e444707d",
   "metadata": {},
   "outputs": [],
   "source": [
    "# 조회 -> 멀티인덱싱 방법과 동일\n"
   ]
  },
  {
   "cell_type": "code",
   "execution_count": null,
   "id": "5e1265fd",
   "metadata": {
    "scrolled": true
   },
   "outputs": [],
   "source": []
  },
  {
   "cell_type": "code",
   "execution_count": null,
   "id": "9423167a",
   "metadata": {},
   "outputs": [],
   "source": []
  },
  {
   "cell_type": "code",
   "execution_count": null,
   "id": "7c2615c3",
   "metadata": {
    "scrolled": true
   },
   "outputs": [],
   "source": [
    "# 특정 타입 조회, 멀티인덱싱 level 1\n"
   ]
  },
  {
   "cell_type": "markdown",
   "id": "fa7920e0",
   "metadata": {},
   "source": [
    "## 주의 - 그룹화되면 한 행의 각 열 데이터는 독립적"
   ]
  },
  {
   "cell_type": "code",
   "execution_count": null,
   "id": "46a1b65a",
   "metadata": {
    "scrolled": true
   },
   "outputs": [],
   "source": [
    "# \"Bug-Electric 타입에서 제일 좋은 포켓몬을 찾아야지!\" -> Joltik?\n"
   ]
  },
  {
   "cell_type": "code",
   "execution_count": null,
   "id": "617800e6",
   "metadata": {},
   "outputs": [],
   "source": [
    "# 하지만 실제로 찾아보면 일치하지 않는다.\n"
   ]
  },
  {
   "cell_type": "code",
   "execution_count": null,
   "id": "916aa37d",
   "metadata": {},
   "outputs": [],
   "source": [
    "# 왜냐면 각 열에서 그룹화한 열은 여러개의 데이터가 하나의 보따리에 들어간 상태이며\n",
    "# 보따리 안에서 max인 것을 반환한 것이기 때문"
   ]
  },
  {
   "cell_type": "markdown",
   "id": "0eee0728",
   "metadata": {},
   "source": [
    "## 실습 3 - .groupby()이후 .agg()\n",
    "- https://pandas.pydata.org/docs/reference/api/pandas.core.groupby.DataFrameGroupBy.agg.html"
   ]
  },
  {
   "cell_type": "code",
   "execution_count": null,
   "id": "d2fd2a69",
   "metadata": {},
   "outputs": [],
   "source": [
    "# gropyby() 이후가 Dataframe은 아니지만 agg()를 사용할 수 있다.\n"
   ]
  },
  {
   "cell_type": "code",
   "execution_count": null,
   "id": "1e3a7dfa",
   "metadata": {
    "scrolled": false
   },
   "outputs": [],
   "source": []
  }
 ],
 "metadata": {
  "kernelspec": {
   "display_name": "Python 3 (ipykernel)",
   "language": "python",
   "name": "python3"
  },
  "language_info": {
   "codemirror_mode": {
    "name": "ipython",
    "version": 3
   },
   "file_extension": ".py",
   "mimetype": "text/x-python",
   "name": "python",
   "nbconvert_exporter": "python",
   "pygments_lexer": "ipython3",
   "version": "3.11.5"
  }
 },
 "nbformat": 4,
 "nbformat_minor": 5
}
