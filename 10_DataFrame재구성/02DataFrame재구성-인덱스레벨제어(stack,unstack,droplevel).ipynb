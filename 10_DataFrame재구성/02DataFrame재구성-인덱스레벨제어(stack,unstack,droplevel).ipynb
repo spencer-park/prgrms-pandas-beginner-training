{
 "cells": [
  {
   "cell_type": "markdown",
   "id": "866ebd9a",
   "metadata": {},
   "source": [
    "## 데이터 셋\n",
    "- [sample1.csv](https://docs.google.com/spreadsheets/d/1u6v9RclTm7_V-YgSvDT-OFVyHiLgDnXIHyE5iqxQLr0/edit?usp=sharing) - 학업성취도\n",
    "- [sample2.csv](https://docs.google.com/spreadsheets/d/1Hb3FObTwaKLZQHv5bDFP2lx1kxFyrz94o95Cw0xXNQ8/edit?usp=sharing) - 연도별사원성과\n",
    "- [sample3.csv](https://docs.google.com/spreadsheets/d/1YdCJa7uKjb8k7nsonZSQ8O2OYgdkRDEvr_oKOher-wM/edit?usp=sharing) - 역대한국야구순위"
   ]
  },
  {
   "cell_type": "code",
   "execution_count": null,
   "id": "06a4fc57",
   "metadata": {
    "scrolled": true
   },
   "outputs": [],
   "source": [
    "import pandas as pd"
   ]
  },
  {
   "cell_type": "code",
   "execution_count": null,
   "id": "f98e260d",
   "metadata": {
    "scrolled": true
   },
   "outputs": [],
   "source": [
    "# sample1.csv - 학업성취도\n",
    "students = pd.read_csv('sample1.csv', index_col='학생번호')\n",
    "\n",
    "# sample2.csv - 연도별사원성과\n",
    "company = pd.read_csv('sample2.csv', index_col='사원번호')\n",
    "\n",
    "# sample3.csv - 역대한국야구순위\n",
    "league = pd.read_csv('sample3.csv', index_col='팀이름')\n",
    "\n",
    "# pokemon\n",
    "pokemons = pd.read_csv('Pokemon.csv', index_col='Name')\n",
    "\n",
    "# richest\n",
    "richest = pd.read_csv('TopRichestInWorld.csv', index_col='Name')\n",
    "# richest.drop(columns=['Source'], inplace=True)"
   ]
  },
  {
   "cell_type": "code",
   "execution_count": null,
   "id": "7bec841e",
   "metadata": {
    "scrolled": true
   },
   "outputs": [],
   "source": [
    "richest.head()"
   ]
  },
  {
   "cell_type": "markdown",
   "id": "4f22848d",
   "metadata": {},
   "source": [
    "## .stack()\n",
    "- stack : 쌓아간다? 뭘 쌓는다는 걸까?\n",
    "- 데이터프레임의 구조를 재조정하는 데 유용\n",
    "- columns에 다중 인덱스가 있는 데이터프레임에서 사용하면 컬럼 인덱스가 로우 인덱스의 레벨로 이동.\n",
    "- 컬럼을 로우로 \"압축\"하는 작업을 수행\n",
    "\n",
    "\n",
    "### DataFrame.stack(level=-1, dropna=_NoDefault.no_default, sort=_NoDefault.no_default, future_stack=False)\n",
    "- 컬럼에서 지정된 레벨(들)을 인덱스로 스택(stack)한다.  \n",
    "- 현재의 데이터프레임과 비교하여 하나 이상의 새로운 내부 레벨을 가지는 다중 레벨 인덱스를 가진 재구성된 데이터프레임 또는 시리즈를 반환합니다. 새로운 내부 레벨은 현재 데이터프레임의 컬럼을 피벗(pivot)하여 생성된다.\n",
    "  - 만약 컬럼이 단일 레벨이라면, 결과는 시리즈(Series).\n",
    "  - 만약 컬럼이 다중 레벨이라면, 새로운 인덱스 레벨은 지정된 레벨에서 가져오며 결과는 데이터프레임(DataFrame).\n",
    "\n",
    "**Parameters**  \n",
    "`level : int, str, list, default -1`  \n",
    "-컬럼 축에서 인덱스 축으로 스택(stack)할 레벨 지정.  \n",
    "-하나의 인덱스 또는 레이블, 또는 인덱스 또는 레이블의 리스트로 정의\n",
    "\n",
    "`dropna : bool, default True`  \n",
    "-결과 프레임/시리즈에서 결측값을 가진 행을 삭제할지 여부.  \n",
    "-컬럼 레벨을 인덱스 축에 스택(stack)하면 원본 데이터프레임에 없는 인덱스와 컬럼 값의 조합이 생성될 수 있다. \n",
    "\n",
    "`sort : bool, default True`  \n",
    "-결과 MultiIndex의 레벨을 정렬할지 여부.    \n",
    "\n",
    "`future_stack : bool, default False`  \n",
    "-현재 구현체를 대체할 새로운 구현체를 사용할지 여부.  \n",
    "-True인 경우, dropna와 sort는 결과에 영향을 미치지 않으며 지정하지 않아야 한다. \n",
    "\n",
    "**Returns : DataFrame or Series**    \n",
    "스택(stack)된 데이터프레임 또는 시리즈."
   ]
  },
  {
   "cell_type": "markdown",
   "id": "7fdb5a6c",
   "metadata": {},
   "source": [
    "## .stack() 기본 사용"
   ]
  },
  {
   "cell_type": "code",
   "execution_count": null,
   "id": "e0032292",
   "metadata": {
    "scrolled": true
   },
   "outputs": [],
   "source": [
    "# 다중 레벨 컬럼을 가진 데이터프레임 생성\n",
    "data = {\n",
    "    ('A', 'col1'): [1, 5],\n",
    "    ('A', 'col2'): [2, 6],\n",
    "    ('B', 'col1'): [3, 7],\n",
    "    ('B', 'col2'): [4, 8]\n",
    "}\n",
    "\n",
    "df = pd.DataFrame(data)"
   ]
  },
  {
   "cell_type": "code",
   "execution_count": null,
   "id": "f52dedcb",
   "metadata": {
    "scrolled": true
   },
   "outputs": [],
   "source": [
    "df"
   ]
  },
  {
   "cell_type": "code",
   "execution_count": null,
   "id": "80518be9",
   "metadata": {
    "scrolled": true
   },
   "outputs": [],
   "source": []
  },
  {
   "cell_type": "markdown",
   "id": "b0c34244",
   "metadata": {},
   "source": [
    "1. index 0행 영역에서 columns -> index로 재조정\n",
    "2. index 1행 영역에서 columns -> index로 재조정\n",
    "3. unstack()은 되돌아갑니다."
   ]
  },
  {
   "cell_type": "markdown",
   "id": "12ee22f9",
   "metadata": {},
   "source": [
    "## stack() unstack() 가벼운 데이터로 이해하기"
   ]
  },
  {
   "cell_type": "code",
   "execution_count": null,
   "id": "f48b4c0b",
   "metadata": {
    "scrolled": true
   },
   "outputs": [],
   "source": [
    "# 예시 데이터\n",
    "data = {\n",
    "    ('Math', 'Quiz 1'): [80, 90, 70],\n",
    "    ('Math', 'Quiz 2'): [75, 85, 65],\n",
    "    ('English', 'Quiz 1'): [90, 85, 80],\n",
    "    ('English', 'Quiz 2'): [95, 80, 75]\n",
    "}\n",
    "\n",
    "df = pd.DataFrame(data, index=['Alice', 'Bob', 'Charlie'])"
   ]
  },
  {
   "cell_type": "code",
   "execution_count": null,
   "id": "7dad196a",
   "metadata": {
    "scrolled": true
   },
   "outputs": [],
   "source": [
    "df"
   ]
  },
  {
   "cell_type": "code",
   "execution_count": null,
   "id": "58d4b986",
   "metadata": {
    "scrolled": true
   },
   "outputs": [],
   "source": [
    "# 1. 원본 -> stack()\n"
   ]
  },
  {
   "cell_type": "code",
   "execution_count": null,
   "id": "f7da78b3",
   "metadata": {
    "scrolled": true
   },
   "outputs": [],
   "source": [
    "# 2. 원본 -> stack() -> unstack()\n"
   ]
  },
  {
   "cell_type": "code",
   "execution_count": null,
   "id": "f0085499",
   "metadata": {
    "scrolled": true
   },
   "outputs": [],
   "source": [
    "# 3. 원본 -> stack() -> stack()\n"
   ]
  },
  {
   "cell_type": "code",
   "execution_count": null,
   "id": "43d59bfb",
   "metadata": {
    "scrolled": true
   },
   "outputs": [],
   "source": [
    "# 4. 원본 -> unstack()\n"
   ]
  },
  {
   "cell_type": "markdown",
   "id": "1c1dc663",
   "metadata": {},
   "source": [
    "## 단일 레벨의 Columns을 stack()하면?"
   ]
  },
  {
   "cell_type": "code",
   "execution_count": null,
   "id": "5c83f3ec",
   "metadata": {
    "scrolled": true
   },
   "outputs": [],
   "source": []
  },
  {
   "cell_type": "code",
   "execution_count": null,
   "id": "3d32c28c",
   "metadata": {
    "scrolled": true
   },
   "outputs": [],
   "source": []
  },
  {
   "cell_type": "code",
   "execution_count": null,
   "id": "9c436ef2",
   "metadata": {
    "scrolled": true
   },
   "outputs": [],
   "source": []
  },
  {
   "cell_type": "code",
   "execution_count": null,
   "id": "4d9ee9e3",
   "metadata": {
    "scrolled": true
   },
   "outputs": [],
   "source": []
  },
  {
   "cell_type": "code",
   "execution_count": null,
   "id": "97d20468",
   "metadata": {
    "scrolled": true
   },
   "outputs": [],
   "source": []
  },
  {
   "cell_type": "code",
   "execution_count": null,
   "id": "d68af828",
   "metadata": {
    "scrolled": true
   },
   "outputs": [],
   "source": []
  },
  {
   "cell_type": "code",
   "execution_count": null,
   "id": "d9ace565",
   "metadata": {
    "scrolled": false
   },
   "outputs": [],
   "source": []
  },
  {
   "cell_type": "code",
   "execution_count": null,
   "id": "0d926224",
   "metadata": {
    "scrolled": true
   },
   "outputs": [],
   "source": []
  },
  {
   "cell_type": "markdown",
   "id": "f339c737",
   "metadata": {},
   "source": [
    "## unstack(), .droplevel(level, axis)\n",
    "- https://pandas.pydata.org/docs/reference/api/pandas.DataFrame.unstack.html\n",
    "- https://pandas.pydata.org/docs/reference/api/pandas.DataFrame.droplevel.html"
   ]
  },
  {
   "cell_type": "code",
   "execution_count": null,
   "id": "c8aed2ab",
   "metadata": {
    "scrolled": true
   },
   "outputs": [],
   "source": []
  },
  {
   "cell_type": "code",
   "execution_count": null,
   "id": "e0c3183d",
   "metadata": {
    "scrolled": true
   },
   "outputs": [],
   "source": []
  },
  {
   "cell_type": "code",
   "execution_count": null,
   "id": "44e7238d",
   "metadata": {
    "scrolled": true
   },
   "outputs": [],
   "source": []
  },
  {
   "cell_type": "code",
   "execution_count": null,
   "id": "4898cd1f",
   "metadata": {
    "scrolled": true
   },
   "outputs": [],
   "source": []
  },
  {
   "cell_type": "markdown",
   "id": "5804fc64",
   "metadata": {},
   "source": [
    "## level값에 따른 stack, unstack변화"
   ]
  },
  {
   "cell_type": "code",
   "execution_count": null,
   "id": "2312e0ce",
   "metadata": {
    "scrolled": true
   },
   "outputs": [],
   "source": [
    "richest = pd.read_csv('TopRichestInWorld.csv', index_col=['Industry', 'Name'])\n",
    "richest"
   ]
  },
  {
   "cell_type": "code",
   "execution_count": null,
   "id": "09c21d72",
   "metadata": {
    "scrolled": true
   },
   "outputs": [],
   "source": [
    "# 기본 unstack(level=-1)\n"
   ]
  },
  {
   "cell_type": "code",
   "execution_count": null,
   "id": "9feb6a0d",
   "metadata": {
    "scrolled": true
   },
   "outputs": [],
   "source": [
    "# 지정 unstack(level=0)\n"
   ]
  },
  {
   "cell_type": "markdown",
   "id": "a01ece2a",
   "metadata": {},
   "source": [
    "- 기존 열은 level 0\n",
    "- unstack()으로 지정된 index는 level 1\n",
    "- 교차가 되지 않는 값은 NA로 지정된다."
   ]
  },
  {
   "cell_type": "code",
   "execution_count": null,
   "id": "ace66ecb",
   "metadata": {
    "scrolled": true
   },
   "outputs": [],
   "source": [
    "# 특정 산업에 대한 정보만 확인\n"
   ]
  },
  {
   "cell_type": "code",
   "execution_count": null,
   "id": "45dc8d80",
   "metadata": {
    "scrolled": true
   },
   "outputs": [],
   "source": []
  },
  {
   "cell_type": "code",
   "execution_count": null,
   "id": "41e5e32f",
   "metadata": {
    "scrolled": true
   },
   "outputs": [],
   "source": [
    "# 물론 이렇게 특정 분야의 데이터를 확인할 수 있다.\n"
   ]
  },
  {
   "cell_type": "code",
   "execution_count": null,
   "id": "efcca749",
   "metadata": {
    "scrolled": true
   },
   "outputs": [],
   "source": [
    "# 이를 stack()하면 조금 차이가 있다.\n"
   ]
  }
 ],
 "metadata": {
  "kernelspec": {
   "display_name": "Python 3 (ipykernel)",
   "language": "python",
   "name": "python3"
  },
  "language_info": {
   "codemirror_mode": {
    "name": "ipython",
    "version": 3
   },
   "file_extension": ".py",
   "mimetype": "text/x-python",
   "name": "python",
   "nbconvert_exporter": "python",
   "pygments_lexer": "ipython3",
   "version": "3.11.5"
  }
 },
 "nbformat": 4,
 "nbformat_minor": 5
}
