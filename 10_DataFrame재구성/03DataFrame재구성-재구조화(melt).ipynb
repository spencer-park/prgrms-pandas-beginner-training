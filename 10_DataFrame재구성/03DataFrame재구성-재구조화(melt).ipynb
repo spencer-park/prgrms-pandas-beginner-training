{
 "cells": [
  {
   "cell_type": "markdown",
   "id": "866ebd9a",
   "metadata": {},
   "source": [
    "## 데이터 셋\n",
    "- [sample1.csv](https://docs.google.com/spreadsheets/d/1u6v9RclTm7_V-YgSvDT-OFVyHiLgDnXIHyE5iqxQLr0/edit?usp=sharing) - 학업성취도\n",
    "- [sample2.csv](https://docs.google.com/spreadsheets/d/1Hb3FObTwaKLZQHv5bDFP2lx1kxFyrz94o95Cw0xXNQ8/edit?usp=sharing) - 연도별사원성과\n",
    "- [sample3.csv](https://docs.google.com/spreadsheets/d/1YdCJa7uKjb8k7nsonZSQ8O2OYgdkRDEvr_oKOher-wM/edit?usp=sharing) - 역대한국야구순위"
   ]
  },
  {
   "cell_type": "code",
   "execution_count": null,
   "id": "06a4fc57",
   "metadata": {},
   "outputs": [],
   "source": [
    "import pandas as pd"
   ]
  },
  {
   "cell_type": "markdown",
   "id": "bc852242",
   "metadata": {},
   "source": [
    "## melt()\n",
    "- https://pandas.pydata.org/docs/reference/api/pandas.melt.html\n",
    "- 넓은 형식으로 구성된 데이터프레임을 긴 형식으로 변환하여 데이터를 재구성\n",
    "- 함수를 사용하면 하나 이상의 열을 식별자 변수(`id_vars`)로 설정하고, 나머지 열인 측정 변수(`value_vars`)를 행 방향으로 언피벗하여 두 개의 비-식별자 열인 `variable`과 `value`만 남게 되는 형태로 데이터프레임을 변환\n",
    "\n",
    "\n",
    "### pandas.melt(frame, id_vars=None, value_vars=None, var_name=None, value_name='value', col_level=None, ignore_index=True)\n",
    "**Parameters**  \n",
    "`id_vars` : tuple, list, or ndarray, optional  \n",
    "Column(s) to use as identifier variables.\n",
    "식별자 변수로 사용할 열을 지정하는 매개변수\n",
    "\n",
    "`value_vars` : tuple, list, or ndarray, optional  \n",
    "Column(s) to unpivot. If not specified, uses all columns that are not set as id_vars.  \n",
    "언피벗할 열을 지정하는 매개변수. 지정하지 않으면 id_vars로 설정되지 않은 모든 열이 사용.\n",
    "\n",
    "`var_name` : scalar  \n",
    "Name to use for the ‘variable’ column. If None it uses frame.columns.name or ‘variable.  \n",
    "'variable' 열에 사용할 이름을 지정하는 매개변수. None이면 frame.columns.name 또는 'variable'가 사용됨\n",
    "\n",
    "`value_name` : scalar, default ‘value’  \n",
    "Name to use for the ‘value’ column.  \n",
    " 'value' 열에 사용할 이름을 지정하는 매개변수. 기본값은 'value'\n",
    "\n",
    "`col_level` : int or str, optional  \n",
    "If columns are a MultiIndex then use this level to melt.  \n",
    "열이 MultiIndex인 경우 해당 레벨을 사용하여 언피벗하는 매개변수.\n",
    "\n",
    "`ignore_index` : bool, default True  \n",
    "If True, original index is ignored. If False, the original index is retained. Index labels will be repeated as necessary.  \n",
    "True로 설정하면 원래의 인덱스가 무시. False로 설정하면 원래의 인덱스가 유지. 필요에 따라 인덱스 레이블이 반복.\n",
    "\n",
    "**Returns**  \n",
    "DataFrame : Unpivoted DataFrame."
   ]
  },
  {
   "cell_type": "markdown",
   "id": "8d14c53a",
   "metadata": {},
   "source": [
    "## 언비펏..? Unpivot..?\n",
    "데이터프레임의 구조를 변형하여 wide(넓은) 형식에서 long(긴) 형식으로 데이터를 재구성하는 작업\n",
    "\n",
    "일반적으로 wide(넓은) 형식의 데이터 프레임은\n",
    "- 각 행이 고유한 식별자를 가지고 있고, \n",
    "- 각 열은 실제 관측값이 있는 열로 구성. \n",
    "\n",
    "반대로 long 형식의 데이터프레임은 \n",
    "- 각 행이 하나의 관측값을 가지고 있고\n",
    "- 식별자 변수와 측정 변수를 나타내는 열로 구성\n",
    "\n",
    "그래서 Unpivot 작업이란\n",
    "- 데이터프레임에서 측정 변수를 열에서 행 방향으로 이동시켜 long 형식으로 변환하는 것을 의미\n",
    "- 이를 통해 데이터의 구조를 변경, 분석, 시각화 작업에 더 적합한 형태로 데이터를 재구성"
   ]
  },
  {
   "cell_type": "markdown",
   "id": "271aeea6",
   "metadata": {},
   "source": [
    "## 간단한 예제 실습"
   ]
  },
  {
   "cell_type": "code",
   "execution_count": null,
   "id": "c308a0a8",
   "metadata": {},
   "outputs": [],
   "source": [
    "# 예시 데이터 생성\n",
    "data = {\n",
    "    '이름': ['Spencer', 'Lune', 'Mark'],\n",
    "    '국어': [66, 90, 95],\n",
    "    '영어': [77, 80, 65],\n",
    "    '수학': [99, 80, 75]\n",
    "}\n",
    "\n",
    "df = pd.DataFrame(data)"
   ]
  },
  {
   "cell_type": "code",
   "execution_count": null,
   "id": "c7447928",
   "metadata": {},
   "outputs": [],
   "source": [
    "# wide 형식 데이터프레임 출력\n"
   ]
  },
  {
   "cell_type": "code",
   "execution_count": null,
   "id": "6a2b69c6",
   "metadata": {},
   "outputs": [],
   "source": [
    "# long형식 데이터프레임 출력\n"
   ]
  },
  {
   "cell_type": "markdown",
   "id": "c52312a3",
   "metadata": {},
   "source": [
    "- melt() 함수를 사용하여 wide 형식의 데이터프레임을 long 형식으로 변환\n",
    "    1. `id_vars` 매개변수에 `'이름'`을 지정하여 식별자 변수로 설정 \n",
    "    1. `value_vars` 매개변수에 `['국어', '영어', '수학']`를 지정하여 언피벗할 열을 선택\n",
    "    1. `var_name` 매개변수에 '과목'을, `value_name` 매개변수에 '점수'를 지정하여 열 이름을 변경\n",
    "- 변환된 long 형식의 데이터프레임은 각 행이 하나의 관측값을 가지며, 이름, 과목, 점수 열로 구성\n",
    "- 보다 유연하게 데이터를 분석하거나 시각화하는 등의 작업을 수행할 수 있다."
   ]
  },
  {
   "cell_type": "code",
   "execution_count": null,
   "id": "30b978f7",
   "metadata": {
    "scrolled": true
   },
   "outputs": [],
   "source": [
    "# 만일 value_vars를 누락시키면?\n"
   ]
  },
  {
   "cell_type": "markdown",
   "id": "26d21b36",
   "metadata": {},
   "source": [
    "## 복잡한 데이터 실습"
   ]
  },
  {
   "cell_type": "code",
   "execution_count": null,
   "id": "ce5facae",
   "metadata": {},
   "outputs": [],
   "source": [
    "# sample3.csv - 역대한국야구순위\n"
   ]
  },
  {
   "cell_type": "code",
   "execution_count": null,
   "id": "e68423b8",
   "metadata": {},
   "outputs": [],
   "source": []
  },
  {
   "cell_type": "code",
   "execution_count": null,
   "id": "b9fc593f",
   "metadata": {},
   "outputs": [],
   "source": [
    "# 코드 정리\n"
   ]
  },
  {
   "cell_type": "code",
   "execution_count": null,
   "id": "f79cf364",
   "metadata": {},
   "outputs": [],
   "source": []
  }
 ],
 "metadata": {
  "kernelspec": {
   "display_name": "Python 3 (ipykernel)",
   "language": "python",
   "name": "python3"
  },
  "language_info": {
   "codemirror_mode": {
    "name": "ipython",
    "version": 3
   },
   "file_extension": ".py",
   "mimetype": "text/x-python",
   "name": "python",
   "nbconvert_exporter": "python",
   "pygments_lexer": "ipython3",
   "version": "3.11.5"
  }
 },
 "nbformat": 4,
 "nbformat_minor": 5
}
