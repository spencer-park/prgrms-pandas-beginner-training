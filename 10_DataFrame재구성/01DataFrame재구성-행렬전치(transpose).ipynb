{
 "cells": [
  {
   "cell_type": "markdown",
   "id": "866ebd9a",
   "metadata": {},
   "source": [
    "## 데이터 셋\n",
    "- [sample1.csv](https://docs.google.com/spreadsheets/d/1u6v9RclTm7_V-YgSvDT-OFVyHiLgDnXIHyE5iqxQLr0/edit?usp=sharing) - 학업성취도\n",
    "- [sample2.csv](https://docs.google.com/spreadsheets/d/1Hb3FObTwaKLZQHv5bDFP2lx1kxFyrz94o95Cw0xXNQ8/edit?usp=sharing) - 연도별사원성과\n",
    "- [sample3.csv](https://docs.google.com/spreadsheets/d/1YdCJa7uKjb8k7nsonZSQ8O2OYgdkRDEvr_oKOher-wM/edit?usp=sharing) - 역대한국야구순위\n",
    "- [TopRichestInWorld.csv](https://www.kaggle.com/datasets/tarundalal/100-richest-people-in-world)\n",
    "- [Pokemon.csv](https://www.kaggle.com/datasets/abcsds/pokemon)"
   ]
  },
  {
   "cell_type": "code",
   "execution_count": null,
   "id": "06a4fc57",
   "metadata": {},
   "outputs": [],
   "source": [
    "import pandas as pd"
   ]
  },
  {
   "cell_type": "code",
   "execution_count": null,
   "id": "f98e260d",
   "metadata": {},
   "outputs": [],
   "source": [
    "# sample1.csv - 학업성취도\n"
   ]
  },
  {
   "cell_type": "code",
   "execution_count": null,
   "id": "09522692",
   "metadata": {},
   "outputs": [],
   "source": []
  },
  {
   "cell_type": "code",
   "execution_count": null,
   "id": "a27b18fb",
   "metadata": {
    "scrolled": true
   },
   "outputs": [],
   "source": []
  },
  {
   "cell_type": "code",
   "execution_count": null,
   "id": "5f3162f0",
   "metadata": {},
   "outputs": [],
   "source": [
    "# sample2.csv - 연도별사원성과\n"
   ]
  },
  {
   "cell_type": "code",
   "execution_count": null,
   "id": "6c67fc8d",
   "metadata": {
    "scrolled": true
   },
   "outputs": [],
   "source": []
  },
  {
   "cell_type": "code",
   "execution_count": null,
   "id": "e1f340d8",
   "metadata": {
    "scrolled": false
   },
   "outputs": [],
   "source": []
  },
  {
   "cell_type": "code",
   "execution_count": null,
   "id": "28f681f4",
   "metadata": {},
   "outputs": [],
   "source": [
    "# sample3.csv - 역대한국야구순위\n"
   ]
  },
  {
   "cell_type": "code",
   "execution_count": null,
   "id": "6c28adcf",
   "metadata": {
    "scrolled": true
   },
   "outputs": [],
   "source": []
  },
  {
   "cell_type": "code",
   "execution_count": null,
   "id": "d8d773e8",
   "metadata": {
    "scrolled": false
   },
   "outputs": [],
   "source": []
  },
  {
   "cell_type": "markdown",
   "id": "cb20ea41",
   "metadata": {},
   "source": [
    "## .transpose()\n",
    "- https://pandas.pydata.org/docs/reference/api/pandas.DataFrame.transpose.html\n",
    "- 전치행렬 : 행과 열을 교환하여 얻는 행렬. 주대각선을 축으로 반사 대칭을 한다.\n",
    "- 행과 열을 반전시키자.\n",
    "\n",
    "![Transpose](Matrix_transpose.gif \"transpose\")"
   ]
  },
  {
   "cell_type": "code",
   "execution_count": null,
   "id": "27fb1fd3",
   "metadata": {},
   "outputs": [],
   "source": [
    "# 전치를 해보면..\n"
   ]
  },
  {
   "cell_type": "code",
   "execution_count": null,
   "id": "1277249e",
   "metadata": {},
   "outputs": [],
   "source": [
    "# 줄여서 .T\n"
   ]
  },
  {
   "cell_type": "markdown",
   "id": "5b8535f1",
   "metadata": {},
   "source": [
    "위의 전치는 유의미하지 않다!\n",
    "데이터의 증가는 행의 방향이 옳다고 생각될 경우에 유의미할 것"
   ]
  },
  {
   "cell_type": "code",
   "execution_count": null,
   "id": "78603cfe",
   "metadata": {},
   "outputs": [],
   "source": []
  },
  {
   "cell_type": "markdown",
   "id": "9d6c4303",
   "metadata": {},
   "source": [
    "## 주의사항 : 원본 != 전치*2\n",
    "- 값은 같아보여도 dtype도 같을까?"
   ]
  },
  {
   "cell_type": "code",
   "execution_count": null,
   "id": "89d16db4",
   "metadata": {},
   "outputs": [],
   "source": [
    "# 원본\n"
   ]
  },
  {
   "cell_type": "code",
   "execution_count": null,
   "id": "4f2b59bf",
   "metadata": {},
   "outputs": [],
   "source": [
    "# 전치 1회\n"
   ]
  },
  {
   "cell_type": "code",
   "execution_count": null,
   "id": "41032879",
   "metadata": {},
   "outputs": [],
   "source": []
  },
  {
   "cell_type": "code",
   "execution_count": null,
   "id": "807a2932",
   "metadata": {},
   "outputs": [],
   "source": [
    "# 전치 2회\n"
   ]
  },
  {
   "cell_type": "markdown",
   "id": "b5c16dc7",
   "metadata": {},
   "source": [
    "전치 2번을 했더니 모든 열의 dtype이 object로 변경되었다!"
   ]
  }
 ],
 "metadata": {
  "kernelspec": {
   "display_name": "Python 3 (ipykernel)",
   "language": "python",
   "name": "python3"
  },
  "language_info": {
   "codemirror_mode": {
    "name": "ipython",
    "version": 3
   },
   "file_extension": ".py",
   "mimetype": "text/x-python",
   "name": "python",
   "nbconvert_exporter": "python",
   "pygments_lexer": "ipython3",
   "version": "3.11.5"
  }
 },
 "nbformat": 4,
 "nbformat_minor": 5
}
