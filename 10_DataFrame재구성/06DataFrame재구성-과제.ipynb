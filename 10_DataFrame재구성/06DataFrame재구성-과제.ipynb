{
 "cells": [
  {
   "cell_type": "markdown",
   "id": "fd3d391b",
   "metadata": {},
   "source": [
    "## 데이터 셋\n",
    "- [sample1.csv](https://docs.google.com/spreadsheets/d/1u6v9RclTm7_V-YgSvDT-OFVyHiLgDnXIHyE5iqxQLr0/edit?usp=sharing) - 학업성취도"
   ]
  },
  {
   "cell_type": "markdown",
   "id": "2b47a3b4",
   "metadata": {},
   "source": [
    "## Pandas참조 + students 데이터프레임 생성"
   ]
  },
  {
   "cell_type": "markdown",
   "id": "3d9f88b2",
   "metadata": {},
   "source": [
    "## '총점' 열을 데이터프레임에 생성하고 값을 계산"
   ]
  },
  {
   "cell_type": "markdown",
   "id": "acaf502e",
   "metadata": {},
   "source": [
    "## 변수에 그룹화 데이터된 데이터 저장\n",
    "- '반'과 '석식 신청'을 기준으로"
   ]
  },
  {
   "cell_type": "markdown",
   "id": "884f078c",
   "metadata": {},
   "source": [
    "## 반-석식신청으로 그룹화된 학생 그룹의 '총점' 분석\n",
    "- agg()를 이용해보자\n",
    "- count, median, max, min, mean"
   ]
  },
  {
   "cell_type": "markdown",
   "id": "a256af8c",
   "metadata": {},
   "source": [
    "## 총점의 '최저점 - 평균'이 낮은 순으로 정렬하기"
   ]
  },
  {
   "cell_type": "markdown",
   "id": "eb5d6d15",
   "metadata": {},
   "source": [
    "- 석식 신청을 안한 친구들의 성적 최저점이 낮은 편인가?"
   ]
  },
  {
   "cell_type": "markdown",
   "id": "97cca6f4",
   "metadata": {},
   "source": [
    "## 전체 인원에서 석식 여부가 성적에 영향이 있는지 분석해보기\n",
    "- 석식 신청으로 그룹화하고\n",
    "- count median max min mean std를 확인해보자"
   ]
  },
  {
   "cell_type": "markdown",
   "id": "3400949f",
   "metadata": {},
   "source": [
    "## 부모 학업 성취 수준에 따라 성적에 영향이 있는지 분석해보기\n",
    "- 학업 성취 수준으로 그룹화하고\n",
    "- mean count std median max min 을 확인해보자\n",
    "- 평균 높은 순으로 정렬"
   ]
  }
 ],
 "metadata": {
  "kernelspec": {
   "display_name": "Python 3 (ipykernel)",
   "language": "python",
   "name": "python3"
  },
  "language_info": {
   "codemirror_mode": {
    "name": "ipython",
    "version": 3
   },
   "file_extension": ".py",
   "mimetype": "text/x-python",
   "name": "python",
   "nbconvert_exporter": "python",
   "pygments_lexer": "ipython3",
   "version": "3.11.5"
  }
 },
 "nbformat": 4,
 "nbformat_minor": 5
}
