{
 "cells": [
  {
   "cell_type": "markdown",
   "id": "866ebd9a",
   "metadata": {},
   "source": [
    "## 데이터 셋\n",
    "- [sample1.csv](https://docs.google.com/spreadsheets/d/1u6v9RclTm7_V-YgSvDT-OFVyHiLgDnXIHyE5iqxQLr0/edit?usp=sharing) - 학업성취도\n",
    "- [sample2.csv](https://docs.google.com/spreadsheets/d/1Hb3FObTwaKLZQHv5bDFP2lx1kxFyrz94o95Cw0xXNQ8/edit?usp=sharing) - 연도별사원성과\n",
    "- [sample3.csv](https://docs.google.com/spreadsheets/d/1YdCJa7uKjb8k7nsonZSQ8O2OYgdkRDEvr_oKOher-wM/edit?usp=sharing) - 역대한국야구순위"
   ]
  },
  {
   "cell_type": "code",
   "execution_count": null,
   "id": "06a4fc57",
   "metadata": {},
   "outputs": [],
   "source": [
    "import pandas as pd\n",
    "\n",
    "# sample2.csv - 연도별사원성과\n",
    "company = pd.read_csv('sample2.csv')"
   ]
  },
  {
   "cell_type": "code",
   "execution_count": null,
   "id": "5bf0947b",
   "metadata": {},
   "outputs": [],
   "source": [
    "company.head()"
   ]
  },
  {
   "cell_type": "markdown",
   "id": "8e228dc2",
   "metadata": {},
   "source": [
    "## pivot()\n",
    "- https://pandas.pydata.org/docs/reference/api/pandas.DataFrame.pivot.html\n",
    "\n",
    "### DataFrame.pivot(*, columns, index=_NoDefault.no_default, values=_NoDefault.no_default)\n",
    "\n",
    "**Parameters**  \n",
    "`columns` : str or object or a list of str  \n",
    "Column to use to make new frame’s columns.\n",
    "피벗 테이블의 열을 구성하기 위해 사용할 열  \n",
    "\n",
    "`index` : str or object or a list of str, optional  \n",
    "Column to use to make new frame’s index. If not given, uses existing index.  \n",
    "피벗 테이블의 인덱스를 구성하기 위해 사용할 열. 지정하지 않으면 기존의 인덱스 사용.  \n",
    "\n",
    "`values` : str, object or a list of the previous, optional  \n",
    "Column(s) to use for populating new frame’s values. If not specified, all remaining columns will be used and the result will have hierarchically indexed columns.  \n",
    "피벗 테이블의 값으로 사용할 열.  \n",
    "지정하지 않으면 나머지 모든 열이 사용되며 계층적으로 인덱싱된 열을 가진 데이터프레임이 반환된다. \n",
    "\n",
    "**Returns** \n",
    "DataFrame : Returns reshaped DataFrame."
   ]
  },
  {
   "cell_type": "markdown",
   "id": "ca960977",
   "metadata": {},
   "source": [
    "## pivot() 실습"
   ]
  },
  {
   "cell_type": "code",
   "execution_count": null,
   "id": "b65f3b20",
   "metadata": {},
   "outputs": [],
   "source": []
  },
  {
   "cell_type": "code",
   "execution_count": null,
   "id": "6ba21238",
   "metadata": {},
   "outputs": [],
   "source": []
  },
  {
   "cell_type": "code",
   "execution_count": null,
   "id": "32a534dd",
   "metadata": {},
   "outputs": [],
   "source": [
    "# values를 생략하면 모든 열이 사용됨\n"
   ]
  },
  {
   "cell_type": "code",
   "execution_count": null,
   "id": "fbb865ea",
   "metadata": {},
   "outputs": [],
   "source": [
    "# 만일 index를 그대로 쓰고 싶다면\n"
   ]
  },
  {
   "cell_type": "markdown",
   "id": "e1fbcbac",
   "metadata": {},
   "source": [
    "## .pivot() <-> .melt()\n",
    "- 2개의 메소드는 서로 다른 기능을 합니다.\n",
    "- pivot() -> 피벗, Long 데이터프레임을 Wide으로\n",
    "- melt() -> 언피벗, Wide 데이터프레임을 Long으로"
   ]
  },
  {
   "cell_type": "code",
   "execution_count": null,
   "id": "66f1d347",
   "metadata": {},
   "outputs": [],
   "source": []
  },
  {
   "cell_type": "code",
   "execution_count": null,
   "id": "65a800d0",
   "metadata": {},
   "outputs": [],
   "source": []
  },
  {
   "cell_type": "code",
   "execution_count": null,
   "id": "340e3399",
   "metadata": {},
   "outputs": [],
   "source": [
    "# .melt()는 .pivot()과 반대 기능을 한다\n"
   ]
  },
  {
   "cell_type": "markdown",
   "id": "11bd0d7e",
   "metadata": {},
   "source": [
    "## pivot_table()\n",
    "- https://pandas.pydata.org/docs/reference/api/pandas.DataFrame.pivot_table.html\n",
    "- 매개변수들을 활용하여 Excel 스타일의 피벗 테이블을 생성하고, 이를 DataFrame으로 반환\n",
    "\n",
    "### DataFrame.pivot_table(values=None, index=None, columns=None, aggfunc='mean', fill_value=None, margins=False, dropna=True, margins_name='All', observed=False, sort=True)\n",
    "**parameter**  \n",
    "- `values`: list-like or scalar, optional\n",
    "    - 집계할 열을 전달\n",
    "- `index`: column, Grouper, array, or list of the previous\n",
    "    - 피벗 테이블의 인덱스로 사용할 키(열)을 전달\n",
    "- `columns`: column, Grouper, array, or list of the previous\n",
    "    - 피벗 테이블에서 그룹화할 키(열)을 전달.\n",
    "- `aggfunc`: function, list of functions, dict, default “mean”\n",
    "    - 집계 함수를 지정. 기본값은 'mean'으로 평균을 계산. \n",
    "    - 리스트로 여러 개 함수를 전달하며 계층적인 열이 생성.\n",
    "    - 딕셔너리로는 키는 집계할 열, 값은 함수/함수목록을 전달.\n",
    "    - margin=False인 경우, aggfunc를 사용하여 부분 집계를 계산.\n",
    "- `fill_value` : scalar, default None\n",
    "    - 결측치의 대체값 지정.\n",
    "- `margins` : bool, default False\n",
    "    - True면 행과 열의 범주에 걸쳐 부분 그룹 집계가 포함된 특수 모든 열과 행이 추가.\n",
    "- `dropna` : bool, default True\n",
    "    - True면 NA 열이 있는 행은 제외된다.\n",
    "- `margins_name` : str, default ‘All’\n",
    "    - margins가 True인 경우에 추가되는 행 또는 열의 이름을 지정합니다.\n",
    "- `observed` : bool, default False\n",
    "    - 그룹화가 범주형인 경우에만 적용\n",
    "        - True : 범주형 그룹화에 대해 관찰된 값만 표시\n",
    "         -False : 범주형 그룹화에 대한 모든 값을 표시\n",
    "- `sort` : bool, default True\n",
    "    - 결과를 정렬할 지 설정"
   ]
  },
  {
   "cell_type": "code",
   "execution_count": null,
   "id": "e00f6d09",
   "metadata": {},
   "outputs": [],
   "source": [
    "# 사원별 누적매출 통계내기\n"
   ]
  },
  {
   "cell_type": "code",
   "execution_count": null,
   "id": "ffbf163c",
   "metadata": {},
   "outputs": [],
   "source": [
    "# 연도별 사원들의 평균매출 통계내기, aggfunc이 생략되면 mean\n"
   ]
  },
  {
   "cell_type": "code",
   "execution_count": null,
   "id": "e108dd2a",
   "metadata": {},
   "outputs": [],
   "source": [
    "# 소속팀별 연도별매출 평균을 확인하기\n"
   ]
  },
  {
   "cell_type": "code",
   "execution_count": null,
   "id": "e4ba420b",
   "metadata": {},
   "outputs": [],
   "source": [
    "# 소속팀별 연도별매출 평균을 연도별로 확인하기\n"
   ]
  },
  {
   "cell_type": "markdown",
   "id": "05b8f5b3",
   "metadata": {},
   "source": [
    "pivot_table 인자가 헷갈리면 이렇게!  \n",
    "\"A별 BB의 CCC함수값을 DDDD인덱스로 확인하기\"\n",
    "1. A별 -> columns\n",
    "2. BB의 -> values\n",
    "3. CCC함수값을 -> aggfunc\n",
    "4. DDDD인덱스로 -> index"
   ]
  }
 ],
 "metadata": {
  "kernelspec": {
   "display_name": "Python 3 (ipykernel)",
   "language": "python",
   "name": "python3"
  },
  "language_info": {
   "codemirror_mode": {
    "name": "ipython",
    "version": 3
   },
   "file_extension": ".py",
   "mimetype": "text/x-python",
   "name": "python",
   "nbconvert_exporter": "python",
   "pygments_lexer": "ipython3",
   "version": "3.11.5"
  }
 },
 "nbformat": 4,
 "nbformat_minor": 5
}
