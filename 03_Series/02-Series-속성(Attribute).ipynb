{
 "cells": [
  {
   "cell_type": "markdown",
   "id": "8fb5e135",
   "metadata": {},
   "source": [
    "# Series 속성\n",
    "- https://pandas.pydata.org/docs/reference/api/pandas.Series.html"
   ]
  },
  {
   "cell_type": "code",
   "execution_count": null,
   "id": "0ee8c027",
   "metadata": {},
   "outputs": [],
   "source": [
    "import pandas as pd"
   ]
  },
  {
   "cell_type": "code",
   "execution_count": null,
   "id": "d3f2ed12",
   "metadata": {},
   "outputs": [],
   "source": [
    "numbers = list(range(1, 7))\n",
    "letters = list(\"spencer\")\n",
    "numbers, letters"
   ]
  },
  {
   "cell_type": "code",
   "execution_count": null,
   "id": "a817a847",
   "metadata": {},
   "outputs": [],
   "source": []
  },
  {
   "cell_type": "code",
   "execution_count": null,
   "id": "cb52909e",
   "metadata": {
    "scrolled": true
   },
   "outputs": [],
   "source": []
  },
  {
   "cell_type": "markdown",
   "id": "9a8478ad",
   "metadata": {},
   "source": [
    "## .dtype"
   ]
  },
  {
   "cell_type": "code",
   "execution_count": null,
   "id": "269440ee",
   "metadata": {},
   "outputs": [],
   "source": [
    "# dtype : 시리즈가 반환하는(담고있는) 데이터 타입\n"
   ]
  },
  {
   "cell_type": "code",
   "execution_count": null,
   "id": "010fda67",
   "metadata": {},
   "outputs": [],
   "source": []
  },
  {
   "cell_type": "markdown",
   "id": "6ee31bb8",
   "metadata": {},
   "source": [
    "- https://pandas.pydata.org/docs/user_guide/basics.html#basics-dtypes\n",
    "- 기본적으로 object에 표현할 수 있는 데이터는 int64, float64 등으로 표현된다.\n",
    "- '0'으로 dtype이 나온다면 object를 의미한다.\n",
    "\n",
    "**주로 보이는 dtype들**\n",
    "| dtype      | 설명                      |\n",
    "|------------|--------------------------|\n",
    "| int64      | 정수형 데이터               |\n",
    "| float64    | 실수형 데이터               |\n",
    "| object     | 문자열 데이터               |\n",
    "| bool       | 불리언(참/거짓) 데이터        |\n",
    "| datetime64 | 날짜 및 시간 데이터          |\n",
    "| timedelta  | 두 날짜 또는 시간 간격 데이터  |\n",
    "| category   | 카테고리 형식의 데이터        |\n",
    "| int8       | 8비트 정수형 데이터          |\n",
    "| int16      | 16비트 정수형 데이터         |\n",
    "| int32      | 32비트 정수형 데이터         |\n",
    "| float16    | 16비트 실수형 데이터         |\n",
    "| float32    | 32비트 실수형 데이터         |\n",
    "| complex64  | 64비트 복소수형 데이터        |\n",
    "| complex128 | 128비트 복소수형 데이터       |\n"
   ]
  },
  {
   "cell_type": "markdown",
   "id": "5d6eb7d8",
   "metadata": {},
   "source": [
    "## .index"
   ]
  },
  {
   "cell_type": "code",
   "execution_count": null,
   "id": "43f1eb0f",
   "metadata": {
    "scrolled": true
   },
   "outputs": [],
   "source": []
  },
  {
   "cell_type": "code",
   "execution_count": null,
   "id": "aa87b2a3",
   "metadata": {
    "scrolled": true
   },
   "outputs": [],
   "source": []
  },
  {
   "cell_type": "markdown",
   "id": "8f9071d1",
   "metadata": {},
   "source": [
    ".index는 인덱스에 대한 정보를 준다."
   ]
  },
  {
   "cell_type": "markdown",
   "id": "e2c582fd",
   "metadata": {},
   "source": [
    "## .values"
   ]
  },
  {
   "cell_type": "code",
   "execution_count": null,
   "id": "63ba9972",
   "metadata": {},
   "outputs": [],
   "source": []
  },
  {
   "cell_type": "code",
   "execution_count": null,
   "id": "22337025",
   "metadata": {
    "scrolled": true
   },
   "outputs": [],
   "source": []
  },
  {
   "cell_type": "markdown",
   "id": "1b9dc272",
   "metadata": {},
   "source": [
    ".values는 데이터를 배열(Array)로 반환한다."
   ]
  },
  {
   "cell_type": "markdown",
   "id": "7e69ab53",
   "metadata": {},
   "source": [
    "## .shape"
   ]
  },
  {
   "cell_type": "code",
   "execution_count": null,
   "id": "8603da04",
   "metadata": {},
   "outputs": [],
   "source": []
  },
  {
   "cell_type": "code",
   "execution_count": null,
   "id": "8142b0aa",
   "metadata": {
    "scrolled": true
   },
   "outputs": [],
   "source": []
  },
  {
   "cell_type": "markdown",
   "id": "99d82e69",
   "metadata": {},
   "source": [
    ".shape는 데이터의 구조를 알 수 있으며, Series는 1차원 구조다."
   ]
  },
  {
   "cell_type": "markdown",
   "id": "0dac7517",
   "metadata": {},
   "source": [
    "## .size"
   ]
  },
  {
   "cell_type": "code",
   "execution_count": null,
   "id": "54e9d7c7",
   "metadata": {},
   "outputs": [],
   "source": []
  },
  {
   "cell_type": "code",
   "execution_count": null,
   "id": "7272b573",
   "metadata": {},
   "outputs": [],
   "source": []
  },
  {
   "cell_type": "markdown",
   "id": "8e31f4db",
   "metadata": {},
   "source": [
    ".size는 데이터의 크기를 알 수 있다."
   ]
  },
  {
   "cell_type": "markdown",
   "id": "c4150238",
   "metadata": {},
   "source": [
    "## .hasnans"
   ]
  },
  {
   "cell_type": "code",
   "execution_count": null,
   "id": "d60fc005",
   "metadata": {},
   "outputs": [],
   "source": []
  },
  {
   "cell_type": "code",
   "execution_count": null,
   "id": "49499068",
   "metadata": {},
   "outputs": [],
   "source": []
  },
  {
   "cell_type": "code",
   "execution_count": null,
   "id": "61214340",
   "metadata": {},
   "outputs": [],
   "source": [
    "user = {\n",
    "    'name': 'Spencer',\n",
    "    'job': None\n",
    "}"
   ]
  },
  {
   "cell_type": "code",
   "execution_count": null,
   "id": "7c88024d",
   "metadata": {},
   "outputs": [],
   "source": []
  },
  {
   "cell_type": "code",
   "execution_count": null,
   "id": "1748e151",
   "metadata": {},
   "outputs": [],
   "source": []
  },
  {
   "cell_type": "markdown",
   "id": "28d7053a",
   "metadata": {},
   "source": [
    ".hasnan은 None이나 NaN같은 결측치(Missing Data)가 있는지 확인한다."
   ]
  }
 ],
 "metadata": {
  "kernelspec": {
   "display_name": "Python 3 (ipykernel)",
   "language": "python",
   "name": "python3"
  },
  "language_info": {
   "codemirror_mode": {
    "name": "ipython",
    "version": 3
   },
   "file_extension": ".py",
   "mimetype": "text/x-python",
   "name": "python",
   "nbconvert_exporter": "python",
   "pygments_lexer": "ipython3",
   "version": "3.11.5"
  }
 },
 "nbformat": 4,
 "nbformat_minor": 5
}
