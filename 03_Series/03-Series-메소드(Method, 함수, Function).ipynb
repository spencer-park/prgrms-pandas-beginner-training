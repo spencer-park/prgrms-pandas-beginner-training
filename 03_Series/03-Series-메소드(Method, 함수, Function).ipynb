{
 "cells": [
  {
   "cell_type": "markdown",
   "id": "8fb5e135",
   "metadata": {},
   "source": [
    "# Series 메소드\n",
    "- https://pandas.pydata.org/docs/reference/api/pandas.Series.html\n",
    "- 메소드 = 객체 안에 있는 함수"
   ]
  },
  {
   "cell_type": "code",
   "execution_count": null,
   "id": "0ee8c027",
   "metadata": {},
   "outputs": [],
   "source": [
    "import pandas as pd"
   ]
  },
  {
   "cell_type": "code",
   "execution_count": null,
   "id": "0586449b",
   "metadata": {},
   "outputs": [],
   "source": [
    "scores = [90.5, 55.5, 81.4, None, 75.6]"
   ]
  },
  {
   "cell_type": "code",
   "execution_count": null,
   "id": "1c0510e0",
   "metadata": {},
   "outputs": [],
   "source": []
  },
  {
   "cell_type": "code",
   "execution_count": null,
   "id": "19e29f28",
   "metadata": {},
   "outputs": [],
   "source": []
  },
  {
   "cell_type": "markdown",
   "id": "d869004e",
   "metadata": {},
   "source": [
    "## .max() - 최대값(Maximum value)"
   ]
  },
  {
   "cell_type": "code",
   "execution_count": null,
   "id": "2b28b78d",
   "metadata": {},
   "outputs": [],
   "source": []
  },
  {
   "cell_type": "markdown",
   "id": "dc194eb0",
   "metadata": {},
   "source": [
    "## .idxmax() - 최대값의 인덱스"
   ]
  },
  {
   "cell_type": "code",
   "execution_count": null,
   "id": "3bb63c01",
   "metadata": {
    "scrolled": false
   },
   "outputs": [],
   "source": []
  },
  {
   "cell_type": "markdown",
   "id": "efeb44c0",
   "metadata": {},
   "source": [
    "## .min() - 최소값(Minimum Value)"
   ]
  },
  {
   "cell_type": "code",
   "execution_count": null,
   "id": "549421c2",
   "metadata": {
    "scrolled": true
   },
   "outputs": [],
   "source": []
  },
  {
   "cell_type": "markdown",
   "id": "321f1d28",
   "metadata": {},
   "source": [
    "## .idxmin() - 최소값의 인덱스"
   ]
  },
  {
   "cell_type": "code",
   "execution_count": null,
   "id": "f4f45e1c",
   "metadata": {},
   "outputs": [],
   "source": []
  },
  {
   "cell_type": "markdown",
   "id": "3c96b4cb",
   "metadata": {},
   "source": [
    "## .sum() - 합계"
   ]
  },
  {
   "cell_type": "code",
   "execution_count": null,
   "id": "c793a3b1",
   "metadata": {},
   "outputs": [],
   "source": []
  },
  {
   "cell_type": "markdown",
   "id": "509e62eb",
   "metadata": {},
   "source": [
    "## .mean() - 평균"
   ]
  },
  {
   "cell_type": "code",
   "execution_count": null,
   "id": "acb2a50c",
   "metadata": {},
   "outputs": [],
   "source": []
  },
  {
   "cell_type": "markdown",
   "id": "5ccbc270",
   "metadata": {},
   "source": [
    "## .isnull(), isna() - 결측치 체크 - 값(value)중 null 또는 not 유형의 데이터가 없는가?"
   ]
  },
  {
   "cell_type": "code",
   "execution_count": null,
   "id": "bc03e9b3",
   "metadata": {},
   "outputs": [],
   "source": []
  },
  {
   "cell_type": "code",
   "execution_count": null,
   "id": "0dc345a5",
   "metadata": {},
   "outputs": [],
   "source": []
  },
  {
   "cell_type": "markdown",
   "id": "0f7045b0",
   "metadata": {},
   "source": [
    "- 비교 .isna() -> 동일하다. isnull의 별칭(alias)가 isna\n",
    "- .isnull()에 Shift + Tab을 해보자\n",
    "- `Docstring: Series.isnull is an alias for Series.isna.`"
   ]
  },
  {
   "cell_type": "markdown",
   "id": "29792c25",
   "metadata": {},
   "source": [
    "## .round() - 각 수치 반올림"
   ]
  },
  {
   "cell_type": "code",
   "execution_count": null,
   "id": "062790a2",
   "metadata": {},
   "outputs": [],
   "source": []
  },
  {
   "cell_type": "markdown",
   "id": "9f8e0574",
   "metadata": {},
   "source": [
    "- 왜 90.5는 90이 되고 (91이 아니고)\n",
    "- 왜 55.5는 56이 될까?"
   ]
  },
  {
   "cell_type": "markdown",
   "id": "786276a9",
   "metadata": {},
   "source": [
    "## 파이썬의 반올림은 오사오입(Round half to even) "
   ]
  },
  {
   "cell_type": "markdown",
   "id": "cbf70959",
   "metadata": {},
   "source": [
    "파이썬에서는 반올림 함수 round() 함수가 있습니다.  \n",
    "그런데 사용을 하다보면 이상합니다.  \n",
    "round(4.5)와 round(5.5)를 실행하면 다음처럼 출력됩니다."
   ]
  },
  {
   "cell_type": "code",
   "execution_count": null,
   "id": "31f7bf77",
   "metadata": {},
   "outputs": [],
   "source": [
    "round(4.5)"
   ]
  },
  {
   "cell_type": "code",
   "execution_count": null,
   "id": "1c048d3f",
   "metadata": {},
   "outputs": [],
   "source": [
    "round(5.5)"
   ]
  },
  {
   "cell_type": "markdown",
   "id": "8bea7dcd",
   "metadata": {},
   "source": [
    "분명 초등학교, 중학교에서 배운 반올림이라면 4.5 >>> 4인데? 이상하죠?  \n",
    "\n",
    "이 부분은 우리가 1. 학교에서 배운 반올림과 통계학에서 다루는 2.오사오입 반올림에 대해 알아야합니다.  \n",
    "결론부터 말하면 통계학에선 '오사오입 반올림' 사용하며, 파이썬도 '오사오입 반올림' 방식으로 round()함수가 작동합니다.  \n",
    "\n",
    "조금 복잡한 얘기일 수 있지만, 충분히 이해하실 수 있습니다."
   ]
  },
  {
   "cell_type": "markdown",
   "id": "40c7d7a2",
   "metadata": {},
   "source": [
    "## 1. 학교에서 배운 반올림 - 사사오입 - Round off\n",
    "반올림은 올림+내림이 합쳐진 형태입니다. 하지만 정확히 반절 지점인 .5에서는 어떻게 공정할까요?  \n",
    "\n",
    "초등학교, 중학교 수학에서 반올림은 이 경우 '올림'으로 처리합니다.\n",
    "- 0, 1, 2, 3, 4 는 내림(버리고)\n",
    "- 5, 6, 7, 8, 9 는 올리고\n",
    "\n",
    "다만 이 때 통계적으로 '중립성'이 깨지게 됩니다. 예를 들어볼까요?  \n",
    "- 0.5 + 1.5 + 2.5 + 3.5 = 8.5 입니다. 그런데 각 항목에 위치하는 값을 반올림을 하여 합산을 하면\n",
    "- 1 + 2 + 3 + 4= 10이 됩니다. 전체 값이 1.5 증가하는 현상이 발생합니다.\n",
    "\n",
    "세상에는 소수점 데이터가 많습니다.  \n",
    "그리고 위 예시는 4개의 값만 다뤘으나 이는 통계학이나 빅데이터와 같은 많은 값을 다루는 분야에서라면 오차가 크게 발생할 수 있습니다.  \n",
    "즉, **\"반절 위치를 '올림'으로 처리하는 것은 중립적이지 못하다!\"** 라고 보며, 통계학에선 오사오입 반올림을 사용합니다."
   ]
  },
  {
   "cell_type": "markdown",
   "id": "3452ea84",
   "metadata": {},
   "source": [
    "## 2. 오사오입 - Round half to even - Python의 반올림 원리\n",
    "반올림할 숫자가 정확히 반절 위치일 경우, **가까운 짝수 쪽으로 반올림하는 규칙**입니다.  \n",
    "다르게 말하면 '반올림할 숫자가 절반일 경우에 그 결과는 무조건 짝수'가 됩니다. (0, 2, 4, 6, 8)  \n",
    "\n",
    "1에서와 동일한 예시를 볼까요?  \n",
    "- 0.5 + 1.5 + 2.5 + 3.5 = 8.5 인데, 오사오입 방식으로 이용하여 가까운 짝수 쪽으로 반올림을 하면\n",
    "- 0 + 2 + 2 + 4 = 8로, 오차는 0.5가 됩니다.\n",
    "\n",
    "좀 더 간단한 예시로 들면  \n",
    "- 0.5 + 1.5 = 2.0을\n",
    "- 기존 방식을 반올림으로 하면 1 + 2 = 3이 되는데\n",
    "- 오사오입으로 반올림 하면 0 + 2 = 2로 오차가 없어집니다.\n",
    "\n",
    "즉, **'반절 위치가 나올 경우, 해당 경우의 반절은 올림 또 다른 반절은 내림으로 처리하여 중립성을 만든다'** 로 보면 됩니다. (균형을 맞춰라!)  "
   ]
  },
  {
   "cell_type": "markdown",
   "id": "fc6f115b",
   "metadata": {},
   "source": [
    "## 3. 때문에 `round(4.5)`는 4, `round(5.5)`는 6\n",
    "파이썬은 통계학, 데이터 분석, 머신러닝 등에 자주 사용되는 프로그래밍 언어이죠?  \n",
    "오사오입은 자연과학, 공학, 통계에서 주로 사용하는 방식이며,  \n",
    "파이썬 또한 반올림 방식도 오사오입을 따르고 있습니다."
   ]
  },
  {
   "cell_type": "markdown",
   "id": "ed5701b4",
   "metadata": {},
   "source": [
    "## 4. 원초적 질문 - 반올림을 왜 할까?\n",
    "반올림은 데이터 처리와 표현에서 사용되며, 주로 정확한 값이 필요하지 않은 경우에 유용합니다.  \n",
    "그러나 반올림은 정확한 값을 표현하지 못할 수도 있으므로, 내가 사용하려는 상황과 이용 목적에 따라 적절한 방식을 선택해야 합니다.\n",
    "\n",
    "**소수점 이하 자리수 조절**\n",
    "- 소수점 이하 자리수를 조절하기 위해 반올림을 사용합니다. \n",
    "- 예를 들어, 소수점 둘째 자리까지 표현하려면 반올림을 사용하여 적절한 근사치로 표현할 수 있습니다.\n",
    "\n",
    "**데이터의 정확도 제한**\n",
    "- 데이터의 정확한 값을 표현할 필요가 없는 경우에 반올림을 사용합니다. \n",
    "- 예를 들어, 실험 결과를 소수점 둘째 자리까지만 표현하거나, 금액을 소수점 이하 자리를 제한하여 처리할 때 반올림을 사용합니다.\n",
    "\n",
    "**통계 분석**\n",
    "- 데이터의 크기를 줄이고 결과를 간소화하기 위해 반올림을 사용할 수 있습니다. \n",
    "- 예를 들어, 평균이나 중앙값을 소수점 이하 자리수로 표현할 때 반올림을 사용합니다.\n",
    "\n",
    "**시각화**\n",
    "- 데이터를 시각화할 때, 반올림은 그래프의 레이아웃을 개선하고 더 깔끔하게 표현할 수 있도록 도와줍니다. \n",
    "- 예를 들어, 축의 눈금을 반올림하여 그래프를 더 가독성 있게 만들 수 있습니다."
   ]
  }
 ],
 "metadata": {
  "kernelspec": {
   "display_name": "Python 3 (ipykernel)",
   "language": "python",
   "name": "python3"
  },
  "language_info": {
   "codemirror_mode": {
    "name": "ipython",
    "version": 3
   },
   "file_extension": ".py",
   "mimetype": "text/x-python",
   "name": "python",
   "nbconvert_exporter": "python",
   "pygments_lexer": "ipython3",
   "version": "3.11.5"
  }
 },
 "nbformat": 4,
 "nbformat_minor": 5
}
