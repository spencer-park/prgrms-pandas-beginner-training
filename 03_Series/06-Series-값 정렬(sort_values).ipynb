{
 "cells": [
  {
   "cell_type": "markdown",
   "id": "236541b9",
   "metadata": {},
   "source": [
    "# 데이터 값 정렬\n",
    "- https://pandas.pydata.org/docs/reference/api/pandas.Series.sort_values.html#pandas-series-sort-values"
   ]
  },
  {
   "cell_type": "code",
   "execution_count": null,
   "id": "7cb80d20",
   "metadata": {},
   "outputs": [],
   "source": []
  },
  {
   "cell_type": "code",
   "execution_count": null,
   "id": "7b7941e0",
   "metadata": {
    "scrolled": true
   },
   "outputs": [],
   "source": []
  },
  {
   "cell_type": "markdown",
   "id": "9bb77fab",
   "metadata": {},
   "source": [
    "## .sort_values()"
   ]
  },
  {
   "cell_type": "code",
   "execution_count": null,
   "id": "a32ad300",
   "metadata": {
    "scrolled": true
   },
   "outputs": [],
   "source": []
  },
  {
   "cell_type": "markdown",
   "id": "98384af9",
   "metadata": {},
   "source": [
    "이름이 A-Z순으로 오름차순 되어있는 걸 확인할 수 있다.  \n",
    ".sort_values()의 인자를 알아보자."
   ]
  },
  {
   "cell_type": "markdown",
   "id": "7b1d6160",
   "metadata": {},
   "source": [
    "## axis=, ascending="
   ]
  },
  {
   "cell_type": "code",
   "execution_count": null,
   "id": "28ef9c6f",
   "metadata": {},
   "outputs": [],
   "source": []
  },
  {
   "cell_type": "markdown",
   "id": "0aa5928a",
   "metadata": {},
   "source": [
    "**sort_values 인자 정보 확인**\n",
    "- Docstirng 또는 공식 문서를 보자.\n",
    "- https://pandas.pydata.org/docs/reference/api/pandas.Series.sort_values.html#pandas-series-sort-values\n",
    "\n",
    "> **axis : {0 or ‘index’}**  \n",
    "Unused. Parameter needed for compatibility with DataFrame.\n",
    "\n",
    "> **ascending : bool or list of bools, default True**  \n",
    "If True, sort values in ascending order, otherwise descending.\n",
    "\n",
    "---\n",
    "\n",
    "**axis(축)**\n",
    "- 정렬에 사용할 축을 지정합니다.\n",
    "- default가 0입니다.\n",
    "- Series는 1차원 데이터라 축이 1개라서 의미가 없습니다.\n",
    "- DataFrame은 2차원 데이터라 축이 2개입니다. 여기서는 활용됩니다.\n",
    "\n",
    "**ascending**\n",
    "- 오름차순(True), 내림차순(False)로 지정합니다.\n",
    "- default는 오름차순(True)입니다."
   ]
  },
  {
   "cell_type": "markdown",
   "id": "11e87946",
   "metadata": {},
   "source": [
    "## kind=, na_position="
   ]
  },
  {
   "cell_type": "code",
   "execution_count": null,
   "id": "549c921b",
   "metadata": {},
   "outputs": [],
   "source": []
  },
  {
   "cell_type": "code",
   "execution_count": null,
   "id": "864748c3",
   "metadata": {},
   "outputs": [],
   "source": []
  },
  {
   "cell_type": "markdown",
   "id": "dac4e032",
   "metadata": {},
   "source": [
    "**인자 정보 확인**\n",
    "\n",
    "> **kind : {‘quicksort’, ‘mergesort’, ‘heapsort’, ‘stable’}, default ‘quicksort’**  \n",
    "Choice of sorting algorithm. See also numpy.sort() for more information. ‘mergesort’ and ‘stable’ are the only stable algorithms.\n",
    "\n",
    "> **na_position : {‘first’ or ‘last’}, default ‘last’**  \n",
    "Argument ‘first’ puts NaNs at the beginning, ‘last’ puts NaNs at the end.\n",
    "\n",
    "---\n",
    "\n",
    "**kind**\n",
    "- 정렬에 사용할 정렬 알고리즘을 지정합니다.\n",
    "- 특이한 상황이 아닌 경우 quicksort가 우수한 성능을 보입니다.\n",
    "- 그래서 default는 quicksort입니다.\n",
    "\n",
    "**na_position**\n",
    "- NaN값을 어디로 배치할지 정합니다.\n",
    "- default는 뒤쪽으로 배치하기위해 'last'입니다."
   ]
  },
  {
   "cell_type": "markdown",
   "id": "46d4d3fc",
   "metadata": {},
   "source": [
    "## ignore_index="
   ]
  },
  {
   "cell_type": "code",
   "execution_count": null,
   "id": "7c72187d",
   "metadata": {},
   "outputs": [],
   "source": []
  },
  {
   "cell_type": "code",
   "execution_count": null,
   "id": "f41be4cf",
   "metadata": {},
   "outputs": [],
   "source": []
  },
  {
   "cell_type": "markdown",
   "id": "1278fa67",
   "metadata": {},
   "source": [
    "**인자 정보 확인**\n",
    "> **ignore_index : bool, default False**  \n",
    "If True, the resulting axis will be labeled 0, 1, …, n - 1.\n",
    "\n",
    "---\n",
    "\n",
    "**ignore_index**\n",
    "- 정렬할 때 index열도 같이 정렬할 건지(False), 유지하고 정렬할 건지(True)를 지정합니다.\n",
    "- default는 False입니다."
   ]
  },
  {
   "cell_type": "markdown",
   "id": "6b02d3a8",
   "metadata": {},
   "source": [
    "## inplace= - 비파괴적 처리 vs 파괴적 처리\n",
    "분명 rich_set.sort_values()로 rich_set 데이터를 정렬했다. 그럼 다시 rich_set을 확인해볼까?"
   ]
  },
  {
   "cell_type": "code",
   "execution_count": null,
   "id": "59993b37",
   "metadata": {},
   "outputs": [],
   "source": []
  },
  {
   "cell_type": "markdown",
   "id": "a04c5183",
   "metadata": {},
   "source": [
    "정렬이 되어있지 않다?\n",
    "이는 sort_value()가 비파괴적 방식으로 작업이 수행되었기 때문이다."
   ]
  },
  {
   "cell_type": "markdown",
   "id": "9d07f9dd",
   "metadata": {},
   "source": [
    "### 비파괴적 처리\n",
    "- 원본 데이터가 파괴되지 않는다.\n",
    "- 저장할 땐 `변수 = 원본.메소드()` 와 같은 문법을 사용한다.\n",
    "- 파이썬 기본 함수에서도 이런 처리를 볼 수 있다."
   ]
  },
  {
   "cell_type": "code",
   "execution_count": null,
   "id": "bba44473",
   "metadata": {},
   "outputs": [],
   "source": [
    "numbers = [1, 9, 3, 6, 7]\n",
    "sorted(numbers)"
   ]
  },
  {
   "cell_type": "code",
   "execution_count": null,
   "id": "5b0acb84",
   "metadata": {
    "scrolled": true
   },
   "outputs": [],
   "source": [
    "# 원본 조회\n",
    "numbers"
   ]
  },
  {
   "cell_type": "code",
   "execution_count": null,
   "id": "3559d9a6",
   "metadata": {},
   "outputs": [],
   "source": [
    "user = \"spencer\"\n",
    "user.replace('e', 'A')"
   ]
  },
  {
   "cell_type": "code",
   "execution_count": null,
   "id": "93417abf",
   "metadata": {},
   "outputs": [],
   "source": [
    "# 원본 조회\n",
    "user"
   ]
  },
  {
   "cell_type": "markdown",
   "id": "56877fb9",
   "metadata": {},
   "source": [
    "때문에 비파괴적인 처리 결과를 저장하려면 다음과 같이 해야한다."
   ]
  },
  {
   "cell_type": "code",
   "execution_count": null,
   "id": "ff26ee39",
   "metadata": {},
   "outputs": [],
   "source": [
    "numbers = [1, 9, 3, 6, 7]\n",
    "numbers = sorted(numbers)\n",
    "numbers"
   ]
  },
  {
   "cell_type": "code",
   "execution_count": null,
   "id": "d0d39b4f",
   "metadata": {},
   "outputs": [],
   "source": [
    "user = \"spencer\"\n",
    "user = user.replace('e', 'A')\n",
    "user"
   ]
  },
  {
   "cell_type": "code",
   "execution_count": null,
   "id": "57ddb3f6",
   "metadata": {},
   "outputs": [],
   "source": [
    "# 지금까지 실습한 sort_values()결과를 저장하려면\n",
    "rich_set = rich_set.sort_values(axis=0, ascending=True,\n",
    "                    kind='quicksort', na_position='last',\n",
    "                    ignore_index=True)\n",
    "rich_set"
   ]
  },
  {
   "cell_type": "markdown",
   "id": "010d01ac",
   "metadata": {},
   "source": [
    "### 파괴적 처리\n",
    "- 원본 데이터가 파괴된다.\n",
    "- 원본이 파괴되기 때문에 굳이 `변수 = 원본.메소드()`와 같은 문법을 사용하지 않는다.\n",
    "- `원본.메소드()` 반환 값은 없거나, 있다면 주로 함수 실행 성공 여부(True/False) 또는 결과를 대략 파악할 수 있는 값이 반환된다.\n",
    "- 파이썬에선 대표적으로 .sort()가 있다."
   ]
  },
  {
   "cell_type": "code",
   "execution_count": null,
   "id": "582cf955",
   "metadata": {},
   "outputs": [],
   "source": [
    "numbers = [1, 9, 3, 6, 7]\n",
    "numbers.sort()"
   ]
  },
  {
   "cell_type": "code",
   "execution_count": null,
   "id": "27de3d8c",
   "metadata": {},
   "outputs": [],
   "source": [
    "# 원본 조회\n",
    "numbers"
   ]
  },
  {
   "cell_type": "markdown",
   "id": "895d3b46",
   "metadata": {},
   "source": [
    "## .sort_values()의 inplace 인자\n",
    "**sort_values의 Docstring 확인**\n",
    "```\n",
    "inplace: 'bool' = False\n",
    "```\n",
    "\n",
    "- inplace=True를 주면 원본 데이터에 결과가 반영됩니다.\n",
    "- [주의]복사본을 생성한 이후 사용할 것을 권고하고 있습니다. 최근 버전은 막혀져 있음"
   ]
  },
  {
   "cell_type": "code",
   "execution_count": null,
   "id": "fa6e7a3f",
   "metadata": {},
   "outputs": [],
   "source": [
    "# 하지만 무작정 사용하면 Error발생\n"
   ]
  },
  {
   "cell_type": "code",
   "execution_count": null,
   "id": "8eeb179c",
   "metadata": {},
   "outputs": [],
   "source": [
    "# 카피본 만들고 사용하기\n"
   ]
  },
  {
   "cell_type": "code",
   "execution_count": null,
   "id": "aa415300",
   "metadata": {},
   "outputs": [],
   "source": []
  },
  {
   "cell_type": "markdown",
   "id": "8d8acedc",
   "metadata": {},
   "source": [
    "## key= -정렬 기준 지정\n",
    "- 정렬에 필요한 크고 작음의 기준을 정한다.\n",
    "- 글자라면 A-Z순, 숫자라면 크고 작음\n",
    "- key인자에 함수를 지정하면되며, 잘 사용하려면 lambda에 익숙해야한다."
   ]
  },
  {
   "cell_type": "markdown",
   "id": "b20dcb3d",
   "metadata": {},
   "source": [
    "### key 연습 1\n",
    "먼저 예시를 들어보자.\n",
    "여기 과일 정보가 있는데, 대소문자가 뒤죽박죽이다."
   ]
  },
  {
   "cell_type": "code",
   "execution_count": null,
   "id": "3adf58f5",
   "metadata": {},
   "outputs": [],
   "source": [
    "basket = ['apple', 'Banana', 'Cherry', 'durian']\n"
   ]
  },
  {
   "cell_type": "code",
   "execution_count": null,
   "id": "8c11e9c5",
   "metadata": {
    "scrolled": true
   },
   "outputs": [],
   "source": [
    "# 그냥 sort_values()를 하면 문자부호 순서로 소문자가 무조건 밀려난다. (아스키코드 + 유니코드)\n"
   ]
  },
  {
   "cell_type": "code",
   "execution_count": null,
   "id": "cc54c604",
   "metadata": {
    "scrolled": true
   },
   "outputs": [],
   "source": [
    "# 만일 모두 대문자 또는 소문자라고 치고 정렬하려면?\n"
   ]
  },
  {
   "cell_type": "markdown",
   "id": "31b96175",
   "metadata": {},
   "source": [
    ".str.lower() 는 현재 시리즈의 값을 모두 문자열로 만든 다음 소문자로 변환하는 코드이다.  \n",
    "파이썬에서도 str()같은 함수를 지원하지만, pandas는 데이터를 변환하는 과정이 많다보니  \n",
    "map()함수처럼 데이터 각각 처리하고 + `.함수.함수`처럼 체인 형태의 코딩이 쉽도록 개선해놓는다.\n",
    "- https://pandas.pydata.org/docs/reference/api/pandas.Series.str.lower.html#pandas.Series.str.lower"
   ]
  },
  {
   "cell_type": "code",
   "execution_count": null,
   "id": "594dd0ec",
   "metadata": {},
   "outputs": [],
   "source": [
    "# .str까지 하면?\n"
   ]
  },
  {
   "cell_type": "code",
   "execution_count": null,
   "id": "720457df",
   "metadata": {},
   "outputs": [],
   "source": [
    "# .str.lower()까지 하면?\n"
   ]
  },
  {
   "cell_type": "markdown",
   "id": "e5b31f1a",
   "metadata": {},
   "source": [
    "### key 연습 2\n",
    "현재 rich_set을 정렬하면 이름의 A-Z순으로 나온다."
   ]
  },
  {
   "cell_type": "code",
   "execution_count": null,
   "id": "37e0e052",
   "metadata": {},
   "outputs": [],
   "source": []
  },
  {
   "cell_type": "markdown",
   "id": "7e7bd35e",
   "metadata": {},
   "source": [
    "그런데 이름 길이, 즉 문자열의 개수가 적고 많음 순으로 정렬해보자.  \n",
    "문자열의 개수는 len(str)함수이 생각난다.\n",
    "- https://pandas.pydata.org/docs/reference/api/pandas.Series.str.len.html"
   ]
  },
  {
   "cell_type": "code",
   "execution_count": null,
   "id": "7d991284",
   "metadata": {
    "scrolled": true
   },
   "outputs": [],
   "source": []
  },
  {
   "cell_type": "markdown",
   "id": "67ddeed3",
   "metadata": {},
   "source": [
    "이를 이용해서 이름 글자수가 적은 사람부터 오름차순 배치해보자."
   ]
  },
  {
   "cell_type": "code",
   "execution_count": null,
   "id": "c249064a",
   "metadata": {},
   "outputs": [],
   "source": []
  },
  {
   "cell_type": "markdown",
   "id": "0ec44c96",
   "metadata": {},
   "source": [
    "### [의문] lambda 인자에 들어오는 x값이 문자열이면 바로 len(x), lower(x)로 해도 되지 않나?\n",
    "다음과 같은 파이썬 문법을 이해하고 있다면 오히려 위와 같은 의문이 들 수 있다. \n"
   ]
  },
  {
   "cell_type": "code",
   "execution_count": null,
   "id": "1f4121cf",
   "metadata": {},
   "outputs": [],
   "source": [
    "arr = [(0,10), (1,14), (2,2), (3,10)]\n",
    "new_arr = max(arr, key=lambda x: x[1])\n",
    "new_arr"
   ]
  },
  {
   "cell_type": "markdown",
   "id": "94bdeba3",
   "metadata": {},
   "source": [
    "1. lambda를 통해서 각 데이터를 처리하니\n",
    "2. 이미 문자열 데이터를 가져오는 것이고\n",
    "3. 때문에 아까전 실습에서 다음도 되지 않을까? \n",
    "```python\n",
    "key=lambda x: len(x)\n",
    "key=lambda x: x.lower()\n",
    "```\n",
    "라고 생각해서 해보니 다음처럼 에러가 발생한다."
   ]
  },
  {
   "cell_type": "code",
   "execution_count": null,
   "id": "dba2efbc",
   "metadata": {},
   "outputs": [],
   "source": [
    "member = [\"abc\", \"bcd\", \"efg\", \"z\"]\n",
    "member.sort(key=len)\n",
    "member"
   ]
  },
  {
   "cell_type": "code",
   "execution_count": null,
   "id": "376c3dd3",
   "metadata": {
    "scrolled": false
   },
   "outputs": [],
   "source": [
    "rich_set.sort_values(key=lambda x:x.str.len())"
   ]
  },
  {
   "cell_type": "markdown",
   "id": "7ac7af12",
   "metadata": {},
   "source": [
    "```\n",
    "raise ValueError(\n",
    "    560         \"User-provided `key` function must not change the shape of the array.\"\n",
    "    561     )\n",
    "```"
   ]
  },
  {
   "cell_type": "markdown",
   "id": "82eadf63",
   "metadata": {},
   "source": [
    "즉, 2번 가설인 '각 데이터는 문자열(string)로 가져온 것'이 아닌 'Series'로 가져와집니다.  \n",
    "`key=lambda x: x.str.len()`에서 x에 담기는 데이터 유형은 Series이니 에러가 발생합니다."
   ]
  }
 ],
 "metadata": {
  "kernelspec": {
   "display_name": "Python 3 (ipykernel)",
   "language": "python",
   "name": "python3"
  },
  "language_info": {
   "codemirror_mode": {
    "name": "ipython",
    "version": 3
   },
   "file_extension": ".py",
   "mimetype": "text/x-python",
   "name": "python",
   "nbconvert_exporter": "python",
   "pygments_lexer": "ipython3",
   "version": "3.11.5"
  }
 },
 "nbformat": 4,
 "nbformat_minor": 5
}
