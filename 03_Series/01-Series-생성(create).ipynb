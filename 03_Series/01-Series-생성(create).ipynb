{
 "cells": [
  {
   "cell_type": "markdown",
   "id": "17717bb5",
   "metadata": {},
   "source": [
    "# 시리즈(Series)\n",
    "- Shift + Tab : Docstring\n",
    "- https://pandas.pydata.org/docs/reference/api/pandas.Series.html"
   ]
  },
  {
   "cell_type": "code",
   "execution_count": null,
   "id": "33eeadcc",
   "metadata": {},
   "outputs": [],
   "source": [
    "# 참조 - import pandas\n"
   ]
  },
  {
   "cell_type": "code",
   "execution_count": null,
   "id": "063378e9",
   "metadata": {},
   "outputs": [],
   "source": [
    "numbers = list(range(3, 14))\n",
    "numbers"
   ]
  },
  {
   "cell_type": "code",
   "execution_count": null,
   "id": "b7eada2a",
   "metadata": {},
   "outputs": [],
   "source": []
  },
  {
   "cell_type": "code",
   "execution_count": null,
   "id": "0fbc7d2e",
   "metadata": {},
   "outputs": [],
   "source": []
  },
  {
   "cell_type": "code",
   "execution_count": null,
   "id": "bd470c4e",
   "metadata": {},
   "outputs": [],
   "source": []
  },
  {
   "cell_type": "code",
   "execution_count": null,
   "id": "ce78b7a8",
   "metadata": {},
   "outputs": [],
   "source": [
    "# len(index) == len(values)\n"
   ]
  },
  {
   "cell_type": "code",
   "execution_count": null,
   "id": "6bcf252b",
   "metadata": {},
   "outputs": [],
   "source": [
    "pd.Series(letters, index=letters_index)"
   ]
  },
  {
   "cell_type": "code",
   "execution_count": null,
   "id": "ce82660d",
   "metadata": {},
   "outputs": [],
   "source": [
    "# Dict -> Series\n",
    "user = {\n",
    "    \"name\": \"Spencer\",\n",
    "    \"age\": 20,\n",
    "    \"job\": None\n",
    "}"
   ]
  },
  {
   "cell_type": "code",
   "execution_count": null,
   "id": "d66c05bf",
   "metadata": {},
   "outputs": [],
   "source": [
    "# key->index, value->value\n"
   ]
  },
  {
   "cell_type": "code",
   "execution_count": null,
   "id": "9c94097f",
   "metadata": {},
   "outputs": [],
   "source": [
    "# Dict->Series 할 때 index를 지정하면\n"
   ]
  }
 ],
 "metadata": {
  "kernelspec": {
   "display_name": "Python 3 (ipykernel)",
   "language": "python",
   "name": "python3"
  },
  "language_info": {
   "codemirror_mode": {
    "name": "ipython",
    "version": 3
   },
   "file_extension": ".py",
   "mimetype": "text/x-python",
   "name": "python",
   "nbconvert_exporter": "python",
   "pygments_lexer": "ipython3",
   "version": "3.11.5"
  }
 },
 "nbformat": 4,
 "nbformat_minor": 5
}
