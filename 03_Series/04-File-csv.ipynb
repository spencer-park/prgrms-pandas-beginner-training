{
 "cells": [
  {
   "cell_type": "markdown",
   "id": "7f53a907",
   "metadata": {},
   "source": [
    "## CSV 파일\n",
    "- comma-sperated value(variables)\n",
    "- 컴마(,)로 값을 구분해놓는 방식\n",
    "\n",
    "스펜서, 20, 컴퓨터공학과,\n",
    "숙풴서, 30, 데이터분석학과,"
   ]
  },
  {
   "cell_type": "markdown",
   "id": "4d841128",
   "metadata": {},
   "source": [
    "# 실습 레퍼런스\n",
    "- 그 캐글(Kaggle)이다. 들어봤을 수도 있고, 안들어봤을 수도 있다.\n",
    "- https://www.kaggle.com/datasets/tarundalal/100-richest-people-in-world\n",
    "- 사이트의 Notebook 누르면 바로 Python으로 실습도 가능하다.\n",
    "- Download눌러 필요한 파일 다운로드 - TopRichestInWorld.csv\n",
    "- 작업하고 있는 04-File-csv.ipynb와 같은 폴더(디렉토리)에 둔다. Jupyter에서 우측 상단 Upload클릭"
   ]
  },
  {
   "cell_type": "markdown",
   "id": "6f2dcfd7",
   "metadata": {},
   "source": [
    "# File .csv"
   ]
  },
  {
   "cell_type": "code",
   "execution_count": null,
   "id": "f314cd40",
   "metadata": {},
   "outputs": [],
   "source": []
  },
  {
   "cell_type": "markdown",
   "id": "2c187be1",
   "metadata": {},
   "source": [
    "## .read_csv()"
   ]
  },
  {
   "cell_type": "code",
   "execution_count": null,
   "id": "0bba9b6e",
   "metadata": {
    "scrolled": true
   },
   "outputs": [],
   "source": [
    "# csv 전체 가져오기 -> DataFrame\n"
   ]
  },
  {
   "cell_type": "code",
   "execution_count": null,
   "id": "a574fb23",
   "metadata": {},
   "outputs": [],
   "source": []
  },
  {
   "cell_type": "code",
   "execution_count": null,
   "id": "117f75e0",
   "metadata": {},
   "outputs": [],
   "source": [
    "# csv에서 특정 열만 가져오기 -> DataFrame\n"
   ]
  },
  {
   "cell_type": "code",
   "execution_count": null,
   "id": "6f83f503",
   "metadata": {},
   "outputs": [],
   "source": []
  },
  {
   "cell_type": "code",
   "execution_count": null,
   "id": "1741536e",
   "metadata": {},
   "outputs": [],
   "source": [
    "# csv에서 특정 열만 Series로 가져오기 -> .squeeze() -> Series\n"
   ]
  },
  {
   "cell_type": "code",
   "execution_count": null,
   "id": "1a2cdc68",
   "metadata": {},
   "outputs": [],
   "source": []
  },
  {
   "cell_type": "markdown",
   "id": "c30dc8fe",
   "metadata": {},
   "source": [
    ".squeeze()는 DataFrame이 단일 열을 가지고 있는 경우, 시리즈(Series) 객체로 변환해주는 메소드(함수)입니다.  \n",
    "일반적으로 데이터프레임은 여러 개의 열을 가지고 있지만, 때로는 단일 열만 필요한 경우가 있습니다.  "
   ]
  },
  {
   "cell_type": "markdown",
   "id": "c45d41a7",
   "metadata": {},
   "source": [
    "## .to_csv()"
   ]
  },
  {
   "cell_type": "code",
   "execution_count": null,
   "id": "5dc808ee",
   "metadata": {},
   "outputs": [],
   "source": []
  },
  {
   "cell_type": "code",
   "execution_count": null,
   "id": "88740b18",
   "metadata": {},
   "outputs": [],
   "source": [
    "# index는 제외하고 저장\n"
   ]
  },
  {
   "cell_type": "markdown",
   "id": "df3d83a2",
   "metadata": {},
   "source": [
    "## [주의]단일 열이여도 일단 DataFrame\n",
    "- 현재 실습을 통해 `TopRichestInWord_New.csv`에는 이름만 들어있다.\n",
    "- 분명 Series를 csv로 저장했다.\n",
    "- 그러나 csv로 데이터를 읽으면 무조건 DataFrame이다."
   ]
  },
  {
   "cell_type": "code",
   "execution_count": null,
   "id": "e8b5179c",
   "metadata": {},
   "outputs": [],
   "source": []
  },
  {
   "cell_type": "code",
   "execution_count": null,
   "id": "37855175",
   "metadata": {},
   "outputs": [],
   "source": []
  }
 ],
 "metadata": {
  "kernelspec": {
   "display_name": "Python 3 (ipykernel)",
   "language": "python",
   "name": "python3"
  },
  "language_info": {
   "codemirror_mode": {
    "name": "ipython",
    "version": 3
   },
   "file_extension": ".py",
   "mimetype": "text/x-python",
   "name": "python",
   "nbconvert_exporter": "python",
   "pygments_lexer": "ipython3",
   "version": "3.11.5"
  }
 },
 "nbformat": 4,
 "nbformat_minor": 5
}
