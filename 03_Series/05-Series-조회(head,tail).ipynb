{
 "cells": [
  {
   "cell_type": "markdown",
   "id": "86da1e6b",
   "metadata": {},
   "source": [
    "# 데이터 간이 확인\n",
    "데이터 전처리 과정에선 다양한 작업을 하는데,  \n",
    "각 작업을 할 때마다 매번 전체 데이터를 조회하면 불편하다."
   ]
  },
  {
   "cell_type": "code",
   "execution_count": null,
   "id": "35bd2ebb",
   "metadata": {},
   "outputs": [],
   "source": []
  },
  {
   "cell_type": "code",
   "execution_count": null,
   "id": "0da951ef",
   "metadata": {},
   "outputs": [],
   "source": []
  },
  {
   "cell_type": "markdown",
   "id": "ec4bb69f",
   "metadata": {},
   "source": [
    "이 과정에서 무슨무슨 작업을 했다고 하자! -> 데이터 전처리"
   ]
  },
  {
   "cell_type": "markdown",
   "id": "b9e992c7",
   "metadata": {},
   "source": [
    "## .head()"
   ]
  },
  {
   "cell_type": "code",
   "execution_count": null,
   "id": "0a166ba5",
   "metadata": {},
   "outputs": [],
   "source": []
  },
  {
   "cell_type": "code",
   "execution_count": null,
   "id": "90201f05",
   "metadata": {},
   "outputs": [],
   "source": []
  },
  {
   "cell_type": "markdown",
   "id": "6cc2232b",
   "metadata": {},
   "source": [
    ".head()는 앞측 데이터를 원하는 만큼 볼 수 있다."
   ]
  },
  {
   "cell_type": "markdown",
   "id": "df92ecaf",
   "metadata": {},
   "source": [
    "## .tail()"
   ]
  },
  {
   "cell_type": "code",
   "execution_count": null,
   "id": "81071c11",
   "metadata": {},
   "outputs": [],
   "source": []
  },
  {
   "cell_type": "code",
   "execution_count": null,
   "id": "e336300f",
   "metadata": {},
   "outputs": [],
   "source": []
  },
  {
   "cell_type": "markdown",
   "id": "496a6b73",
   "metadata": {},
   "source": [
    ".tail()은 뒷측 데이터를 원하는 만큼 볼 수 있다."
   ]
  }
 ],
 "metadata": {
  "kernelspec": {
   "display_name": "Python 3 (ipykernel)",
   "language": "python",
   "name": "python3"
  },
  "language_info": {
   "codemirror_mode": {
    "name": "ipython",
    "version": 3
   },
   "file_extension": ".py",
   "mimetype": "text/x-python",
   "name": "python",
   "nbconvert_exporter": "python",
   "pygments_lexer": "ipython3",
   "version": "3.11.5"
  }
 },
 "nbformat": 4,
 "nbformat_minor": 5
}
