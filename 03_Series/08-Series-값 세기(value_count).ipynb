{
 "cells": [
  {
   "cell_type": "markdown",
   "id": "236541b9",
   "metadata": {},
   "source": [
    "# 값 세기\n",
    "- https://pandas.pydata.org/docs/reference/api/pandas.Series.value_counts.html"
   ]
  },
  {
   "cell_type": "code",
   "execution_count": null,
   "id": "7cb80d20",
   "metadata": {},
   "outputs": [],
   "source": [
    "import pandas as pd"
   ]
  },
  {
   "cell_type": "code",
   "execution_count": null,
   "id": "46d74f88",
   "metadata": {
    "scrolled": true
   },
   "outputs": [],
   "source": [
    "rich_df = pd.read_csv('TopRichestInWorld.csv')\n",
    "rich_df"
   ]
  },
  {
   "cell_type": "code",
   "execution_count": null,
   "id": "859e8bee",
   "metadata": {
    "scrolled": true
   },
   "outputs": [],
   "source": [
    "# 특정 열 2개 가져오기\n"
   ]
  },
  {
   "cell_type": "markdown",
   "id": "14b19c1b",
   "metadata": {},
   "source": [
    "## .value_counts()"
   ]
  },
  {
   "cell_type": "code",
   "execution_count": null,
   "id": "2e3ac124",
   "metadata": {},
   "outputs": [],
   "source": [
    "# 나라 열만 가져오기 -> 시리즈 화\n"
   ]
  },
  {
   "cell_type": "code",
   "execution_count": null,
   "id": "6a7bf1db",
   "metadata": {},
   "outputs": [],
   "source": [
    "# value_counts : collection.Counter와 비슷한 기능\n"
   ]
  },
  {
   "cell_type": "code",
   "execution_count": null,
   "id": "05ff06df",
   "metadata": {},
   "outputs": [],
   "source": [
    "# 산업 열만 가져오기 -> 시리즈 화\n",
    "rich_industry = pd.read_csv('TopRichestInWorld.csv', usecols=['Industry']).squeeze()\n",
    "rich_industry"
   ]
  },
  {
   "cell_type": "code",
   "execution_count": null,
   "id": "c49e6169",
   "metadata": {},
   "outputs": [],
   "source": [
    "# 부자들이 가장 많이 하는 산업\n",
    "rich_industry.value_counts()"
   ]
  },
  {
   "cell_type": "markdown",
   "id": "96f10cf7",
   "metadata": {},
   "source": [
    "## normalize= - 정규화"
   ]
  },
  {
   "cell_type": "code",
   "execution_count": null,
   "id": "3fd57301",
   "metadata": {
    "scrolled": true
   },
   "outputs": [],
   "source": []
  },
  {
   "cell_type": "code",
   "execution_count": null,
   "id": "36faaeb2",
   "metadata": {},
   "outputs": [],
   "source": []
  },
  {
   "cell_type": "markdown",
   "id": "5ee31cf5",
   "metadata": {},
   "source": [
    "**인자 정보**\n",
    "> **normalize : bool, default False**  \n",
    "If True then the object returned will contain the relative frequencies of the unique values.\n",
    "---\n",
    "**normalize**\n",
    "- 퍼센트처럼 비중으로 계산합니다.\n",
    "- 미국이 36퍼센트, 중국이 17퍼센트"
   ]
  },
  {
   "cell_type": "code",
   "execution_count": null,
   "id": "8d807b24",
   "metadata": {},
   "outputs": [],
   "source": [
    "#  따라서 합은 1이 된다.\n"
   ]
  },
  {
   "cell_type": "markdown",
   "id": "7d677f77",
   "metadata": {},
   "source": [
    "## sort=, ascending="
   ]
  },
  {
   "cell_type": "code",
   "execution_count": null,
   "id": "7c428282",
   "metadata": {
    "scrolled": true
   },
   "outputs": [],
   "source": [
    "# 부자로 가장 유니크한 산업을 찾는다면\n"
   ]
  },
  {
   "cell_type": "code",
   "execution_count": null,
   "id": "b8b06adf",
   "metadata": {
    "scrolled": true
   },
   "outputs": [],
   "source": [
    "# 오름차순 정렬한다면\n"
   ]
  },
  {
   "cell_type": "code",
   "execution_count": null,
   "id": "903b8c65",
   "metadata": {},
   "outputs": [],
   "source": [
    "# normalize를 빼면\n"
   ]
  },
  {
   "cell_type": "markdown",
   "id": "e89f72f5",
   "metadata": {},
   "source": [
    ">**sort : bool, default True**\n",
    "Sort by frequencies when True. Preserve the order of the data when False.\n",
    "    \n",
    ">**ascending : bool, default False**\n",
    "Sort in ascending order.\n",
    "\n",
    "---\n",
    "\n",
    "**sort**\n",
    "- 빈도별로 정렬\n",
    "- False면 정렬이 안됨.\n",
    "\n",
    "**ascending**\n",
    "- True면 오름차순 정렬\n",
    "- False면 내림차순"
   ]
  },
  {
   "cell_type": "code",
   "execution_count": null,
   "id": "a542fd81",
   "metadata": {},
   "outputs": [],
   "source": [
    "# 굳이 이렇게 할 필요가 있을까?\n"
   ]
  },
  {
   "cell_type": "markdown",
   "id": "594c1ba1",
   "metadata": {},
   "source": [
    "## bins="
   ]
  },
  {
   "cell_type": "code",
   "execution_count": null,
   "id": "68e2cf9f",
   "metadata": {},
   "outputs": [],
   "source": [
    "# 나이 열만 가져오기 -> 시리즈 화\n"
   ]
  },
  {
   "cell_type": "code",
   "execution_count": null,
   "id": "0c41c9d7",
   "metadata": {},
   "outputs": [],
   "source": []
  },
  {
   "cell_type": "code",
   "execution_count": null,
   "id": "100084f4",
   "metadata": {},
   "outputs": [],
   "source": []
  },
  {
   "cell_type": "markdown",
   "id": "24bdbde9",
   "metadata": {},
   "source": [
    "> **bins : int, optional**  \n",
    "Rather than count values, group them into half-open bins, a convenience for pd.cut, only works with numeric data.\n",
    "---\n",
    "**bins**\n",
    "- 개수를 입력하여, 그 만큼 구간을 나누어 카운트 합니다.\n",
    "- bins가 지정안되면, 고유 값의 빈도로 카운드 합니다.\n",
    "- 숫자처럼 연속형 데이터만 가능합니다."
   ]
  },
  {
   "cell_type": "markdown",
   "id": "7e703955",
   "metadata": {},
   "source": [
    "## dropna= - NaN처리"
   ]
  },
  {
   "cell_type": "code",
   "execution_count": null,
   "id": "2f7b6ae0",
   "metadata": {},
   "outputs": [],
   "source": [
    "data = ['banana', None, 'apple', 'banana', 'apple']\n",
    "data_set = pd.Series(data)\n",
    "data_set"
   ]
  },
  {
   "cell_type": "code",
   "execution_count": null,
   "id": "120366f1",
   "metadata": {},
   "outputs": [],
   "source": []
  },
  {
   "cell_type": "code",
   "execution_count": null,
   "id": "48d5ede0",
   "metadata": {},
   "outputs": [],
   "source": []
  },
  {
   "cell_type": "markdown",
   "id": "9c33e07f",
   "metadata": {},
   "source": [
    "> **dropna : bool, default True**\n",
    "Don’t include counts of NaN.\n",
    "\n",
    "---\n",
    "**dropna**\n",
    "- 카운트 시에 NaN형 데이터를 처리할지를 결정합니다.\n",
    "- defalut True라서 None이 카운트가 되지 않다가\n",
    "- False시 None도 카운트가 된다."
   ]
  },
  {
   "cell_type": "code",
   "execution_count": null,
   "id": "f44a904f",
   "metadata": {},
   "outputs": [],
   "source": [
    "# 여러분이 보게 될 수도 있는 예시\n",
    "import numpy as np\n",
    "data = ['banana', None, 'apple', 'banana', 'apple', np.nan]\n",
    "data_set = pd.Series(data)\n",
    "data_set"
   ]
  },
  {
   "cell_type": "code",
   "execution_count": null,
   "id": "d320721d",
   "metadata": {},
   "outputs": [],
   "source": []
  },
  {
   "cell_type": "code",
   "execution_count": null,
   "id": "338b1217",
   "metadata": {},
   "outputs": [],
   "source": []
  },
  {
   "cell_type": "code",
   "execution_count": null,
   "id": "6eee9618",
   "metadata": {
    "scrolled": true
   },
   "outputs": [],
   "source": []
  },
  {
   "cell_type": "code",
   "execution_count": null,
   "id": "c9f74278",
   "metadata": {},
   "outputs": [],
   "source": []
  }
 ],
 "metadata": {
  "kernelspec": {
   "display_name": "Python 3 (ipykernel)",
   "language": "python",
   "name": "python3"
  },
  "language_info": {
   "codemirror_mode": {
    "name": "ipython",
    "version": 3
   },
   "file_extension": ".py",
   "mimetype": "text/x-python",
   "name": "python",
   "nbconvert_exporter": "python",
   "pygments_lexer": "ipython3",
   "version": "3.11.5"
  }
 },
 "nbformat": 4,
 "nbformat_minor": 5
}
