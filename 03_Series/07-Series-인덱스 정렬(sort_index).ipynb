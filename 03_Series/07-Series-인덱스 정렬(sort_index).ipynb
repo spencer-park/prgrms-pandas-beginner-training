{
 "cells": [
  {
   "cell_type": "markdown",
   "id": "236541b9",
   "metadata": {},
   "source": [
    "# 인덱스 정렬\n",
    "- https://pandas.pydata.org/docs/reference/api/pandas.Series.sort_index.html"
   ]
  },
  {
   "cell_type": "code",
   "execution_count": null,
   "id": "7cb80d20",
   "metadata": {},
   "outputs": [],
   "source": [
    "import pandas as pd"
   ]
  },
  {
   "cell_type": "code",
   "execution_count": null,
   "id": "7b7941e0",
   "metadata": {
    "scrolled": true
   },
   "outputs": [],
   "source": [
    "rich_set = pd.read_csv('TopRichestInWorld.csv', usecols=['Name']).squeeze()\n",
    "rich_set"
   ]
  },
  {
   "cell_type": "markdown",
   "id": "9bb77fab",
   "metadata": {},
   "source": [
    "## .sort_index()"
   ]
  },
  {
   "cell_type": "code",
   "execution_count": null,
   "id": "a32ad300",
   "metadata": {
    "scrolled": true
   },
   "outputs": [],
   "source": []
  },
  {
   "cell_type": "code",
   "execution_count": null,
   "id": "8ce5f7b0",
   "metadata": {},
   "outputs": [],
   "source": []
  },
  {
   "cell_type": "markdown",
   "id": "98384af9",
   "metadata": {},
   "source": [
    ".sort_index()은 인덱스 배열(색인 객체열)을 오름차순/내림차순으로 정렬한다."
   ]
  },
  {
   "cell_type": "markdown",
   "id": "7b1d6160",
   "metadata": {},
   "source": [
    "## [의문] .sort_index() 인자는 왜 .sort_values()처럼 인자 종류가 많을까?\n",
    "- 리스트의 인덱스라면 0과 자연수만 가능하지만\n",
    "- Pandas Series의 인덱스는 인덱스(색인 검색)의 기능이 부여됐을 뿐이며\n",
    "- 값은 다양한 게 들어갈 수 있어서이다.\n",
    "- 이는 01-Series-생성(create).ipynb를 코드를 다시 보자."
   ]
  },
  {
   "cell_type": "code",
   "execution_count": null,
   "id": "28ef9c6f",
   "metadata": {},
   "outputs": [],
   "source": [
    "# Dict -> Series\n",
    "user = {\n",
    "    \"name\": \"Spencer\",\n",
    "    \"age\": 20,\n",
    "    \"job\": None,\n",
    "}\n",
    "user"
   ]
  }
 ],
 "metadata": {
  "kernelspec": {
   "display_name": "Python 3 (ipykernel)",
   "language": "python",
   "name": "python3"
  },
  "language_info": {
   "codemirror_mode": {
    "name": "ipython",
    "version": 3
   },
   "file_extension": ".py",
   "mimetype": "text/x-python",
   "name": "python",
   "nbconvert_exporter": "python",
   "pygments_lexer": "ipython3",
   "version": "3.11.5"
  }
 },
 "nbformat": 4,
 "nbformat_minor": 5
}
