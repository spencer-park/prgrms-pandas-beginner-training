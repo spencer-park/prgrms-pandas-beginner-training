{
 "cells": [
  {
   "cell_type": "markdown",
   "id": "236541b9",
   "metadata": {},
   "source": [
    "# 값 접근 방법들\n"
   ]
  },
  {
   "cell_type": "code",
   "execution_count": null,
   "id": "7cb80d20",
   "metadata": {},
   "outputs": [],
   "source": [
    "import pandas as pd"
   ]
  },
  {
   "cell_type": "code",
   "execution_count": null,
   "id": "46d74f88",
   "metadata": {
    "scrolled": true
   },
   "outputs": [],
   "source": [
    "rich_set = pd.read_csv('TopRichestInWorld.csv')\n",
    "rich_set"
   ]
  },
  {
   "cell_type": "code",
   "execution_count": null,
   "id": "410433d7",
   "metadata": {},
   "outputs": [],
   "source": [
    "# 알만한 이름이 나올까?\n"
   ]
  },
  {
   "cell_type": "markdown",
   "id": "4f4ccab2",
   "metadata": {},
   "source": [
    "## ????, ???? - 10개 조회하기"
   ]
  },
  {
   "cell_type": "code",
   "execution_count": null,
   "id": "2d1f8b65",
   "metadata": {},
   "outputs": [],
   "source": [
    "# 앞단 10개 조회\n"
   ]
  },
  {
   "cell_type": "code",
   "execution_count": null,
   "id": "bccdc421",
   "metadata": {},
   "outputs": [],
   "source": [
    "# 뒷단 10개 조회\n"
   ]
  },
  {
   "cell_type": "markdown",
   "id": "0ec3677a",
   "metadata": {},
   "source": [
    "## 특정 index 조회"
   ]
  },
  {
   "cell_type": "code",
   "execution_count": null,
   "id": "1747b921",
   "metadata": {},
   "outputs": [],
   "source": []
  },
  {
   "cell_type": "code",
   "execution_count": null,
   "id": "5a576a5e",
   "metadata": {
    "scrolled": false
   },
   "outputs": [],
   "source": []
  },
  {
   "cell_type": "code",
   "execution_count": null,
   "id": "0d397ba9",
   "metadata": {
    "scrolled": true
   },
   "outputs": [],
   "source": [
    "# 범위를 넘기면 에러\n"
   ]
  },
  {
   "cell_type": "markdown",
   "id": "6996dae8",
   "metadata": {},
   "source": [
    "## 특정 Index들 조회"
   ]
  },
  {
   "cell_type": "code",
   "execution_count": null,
   "id": "f767e85c",
   "metadata": {
    "scrolled": true
   },
   "outputs": [],
   "source": []
  },
  {
   "cell_type": "markdown",
   "id": "468b435b",
   "metadata": {},
   "source": [
    "## 인덱스 슬라이싱(Slicing)을 이용한 조회"
   ]
  },
  {
   "cell_type": "code",
   "execution_count": null,
   "id": "133f72a5",
   "metadata": {
    "scrolled": true
   },
   "outputs": [],
   "source": [
    "# head와 동일한 기능\n"
   ]
  },
  {
   "cell_type": "code",
   "execution_count": null,
   "id": "4d233c83",
   "metadata": {},
   "outputs": [],
   "source": [
    "# 슬라이스 숫자 생략도 파이썬처럼 가능\n"
   ]
  },
  {
   "cell_type": "code",
   "execution_count": null,
   "id": "2829d9dc",
   "metadata": {},
   "outputs": [],
   "source": [
    "# 0~50명단까지, 5배수에 해당하는 사람 이름을 조회하려면\n"
   ]
  },
  {
   "cell_type": "markdown",
   "id": "d7544e6d",
   "metadata": {},
   "source": [
    "## Series 인덱스 조회"
   ]
  },
  {
   "cell_type": "code",
   "execution_count": null,
   "id": "5faa46bf",
   "metadata": {},
   "outputs": [],
   "source": []
  },
  {
   "cell_type": "code",
   "execution_count": null,
   "id": "889cc453",
   "metadata": {},
   "outputs": [],
   "source": [
    "# 다른 예시 1\n",
    "data = ['banana', 'apple', 'coconut']\n"
   ]
  },
  {
   "cell_type": "code",
   "execution_count": null,
   "id": "a29e0010",
   "metadata": {},
   "outputs": [],
   "source": [
    "# 다른 예시 2\n",
    "user = {\"name\": \"Spencer\", \"age\": 20, \"job\": None}\n"
   ]
  },
  {
   "cell_type": "markdown",
   "id": "c0c6f0c6",
   "metadata": {},
   "source": [
    "**RangeIndex**\n",
    "- RangeIndex는 순차적인 정수로 구성된 인덱스 객체.\n",
    "- 데이터프레임(DataFrame)이나 시리즈(Series)를 생성할 때, 명시적으로 인덱스를 지정하지 않은 경우에 기본적으로 생성되는 인덱스.\n",
    "- RangeIndex는 0부터 시작하는 정수로 구성되며\n",
    "- 일반적으로 데이터의 길이 또는 행의 개수에 따라 자동으로 생성\n",
    "- RangeIndex는 **변경할 수 없는(immutable) 객체**로, 크기가 고정.\n",
    "- RangeIndex는 메모리 사용을 최적화하여 데이터의 검색과 접근 속도를 향상시킵니다.\n",
    "\n",
    "**Index**\n",
    "- Index는 일련의 값으로 구성된 인덱스 객체.\n",
    "- 문자열, 정수, 날짜 등 다양한 데이터 타입을 가질 수 있다.\n",
    "- Index는 RangeIndex와 달리 명시적으로 지정되거나 다른 데이터의 인덱스로부터 생성될 수 있다.\n",
    "- Index는 **변경 가능한(mutable) 객체** \n",
    "- 따라서, 인덱스의 값이나 순서를 변경하거나 인덱스를 추가/삭제할 수 있다.\n",
    "- Index는 데이터의 레이블링, 인덱싱, 슬라이싱 등 다양한 데이터 조작 작업에 활용된다.\n",
    "\n",
    "**RangeIndex vs Index 요약**\n",
    "- RangeIndex\n",
    "    - 순차적인 정수로 구성되는 고정 크기의 인덱스 객체,\n",
    "- Index\n",
    "    - 일련의 값으로 구성되며 변경 가능한 특성을 가진 인덱스 객체\n",
    "- 두 객체 모두 데이터프레임이나 시리즈의 인덱스로 사용되고, 데이터 조작 및 접근을 위해 다양한 기능을 제공."
   ]
  },
  {
   "cell_type": "markdown",
   "id": "b35a6441",
   "metadata": {},
   "source": [
    "## Index 특이사항1 - 순환될까?"
   ]
  },
  {
   "cell_type": "code",
   "execution_count": null,
   "id": "ab0e31e5",
   "metadata": {},
   "outputs": [],
   "source": [
    "# 파이썬 순환 조회\n",
    "numbers = [3, 6, 9, 12]\n",
    "numbers[-1]"
   ]
  },
  {
   "cell_type": "code",
   "execution_count": null,
   "id": "0e9b1195",
   "metadata": {},
   "outputs": [],
   "source": [
    "# 파이썬 순환 생략&슬라이싱\n",
    "numbers[::-1]"
   ]
  },
  {
   "cell_type": "code",
   "execution_count": null,
   "id": "497067cf",
   "metadata": {
    "scrolled": true
   },
   "outputs": [],
   "source": [
    "# 파이썬 리스트처럼 순환이 될까?\n",
    "rich_name[-1]"
   ]
  },
  {
   "cell_type": "markdown",
   "id": "c7c32d2f",
   "metadata": {},
   "source": [
    "'지원을 안한다'가 아니라 '방식이 잘못되었다'는 걸 Key Error를 보고 깨달아야한다.\n",
    "파이썬 리스트를 생각했다면 KeyError가 아닌 IndexError가 발생했을 것."
   ]
  },
  {
   "cell_type": "code",
   "execution_count": null,
   "id": "9f204bc3",
   "metadata": {
    "scrolled": true
   },
   "outputs": [],
   "source": [
    "# 상황 1\n",
    "data = ['banana', 'apple', 'coconut']\n"
   ]
  },
  {
   "cell_type": "code",
   "execution_count": null,
   "id": "7dc040e0",
   "metadata": {},
   "outputs": [],
   "source": []
  },
  {
   "cell_type": "code",
   "execution_count": null,
   "id": "526ddf4c",
   "metadata": {
    "scrolled": true
   },
   "outputs": [],
   "source": [
    "# 미리보기 : 삭제\n"
   ]
  },
  {
   "cell_type": "code",
   "execution_count": null,
   "id": "24a5537c",
   "metadata": {},
   "outputs": [],
   "source": []
  },
  {
   "cell_type": "code",
   "execution_count": null,
   "id": "65347fa7",
   "metadata": {
    "scrolled": true
   },
   "outputs": [],
   "source": [
    "# 인덱스가 아니라 인덱스 열(인덱스 객체로 이루어진)이다.\n",
    "# 때문에 1로 인덱스 접근하면 에러\n"
   ]
  },
  {
   "cell_type": "markdown",
   "id": "164e1e8b",
   "metadata": {},
   "source": [
    "## Index 특이사항2 - 인덱스가 문자열일때"
   ]
  },
  {
   "cell_type": "code",
   "execution_count": null,
   "id": "7d933cc7",
   "metadata": {},
   "outputs": [],
   "source": [
    "# 상황 2\n",
    "user = {\"name\": \"Spencer\", \"age\": 20, \"job\": None}\n"
   ]
  },
  {
   "cell_type": "code",
   "execution_count": null,
   "id": "66404805",
   "metadata": {
    "scrolled": true
   },
   "outputs": [],
   "source": []
  },
  {
   "cell_type": "code",
   "execution_count": null,
   "id": "af41db0d",
   "metadata": {},
   "outputs": [],
   "source": [
    "# 이건 되고\n"
   ]
  },
  {
   "cell_type": "code",
   "execution_count": null,
   "id": "dd29c77b",
   "metadata": {},
   "outputs": [],
   "source": [
    "# 이것도 되고\n"
   ]
  },
  {
   "cell_type": "code",
   "execution_count": null,
   "id": "3cfecbea",
   "metadata": {},
   "outputs": [],
   "source": [
    "# 이건 되고\n"
   ]
  },
  {
   "cell_type": "code",
   "execution_count": null,
   "id": "355cd4ea",
   "metadata": {
    "scrolled": true
   },
   "outputs": [],
   "source": [
    "# 이건 안되고?\n"
   ]
  },
  {
   "cell_type": "markdown",
   "id": "7ad3e8ef",
   "metadata": {},
   "source": [
    "**`del user_set['name']`는 되고 `del user_set[0]`은 안되는 이유**\n",
    "- `del user_set['name']` : 인덱스 레이블을 사용하여 해당하는 인덱스와 값을 삭제하는 것\n",
    "- `del user_set[0]` : 정수 인덱스를 사용하여 삭제하는 것이 불가능\n",
    "\n",
    "**정수 인덱스? 인덱스 레이블?**\n",
    "- 인덱스가 문자열일 경우 Series객체는 인덱스를 사용할 수 있다는 원칙이 있다.\n",
    "- Series 객체는 인덱스 레이블 기준 연산이 우선된다.\n",
    "\n",
    "**삭제 연산은 레이블 접근만 허용**\n",
    "- 조회는 데이터를 파괴하지 않기에 정수 인덱스를 통한 방식도 허용하나\n",
    "- del을 이용한 삭제는 인덱스 레이블 방식만 허용한다."
   ]
  },
  {
   "cell_type": "code",
   "execution_count": null,
   "id": "addbc174",
   "metadata": {},
   "outputs": [],
   "source": [
    "# 이해를 돕는 코드 - 정수 인덱스와 인덱스 레이블이 일치하는 상황\n",
    "data = ['banana', 'apple', 'coconut']\n"
   ]
  },
  {
   "cell_type": "code",
   "execution_count": null,
   "id": "c7bc1fbe",
   "metadata": {},
   "outputs": [],
   "source": [
    "# 이해를 돕는 코드 - 정수 인덱스와 인덱스 레이블이 다른 상황\n",
    "user = {\"name\": \"Spencer\", \"age\": 20, \"job\": None}\n"
   ]
  }
 ],
 "metadata": {
  "kernelspec": {
   "display_name": "Python 3 (ipykernel)",
   "language": "python",
   "name": "python3"
  },
  "language_info": {
   "codemirror_mode": {
    "name": "ipython",
    "version": 3
   },
   "file_extension": ".py",
   "mimetype": "text/x-python",
   "name": "python",
   "nbconvert_exporter": "python",
   "pygments_lexer": "ipython3",
   "version": "3.11.5"
  }
 },
 "nbformat": 4,
 "nbformat_minor": 5
}
