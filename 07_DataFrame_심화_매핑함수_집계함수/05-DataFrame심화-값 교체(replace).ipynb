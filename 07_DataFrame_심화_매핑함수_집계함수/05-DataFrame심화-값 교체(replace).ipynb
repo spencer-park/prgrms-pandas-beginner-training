{
 "cells": [
  {
   "cell_type": "markdown",
   "id": "5b819bf8",
   "metadata": {},
   "source": [
    "## 데이터셋\n",
    "- 고객 성격 분석 : https://www.kaggle.com/datasets/imakash3011/customer-personality-analysis"
   ]
  },
  {
   "cell_type": "code",
   "execution_count": null,
   "id": "782b7b71",
   "metadata": {},
   "outputs": [],
   "source": [
    "import pandas as pd"
   ]
  },
  {
   "cell_type": "code",
   "execution_count": null,
   "id": "a96fe361",
   "metadata": {
    "scrolled": false
   },
   "outputs": [],
   "source": [
    "customers = pd.read_csv('marketing_campaign.csv', sep='\\t', index_col='ID')\n",
    "customers"
   ]
  },
  {
   "cell_type": "markdown",
   "id": "45eac140",
   "metadata": {},
   "source": [
    "## .replace()\n",
    "- https://pandas.pydata.org/docs/reference/api/pandas.DataFrame.replace.html\n",
    "- https://pandas.pydata.org/docs/reference/api/pandas.Series.replace.html\n",
    "- https://pandas.pydata.org/docs/reference/api/pandas.Series.str.replace.html"
   ]
  },
  {
   "cell_type": "code",
   "execution_count": null,
   "id": "fa36bbe5",
   "metadata": {
    "scrolled": false
   },
   "outputs": [],
   "source": []
  },
  {
   "cell_type": "markdown",
   "id": "6fd4bb14",
   "metadata": {},
   "source": [
    "| 결혼 상태   | 인원 수 | 뜻 |\n",
    "|-----------|--------| -- |\n",
    "| Married   | 864    | 기혼 |\n",
    "| Together  | 580    | 동거 |\n",
    "| Single    | 480    | 독신 |\n",
    "| Divorced  | 232    | 이혼 |\n",
    "| Widow     | 77     | 미망 |\n",
    "| Alone     | 3      | 혼자, 싱글|\n",
    "| Absurd    | 2      | 터무니없는 |\n",
    "| YOLO      | 2      | 욜로 인생 |\n",
    "\n",
    "이 중 Alone, Absurd, YOLO는 해석에 애매한 부분이 있다.  \n",
    "해당 데이터의 토론에도 이슈가 있으며  \n",
    "YOLO같은 경우는 일반적인 Single과는 다른 고객패턴이 있음을 표시하고 싶었던 것 일수도.\n",
    "\n",
    "여기서는 이 3가지를 Single로 귀속시켜보자."
   ]
  },
  {
   "cell_type": "code",
   "execution_count": null,
   "id": "c7fade40",
   "metadata": {},
   "outputs": [],
   "source": [
    "# 방법 1. 시리즈.replace(dict)\n"
   ]
  },
  {
   "cell_type": "code",
   "execution_count": null,
   "id": "d430a4d2",
   "metadata": {},
   "outputs": [],
   "source": [
    "# 방법 2. 시리즈.replace(to_replace:list, value)\n"
   ]
  },
  {
   "cell_type": "markdown",
   "id": "a78bf334",
   "metadata": {},
   "source": [
    "다양한 replace() 예제는 아래서 살펴보자.\n",
    "- https://pandas.pydata.org/docs/reference/api/pandas.Series.replace.html\n",
    "- 정규표현식도 있다."
   ]
  },
  {
   "cell_type": "code",
   "execution_count": null,
   "id": "31d1d1a8",
   "metadata": {},
   "outputs": [],
   "source": [
    "# 방법 3. 데이터프레임.replace()\n"
   ]
  },
  {
   "cell_type": "code",
   "execution_count": null,
   "id": "0e8e6a3d",
   "metadata": {
    "scrolled": true
   },
   "outputs": [],
   "source": []
  },
  {
   "cell_type": "markdown",
   "id": "8cea8cae",
   "metadata": {},
   "source": [
    "Series.replace와 Dataframe.replace의 차이는 탐색&변경의 범위"
   ]
  },
  {
   "cell_type": "code",
   "execution_count": null,
   "id": "4f3071f4",
   "metadata": {
    "scrolled": true
   },
   "outputs": [],
   "source": [
    "# Inplcae=True로 원본에 반영하기\n"
   ]
  },
  {
   "cell_type": "markdown",
   "id": "9ca9013e",
   "metadata": {},
   "source": [
    "## 없는 값을 바꾸려고 하면?"
   ]
  },
  {
   "cell_type": "code",
   "execution_count": null,
   "id": "80843932",
   "metadata": {},
   "outputs": [],
   "source": []
  },
  {
   "cell_type": "markdown",
   "id": "0d49df62",
   "metadata": {},
   "source": [
    "아무 에러도 발생하지 않는다."
   ]
  }
 ],
 "metadata": {
  "kernelspec": {
   "display_name": "Python 3 (ipykernel)",
   "language": "python",
   "name": "python3"
  },
  "language_info": {
   "codemirror_mode": {
    "name": "ipython",
    "version": 3
   },
   "file_extension": ".py",
   "mimetype": "text/x-python",
   "name": "python",
   "nbconvert_exporter": "python",
   "pygments_lexer": "ipython3",
   "version": "3.11.5"
  }
 },
 "nbformat": 4,
 "nbformat_minor": 5
}
