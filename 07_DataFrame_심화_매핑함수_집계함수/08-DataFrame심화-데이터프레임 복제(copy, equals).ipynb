{
 "cells": [
  {
   "cell_type": "markdown",
   "id": "5b819bf8",
   "metadata": {},
   "source": [
    "## 데이터셋\n",
    "- 고객 성격 분석 : https://www.kaggle.com/datasets/imakash3011/customer-personality-analysis"
   ]
  },
  {
   "cell_type": "code",
   "execution_count": null,
   "id": "782b7b71",
   "metadata": {},
   "outputs": [],
   "source": [
    "import pandas as pd"
   ]
  },
  {
   "cell_type": "code",
   "execution_count": null,
   "id": "a96fe361",
   "metadata": {
    "scrolled": true
   },
   "outputs": [],
   "source": [
    "customers = pd.read_csv('marketing_campaign.csv', sep='\\t', index_col='ID')\n",
    "customers"
   ]
  },
  {
   "cell_type": "markdown",
   "id": "c7cda75b",
   "metadata": {},
   "source": [
    "## copy() - 데이터프레임/시리즈의 복제\n",
    "원본과 분리해서 작업하고 싶을 때 사용"
   ]
  },
  {
   "cell_type": "code",
   "execution_count": null,
   "id": "422de652",
   "metadata": {},
   "outputs": [],
   "source": [
    "# 복제 방법\n"
   ]
  },
  {
   "cell_type": "code",
   "execution_count": null,
   "id": "34fa5bf2",
   "metadata": {
    "scrolled": true
   },
   "outputs": [],
   "source": []
  },
  {
   "cell_type": "code",
   "execution_count": null,
   "id": "a8f24855",
   "metadata": {},
   "outputs": [],
   "source": []
  },
  {
   "cell_type": "code",
   "execution_count": null,
   "id": "27323856",
   "metadata": {},
   "outputs": [],
   "source": [
    "# 주소 비교\n"
   ]
  },
  {
   "cell_type": "code",
   "execution_count": null,
   "id": "e791e311",
   "metadata": {},
   "outputs": [],
   "source": []
  },
  {
   "cell_type": "code",
   "execution_count": null,
   "id": "2e5c5291",
   "metadata": {},
   "outputs": [],
   "source": [
    "# 값 비교 1\n"
   ]
  },
  {
   "cell_type": "code",
   "execution_count": null,
   "id": "fd3ebc94",
   "metadata": {
    "scrolled": true
   },
   "outputs": [],
   "source": [
    "# 값 비교 2\n"
   ]
  },
  {
   "cell_type": "markdown",
   "id": "39bcd7ce",
   "metadata": {},
   "source": [
    "## .copy()를 잘 이해하고 사용하자. 그렇지 않으면"
   ]
  },
  {
   "cell_type": "code",
   "execution_count": null,
   "id": "86c9fc41",
   "metadata": {
    "scrolled": true
   },
   "outputs": [],
   "source": [
    "# 결혼 상태 Series\n"
   ]
  },
  {
   "cell_type": "code",
   "execution_count": null,
   "id": "7c8d465f",
   "metadata": {
    "scrolled": true
   },
   "outputs": [],
   "source": [
    "# 값을 변경하면 에러가 발생한다.\n"
   ]
  },
  {
   "cell_type": "markdown",
   "id": "e8d1af45",
   "metadata": {},
   "source": [
    "```\n",
    "SettingWithCopyWarning: \n",
    "A value is trying to be set on a copy of a slice from a DataFrame\n",
    "\n",
    "See the caveats in the documentation: https://pandas.pydata.org/pandas-docs/stable/user_guide/indexing.html#returning-a-view-versus-a-copy\n",
    "  marital_status[0:3] = 'OOO'\n",
    "```"
   ]
  },
  {
   "cell_type": "markdown",
   "id": "f98c3224",
   "metadata": {},
   "source": [
    "- 메시지는 데이터프레임의 일부를 슬라이싱하여 얻은 복사본에 값을 설정하려고 할 때 발생하는 경고\n",
    "- 데이터프레임의 슬라이스가 원본 데이터프레임의 뷰(View)가 아닌 복사본(Copy)인 경우에 발생하는 경고."
   ]
  },
  {
   "cell_type": "code",
   "execution_count": null,
   "id": "ef273827",
   "metadata": {
    "scrolled": true
   },
   "outputs": [],
   "source": [
    "# 원본의 데이터가 변경되어있다.\n"
   ]
  },
  {
   "cell_type": "markdown",
   "id": "4c2331b8",
   "metadata": {},
   "source": [
    "## .copy() - 원래 의도는 별도의 데이터프레임을 만들고 작업하려고 했던 거라면"
   ]
  },
  {
   "cell_type": "code",
   "execution_count": null,
   "id": "3b881138",
   "metadata": {},
   "outputs": [],
   "source": [
    "# 초기화\n",
    "customers = pd.read_csv('marketing_campaign.csv', sep='\\t', index_col='ID')"
   ]
  },
  {
   "cell_type": "code",
   "execution_count": null,
   "id": "83f97062",
   "metadata": {},
   "outputs": [],
   "source": [
    "# .copy()\n"
   ]
  },
  {
   "cell_type": "code",
   "execution_count": null,
   "id": "8ac2c51a",
   "metadata": {},
   "outputs": [],
   "source": []
  },
  {
   "cell_type": "code",
   "execution_count": null,
   "id": "9aee99f2",
   "metadata": {},
   "outputs": [],
   "source": []
  },
  {
   "cell_type": "code",
   "execution_count": null,
   "id": "01c3047f",
   "metadata": {},
   "outputs": [],
   "source": []
  }
 ],
 "metadata": {
  "kernelspec": {
   "display_name": "Python 3 (ipykernel)",
   "language": "python",
   "name": "python3"
  },
  "language_info": {
   "codemirror_mode": {
    "name": "ipython",
    "version": 3
   },
   "file_extension": ".py",
   "mimetype": "text/x-python",
   "name": "python",
   "nbconvert_exporter": "python",
   "pygments_lexer": "ipython3",
   "version": "3.11.5"
  }
 },
 "nbformat": 4,
 "nbformat_minor": 5
}
