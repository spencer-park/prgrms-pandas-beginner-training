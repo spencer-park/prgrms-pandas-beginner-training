{
 "cells": [
  {
   "cell_type": "markdown",
   "id": "a3327135",
   "metadata": {},
   "source": [
    "## Series.map(arg)\n",
    "- https://pandas.pydata.org/docs/reference/api/pandas.Series.map.html#pandas.Series.map"
   ]
  },
  {
   "cell_type": "code",
   "execution_count": null,
   "id": "70b88356",
   "metadata": {},
   "outputs": [],
   "source": [
    "people_set = {\n",
    "    'Name' : ['Spencer', 'Mark', 'Tom', 'Peter'],\n",
    "    'Major': ['Computer', 'Science', 'English', 'Computer'],\n",
    "    'YearOfJoining' : [2020, 2019, 2018, 2017],\n",
    "    'DriverLicense' : [True, False, False, True],\n",
    "    'TeacherCertification' : [True, False, False, False],\n",
    "}"
   ]
  },
  {
   "cell_type": "code",
   "execution_count": null,
   "id": "be67f17a",
   "metadata": {},
   "outputs": [],
   "source": [
    "import pandas as pd"
   ]
  },
  {
   "cell_type": "code",
   "execution_count": null,
   "id": "586961ca",
   "metadata": {},
   "outputs": [],
   "source": [
    "people = pd.DataFrame(people_set)\n",
    "people"
   ]
  },
  {
   "cell_type": "code",
   "execution_count": null,
   "id": "0a88a54f",
   "metadata": {},
   "outputs": [],
   "source": [
    "# map() 으로 매핑 확인해서 값 변환\n"
   ]
  },
  {
   "cell_type": "code",
   "execution_count": null,
   "id": "954b9034",
   "metadata": {
    "scrolled": true
   },
   "outputs": [],
   "source": [
    "# 매핑이 안된 값은 그대로? NA? 일까\n"
   ]
  },
  {
   "cell_type": "code",
   "execution_count": null,
   "id": "cc42c5a2",
   "metadata": {},
   "outputs": [],
   "source": []
  },
  {
   "cell_type": "markdown",
   "id": "e99b1706",
   "metadata": {},
   "source": [
    "## Dataframe.applymap(func)\n",
    "- https://pandas.pydata.org/docs/reference/api/pandas.DataFrame.applymap.html#pandas.DataFrame.applymap\n",
    "- 모든 요소에 apply()를 할 수 있다."
   ]
  },
  {
   "cell_type": "code",
   "execution_count": null,
   "id": "c6a69e99",
   "metadata": {},
   "outputs": [],
   "source": []
  },
  {
   "cell_type": "code",
   "execution_count": null,
   "id": "7edfb9b9",
   "metadata": {},
   "outputs": [],
   "source": []
  },
  {
   "cell_type": "code",
   "execution_count": null,
   "id": "19a9fbd1",
   "metadata": {
    "scrolled": true
   },
   "outputs": [],
   "source": [
    "# str같은 경우 Series는 applymap할 필요 없이 가능하나\n"
   ]
  },
  {
   "cell_type": "code",
   "execution_count": null,
   "id": "95ec0d28",
   "metadata": {
    "scrolled": true
   },
   "outputs": [],
   "source": [
    "# Dataframe은 .str이 안된다.\n"
   ]
  },
  {
   "cell_type": "markdown",
   "id": "25639459",
   "metadata": {},
   "source": [
    "모든 요소를 str로 변환하고 대문자로 변환하면"
   ]
  },
  {
   "cell_type": "code",
   "execution_count": null,
   "id": "bee29c74",
   "metadata": {},
   "outputs": [],
   "source": [
    "# 대문자 만드는 함수\n",
    "def uppercase(data):\n",
    "    return data.upper()"
   ]
  },
  {
   "cell_type": "code",
   "execution_count": null,
   "id": "e8340179",
   "metadata": {},
   "outputs": [],
   "source": []
  },
  {
   "cell_type": "code",
   "execution_count": null,
   "id": "f680f2b4",
   "metadata": {},
   "outputs": [],
   "source": []
  },
  {
   "cell_type": "markdown",
   "id": "8ed2dabd",
   "metadata": {},
   "source": [
    "사실 모든 요소 형변환 하는 방법은 따로 있긴하다.\n",
    "위에는 사용자가 함수를 만들어서 모든 요소에 적용할 수 있다는 점을 실습해본 것."
   ]
  },
  {
   "cell_type": "code",
   "execution_count": null,
   "id": "d6717dfe",
   "metadata": {},
   "outputs": [],
   "source": []
  },
  {
   "cell_type": "code",
   "execution_count": null,
   "id": "fefa7cff",
   "metadata": {},
   "outputs": [],
   "source": []
  },
  {
   "cell_type": "code",
   "execution_count": null,
   "id": "62435ed0",
   "metadata": {},
   "outputs": [],
   "source": [
    "# Lambda도 살펴보자\n",
    "df = pd.DataFrame({'A': [1, 2, 3],\n",
    "                   'B': [4, 5, 6],\n",
    "                   'C': [7, 8, 9]})"
   ]
  },
  {
   "cell_type": "code",
   "execution_count": null,
   "id": "8bcb824e",
   "metadata": {},
   "outputs": [],
   "source": [
    "# applymap()을 사용하여 제곱 연산 적용\n",
    "df_squared = df.applymap(lambda x: x**2)"
   ]
  },
  {
   "cell_type": "code",
   "execution_count": null,
   "id": "cd60ef90",
   "metadata": {},
   "outputs": [],
   "source": []
  },
  {
   "cell_type": "code",
   "execution_count": null,
   "id": "67d5ca89",
   "metadata": {},
   "outputs": [],
   "source": []
  },
  {
   "cell_type": "markdown",
   "id": "5b819bf8",
   "metadata": {},
   "source": [
    "## 데이터셋\n",
    "- 고객 성격 분석 : https://www.kaggle.com/datasets/imakash3011/customer-personality-analysis"
   ]
  },
  {
   "cell_type": "code",
   "execution_count": null,
   "id": "782b7b71",
   "metadata": {},
   "outputs": [],
   "source": [
    "import pandas as pd"
   ]
  },
  {
   "cell_type": "code",
   "execution_count": null,
   "id": "a96fe361",
   "metadata": {
    "scrolled": true
   },
   "outputs": [],
   "source": [
    "customers = pd.read_csv('marketing_campaign.csv', sep='\\t', index_col='ID')\n",
    "customers"
   ]
  },
  {
   "cell_type": "code",
   "execution_count": null,
   "id": "3963c9d1",
   "metadata": {},
   "outputs": [],
   "source": [
    "# 다자녀 표시\n"
   ]
  },
  {
   "cell_type": "code",
   "execution_count": null,
   "id": "2362bce7",
   "metadata": {
    "scrolled": true
   },
   "outputs": [],
   "source": [
    "# 모두 대문자로 변환\n"
   ]
  }
 ],
 "metadata": {
  "kernelspec": {
   "display_name": "Python 3 (ipykernel)",
   "language": "python",
   "name": "python3"
  },
  "language_info": {
   "codemirror_mode": {
    "name": "ipython",
    "version": 3
   },
   "file_extension": ".py",
   "mimetype": "text/x-python",
   "name": "python",
   "nbconvert_exporter": "python",
   "pygments_lexer": "ipython3",
   "version": "3.11.5"
  }
 },
 "nbformat": 4,
 "nbformat_minor": 5
}
