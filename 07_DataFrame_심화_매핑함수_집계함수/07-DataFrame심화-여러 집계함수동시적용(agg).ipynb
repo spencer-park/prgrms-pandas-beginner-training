{
 "cells": [
  {
   "cell_type": "markdown",
   "id": "5b819bf8",
   "metadata": {},
   "source": [
    "## 데이터셋\n",
    "- 고객 성격 분석 : https://www.kaggle.com/datasets/imakash3011/customer-personality-analysis"
   ]
  },
  {
   "cell_type": "code",
   "execution_count": null,
   "id": "782b7b71",
   "metadata": {},
   "outputs": [],
   "source": [
    "import pandas as pd"
   ]
  },
  {
   "cell_type": "code",
   "execution_count": null,
   "id": "a96fe361",
   "metadata": {
    "scrolled": true
   },
   "outputs": [],
   "source": [
    "customers = pd.read_csv('marketing_campaign.csv', sep='\\t', index_col='ID')\n",
    "customers"
   ]
  },
  {
   "cell_type": "code",
   "execution_count": null,
   "id": "35980082",
   "metadata": {
    "scrolled": true
   },
   "outputs": [],
   "source": []
  },
  {
   "cell_type": "code",
   "execution_count": null,
   "id": "5f08b07c",
   "metadata": {},
   "outputs": [],
   "source": []
  },
  {
   "cell_type": "code",
   "execution_count": null,
   "id": "6617b4cf",
   "metadata": {},
   "outputs": [],
   "source": []
  },
  {
   "cell_type": "markdown",
   "id": "11215212",
   "metadata": {},
   "source": [
    "## .agg()\n",
    "- https://pandas.pydata.org/docs/reference/api/pandas.DataFrame.agg.html\n",
    "- https://pandas.pydata.org/docs/reference/api/pandas.Series.agg.html\n",
    "\n",
    "지정된 축(axis)을 기준으로 하나 이상의 연산을 사용하여 **데이터를 집계(aggregate)** 하는 기능을 제공\n",
    "\n",
    "### parameter\n",
    "- `func` : function, str, list or dict\n",
    "    - 데이터를 집계하는 데 사용할 함수를 지정. \n",
    "    - 함수로는 DataFrame을 인자로 받을 수 있는 함수나 DataFrame의 apply() 메소드에 사용할 수 있는 함수여야 한다.\n",
    "    - 허용 가능한 조합\n",
    "        - 함수\n",
    "        - 함수 이름의 문자열\n",
    "        - 함수나 함수 이름이 포함된 리스트\n",
    "        - 축 레이블과 함수 또는 함수 이름이 포함된 딕셔너리 형태의 조합  \n",
    "- `axis` : {0 or ‘index}\n",
    "    - 데이터를 집계할 축을 지정. \n",
    "    - 0 또는 'index'인 경우 각 열(column)을 기준으로 함수를 적용.\n",
    "    - 1 또는 'columns'인 경우 각 행(row)을 기준으로 함수를 적용.\n",
    "- `*args`와 `**kwargs`: 함수에 전달할 위치 인자와 키워드 인자를 지정할 수 있다.\n",
    "\n",
    "### return\n",
    "scalar, Series or DataFrame\n",
    "- Scalar: Series.agg() 메소드가 단일 함수로 호출될 때 반환됩니다.\n",
    "- Series: DataFrame.agg() 메소드가 단일 함수로 호출될 때 반환됩니다.\n",
    "- DataFrame: DataFrame.agg() 메소드가 여러 함수로 호출될 때 반환됩니다."
   ]
  },
  {
   "cell_type": "code",
   "execution_count": null,
   "id": "31c25bd7",
   "metadata": {},
   "outputs": [],
   "source": [
    "# 방법1. dict로 전달\n",
    "# Income -> max, Kidhome -> mean\n"
   ]
  },
  {
   "cell_type": "code",
   "execution_count": null,
   "id": "e1eb01f6",
   "metadata": {},
   "outputs": [],
   "source": [
    "# Income -> [min, max, std], Kidhome -> ['min', 'max', 'mean']\n"
   ]
  },
  {
   "cell_type": "code",
   "execution_count": null,
   "id": "1467e804",
   "metadata": {},
   "outputs": [],
   "source": [
    "# 방법2. dict없이 str 또는 list로 전달하기\n"
   ]
  },
  {
   "cell_type": "code",
   "execution_count": null,
   "id": "30dc7b42",
   "metadata": {
    "scrolled": true
   },
   "outputs": [],
   "source": [
    "# max, min\n"
   ]
  },
  {
   "cell_type": "code",
   "execution_count": null,
   "id": "1ed012e5",
   "metadata": {},
   "outputs": [],
   "source": [
    "# max, min, mean\n"
   ]
  },
  {
   "attachments": {
    "image.png": {
     "image/png": "[encoded data removed]"
    }
   },
   "cell_type": "markdown",
   "id": "b59bcba7",
   "metadata": {},
   "source": [
    "![image.png](attachment:image.png)"
   ]
  },
  {
   "cell_type": "markdown",
   "id": "40fafc23",
   "metadata": {},
   "source": [
    "```\n",
    "FutureWarning: ['Education', 'Marital_Status', 'Dt_Customer'] did not aggregate successfully. If any error is raised this will raise in a future version of pandas. Drop these columns/ops to avoid this warning.\n",
    "  customers.agg(['max', 'min', 'mean'])\n",
    "```"
   ]
  },
  {
   "cell_type": "markdown",
   "id": "e0d92f5c",
   "metadata": {},
   "source": [
    "- customers 데이터프레임의 `['Education', 'Marital_Status', 'Dt_Customer']` 열에 숫자형이 아닌 데이터가 포함되어 있기 때문에 에러가 발생.\n",
    "- 이를 방지하기 위해 이러한 열을 집계 연산에서 제외하거나, 원본에서 해당 열을 삭제."
   ]
  },
  {
   "cell_type": "code",
   "execution_count": null,
   "id": "8112a259",
   "metadata": {},
   "outputs": [],
   "source": [
    "# 대처 1 : drop() agg() 체인형으로 해결\n"
   ]
  },
  {
   "cell_type": "code",
   "execution_count": null,
   "id": "eecbc859",
   "metadata": {},
   "outputs": [],
   "source": [
    "# 대처 2 : 새로운 df를 만들어 해결\n"
   ]
  },
  {
   "cell_type": "code",
   "execution_count": null,
   "id": "9bd6a46d",
   "metadata": {
    "scrolled": true
   },
   "outputs": [],
   "source": [
    "# 대처 3 : 원본에서 제거. 대처1을 파괴적으로 처리하는 방법\n"
   ]
  },
  {
   "cell_type": "markdown",
   "id": "c95beede",
   "metadata": {},
   "source": [
    "## 주의 : agg()는 numeric_only=True가 안된다."
   ]
  },
  {
   "cell_type": "markdown",
   "id": "9558def9",
   "metadata": {},
   "source": [
    "간혹 숫자형 데이터만 집계하기위해 agg()에 numeric_only=True쓰는 경우가 있는데 무의미한 코드이다. 생각보다 쉽게 보이는 코드 실수."
   ]
  },
  {
   "cell_type": "code",
   "execution_count": null,
   "id": "2b4c12df",
   "metadata": {},
   "outputs": [],
   "source": [
    "# 초기화\n",
    "customers = pd.read_csv('marketing_campaign.csv', sep='\\t', index_col='ID')"
   ]
  },
  {
   "cell_type": "code",
   "execution_count": null,
   "id": "d9edac13",
   "metadata": {},
   "outputs": [],
   "source": [
    "customers.agg(['max', 'min', 'mean'], numeric_only=True)"
   ]
  },
  {
   "cell_type": "markdown",
   "id": "4a514f93",
   "metadata": {},
   "source": [
    "-  numeric_only=True는 agg() 메소드에는 적용되지 않는 옵션\n",
    "-  numeric_only=True 옵션은 max(), min(), mean() 등과 같은 집계 함수에 적용될 때 사용\n",
    "- https://pandas.pydata.org/docs/reference/api/pandas.DataFrame.max.html"
   ]
  }
 ],
 "metadata": {
  "kernelspec": {
   "display_name": "Python 3 (ipykernel)",
   "language": "python",
   "name": "python3"
  },
  "language_info": {
   "codemirror_mode": {
    "name": "ipython",
    "version": 3
   },
   "file_extension": ".py",
   "mimetype": "text/x-python",
   "name": "python",
   "nbconvert_exporter": "python",
   "pygments_lexer": "ipython3",
   "version": "3.11.5"
  }
 },
 "nbformat": 4,
 "nbformat_minor": 5
}
