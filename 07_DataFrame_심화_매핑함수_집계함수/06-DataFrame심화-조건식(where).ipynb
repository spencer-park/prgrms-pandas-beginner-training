{
 "cells": [
  {
   "cell_type": "markdown",
   "id": "5b819bf8",
   "metadata": {},
   "source": [
    "## 데이터셋\n",
    "- 고객 성격 분석 : https://www.kaggle.com/datasets/imakash3011/customer-personality-analysis"
   ]
  },
  {
   "cell_type": "code",
   "execution_count": null,
   "id": "782b7b71",
   "metadata": {},
   "outputs": [],
   "source": [
    "import pandas as pd"
   ]
  },
  {
   "cell_type": "code",
   "execution_count": null,
   "id": "a96fe361",
   "metadata": {
    "scrolled": true
   },
   "outputs": [],
   "source": [
    "customers = pd.read_csv('marketing_campaign.csv', sep='\\t', index_col='ID')\n",
    "customers"
   ]
  },
  {
   "cell_type": "markdown",
   "id": "f6abd560",
   "metadata": {},
   "source": [
    "## 복습 - 다자녀(2인 이상)을 확인하려면?"
   ]
  },
  {
   "cell_type": "code",
   "execution_count": null,
   "id": "3c9c5754",
   "metadata": {},
   "outputs": [],
   "source": []
  },
  {
   "cell_type": "markdown",
   "id": "aca140ba",
   "metadata": {},
   "source": [
    "## .where() 를 사용하면 \n",
    "- https://pandas.pydata.org/docs/reference/api/pandas.DataFrame.where.html\n",
    "- https://pandas.pydata.org/docs/reference/api/pandas.Series.where.html\n",
    "\n",
    "조건에 맞는 데이터가 아니면 NA를 반환한다."
   ]
  },
  {
   "cell_type": "code",
   "execution_count": null,
   "id": "fa52814f",
   "metadata": {},
   "outputs": [],
   "source": []
  },
  {
   "cell_type": "code",
   "execution_count": null,
   "id": "3c33b2fb",
   "metadata": {
    "scrolled": true
   },
   "outputs": [],
   "source": [
    "# .where()이후 .dropna()\n"
   ]
  },
  {
   "cell_type": "markdown",
   "id": "cb94b02a",
   "metadata": {},
   "source": [
    "## 조건에 맞지않는 데이터는 은닉하기"
   ]
  },
  {
   "cell_type": "code",
   "execution_count": null,
   "id": "af1e105e",
   "metadata": {},
   "outputs": [],
   "source": [
    "# 방법 1. other로 대체하기\n"
   ]
  },
  {
   "cell_type": "code",
   "execution_count": null,
   "id": "19bc8ae2",
   "metadata": {},
   "outputs": [],
   "source": [
    "# 방법 2. default인 NA가 되도록 놓거나 other에 None으로 대체하기\n"
   ]
  }
 ],
 "metadata": {
  "kernelspec": {
   "display_name": "Python 3 (ipykernel)",
   "language": "python",
   "name": "python3"
  },
  "language_info": {
   "codemirror_mode": {
    "name": "ipython",
    "version": 3
   },
   "file_extension": ".py",
   "mimetype": "text/x-python",
   "name": "python",
   "nbconvert_exporter": "python",
   "pygments_lexer": "ipython3",
   "version": "3.11.5"
  }
 },
 "nbformat": 4,
 "nbformat_minor": 5
}
