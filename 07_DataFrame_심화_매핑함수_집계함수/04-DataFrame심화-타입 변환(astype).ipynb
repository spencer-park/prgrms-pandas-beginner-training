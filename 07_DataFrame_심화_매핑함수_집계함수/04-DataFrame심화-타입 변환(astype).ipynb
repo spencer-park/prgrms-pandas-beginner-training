{
 "cells": [
  {
   "cell_type": "markdown",
   "id": "5b819bf8",
   "metadata": {},
   "source": [
    "## 데이터셋\n",
    "- 고객 성격 분석 : https://www.kaggle.com/datasets/imakash3011/customer-personality-analysis"
   ]
  },
  {
   "cell_type": "code",
   "execution_count": null,
   "id": "782b7b71",
   "metadata": {},
   "outputs": [],
   "source": [
    "import pandas as pd"
   ]
  },
  {
   "cell_type": "code",
   "execution_count": null,
   "id": "a96fe361",
   "metadata": {
    "scrolled": true
   },
   "outputs": [],
   "source": [
    "customers = pd.read_csv('marketing_campaign.csv', sep='\\t', index_col='ID')\n",
    "customers"
   ]
  },
  {
   "cell_type": "code",
   "execution_count": null,
   "id": "fa36bbe5",
   "metadata": {
    "scrolled": true
   },
   "outputs": [],
   "source": [
    "# .info()로 dtype과 메모리 확인 - \n"
   ]
  },
  {
   "cell_type": "code",
   "execution_count": null,
   "id": "3ad80c89",
   "metadata": {},
   "outputs": [],
   "source": [
    "# dtypes: float64(1), int64(24), object(3)\n",
    "# memory usage: 507.5+ KB"
   ]
  },
  {
   "cell_type": "markdown",
   "id": "257ecdc8",
   "metadata": {},
   "source": [
    "## .astype(dtype)로 형변환\n",
    "- NA는 형변환이 불가\n",
    "- 이번 실습으로 데이터프레임의 메모리를 줄여보자. 이를 위해 int64를 int8로 줄일 예정\n",
    "    - int64는 64비트를 표현 가능한 범위를 사용\n",
    "    - int8은 8비트로 표현 가능한 범위를 사용"
   ]
  },
  {
   "cell_type": "markdown",
   "id": "6ee31bb8",
   "metadata": {},
   "source": [
    "### [다시보기] 02-Series-속성(Attribute)\n",
    "- https://pandas.pydata.org/docs/user_guide/basics.html#basics-dtypes\n",
    "- 기본적으로 object에 표현할 수 있는 데이터는 int64, float64 등으로 표현된다.\n",
    "- '0'으로 dtype이 나온다면 object를 의미한다.\n",
    "\n",
    "**주로 보이는 dtype들**\n",
    "| dtype      | 설명                      |\n",
    "|------------|--------------------------|\n",
    "| int64      | 정수형 데이터               |\n",
    "| float64    | 실수형 데이터               |\n",
    "| object     | 문자열 데이터               |\n",
    "| bool       | 불리언(참/거짓) 데이터        |\n",
    "| datetime64 | 날짜 및 시간 데이터          |\n",
    "| timedelta  | 두 날짜 또는 시간 간격 데이터  |\n",
    "| category   | 카테고리 형식의 데이터        |\n",
    "| int8       | 8비트 정수형 데이터          |\n",
    "| int16      | 16비트 정수형 데이터         |\n",
    "| int32      | 32비트 정수형 데이터         |\n",
    "| float16    | 16비트 실수형 데이터         |\n",
    "| float32    | 32비트 실수형 데이터         |\n",
    "| complex64  | 64비트 복소수형 데이터        |\n",
    "| complex128 | 128비트 복소수형 데이터       |\n"
   ]
  },
  {
   "cell_type": "code",
   "execution_count": null,
   "id": "88371929",
   "metadata": {
    "scrolled": true
   },
   "outputs": [],
   "source": [
    "# int64 -> int16 탄생연도\n"
   ]
  },
  {
   "cell_type": "code",
   "execution_count": null,
   "id": "ef65f7b6",
   "metadata": {},
   "outputs": [],
   "source": [
    "# dtypes: float64(1), int64(23), object(3), uint16(1)\n",
    "# memory usage: 494.4+ KB"
   ]
  },
  {
   "cell_type": "code",
   "execution_count": null,
   "id": "5cffb60b",
   "metadata": {
    "scrolled": true
   },
   "outputs": [],
   "source": [
    "# int64 -> int8 자녀 수, 청소년 수\n"
   ]
  },
  {
   "cell_type": "code",
   "execution_count": null,
   "id": "6e7af8a9",
   "metadata": {},
   "outputs": [],
   "source": [
    "# dtypes: float64(1), int64(21), int8(2), object(3), uint16(1)\n",
    "# memory usage: 463.8+ KB"
   ]
  },
  {
   "cell_type": "code",
   "execution_count": null,
   "id": "9793a30b",
   "metadata": {},
   "outputs": [],
   "source": [
    "# int64 -> int8 자녀 수, 청소년 수\n"
   ]
  }
 ],
 "metadata": {
  "kernelspec": {
   "display_name": "Python 3 (ipykernel)",
   "language": "python",
   "name": "python3"
  },
  "language_info": {
   "codemirror_mode": {
    "name": "ipython",
    "version": 3
   },
   "file_extension": ".py",
   "mimetype": "text/x-python",
   "name": "python",
   "nbconvert_exporter": "python",
   "pygments_lexer": "ipython3",
   "version": "3.11.5"
  }
 },
 "nbformat": 4,
 "nbformat_minor": 5
}
