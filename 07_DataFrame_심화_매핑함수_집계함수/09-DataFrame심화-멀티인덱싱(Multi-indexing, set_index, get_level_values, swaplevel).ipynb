{
 "cells": [
  {
   "cell_type": "markdown",
   "id": "5b819bf8",
   "metadata": {},
   "source": [
    "## 데이터셋\n",
    "- 고객 성격 분석 : https://www.kaggle.com/datasets/imakash3011/customer-personality-analysis"
   ]
  },
  {
   "cell_type": "code",
   "execution_count": null,
   "id": "782b7b71",
   "metadata": {},
   "outputs": [],
   "source": [
    "import pandas as pd"
   ]
  },
  {
   "cell_type": "code",
   "execution_count": null,
   "id": "a96fe361",
   "metadata": {
    "scrolled": true
   },
   "outputs": [],
   "source": [
    "customers = pd.read_csv('marketing_campaign.csv', sep='\\t')\n",
    "customers"
   ]
  },
  {
   "cell_type": "markdown",
   "id": "e5f80d94",
   "metadata": {},
   "source": [
    "## 멀티인덱스? 멀티인덱싱?\n",
    "- https://pandas.pydata.org/docs/reference/api/pandas.MultiIndex.html#pandas.MultiIndex\n",
    "- 하나 이상의 인덱스 레벨을 가지는 인덱스 구조.\n",
    "- 데이터프레임이나 시리즈의 다차원적인 인덱싱을 지원하기 위해 사용.\n",
    "- 멀티인덱스로 인해 데이터를 계층적(hierarchical)으로 조직화.\n",
    "- 다양한 차원(Multi-level)에서 데이터에 접근 가능.\n",
    "- 멀티인덱스 생성은 데이터프레임 또는 시리즈를 생성할 때 인덱스를 array같은 형태로 지정한다."
   ]
  },
  {
   "cell_type": "markdown",
   "id": "8beb1e92",
   "metadata": {},
   "source": [
    "## 멀티인덱스 설정 방법 1"
   ]
  },
  {
   "cell_type": "code",
   "execution_count": null,
   "id": "7c29482a",
   "metadata": {},
   "outputs": [],
   "source": []
  },
  {
   "cell_type": "markdown",
   "id": "0ba06524",
   "metadata": {},
   "source": [
    "## set_index()로 인한 멀티인덱스 설정"
   ]
  },
  {
   "cell_type": "code",
   "execution_count": null,
   "id": "4a0d4ab5",
   "metadata": {},
   "outputs": [],
   "source": [
    "# 초기화\n"
   ]
  },
  {
   "cell_type": "code",
   "execution_count": null,
   "id": "d639adba",
   "metadata": {},
   "outputs": [],
   "source": []
  },
  {
   "cell_type": "code",
   "execution_count": null,
   "id": "f0b1de20",
   "metadata": {},
   "outputs": [],
   "source": [
    "# index 확인\n"
   ]
  },
  {
   "cell_type": "markdown",
   "id": "eb65fde6",
   "metadata": {},
   "source": [
    "## .get_level_values(level)\n",
    "- https://pandas.pydata.org/docs/reference/api/pandas.Index.get_level_values.html"
   ]
  },
  {
   "cell_type": "code",
   "execution_count": null,
   "id": "4d9f34ef",
   "metadata": {},
   "outputs": [],
   "source": []
  },
  {
   "cell_type": "code",
   "execution_count": null,
   "id": "04cf1bee",
   "metadata": {},
   "outputs": [],
   "source": []
  },
  {
   "cell_type": "markdown",
   "id": "2384687f",
   "metadata": {},
   "source": [
    "## .swaplevel()"
   ]
  },
  {
   "cell_type": "code",
   "execution_count": null,
   "id": "6d8471b1",
   "metadata": {},
   "outputs": [],
   "source": []
  },
  {
   "cell_type": "code",
   "execution_count": null,
   "id": "647002a3",
   "metadata": {},
   "outputs": [],
   "source": []
  },
  {
   "cell_type": "code",
   "execution_count": null,
   "id": "5b6f7fa2",
   "metadata": {},
   "outputs": [],
   "source": []
  },
  {
   "cell_type": "code",
   "execution_count": null,
   "id": "10251825",
   "metadata": {
    "scrolled": false
   },
   "outputs": [],
   "source": [
    "# index가 섞여있으니 정렬\n"
   ]
  },
  {
   "cell_type": "code",
   "execution_count": null,
   "id": "528175c5",
   "metadata": {},
   "outputs": [],
   "source": [
    "# 아니면 index열을 지정\n"
   ]
  },
  {
   "cell_type": "markdown",
   "id": "2598274e",
   "metadata": {},
   "source": [
    "## 멀티인덱스를 활용해 조회하기"
   ]
  },
  {
   "cell_type": "code",
   "execution_count": null,
   "id": "69f7bb7f",
   "metadata": {},
   "outputs": [],
   "source": [
    "# 초기화\n",
    "customers = pd.read_csv('marketing_campaign.csv', sep='\\t', index_col=['Marital_Status', 'ID'])\n",
    "customers"
   ]
  },
  {
   "cell_type": "code",
   "execution_count": null,
   "id": "abbf9eee",
   "metadata": {},
   "outputs": [],
   "source": [
    "# Select row - index level 0\n"
   ]
  },
  {
   "cell_type": "code",
   "execution_count": null,
   "id": "f93a5517",
   "metadata": {},
   "outputs": [],
   "source": [
    "# Select row - columns\n"
   ]
  },
  {
   "cell_type": "code",
   "execution_count": null,
   "id": "71186110",
   "metadata": {},
   "outputs": [],
   "source": []
  },
  {
   "cell_type": "code",
   "execution_count": null,
   "id": "91c298fa",
   "metadata": {},
   "outputs": [],
   "source": []
  },
  {
   "cell_type": "code",
   "execution_count": null,
   "id": "ba41325d",
   "metadata": {},
   "outputs": [],
   "source": []
  },
  {
   "cell_type": "markdown",
   "id": "97d1a3c1",
   "metadata": {},
   "source": [
    "## 슬라이싱(:)을 이용한 인덱스 여러개 값 조회"
   ]
  },
  {
   "cell_type": "code",
   "execution_count": null,
   "id": "dbb58995",
   "metadata": {},
   "outputs": [],
   "source": [
    "# 'Single', 'Alone', 'Absurd', 'YOLO' 만 조회\n"
   ]
  },
  {
   "cell_type": "code",
   "execution_count": null,
   "id": "670d696d",
   "metadata": {},
   "outputs": [],
   "source": [
    "# 2개의 인덱스를 사용할 땐\n",
    "# .loc[([lv1_labels], [lv2_labels])]\n",
    "# 'Single', 'Alone', 'Absurd', 'YOLO'\n",
    "# 5524, 2114, 92, 4369, 11133\n"
   ]
  },
  {
   "cell_type": "markdown",
   "id": "07d50ba3",
   "metadata": {},
   "source": [
    "## 특정 level 생략 - 행 조회"
   ]
  },
  {
   "cell_type": "code",
   "execution_count": null,
   "id": "a8c5abe8",
   "metadata": {},
   "outputs": [],
   "source": [
    "# 특정 row 조회\n"
   ]
  },
  {
   "cell_type": "code",
   "execution_count": null,
   "id": "a3093fb6",
   "metadata": {
    "scrolled": true
   },
   "outputs": [],
   "source": [
    "# 특정 여러 row 조회\n"
   ]
  },
  {
   "cell_type": "code",
   "execution_count": null,
   "id": "5d927c49",
   "metadata": {},
   "outputs": [],
   "source": [
    "# 뒤에 :를 생략하면 에러\n"
   ]
  },
  {
   "cell_type": "markdown",
   "id": "593bfbe9",
   "metadata": {},
   "source": [
    "## 특정 level 생략 - 행과 열 조회"
   ]
  },
  {
   "cell_type": "code",
   "execution_count": null,
   "id": "2a3154e0",
   "metadata": {
    "scrolled": true
   },
   "outputs": [],
   "source": [
    "# 하나씩 해도 에러\n"
   ]
  },
  {
   "cell_type": "code",
   "execution_count": null,
   "id": "b1b9e4e6",
   "metadata": {
    "scrolled": true
   },
   "outputs": [],
   "source": [
    "# 특정 row - col 조회\n"
   ]
  },
  {
   "cell_type": "code",
   "execution_count": null,
   "id": "ea9384da",
   "metadata": {},
   "outputs": [],
   "source": [
    "# 위에서 본 특정 여러 row 조회에서 조금 변경해보면? Try 1\n"
   ]
  },
  {
   "cell_type": "code",
   "execution_count": null,
   "id": "2f68f876",
   "metadata": {},
   "outputs": [],
   "source": [
    "# 위에서 본 특정 여러 row 조회에서 조금 변경해보면? Try 2\n"
   ]
  },
  {
   "cell_type": "code",
   "execution_count": null,
   "id": "521300b7",
   "metadata": {},
   "outputs": [],
   "source": [
    "# 해결 방법 1\n"
   ]
  },
  {
   "cell_type": "code",
   "execution_count": null,
   "id": "00ef50b8",
   "metadata": {},
   "outputs": [],
   "source": []
  },
  {
   "cell_type": "code",
   "execution_count": null,
   "id": "be6f6028",
   "metadata": {},
   "outputs": [],
   "source": [
    "# 해결 방법 2\n"
   ]
  },
  {
   "cell_type": "code",
   "execution_count": null,
   "id": "d5ad38b2",
   "metadata": {},
   "outputs": [],
   "source": []
  }
 ],
 "metadata": {
  "kernelspec": {
   "display_name": "Python 3 (ipykernel)",
   "language": "python",
   "name": "python3"
  },
  "language_info": {
   "codemirror_mode": {
    "name": "ipython",
    "version": 3
   },
   "file_extension": ".py",
   "mimetype": "text/x-python",
   "name": "python",
   "nbconvert_exporter": "python",
   "pygments_lexer": "ipython3",
   "version": "3.11.5"
  }
 },
 "nbformat": 4,
 "nbformat_minor": 5
}
