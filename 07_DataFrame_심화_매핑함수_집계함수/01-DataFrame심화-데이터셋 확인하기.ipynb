{
 "cells": [
  {
   "cell_type": "markdown",
   "id": "5b819bf8",
   "metadata": {},
   "source": [
    "## 데이터셋\n",
    "- 고객 성격 분석 : https://www.kaggle.com/datasets/imakash3011/customer-personality-analysis\n",
    "    - 시트로 보기 : https://docs.google.com/spreadsheets/d/1I24HfDZkeL_VxymoUMdxE3RmjiCW1StjiMd9yCk11vU/edit?usp=sharing"
   ]
  },
  {
   "cell_type": "code",
   "execution_count": null,
   "id": "ace7b2c7",
   "metadata": {},
   "outputs": [],
   "source": [
    "%%html\n",
    "<style> .rendered_html table{margin-left:5px} </style>"
   ]
  },
  {
   "cell_type": "markdown",
   "id": "a1ba42e0",
   "metadata": {},
   "source": [
    "### 사람 정보\n",
    "| 속성              | 설명                                               |\n",
    "| ---------------- | -------------------------------------------------- |\n",
    "| ID               | 고객의 고유 식별자                                  |\n",
    "| Year_Birth       | 고객의 출생 연도                                    |\n",
    "| Education        | 고객의 교육 수준                                   |\n",
    "| Marital_Status   | 고객의 결혼 여부                                   |\n",
    "| Income           | 고객의 연간 가구 소득                              |\n",
    "| Kidhome          | 고객 가구의 어린이 수                               |\n",
    "| Teenhome         | 고객 가구의 십대 수                                |\n",
    "| Dt_Customer      | 고객이 회사에 등록한 날짜                            |\n",
    "| Recency          | 고객의 마지막 구매로부터 경과한 일수                |\n",
    "| Complain         | 고객이 지난 2년 동안 불만을 제기한 경우 1, 그렇지 않으면 0 |"
   ]
  },
  {
   "cell_type": "markdown",
   "id": "a946b326",
   "metadata": {},
   "source": [
    "### 제품\n",
    "| 속성                | 설명                                   |\n",
    "| ------------------ | -------------------------------------- |\n",
    "| MntWines           | 지난 2년간 와인에 지출한 금액               |\n",
    "| MntFruits          | 지난 2년간 과일에 지출한 금액               |\n",
    "| MntMeatProducts    | 지난 2년간 육류에 지출한 금액               |\n",
    "| MntFishProducts    | 지난 2년간 어류에 지출한 금액               |\n",
    "| MntSweetProducts   | 지난 2년간 과자에 지출한 금액               |\n",
    "| MntGoldProds       | 지난 2년간 금에 지출한 금액                 |"
   ]
  },
  {
   "cell_type": "markdown",
   "id": "39bd334b",
   "metadata": {},
   "source": [
    "### 프로모션\n",
    "| 속성                  | 설명                                            |\n",
    "| -------------------- | ----------------------------------------------- |\n",
    "| NumDealsPurchases    | 할인을 받아 구매한 횟수                           |\n",
    "| AcceptedCmp1         | 1차 캠페인에서 고객이 제안을 수락한 경우 1, 그렇지 않으면 0 |\n",
    "| AcceptedCmp2         | 2차 캠페인에서 고객이 제안을 수락한 경우 1, 그렇지 않으면 0 |\n",
    "| AcceptedCmp3         | 3차 캠페인에서 고객이 제안을 수락한 경우 1, 그렇지 않으면 0 |\n",
    "| AcceptedCmp4         | 4차 캠페인에서 고객이 제안을 수락한 경우 1, 그렇지 않으면 0 |\n",
    "| AcceptedCmp5         | 5차 캠페인에서 고객이 제안을 수락한 경우 1, 그렇지 않으면 0 |\n",
    "| Response             | 마지막 캠페인에서 고객이 제안을 수락한 경우 1, 그렇지 않으면 0 |"
   ]
  },
  {
   "cell_type": "markdown",
   "id": "57dd9aa7",
   "metadata": {},
   "source": [
    "### 장소\n",
    "| 속성                   | 설명                                           |\n",
    "| --------------------- | ---------------------------------------------- |\n",
    "| NumWebPurchases       | 회사 웹사이트를 통해 구매한 횟수                    |\n",
    "| NumCatalogPurchases   | 카탈로그를 사용하여 구매한 횟수                     |\n",
    "| NumStorePurchases     | 직접 매장에서 구매한 횟수                           |\n",
    "| NumWebVisitsMonth     | 지난 달 동안 회사 웹사이트를 방문한 횟수               |"
   ]
  },
  {
   "cell_type": "code",
   "execution_count": null,
   "id": "3b3d0eb9",
   "metadata": {},
   "outputs": [],
   "source": [
    "import pandas as pd"
   ]
  },
  {
   "cell_type": "code",
   "execution_count": null,
   "id": "59b43f23",
   "metadata": {},
   "outputs": [],
   "source": []
  },
  {
   "cell_type": "code",
   "execution_count": null,
   "id": "53afd107",
   "metadata": {},
   "outputs": [],
   "source": []
  },
  {
   "cell_type": "code",
   "execution_count": null,
   "id": "2dbac8d1",
   "metadata": {},
   "outputs": [],
   "source": []
  },
  {
   "cell_type": "code",
   "execution_count": null,
   "id": "a1cf800a",
   "metadata": {},
   "outputs": [],
   "source": [
    "# 데이터프레임 정보\n"
   ]
  },
  {
   "cell_type": "code",
   "execution_count": null,
   "id": "9792507e",
   "metadata": {},
   "outputs": [],
   "source": [
    "# 집계통계 기술\n"
   ]
  },
  {
   "cell_type": "code",
   "execution_count": null,
   "id": "5704bebd",
   "metadata": {},
   "outputs": [],
   "source": [
    "# 집계통계 기술 - 숫자 아닌 정보 확인\n"
   ]
  },
  {
   "cell_type": "markdown",
   "id": "01f68579",
   "metadata": {},
   "source": [
    "### 교육 수준 설명\n",
    "| 교육 수준      | 설명                                                         |\n",
    "|:------------: | :------------------------------------------------------------ |\n",
    "| Basic        | 고졸, 대학교 재학생. 해당하는 교육 수준이 명확하지 않거나, 특정한 학위를 가지지 않은 기본 수준. |\n",
    "| Graduation   | 학사. 해당 학교나 교육기관에서 학위를 취득하여 졸업한 수준.|\n",
    "| 2nd Cycle    | 대학원 재학생. 석사 학위 이전의 학위 수준. |\n",
    "| Master       | 석사. 해당 분야에서 전문적인 지식과 기술을 습득하는 수준. |\n",
    "| PhD          | 박사. 최고 학위. 해당 분야에서 깊은 연구를 수행하고 새로운 지식을 창출하는 수준. |"
   ]
  }
 ],
 "metadata": {
  "kernelspec": {
   "display_name": "Python 3 (ipykernel)",
   "language": "python",
   "name": "python3"
  },
  "language_info": {
   "codemirror_mode": {
    "name": "ipython",
    "version": 3
   },
   "file_extension": ".py",
   "mimetype": "text/x-python",
   "name": "python",
   "nbconvert_exporter": "python",
   "pygments_lexer": "ipython3",
   "version": "3.11.5"
  }
 },
 "nbformat": 4,
 "nbformat_minor": 5
}
