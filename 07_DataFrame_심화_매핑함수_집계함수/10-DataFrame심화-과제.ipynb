{
 "cells": [
  {
   "cell_type": "markdown",
   "id": "5b819bf8",
   "metadata": {},
   "source": [
    "## 데이터셋\n",
    "- 고객 성격 분석 : https://www.kaggle.com/datasets/imakash3011/customer-personality-analysis"
   ]
  },
  {
   "cell_type": "markdown",
   "id": "ce351fac",
   "metadata": {},
   "source": [
    "## Pandas 참조"
   ]
  },
  {
   "cell_type": "markdown",
   "id": "7103564e",
   "metadata": {},
   "source": [
    "## marketing_campaign.csv 가져오기\n",
    "- multi_index : 'Marital_Status', 'Education' 순"
   ]
  },
  {
   "cell_type": "markdown",
   "id": "f23fdcbd",
   "metadata": {},
   "source": [
    "## Marital_Status 순으로 정렬"
   ]
  },
  {
   "cell_type": "markdown",
   "id": "e2049785",
   "metadata": {},
   "source": [
    "## Married & Graduation 조회"
   ]
  },
  {
   "cell_type": "markdown",
   "id": "71cc7601",
   "metadata": {},
   "source": [
    "- 코드가 잘못된 건 아닌데, 멀티 인덱싱 정렬이 안되서 경고가 뜬다.\n",
    "- 데이터프레임의 인덱싱 성능이 저하될 수 있기 때문에 경고가 발생.\n",
    "- 때문에 정렬이 필요하다."
   ]
  },
  {
   "cell_type": "markdown",
   "id": "dfe95ce0",
   "metadata": {},
   "source": [
    "## Year_Birth와 Income의 max, min, mean을 확인\n",
    "- 단 agg를 사용해서!"
   ]
  },
  {
   "cell_type": "markdown",
   "id": "9d69b23d",
   "metadata": {},
   "source": [
    "## Year_Birth와 Income의 max, min, mean을 확인\n",
    "- 이번에는 apply를 이용해서"
   ]
  },
  {
   "cell_type": "markdown",
   "id": "92f03a5a",
   "metadata": {},
   "source": [
    "## 수익을 다음으로 분류\n",
    "- 60000이상 고임금\n",
    "- 30000이상~60000미만 평균임금\n",
    "- 30000미만 저임금\n",
    "- 열 이름은 'Class_Income'"
   ]
  },
  {
   "cell_type": "markdown",
   "id": "c8dcab64",
   "metadata": {},
   "source": [
    "## Alone, Absurd, YOLO를 Single로 변경\n",
    "1. reset_index()로 되돌리고\n",
    "2. replace으로 값을 바꾼다음에\n",
    "3. 다시 set_index()로 설정해보자.\n",
    "4. 실제로 잘 변경되었는지 get_level_values(0)후 value_counts()로 데이터 경우의 수를 확인해보자."
   ]
  }
 ],
 "metadata": {
  "kernelspec": {
   "display_name": "Python 3 (ipykernel)",
   "language": "python",
   "name": "python3"
  },
  "language_info": {
   "codemirror_mode": {
    "name": "ipython",
    "version": 3
   },
   "file_extension": ".py",
   "mimetype": "text/x-python",
   "name": "python",
   "nbconvert_exporter": "python",
   "pygments_lexer": "ipython3",
   "version": "3.11.5"
  }
 },
 "nbformat": 4,
 "nbformat_minor": 5
}
