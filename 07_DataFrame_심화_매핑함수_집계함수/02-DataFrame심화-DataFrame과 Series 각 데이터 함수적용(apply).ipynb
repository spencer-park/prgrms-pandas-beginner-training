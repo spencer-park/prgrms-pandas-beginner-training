{
 "cells": [
  {
   "cell_type": "markdown",
   "id": "5b819bf8",
   "metadata": {},
   "source": [
    "## 데이터셋\n",
    "- 고객 성격 분석 : https://www.kaggle.com/datasets/imakash3011/customer-personality-analysis"
   ]
  },
  {
   "cell_type": "code",
   "execution_count": null,
   "id": "ace7b2c7",
   "metadata": {},
   "outputs": [],
   "source": [
    "%%html\n",
    "<style> .rendered_html table{margin-left:5px} </style>"
   ]
  },
  {
   "cell_type": "markdown",
   "id": "a1ba42e0",
   "metadata": {},
   "source": [
    "### 사람 정보\n",
    "| 속성              | 설명                                               |\n",
    "| ---------------- | -------------------------------------------------- |\n",
    "| ID               | 고객의 고유 식별자                                  |\n",
    "| Year_Birth       | 고객의 출생 연도                                    |\n",
    "| Education        | 고객의 교육 수준                                   |\n",
    "| Marital_Status   | 고객의 결혼 여부                                   |\n",
    "| Income           | 고객의 연간 가구 소득                              |\n",
    "| Kidhome          | 고객 가구의 어린이 수                               |\n",
    "| Teenhome         | 고객 가구의 십대 수                                |\n",
    "| Dt_Customer      | 고객이 회사에 등록한 날짜                            |\n",
    "| Recency          | 고객의 마지막 구매로부터 경과한 일수                |\n",
    "| Complain         | 고객이 지난 2년 동안 불만을 제기한 경우 1, 그렇지 않으면 0 |"
   ]
  },
  {
   "cell_type": "markdown",
   "id": "a946b326",
   "metadata": {},
   "source": [
    "### 제품\n",
    "| 속성                | 설명                                   |\n",
    "| ------------------ | -------------------------------------- |\n",
    "| MntWines           | 지난 2년간 와인에 지출한 금액               |\n",
    "| MntFruits          | 지난 2년간 과일에 지출한 금액               |\n",
    "| MntMeatProducts    | 지난 2년간 육류에 지출한 금액               |\n",
    "| MntFishProducts    | 지난 2년간 어류에 지출한 금액               |\n",
    "| MntSweetProducts   | 지난 2년간 과자에 지출한 금액               |\n",
    "| MntGoldProds       | 지난 2년간 금에 지출한 금액                 |"
   ]
  },
  {
   "cell_type": "markdown",
   "id": "39bd334b",
   "metadata": {},
   "source": [
    "### 프로모션\n",
    "| 속성                  | 설명                                            |\n",
    "| -------------------- | ----------------------------------------------- |\n",
    "| NumDealsPurchases    | 할인을 받아 구매한 횟수                           |\n",
    "| AcceptedCmp1         | 1차 캠페인에서 고객이 제안을 수락한 경우 1, 그렇지 않으면 0 |\n",
    "| AcceptedCmp2         | 2차 캠페인에서 고객이 제안을 수락한 경우 1, 그렇지 않으면 0 |\n",
    "| AcceptedCmp3         | 3차 캠페인에서 고객이 제안을 수락한 경우 1, 그렇지 않으면 0 |\n",
    "| AcceptedCmp4         | 4차 캠페인에서 고객이 제안을 수락한 경우 1, 그렇지 않으면 0 |\n",
    "| AcceptedCmp5         | 5차 캠페인에서 고객이 제안을 수락한 경우 1, 그렇지 않으면 0 |\n",
    "| Response             | 마지막 캠페인에서 고객이 제안을 수락한 경우 1, 그렇지 않으면 0 |"
   ]
  },
  {
   "cell_type": "markdown",
   "id": "57dd9aa7",
   "metadata": {},
   "source": [
    "### 장소\n",
    "| 속성                   | 설명                                           |\n",
    "| --------------------- | ---------------------------------------------- |\n",
    "| NumWebPurchases       | 회사 웹사이트를 통해 구매한 횟수                    |\n",
    "| NumCatalogPurchases   | 카탈로그를 사용하여 구매한 횟수                     |\n",
    "| NumStorePurchases     | 직접 매장에서 구매한 횟수                           |\n",
    "| NumWebVisitsMonth     | 지난 달 동안 회사 웹사이트를 방문한 횟수               |"
   ]
  },
  {
   "cell_type": "markdown",
   "id": "01f68579",
   "metadata": {},
   "source": [
    "### 교육 수준 설명\n",
    "| 교육 수준      | 설명                                                         |\n",
    "|:------------: | :------------------------------------------------------------ |\n",
    "| Basic        | 고졸, 대학교 재학생. 해당하는 교육 수준이 명확하지 않거나, 특정한 학위를 가지지 않은 기본 수준. |\n",
    "| Graduation   | 학사. 해당 학교나 교육기관에서 학위를 취득하여 졸업한 수준.|\n",
    "| 2nd Cycle    | 대학원 재학생. 석사 학위 이전의 학위 수준. |\n",
    "| Master       | 석사. 해당 분야에서 전문적인 지식과 기술을 습득하는 수준. |\n",
    "| PhD          | 박사. 최고 학위. 해당 분야에서 깊은 연구를 수행하고 새로운 지식을 창출하는 수준. |"
   ]
  },
  {
   "cell_type": "code",
   "execution_count": null,
   "id": "782b7b71",
   "metadata": {},
   "outputs": [],
   "source": [
    "import pandas as pd"
   ]
  },
  {
   "cell_type": "code",
   "execution_count": null,
   "id": "a96fe361",
   "metadata": {},
   "outputs": [],
   "source": [
    "customers = pd.read_csv('marketing_campaign.csv', sep='\\t', index_col='ID')\n",
    "customers"
   ]
  },
  {
   "cell_type": "code",
   "execution_count": null,
   "id": "1a3eccd7",
   "metadata": {},
   "outputs": [],
   "source": [
    "# 나이 계산 - 데이터셋이 2021.08.23임\n"
   ]
  },
  {
   "cell_type": "code",
   "execution_count": null,
   "id": "c10bc131",
   "metadata": {},
   "outputs": [],
   "source": [
    "# 연도 옆에 추가\n"
   ]
  },
  {
   "cell_type": "markdown",
   "id": "b1f8b663",
   "metadata": {},
   "source": [
    "## .apply(func)\n",
    "- https://pandas.pydata.org/docs/reference/api/pandas.DataFrame.apply.html\n",
    "- 시리즈에 각 함수 실행결과를 적용시킨다."
   ]
  },
  {
   "cell_type": "markdown",
   "id": "8bec5cef",
   "metadata": {},
   "source": [
    "| 구분   | 나이 범위 | 설명 |\n",
    "|:-|:-   |:-|\n",
    "| 아동   | 0세부터 만 12세까지 | 0세부터 12세까지의 나이를 아동으로 분류. |\n",
    "| 청소년 | 만 13세부터 만 19세까지 | 13세부터 19세까지의 나이를 청소년으로 분류. |\n",
    "| 청년   | 만 20세부터 39세까지 | 20세부터 39세까지의 나이를 청년으로 분류. 청년은 취업, 결혼, 주택 구입 등의 중요한 이벤트가 발생하는 시기입니다. |\n",
    "| 중년   | 만 40세부터 64세까지 | 40세부터 64세까지의 나이를 중년으로 분류. 중년은 청년기 이후의 성숙한 시기로 여겨지며, 가정을 이루고 가족을 양육하는 등의 책임을 맡을 때입니다. |\n",
    "| 노년   | 만 65세 이상 | 65세 이상의 나이를 노년으로 분류. 노년은 고령자로 여겨지며, 사회적 보호와 건강 관리 등에 대한 관심이 증가합니다. |"
   ]
  },
  {
   "cell_type": "code",
   "execution_count": null,
   "id": "a49f6507",
   "metadata": {},
   "outputs": [],
   "source": []
  },
  {
   "cell_type": "code",
   "execution_count": null,
   "id": "29497244",
   "metadata": {},
   "outputs": [],
   "source": []
  },
  {
   "cell_type": "code",
   "execution_count": null,
   "id": "f96a3985",
   "metadata": {},
   "outputs": [],
   "source": []
  },
  {
   "cell_type": "code",
   "execution_count": null,
   "id": "ad7be664",
   "metadata": {},
   "outputs": [],
   "source": []
  },
  {
   "cell_type": "code",
   "execution_count": null,
   "id": "be262a20",
   "metadata": {},
   "outputs": [],
   "source": [
    "# 열 이동 = 제거&반환 - 새로 삽입\n"
   ]
  },
  {
   "cell_type": "code",
   "execution_count": null,
   "id": "3b3429ff",
   "metadata": {},
   "outputs": [],
   "source": [
    "# 연령 분류 확인\n"
   ]
  },
  {
   "cell_type": "markdown",
   "id": "1ead5deb",
   "metadata": {},
   "source": [
    "## .apply(func)의 여러 열 데이터 활용하기\n",
    "- 육류, 어류에 대한 지출 금액을 합산하기"
   ]
  },
  {
   "cell_type": "code",
   "execution_count": null,
   "id": "d3bd3566",
   "metadata": {},
   "outputs": [],
   "source": []
  },
  {
   "cell_type": "code",
   "execution_count": null,
   "id": "5b2ac08a",
   "metadata": {},
   "outputs": [],
   "source": []
  },
  {
   "cell_type": "code",
   "execution_count": null,
   "id": "416c8bbf",
   "metadata": {},
   "outputs": [],
   "source": []
  },
  {
   "cell_type": "code",
   "execution_count": null,
   "id": "85f962da",
   "metadata": {},
   "outputs": [],
   "source": []
  },
  {
   "cell_type": "code",
   "execution_count": null,
   "id": "12df5929",
   "metadata": {},
   "outputs": [],
   "source": []
  },
  {
   "cell_type": "markdown",
   "id": "b6257fbf",
   "metadata": {},
   "source": [
    "## .apply(lambda_func)\n",
    "- 연간 수익(Income)을 달러->원화로 변경"
   ]
  },
  {
   "cell_type": "code",
   "execution_count": null,
   "id": "b3952f18",
   "metadata": {},
   "outputs": [],
   "source": [
    "# 2023-12-09 기준 1달러 == 1312원\n"
   ]
  },
  {
   "cell_type": "code",
   "execution_count": null,
   "id": "2559e118",
   "metadata": {},
   "outputs": [],
   "source": []
  }
 ],
 "metadata": {
  "kernelspec": {
   "display_name": "Python 3 (ipykernel)",
   "language": "python",
   "name": "python3"
  },
  "language_info": {
   "codemirror_mode": {
    "name": "ipython",
    "version": 3
   },
   "file_extension": ".py",
   "mimetype": "text/x-python",
   "name": "python",
   "nbconvert_exporter": "python",
   "pygments_lexer": "ipython3",
   "version": "3.11.5"
  }
 },
 "nbformat": 4,
 "nbformat_minor": 5
}
