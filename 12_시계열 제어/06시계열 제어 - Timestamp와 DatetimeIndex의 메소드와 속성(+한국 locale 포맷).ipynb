{
 "cells": [
  {
   "cell_type": "markdown",
   "id": "8c73dbf4",
   "metadata": {},
   "source": [
    "## Timestamp의 메소드(Methods)와 속성(Attributes)\n",
    "- https://pandas.pydata.org/docs/reference/api/pandas.Timestamp.html\n",
    "    - 하단의 Attributes와 Methods"
   ]
  },
  {
   "cell_type": "markdown",
   "id": "d553d09f",
   "metadata": {},
   "source": [
    "### 속성(Attributes)와 속성(Properties)\n",
    "- 일반적으로 동일의미로 사용. 그러나 일부 상황에서는 다르게 사용할 때가 있음\n",
    "- Pandas는 일반적인 상황처럼 동일의미로 쓰고 있음\n",
    "\n",
    "#### case 1. 속성(Properties) = 속성(Attributes) + 메소드(Methods)\n",
    "\n",
    "#### case 1+a. 객체는 Properties, 값은 Attributes\n",
    "- .속성이 Object면 Properties\n",
    "- .속성이 값, 수치라면 Attributes\n",
    "- .속성이 함수라면 Methods\n",
    "\n",
    "#### case 2. Attributes != Properties\n",
    "- Attributes : 객체의 특정한 데이터나 상태를 의미\n",
    "    - DataFrame에서 values, dtype, ndim 같이 DataFrame의 값이나 데이터 타입, 차원 등을 설명\n",
    "- Properties : 객체의 특정한 특성이나 특징을 표현\n",
    "    - DataFrame에서 shape, columns, index 같이 DataFrame의 구조나 크기를 설명\n",
    "   "
   ]
  },
  {
   "cell_type": "code",
   "execution_count": null,
   "id": "7f7de7b8",
   "metadata": {},
   "outputs": [],
   "source": [
    "import pandas as pd"
   ]
  },
  {
   "cell_type": "code",
   "execution_count": null,
   "id": "47efac7d",
   "metadata": {},
   "outputs": [],
   "source": [
    "start = '2024-01-01'\n",
    "end = '2024-12-31'"
   ]
  },
  {
   "cell_type": "code",
   "execution_count": null,
   "id": "1abc178f",
   "metadata": {
    "scrolled": true
   },
   "outputs": [],
   "source": []
  },
  {
   "cell_type": "code",
   "execution_count": null,
   "id": "f02d06ad",
   "metadata": {},
   "outputs": [],
   "source": [
    "data = list(range(200, 1400, 100))"
   ]
  },
  {
   "cell_type": "code",
   "execution_count": null,
   "id": "72b68e61",
   "metadata": {},
   "outputs": [],
   "source": []
  },
  {
   "cell_type": "markdown",
   "id": "c8130d69",
   "metadata": {},
   "source": [
    "## DatetimeIndex = [Timestamp,...] 의 속성 접근"
   ]
  },
  {
   "cell_type": "code",
   "execution_count": null,
   "id": "500461e3",
   "metadata": {},
   "outputs": [],
   "source": []
  },
  {
   "cell_type": "code",
   "execution_count": null,
   "id": "a1b83868",
   "metadata": {},
   "outputs": [],
   "source": []
  },
  {
   "cell_type": "code",
   "execution_count": null,
   "id": "64031bd5",
   "metadata": {},
   "outputs": [],
   "source": []
  },
  {
   "cell_type": "code",
   "execution_count": null,
   "id": "dffc23eb",
   "metadata": {},
   "outputs": [],
   "source": []
  },
  {
   "cell_type": "code",
   "execution_count": null,
   "id": "a8c92cb8",
   "metadata": {},
   "outputs": [],
   "source": [
    "# 2024.2월 말일 -> 29일 \n"
   ]
  },
  {
   "cell_type": "code",
   "execution_count": null,
   "id": "ea808e29",
   "metadata": {},
   "outputs": [],
   "source": []
  },
  {
   "cell_type": "code",
   "execution_count": null,
   "id": "17a65768",
   "metadata": {},
   "outputs": [],
   "source": [
    "# 월 0, ...목 3\n"
   ]
  },
  {
   "cell_type": "code",
   "execution_count": null,
   "id": "5643bb3d",
   "metadata": {
    "scrolled": true
   },
   "outputs": [],
   "source": []
  },
  {
   "cell_type": "code",
   "execution_count": null,
   "id": "60fd6752",
   "metadata": {},
   "outputs": [],
   "source": []
  },
  {
   "cell_type": "code",
   "execution_count": null,
   "id": "a3343e74",
   "metadata": {},
   "outputs": [],
   "source": [
    "# 2024.01.31 (수)\n"
   ]
  },
  {
   "cell_type": "code",
   "execution_count": null,
   "id": "65e1730b",
   "metadata": {},
   "outputs": [],
   "source": [
    "# 2024.12.31(화)는 2024년 마지막 주이면서 2025년의 첫번째 주\n"
   ]
  },
  {
   "cell_type": "markdown",
   "id": "a11f2c87",
   "metadata": {},
   "source": [
    "## DatetimeIndex 활용 예제 - 월(Month) 열 추가\n",
    "- https://pandas.pydata.org/docs/reference/indexing.html#datetimeindex\n",
    "- https://pandas.pydata.org/docs/reference/api/pandas.DatetimeIndex.html"
   ]
  },
  {
   "cell_type": "code",
   "execution_count": null,
   "id": "343355d9",
   "metadata": {},
   "outputs": [],
   "source": []
  },
  {
   "cell_type": "code",
   "execution_count": null,
   "id": "0d705ce8",
   "metadata": {},
   "outputs": [],
   "source": []
  },
  {
   "cell_type": "markdown",
   "id": "017608bd",
   "metadata": {},
   "source": [
    "## DatetimeIndex 활용 예제 - 요일(day) 열 추가"
   ]
  },
  {
   "cell_type": "code",
   "execution_count": null,
   "id": "87706266",
   "metadata": {},
   "outputs": [],
   "source": []
  },
  {
   "cell_type": "code",
   "execution_count": null,
   "id": "46c7d19d",
   "metadata": {
    "scrolled": true
   },
   "outputs": [],
   "source": []
  },
  {
   "cell_type": "markdown",
   "id": "125f6d00",
   "metadata": {},
   "source": [
    "## DatetimeIndex 활용 예제 - 요일(day) 열 추가 - 한국(korea)버전\n",
    "| 언어           | 로케일 코드     |\n",
    "| -------------- | --------------- |\n",
    "| 한글 (한국)    | ko_KR.utf8    |\n",
    "| 영어 (미국)    | en_US.utf8    |\n",
    "| 영어 (영국)    | en_GB.utf8    |\n",
    "| 스페인어 (스페인) | es_ES.utf8  |\n",
    "| 프랑스어 (프랑스) | fr_FR.utf8  |\n",
    "| 독일어 (독일)   | de_DE.utf8    |\n",
    "| 이탈리아어 (이탈리아) | it_IT.utf8 |\n",
    "| 일본어 (일본)   | ja_JP.utf8    |\n",
    "| 중국어 (중국)   | zh_CN.utf8    |\n",
    "| 러시아어 (러시아) | ru_RU.utf8   |"
   ]
  },
  {
   "cell_type": "code",
   "execution_count": null,
   "id": "0065670d",
   "metadata": {},
   "outputs": [],
   "source": []
  },
  {
   "cell_type": "code",
   "execution_count": null,
   "id": "168a8c43",
   "metadata": {},
   "outputs": [],
   "source": []
  }
 ],
 "metadata": {
  "kernelspec": {
   "display_name": "Python 3 (ipykernel)",
   "language": "python",
   "name": "python3"
  },
  "language_info": {
   "codemirror_mode": {
    "name": "ipython",
    "version": 3
   },
   "file_extension": ".py",
   "mimetype": "text/x-python",
   "name": "python",
   "nbconvert_exporter": "python",
   "pygments_lexer": "ipython3",
   "version": "3.11.5"
  }
 },
 "nbformat": 4,
 "nbformat_minor": 5
}
