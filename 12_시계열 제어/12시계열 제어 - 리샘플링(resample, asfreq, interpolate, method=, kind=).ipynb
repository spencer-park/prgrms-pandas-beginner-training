{
 "cells": [
  {
   "cell_type": "markdown",
   "id": "ad76ff07",
   "metadata": {},
   "source": [
    "## 재샘플링(resample)\n",
    "- https://pandas.pydata.org/docs/reference/api/pandas.DataFrame.resample.html\n",
    "- https://pandas.pydata.org/docs/reference/api/pandas.Series.resample.html\n",
    "- 시계열 데이터의 주기를 변경하는 작업\n",
    "- 재샘플링 유형\n",
    "- 다운 샘플링 : 데이터 빈도(frequency)를 더 낮은 주기로 설정\n",
    "- 업 샘플링 : 데이터 빈도를 더 높은 주기로 업샘플링"
   ]
  },
  {
   "cell_type": "markdown",
   "id": "58751ee4",
   "metadata": {},
   "source": [
    "## 1. 다운샘플링 간단 예제"
   ]
  },
  {
   "cell_type": "markdown",
   "id": "508507f5",
   "metadata": {},
   "source": [
    "1. 주어진 데이터의 빈도를 낮추는 작업\n",
    "- 데이터가 일별로 주어졌을 때 주간, 월간 등 더 낮은 주기로 데이터를 집계\n",
    "1. 다운샘플링할 주기를 나타내는 문자열 또는 오프셋 문자열을 인자로 전달\n",
    "1. 다운샘플링 시에는 **집계(aggregation) 함수를 사용**하여 데이터를 요약"
   ]
  },
  {
   "cell_type": "code",
   "execution_count": null,
   "id": "b3222b88",
   "metadata": {},
   "outputs": [],
   "source": [
    "import pandas as pd"
   ]
  },
  {
   "cell_type": "code",
   "execution_count": null,
   "id": "a564df38",
   "metadata": {},
   "outputs": [],
   "source": [
    "# 데이터 생성\n",
    "data = {'value': [10, 20, 30, 40, 50]}\n",
    "index = pd.date_range('2021-01-01', periods=5, freq='D')\n",
    "df = pd.DataFrame(data, index=index)\n",
    "df"
   ]
  },
  {
   "cell_type": "code",
   "execution_count": null,
   "id": "1cf84d62",
   "metadata": {},
   "outputs": [],
   "source": [
    "# 주간 평균으로 다운샘플링\n"
   ]
  },
  {
   "cell_type": "markdown",
   "id": "74ab0b16",
   "metadata": {},
   "source": [
    "## 2. 업샘플링 간단 예제\n",
    "- https://pandas.pydata.org/docs/reference/api/pandas.core.resample.Resampler.asfreq.html\n",
    "- https://pandas.pydata.org/docs/reference/api/pandas.DataFrame.interpolate.html\n",
    "- https://pandas.pydata.org/docs/reference/api/pandas.core.resample.Resampler.interpolate.html\n",
    "1. 주어진 데이터의 빈도를 높이는 작업\n",
    "    - 데이터가 월별로 주어졌을 때 일별, 시간별 등 더 높은 주기로 데이터를 채움\n",
    "1. 업샘플링할 주기를 나타내는 문자열 또는 오프셋 문자열을 인자로 전달\n",
    "1. 업샘플링 시에는 **보간(interpolation)을 통해 데이터를 채움**\n",
    "1. 보간 방식을 `method=` 로 정해줘야함"
   ]
  },
  {
   "cell_type": "code",
   "execution_count": null,
   "id": "e207d333",
   "metadata": {},
   "outputs": [],
   "source": [
    "# 원본 데이터 생성\n",
    "data = {'value': [10, 20]}\n",
    "index = pd.to_datetime(['2021-01-01', '2021-02-01'])\n",
    "df = pd.DataFrame(data, index=index)\n",
    "df"
   ]
  },
  {
   "cell_type": "code",
   "execution_count": null,
   "id": "f0a9f583",
   "metadata": {
    "scrolled": true
   },
   "outputs": [],
   "source": [
    "# 일별로 업샘플링하고 선형 보간으로 데이터 채우기\n"
   ]
  },
  {
   "cell_type": "markdown",
   "id": "95d54b8d",
   "metadata": {},
   "source": [
    "### 보간(Interpolation)\n",
    "- 주어진 데이터 사이에 누락값을 추정하는 방법\n",
    "- 선형 보간, 최근접 이웃 보간, 다항식 보간 등\n",
    "\n",
    "### .asfreq()\n",
    "- 업샘플링 시에 사용되는 함수\n",
    "- 주어진 주기에 맞게 데이터를 새로운 인덱스로 재구성\n",
    "- 누락된 데이터를 NaN 값으로 채움\n",
    "\n",
    "### .interpolate()\n",
    "- 업샘플링 시에 사용되는 함수로, 보간을 수행하여 누락된 값을 추정\n",
    "- method 매개변수를 사용하여 다른 보간 방법을 선택"
   ]
  },
  {
   "cell_type": "markdown",
   "id": "14a73175",
   "metadata": {},
   "source": [
    "### .interpolate() 의 method= \n",
    "알아야할 기초우선순위를 두어 정리해보았다.\n",
    "\n",
    "| 순서 | 보간방식 | 키워드 | 보간 설명 |\n",
    "| :----|:----|:----:|:------|\n",
    "| 1| 선형 | **linear** | 인덱스를 무시하고 값들을 일정 간격으로 취급하여 보간 |\n",
    "| 2| 시간 | **time** | 일별 및 더 높은 해상도의 데이터에 대해 지정된 길이의 간격으로 보간 |\n",
    "| 3| 인덱스 | **index**, **values**| 인덱스의 실제 숫자 값을 사용하여 보간 |\n",
    "| 4| 패드 | **pad**| 기존 값들을 사용하여 NaN 값을 채움 |\n",
    "| 5| 가장 가까운 값 | **nearest**, **zero** | 가장 가까운 값 또는 0 값을 사용하여 보간 |\n",
    "| 6| 선형 스플라인 | **slinear** | 선형 스플라인 보간을 수행. 인접한 두 지점을 직선으로 연결하여 보간 |\n",
    "| 7| 2차 스플라인 | **quadratic** | 2차 스플라인 보간을 수행. 인접한 세 지점을 포함하는 2차 곡선으로 보간 |\n",
    "| 8| 3차 스플라인 | **cubic** | 3차 스플라인 보간을 수행. 인접한 네 지점을 포함하는 3차 곡선으로 보간 |\n",
    "| 9| 다항식 | **polynomial** | 다항식 보간을 수행. 차수(order를 지정하여 다항식으로 데이터를 보간 |\n",
    "| 10 | 스플라인 | **spline** | 스플라인 보간을 수행. 곡선을 이용하여 데이터를 보간. 차수(order를 지정해야 함. |\n",
    "| 11 | 다양한 SciPy 보간 방법 | **krogh**, **piecewise_polynomial**, **pchip**, **akima**, **cubicspline** | SciPy 라이브러리의 다양한 보간 방법을 활용 |\n",
    "| 12 | 도함수를 이용한 보간 | **from_derivatives** | 도함수를 이용하여 보간 |\n"
   ]
  },
  {
   "cell_type": "markdown",
   "id": "98c7b7c9",
   "metadata": {},
   "source": [
    "## 본 데이터 실습 - 다운샘플링"
   ]
  },
  {
   "cell_type": "markdown",
   "id": "aa47890d",
   "metadata": {},
   "source": [
    "### [다시보는] Offset aliases\n",
    "- https://pandas.pydata.org/docs/user_guide/timeseries.html#offset-aliases\n",
    "- 다양한 시계열 빈도에 대해 유용한 문자열 별칭\n",
    "- 원하는 빈도에 맞게 데이터를 처리하고 분석\n",
    "\n",
    "| Alias | Description  |\n",
    "|-------|--------------------------------------|\n",
    "| B  | 영업일 빈도 |\n",
    "| D  | 달력 일 빈도|\n",
    "| W  | 주간 빈도|\n",
    "| M  | 월말 빈도|\n",
    "| SM | 반월말 빈도 (15일과 월말)  |\n",
    "| BM | 영업 월말 빈도 |\n",
    "| MS | 월초 빈도|\n",
    "| SMS| 반월초 빈도 (1일과 15일)|\n",
    "| BMS| 영업 월초 빈도 |\n",
    "| Q  | 분기말 빈도 |\n",
    "| BQ | 영업 분기말 빈도  |\n",
    "| QS | 분기초 빈도 |\n",
    "| BQS| 영업 분기초 빈도  |\n",
    "| A, Y  | 연말 빈도|\n",
    "| BA, BY| 영업 연말 빈도 |\n",
    "| AS, YS| 연초 빈도|\n",
    "| BAS, BYS| 영업 연초 빈도 |\n",
    "| BH | 영업 시간 빈도 |\n",
    "| H  | 시간별 빈도 |\n",
    "| T, min| 분별 빈도|\n",
    "| S  | 초별 빈도|\n",
    "| L, ms | 밀리초 빈도 |\n",
    "| U, us | 마이크로초 빈도|\n",
    "| N  | 나노초 빈도 |"
   ]
  },
  {
   "cell_type": "code",
   "execution_count": null,
   "id": "cf477ce6",
   "metadata": {},
   "outputs": [],
   "source": [
    "import pandas as pd"
   ]
  },
  {
   "cell_type": "code",
   "execution_count": null,
   "id": "5e627dde",
   "metadata": {},
   "outputs": [],
   "source": [
    "cols = ['date', 'open', 'high', 'low', 'close']"
   ]
  },
  {
   "cell_type": "code",
   "execution_count": null,
   "id": "84e5a290",
   "metadata": {},
   "outputs": [],
   "source": [
    "stocks = pd.read_csv('AAPL.csv', usecols=cols, index_col='date', parse_dates=['date'])"
   ]
  },
  {
   "cell_type": "code",
   "execution_count": null,
   "id": "57eab8d4",
   "metadata": {
    "scrolled": true
   },
   "outputs": [],
   "source": [
    "stocks"
   ]
  },
  {
   "cell_type": "markdown",
   "id": "e74fd12b",
   "metadata": {},
   "source": [
    "## 1. 연 단위로 resample (= groupby 데이터 유사)"
   ]
  },
  {
   "cell_type": "code",
   "execution_count": null,
   "id": "7e68c095",
   "metadata": {},
   "outputs": [],
   "source": []
  },
  {
   "cell_type": "code",
   "execution_count": null,
   "id": "0451577f",
   "metadata": {
    "scrolled": true
   },
   "outputs": [],
   "source": [
    "# 다운 샘플링 데이터는 groupby 처럼 다룰 수 있다. 1\n"
   ]
  },
  {
   "cell_type": "markdown",
   "id": "4aa80e8c",
   "metadata": {},
   "source": [
    "우측의 숫자는 경계선에 있는 데이터의 인덱스 위치"
   ]
  },
  {
   "cell_type": "code",
   "execution_count": null,
   "id": "e5dbeda4",
   "metadata": {},
   "outputs": [],
   "source": []
  },
  {
   "cell_type": "code",
   "execution_count": null,
   "id": "bb550a5c",
   "metadata": {
    "scrolled": true
   },
   "outputs": [],
   "source": [
    "# 다운 샘플링 데이터는 groupby 처럼 다룰 수 있다. 2 + 시계열 장점인 '2020-01-01'는 안됨\n"
   ]
  },
  {
   "cell_type": "markdown",
   "id": "9227b6df",
   "metadata": {},
   "source": [
    "## 2. 다운샘플링 이후 집계함수"
   ]
  },
  {
   "cell_type": "code",
   "execution_count": null,
   "id": "73ce2402",
   "metadata": {},
   "outputs": [],
   "source": [
    "# 집계함수 mean으로 년도별 평균 구하기\n"
   ]
  },
  {
   "cell_type": "code",
   "execution_count": null,
   "id": "06a76093",
   "metadata": {
    "scrolled": true
   },
   "outputs": [],
   "source": [
    "# agg()로 집계함수 max, min, mean 년도별 결과 구하기\n"
   ]
  },
  {
   "cell_type": "markdown",
   "id": "61e36eb9",
   "metadata": {},
   "source": [
    "## 진행된 다운 샘플링의 문제점\n",
    "1. 다운 샘플링.집계()로 만들어지는 데이터프레임 index가 Timestamp\n",
    "    - 시간이 그룹화되면 기간이 되어야 하는 거 아닌가?"
   ]
  },
  {
   "cell_type": "markdown",
   "id": "8a59d9fc",
   "metadata": {},
   "source": [
    "## kind= : {‘timestamp’, ‘period’}, optional, default None\n",
    "- timestamp : 결과 인덱스를 날짜/시간 인덱스로 변환\n",
    "- period : 기간 인덱스로 변환"
   ]
  },
  {
   "cell_type": "code",
   "execution_count": null,
   "id": "7e54fad1",
   "metadata": {},
   "outputs": [],
   "source": [
    "# 'AS'로 하면 : ValueError: Invalid frequency: <YearBegin: month=1>\n"
   ]
  },
  {
   "cell_type": "code",
   "execution_count": null,
   "id": "b5439791",
   "metadata": {},
   "outputs": [],
   "source": [
    "# 월 단위로 집계 결과 보기 \n"
   ]
  },
  {
   "cell_type": "code",
   "execution_count": null,
   "id": "8eee61c3",
   "metadata": {},
   "outputs": [],
   "source": [
    "# 월 단위로 .agg() 결과 보기 1\n"
   ]
  },
  {
   "cell_type": "code",
   "execution_count": null,
   "id": "b6174953",
   "metadata": {},
   "outputs": [],
   "source": [
    "# 월 단위로 .agg() 결과 보기 2\n"
   ]
  }
 ],
 "metadata": {
  "kernelspec": {
   "display_name": "Python 3 (ipykernel)",
   "language": "python",
   "name": "python3"
  },
  "language_info": {
   "codemirror_mode": {
    "name": "ipython",
    "version": 3
   },
   "file_extension": ".py",
   "mimetype": "text/x-python",
   "name": "python",
   "nbconvert_exporter": "python",
   "pygments_lexer": "ipython3",
   "version": "3.11.5"
  }
 },
 "nbformat": 4,
 "nbformat_minor": 5
}
