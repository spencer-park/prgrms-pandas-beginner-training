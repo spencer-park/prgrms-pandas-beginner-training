{
 "cells": [
  {
   "cell_type": "markdown",
   "id": "8c73dbf4",
   "metadata": {},
   "source": [
    "## 데이터 셋\n",
    "- https://www.kaggle.com/datasets/suyashlakhani/apple-stock-prices-20152020\n",
    "- 날짜가 있는 데이터 셋이라면 모두 실습 가능하니, 복습할 땐 다른 데이터셋으로 해보자."
   ]
  },
  {
   "cell_type": "code",
   "execution_count": null,
   "id": "bfa6a146",
   "metadata": {},
   "outputs": [],
   "source": [
    "import pandas as pd"
   ]
  },
  {
   "cell_type": "code",
   "execution_count": null,
   "id": "d52db800",
   "metadata": {},
   "outputs": [],
   "source": [
    "pd.read_csv('AAPL.csv')"
   ]
  },
  {
   "cell_type": "markdown",
   "id": "7e064dd3",
   "metadata": {},
   "source": [
    "| 컬럼명 | 설명  |\n",
    "| :-- | :---- |\n",
    "| symbol| 애플 주식  |\n",
    "| close | 종가. 종료가  |\n",
    "| high  | 그 날의 최고가  |\n",
    "| low | 그 날의 최저가  |\n",
    "| open  | 그 날의 시가. 시작가  |\n",
    "| volume| 거래량 |\n",
    "| adjClose| 다른 주식 속성/행동과 관련하여 조정된 종가  |\n",
    "| adjHigh | 다른 주식 속성/행동과 관련하여 조정된 최고가 |\n",
    "| adjOpen | 다른 주식 속성/행동과 관련하여 조정된 시가  |\n",
    "| adjVolume  | 다른 주식 속성/행동과 관련하여 조정된 거래량 |\n",
    "| divCash | 현금 배당  |\n",
    "| splitFactor  | 주식 분할  |\n"
   ]
  },
  {
   "cell_type": "code",
   "execution_count": null,
   "id": "43ed3b8d",
   "metadata": {},
   "outputs": [],
   "source": [
    "cols = ['date', 'open', 'high', 'low', 'close']"
   ]
  },
  {
   "cell_type": "code",
   "execution_count": null,
   "id": "d1dc0021",
   "metadata": {},
   "outputs": [],
   "source": []
  },
  {
   "cell_type": "code",
   "execution_count": null,
   "id": "f664bce2",
   "metadata": {},
   "outputs": [],
   "source": []
  },
  {
   "cell_type": "markdown",
   "id": "af3ff331",
   "metadata": {},
   "source": [
    "## index > DatetimeIndex : to_datetime()"
   ]
  },
  {
   "cell_type": "code",
   "execution_count": null,
   "id": "c1130617",
   "metadata": {},
   "outputs": [],
   "source": [
    "# 현재 index의 dtype?\n"
   ]
  },
  {
   "cell_type": "code",
   "execution_count": null,
   "id": "b8bac81b",
   "metadata": {},
   "outputs": [],
   "source": [
    "# 방법 1. index의 속성 변경 to_datetime()\n"
   ]
  },
  {
   "cell_type": "code",
   "execution_count": null,
   "id": "4238b04c",
   "metadata": {},
   "outputs": [],
   "source": []
  },
  {
   "cell_type": "markdown",
   "id": "33fae043",
   "metadata": {},
   "source": [
    "## read_csv(parse_date=)"
   ]
  },
  {
   "cell_type": "code",
   "execution_count": null,
   "id": "6b633504",
   "metadata": {},
   "outputs": [],
   "source": [
    "# 방법 2.\n"
   ]
  },
  {
   "cell_type": "code",
   "execution_count": null,
   "id": "383a6904",
   "metadata": {},
   "outputs": [],
   "source": []
  },
  {
   "cell_type": "code",
   "execution_count": null,
   "id": "318d1c03",
   "metadata": {
    "scrolled": true
   },
   "outputs": [],
   "source": []
  },
  {
   "cell_type": "markdown",
   "id": "55aa1246",
   "metadata": {},
   "source": [
    "## 복습 : 요일 열 추가"
   ]
  },
  {
   "cell_type": "code",
   "execution_count": null,
   "id": "8ee7f934",
   "metadata": {},
   "outputs": [],
   "source": []
  },
  {
   "cell_type": "code",
   "execution_count": null,
   "id": "1ae6f9db",
   "metadata": {},
   "outputs": [],
   "source": []
  },
  {
   "cell_type": "code",
   "execution_count": null,
   "id": "b42d964e",
   "metadata": {
    "scrolled": true
   },
   "outputs": [],
   "source": []
  },
  {
   "cell_type": "code",
   "execution_count": null,
   "id": "bdfa3f24",
   "metadata": {},
   "outputs": [],
   "source": []
  }
 ],
 "metadata": {
  "kernelspec": {
   "display_name": "Python 3 (ipykernel)",
   "language": "python",
   "name": "python3"
  },
  "language_info": {
   "codemirror_mode": {
    "name": "ipython",
    "version": 3
   },
   "file_extension": ".py",
   "mimetype": "text/x-python",
   "name": "python",
   "nbconvert_exporter": "python",
   "pygments_lexer": "ipython3",
   "version": "3.11.5"
  }
 },
 "nbformat": 4,
 "nbformat_minor": 5
}
