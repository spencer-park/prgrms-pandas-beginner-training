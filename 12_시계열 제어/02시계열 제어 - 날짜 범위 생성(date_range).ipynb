{
 "cells": [
  {
   "cell_type": "markdown",
   "id": "c5ac4629",
   "metadata": {},
   "source": [
    "## pd.date_range()\n",
    "- https://pandas.pydata.org/docs/reference/api/pandas.date_range.html\n",
    "- 날짜 범위를 생성하는 함수\n",
    "- 시작일, 종료일, 날짜 간격"
   ]
  },
  {
   "cell_type": "markdown",
   "id": "26bce1d8",
   "metadata": {},
   "source": [
    "### pandas.date_range(start=None, end=None, periods=None, freq=None, tz=None, normalize=False, name=None, inclusive='both', *, unit=None, **kwargs)\n",
    "- 고정된 빈도, 간격으로 생성한 DatetimeIndex를 반환\n",
    "\n",
    "\n",
    "### Parameters:\n",
    "#### `start` : str or datetime-like, optional\n",
    "- 시작 날짜를 지정\n",
    "- 문자열 형식이나 datetime 객체와 같은 날짜 형식을 입력\n",
    "\n",
    "#### `end` : str or datetime-like, optional\n",
    "- 종료 날짜를 지정\n",
    "- 문자열 형식이나 datetime 객체와 같은 날짜 형식을 입력\n",
    "\n",
    "#### `periods` : int, optional\n",
    "- 생성할 날짜 개수(정수)를 지정\n",
    "\n",
    "#### `freq` : str, Timedelta, datetime.timedelta, or DateOffset, default ‘D’\n",
    "- 생성할 날짜의 간격을 지정\n",
    "- 문자열, Timedelta, datetime.timedelta, DateOffset 형식 입력 가능\n",
    "- 기본값 'D' :  일별 간격\n",
    "\n",
    "#### `tz` : str or tzinfo, optional\n",
    "- 반환되는 DatetimeIndex의 시간대를 지정\n",
    "- 예시 : 'Asia/Seoul', 'Asia/Hong_Kong'\n",
    "- https://docs.oracle.com/middleware/12211/wcs/tag-ref/MISC/TimeZones.html\n",
    "\n",
    "#### `normalize` : bool, default False\n",
    "- 시작일과 종료일을 자정으로 정규화할지 여부를 지정\n",
    "- 기본값 False : 정규화하지 않음\n",
    "\n",
    "#### `name` : str, default None\n",
    "- 생성된 DatetimeIndex의 이름을 지정\n",
    "\n",
    "#### `inclusive` : {“both”, “neither”, “left”, “right”}, default “both”\n",
    "- 경계를 포함할지 여부 결정\n",
    "\n",
    "\n",
    "### Returns:\n",
    "DatetimeIndex"
   ]
  },
  {
   "cell_type": "markdown",
   "id": "377fbe62",
   "metadata": {},
   "source": [
    "## 기본 사용법"
   ]
  },
  {
   "cell_type": "code",
   "execution_count": null,
   "id": "8c5a2918",
   "metadata": {},
   "outputs": [],
   "source": [
    "import pandas as pd"
   ]
  },
  {
   "cell_type": "code",
   "execution_count": null,
   "id": "cbddddee",
   "metadata": {},
   "outputs": [],
   "source": [
    "# 12월 한 번에 DatetimeIndex만들기\n",
    "start_date = '2023-12-01'\n",
    "end_date = '2023-12-31'\n"
   ]
  },
  {
   "cell_type": "code",
   "execution_count": null,
   "id": "540c6d67",
   "metadata": {},
   "outputs": [],
   "source": [
    "# 2023년 Day별로 DatetimeIndex만들기\n"
   ]
  },
  {
   "cell_type": "code",
   "execution_count": null,
   "id": "b4e1d31c",
   "metadata": {},
   "outputs": [],
   "source": [
    "# 특정 시간까지 포함하기\n"
   ]
  },
  {
   "cell_type": "markdown",
   "id": "37b95c14",
   "metadata": {},
   "source": [
    "### Offset aliases\n",
    "- https://pandas.pydata.org/docs/user_guide/timeseries.html#offset-aliases\n",
    "- 다양한 시계열 빈도에 대해 유용한 문자열 별칭\n",
    "- 원하는 빈도에 맞게 데이터를 처리하고 분석\n",
    "\n",
    "| Alias | Description  |\n",
    "|-------|--------------------------------------|\n",
    "| B  | 영업일 빈도 |\n",
    "| D  | 달력 일 빈도|\n",
    "| W  | 주간 빈도|\n",
    "| M  | 월말 빈도|\n",
    "| SM | 반월말 빈도 (15일과 월말)  |\n",
    "| BM | 영업 월말 빈도 |\n",
    "| MS | 월초 빈도|\n",
    "| SMS| 반월초 빈도 (1일과 15일)|\n",
    "| BMS| 영업 월초 빈도 |\n",
    "| Q  | 분기말 빈도 |\n",
    "| BQ | 영업 분기말 빈도  |\n",
    "| QS | 분기초 빈도 |\n",
    "| BQS| 영업 분기초 빈도  |\n",
    "| A, Y  | 연말 빈도|\n",
    "| BA, BY| 영업 연말 빈도 |\n",
    "| AS, YS| 연초 빈도|\n",
    "| BAS, BYS| 영업 연초 빈도 |\n",
    "| BH | 영업 시간 빈도 |\n",
    "| H  | 시간별 빈도 |\n",
    "| T, min| 분별 빈도|\n",
    "| S  | 초별 빈도|\n",
    "| L, ms | 밀리초 빈도 |\n",
    "| U, us | 마이크로초 빈도|\n",
    "| N  | 나노초 빈도 |"
   ]
  },
  {
   "cell_type": "markdown",
   "id": "d3c82470",
   "metadata": {},
   "source": [
    "### Period aliases\n",
    "- https://pandas.pydata.org/docs/user_guide/timeseries.html#period-aliases\n",
    "- 다양한 일반적인 시계열 빈도에 대해 유용한 문자열 별칭\n",
    "- 원하는 빈도로 기간을 설정하고 분석하는 데 유용\n",
    "\n",
    "| Alias | Description  |\n",
    "|-------|--------------------------------------|\n",
    "| B  | 영업일 빈도 |\n",
    "| D  | 달력 일 빈도|\n",
    "| W  | 주간 빈도|\n",
    "| M  | 월별 빈도|\n",
    "| Q  | 분기별 빈도 |\n",
    "| A, Y  | 연도별 빈도 |\n",
    "| H  | 시간별 빈도 |\n",
    "| T, min| 분별 빈도|\n",
    "| S  | 초별 빈도|\n",
    "| L, ms | 밀리초 빈도 |\n",
    "| U, us | 마이크로초 빈도|\n",
    "| N  | 나노초 빈도 |\n"
   ]
  },
  {
   "cell_type": "markdown",
   "id": "59b43ab1",
   "metadata": {},
   "source": [
    "### Anchored offsets\n",
    "- https://pandas.pydata.org/docs/user_guide/timeseries.html#anchored-offsets\n",
    "- 일부 빈도에서 앵커링 접미사를 지정할 수 있는 기능\n",
    "- `date_range`, `bdate_range`, `DatetimeIndex`의 생성자 및 pandas의 다양한 시계열 관련 함수에서 인수로 사용\n",
    "\n",
    "| Alias| Description|\n",
    "|---------------|---------------------------------------------|\n",
    "| W-SUN| 주간 빈도 (일요일). 'W'와 동일합니다. |\n",
    "| W-MON| 주간 빈도 (월요일)  |\n",
    "| W-TUE| 주간 빈도 (화요일)  |\n",
    "| W-WED| 주간 빈도 (수요일)  |\n",
    "| W-THU| 주간 빈도 (목요일)  |\n",
    "| W-FRI| 주간 빈도 (금요일)  |\n",
    "| W-SAT| 주간 빈도 (토요일)  |\n",
    "| (B)Q(S)-DEC| 분기별 빈도, 연말이 12월인 경우. 'Q'와 동일합니다.  |\n",
    "| (B)Q(S)-JAN| 분기별 빈도, 연말이 1월인 경우 |\n",
    "| (B)Q(S)-FEB| 분기별 빈도, 연말이 2월인 경우 |\n",
    "| (B)Q(S)-MAR| 분기별 빈도, 연말이 3월인 경우 |\n",
    "| (B)Q(S)-APR| 분기별 빈도, 연말이 4월인 경우 |\n",
    "| (B)Q(S)-MAY| 분기별 빈도, 연말이 5월인 경우 |\n",
    "| (B)Q(S)-JUN| 분기별 빈도, 연말이 6월인 경우 |\n",
    "| (B)Q(S)-JUL| 분기별 빈도, 연말이 7월인 경우 |\n",
    "| (B)Q(S)-AUG| 분기별 빈도, 연말이 8월인 경우 |\n",
    "| (B)Q(S)-SEP| 분기별 빈도, 연말이 9월인 경우 |\n",
    "| (B)Q(S)-OCT| 분기별 빈도, 연말이 10월인 경우|\n",
    "| (B)Q(S)-NOV| 분기별 빈도, 연말이 11월인 경우|\n",
    "| (B)A(S)-DEC| 연도별 빈도, 앵커링이 12월인 경우. 'A'와 동일합니다.  |\n",
    "| (B)A(S)-JAN| 연도별 빈도, 앵커링이 1월인 경우|\n",
    "| (B)A(S)-FEB| 연도별 빈도, 앵커링이 2월인 경우|\n",
    "| (B)A(S)-MAR| 연도별 빈도, 앵커링이 3월인 경우|\n",
    "| (B)A(S)-APR| 연도별 빈도, 앵커링이 4월인 경우|\n",
    "| (B)A(S)-MAY| 연도별 빈도, 앵커링이 5월인 경우|\n",
    "| (B)A(S)-JUN| 연도별 빈도, 앵커링이 6월인 경우|\n",
    "| (B)A(S)-JUL| 연도별 빈도, 앵커링이 7월인 경우|\n",
    "| (B)A(S)-AUG| 연도별 빈도, 앵커링이 8월인 경우|\n",
    "| (B)A(S)-SEP| 연도별 빈도, 앵커링이 9월인 경우|\n",
    "| (B)A(S)-OCT| 연도별 빈도, 앵커링이 10월인 경우  |\n",
    "| (B)A(S)-NOV| 연도별 빈도, 앵커링이 11월인 경우  |\n"
   ]
  },
  {
   "cell_type": "markdown",
   "id": "c1306e8d",
   "metadata": {},
   "source": [
    "## periods="
   ]
  },
  {
   "cell_type": "code",
   "execution_count": null,
   "id": "df4c9eb5",
   "metadata": {},
   "outputs": [],
   "source": [
    "# 해당 기간을 10개 구간으로 만들기\n"
   ]
  },
  {
   "cell_type": "markdown",
   "id": "470b8268",
   "metadata": {},
   "source": [
    "## freq="
   ]
  },
  {
   "cell_type": "code",
   "execution_count": null,
   "id": "58a27d7f",
   "metadata": {},
   "outputs": [],
   "source": [
    "# 12월 1주일 간격으로 날짜 생성 - 일요일\n"
   ]
  },
  {
   "cell_type": "code",
   "execution_count": null,
   "id": "52330a45",
   "metadata": {},
   "outputs": [],
   "source": [
    "# 2024년 매주 목요일 날짜 생성 - 목요일\n"
   ]
  },
  {
   "cell_type": "code",
   "execution_count": null,
   "id": "12333a54",
   "metadata": {},
   "outputs": [],
   "source": [
    "# 2024년 달 간격으로 데이터를 만든다면?\n"
   ]
  },
  {
   "cell_type": "code",
   "execution_count": null,
   "id": "fe4db039",
   "metadata": {},
   "outputs": [],
   "source": [
    "# 2024년 매달 1일 간격으로 데이터를 만든다면?\n"
   ]
  },
  {
   "cell_type": "code",
   "execution_count": null,
   "id": "4e458249",
   "metadata": {},
   "outputs": [],
   "source": [
    "# 2024.01.01 ~12.31  10시간마다 간격으로 데이터를 만든다면?\n"
   ]
  },
  {
   "cell_type": "markdown",
   "id": "f9baec72",
   "metadata": {},
   "source": [
    "## 인자 생략하기"
   ]
  },
  {
   "cell_type": "code",
   "execution_count": null,
   "id": "4273ca38",
   "metadata": {},
   "outputs": [],
   "source": [
    "# 2024.01부터 10개 만들기\n"
   ]
  },
  {
   "cell_type": "code",
   "execution_count": null,
   "id": "18411fc8",
   "metadata": {},
   "outputs": [],
   "source": [
    "# 2024.01부터 월요일날 데이터 10개 만들기\n"
   ]
  },
  {
   "cell_type": "code",
   "execution_count": null,
   "id": "2cc457d6",
   "metadata": {
    "scrolled": true
   },
   "outputs": [],
   "source": [
    "# 2024.12.31을 마감으로 총 10개의 날짜 만들기\n"
   ]
  },
  {
   "cell_type": "code",
   "execution_count": null,
   "id": "d57e23ca",
   "metadata": {},
   "outputs": [],
   "source": [
    "# 2024.12.31을 마감으로 매주 화요일 총 10개의 날짜 만들기\n"
   ]
  }
 ],
 "metadata": {
  "kernelspec": {
   "display_name": "Python 3 (ipykernel)",
   "language": "python",
   "name": "python3"
  },
  "language_info": {
   "codemirror_mode": {
    "name": "ipython",
    "version": 3
   },
   "file_extension": ".py",
   "mimetype": "text/x-python",
   "name": "python",
   "nbconvert_exporter": "python",
   "pygments_lexer": "ipython3",
   "version": "3.11.5"
  }
 },
 "nbformat": 4,
 "nbformat_minor": 5
}
