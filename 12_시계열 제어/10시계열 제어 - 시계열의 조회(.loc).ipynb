{
 "cells": [
  {
   "cell_type": "markdown",
   "id": "8c73dbf4",
   "metadata": {},
   "source": [
    "## 데이터 셋\n",
    "- https://www.kaggle.com/datasets/suyashlakhani/apple-stock-prices-20152020\n",
    "- 날짜가 있는 데이터 셋이라면 모두 실습 가능하니, 복습할 땐 다른 데이터셋으로 해보자."
   ]
  },
  {
   "cell_type": "code",
   "execution_count": null,
   "id": "bfa6a146",
   "metadata": {},
   "outputs": [],
   "source": [
    "import pandas as pd"
   ]
  },
  {
   "cell_type": "code",
   "execution_count": null,
   "id": "376791c7",
   "metadata": {},
   "outputs": [],
   "source": [
    "cols = ['date', 'open', 'high', 'low', 'close']"
   ]
  },
  {
   "cell_type": "code",
   "execution_count": null,
   "id": "6b633504",
   "metadata": {},
   "outputs": [],
   "source": [
    "stocks = pd.read_csv('AAPL.csv', usecols=cols, index_col='date', parse_dates=['date'])"
   ]
  },
  {
   "cell_type": "code",
   "execution_count": null,
   "id": "383a6904",
   "metadata": {},
   "outputs": [],
   "source": [
    "stocks"
   ]
  },
  {
   "cell_type": "code",
   "execution_count": null,
   "id": "318d1c03",
   "metadata": {},
   "outputs": [],
   "source": [
    "stocks.info()"
   ]
  },
  {
   "cell_type": "markdown",
   "id": "d12df7f3",
   "metadata": {},
   "source": [
    "## 조회\n",
    "- .iloc인 사용방법은 동일\n",
    "- .loc도 사용방법은 동일한데, label을 어떻게 입력해야할까?\n",
    "- 기간 탐색의 장점을 살려보자."
   ]
  },
  {
   "cell_type": "code",
   "execution_count": null,
   "id": "4d5493ba",
   "metadata": {},
   "outputs": [],
   "source": [
    "# 년월일 .loc['label']\n"
   ]
  },
  {
   "cell_type": "code",
   "execution_count": null,
   "id": "2fc3c74c",
   "metadata": {},
   "outputs": [],
   "source": [
    "# .loc[['label1', 'label2']]\n"
   ]
  },
  {
   "cell_type": "code",
   "execution_count": null,
   "id": "d4670e5a",
   "metadata": {},
   "outputs": [],
   "source": [
    "# 슬라이싱 1\n"
   ]
  },
  {
   "cell_type": "code",
   "execution_count": null,
   "id": "dd86ff32",
   "metadata": {},
   "outputs": [],
   "source": [
    "# 슬라이싱 2\n"
   ]
  },
  {
   "cell_type": "code",
   "execution_count": null,
   "id": "95a58640",
   "metadata": {
    "scrolled": true
   },
   "outputs": [],
   "source": [
    "# 년월만 탐색\n"
   ]
  },
  {
   "cell_type": "code",
   "execution_count": null,
   "id": "a83eaae5",
   "metadata": {
    "scrolled": true
   },
   "outputs": [],
   "source": [
    "# 년월 슬라이싱\n"
   ]
  },
  {
   "cell_type": "code",
   "execution_count": null,
   "id": "35a0bcb0",
   "metadata": {},
   "outputs": [],
   "source": [
    "# 년 조회\n"
   ]
  }
 ],
 "metadata": {
  "kernelspec": {
   "display_name": "Python 3 (ipykernel)",
   "language": "python",
   "name": "python3"
  },
  "language_info": {
   "codemirror_mode": {
    "name": "ipython",
    "version": 3
   },
   "file_extension": ".py",
   "mimetype": "text/x-python",
   "name": "python",
   "nbconvert_exporter": "python",
   "pygments_lexer": "ipython3",
   "version": "3.11.5"
  }
 },
 "nbformat": 4,
 "nbformat_minor": 5
}
