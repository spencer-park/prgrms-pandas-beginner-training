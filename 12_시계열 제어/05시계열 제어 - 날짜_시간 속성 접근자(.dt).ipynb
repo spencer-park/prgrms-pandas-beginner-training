{
 "cells": [
  {
   "cell_type": "markdown",
   "id": "8c73dbf4",
   "metadata": {},
   "source": [
    "## 날짜/시간 속성 접근자 .dt\n",
    "- https://pandas.pydata.org/pandas-docs/version/1.5/reference/api/pandas.Series.dt.html\n",
    "- **시리즈**에서 날짜와 시간과 관련된 속성에 접근할 때 사용되는 기능\n",
    "- `.str`처럼 `.dt.메소드`, `.dt.속성` 으로 사용\n",
    "    - 속성(properties) : https://pandas.pydata.org/docs/reference/series.html#datetime-properties\n",
    "    - 메소드(methods) : https://pandas.pydata.org/docs/reference/series.html#datetime-methods"
   ]
  },
  {
   "cell_type": "code",
   "execution_count": null,
   "id": "7f7de7b8",
   "metadata": {},
   "outputs": [],
   "source": [
    "import pandas as pd"
   ]
  },
  {
   "cell_type": "code",
   "execution_count": null,
   "id": "a474d78e",
   "metadata": {},
   "outputs": [],
   "source": []
  },
  {
   "cell_type": "code",
   "execution_count": null,
   "id": "bf1ebce3",
   "metadata": {
    "scrolled": true
   },
   "outputs": [],
   "source": [
    "# Series 화\n"
   ]
  },
  {
   "cell_type": "code",
   "execution_count": null,
   "id": "db9bdaee",
   "metadata": {},
   "outputs": [],
   "source": [
    "# DataFrame화\n"
   ]
  },
  {
   "cell_type": "code",
   "execution_count": null,
   "id": "2002358e",
   "metadata": {},
   "outputs": [],
   "source": [
    "# 체인형으로 프로그래밍 하고 싶다면 .to_frame()\n"
   ]
  },
  {
   "cell_type": "code",
   "execution_count": null,
   "id": "77a7342c-f748-474e-b284-1f0bf3164520",
   "metadata": {},
   "outputs": [],
   "source": []
  },
  {
   "cell_type": "code",
   "execution_count": null,
   "id": "0aae7fda",
   "metadata": {},
   "outputs": [],
   "source": [
    "# Series화 > .toFrame을 통한 DataFrame\n"
   ]
  },
  {
   "cell_type": "markdown",
   "id": "b0607fbf",
   "metadata": {},
   "source": [
    "- 시리즈화를 직접하진 않고, DataFrame에서 조회하면 시리즈일 것\n",
    "- 때문에 `pd.Series(dec).to_frame({name})` 형태를 기억하기"
   ]
  },
  {
   "cell_type": "code",
   "execution_count": null,
   "id": "53e339d7",
   "metadata": {
    "scrolled": true
   },
   "outputs": [],
   "source": []
  },
  {
   "cell_type": "markdown",
   "id": "bca6b4c5",
   "metadata": {},
   "source": [
    "## `.dt`로 속성 접근"
   ]
  },
  {
   "cell_type": "markdown",
   "id": "3fa53293",
   "metadata": {},
   "source": [
    "- 속성(properties) : https://pandas.pydata.org/docs/reference/series.html#datetime-properties\n",
    "- 메소드(methods) : https://pandas.pydata.org/docs/reference/series.html#datetime-methods"
   ]
  },
  {
   "cell_type": "code",
   "execution_count": null,
   "id": "2fe842a7",
   "metadata": {},
   "outputs": [],
   "source": [
    "# .dt를 통해 속성(Properties) 접근 객체 생성\n"
   ]
  },
  {
   "cell_type": "code",
   "execution_count": null,
   "id": "58deca55",
   "metadata": {
    "scrolled": true
   },
   "outputs": [],
   "source": [
    "# Python Datetime하듯 .day로 바로 접근하면 에러\n"
   ]
  },
  {
   "cell_type": "code",
   "execution_count": null,
   "id": "bc326a8c",
   "metadata": {},
   "outputs": [],
   "source": [
    "# 중간에 .dt 넣으면\n"
   ]
  },
  {
   "cell_type": "code",
   "execution_count": null,
   "id": "d3de90c3",
   "metadata": {},
   "outputs": [],
   "source": []
  },
  {
   "cell_type": "code",
   "execution_count": null,
   "id": "74be3a6e",
   "metadata": {},
   "outputs": [],
   "source": []
  },
  {
   "cell_type": "code",
   "execution_count": null,
   "id": "7b1c99f7",
   "metadata": {},
   "outputs": [],
   "source": []
  },
  {
   "cell_type": "code",
   "execution_count": null,
   "id": "1a7e53b9",
   "metadata": {},
   "outputs": [],
   "source": []
  },
  {
   "cell_type": "code",
   "execution_count": null,
   "id": "d4615c81",
   "metadata": {},
   "outputs": [],
   "source": []
  },
  {
   "cell_type": "code",
   "execution_count": null,
   "id": "ac79aa19",
   "metadata": {},
   "outputs": [],
   "source": []
  }
 ],
 "metadata": {
  "kernelspec": {
   "display_name": "Python 3 (ipykernel)",
   "language": "python",
   "name": "python3"
  },
  "language_info": {
   "codemirror_mode": {
    "name": "ipython",
    "version": 3
   },
   "file_extension": ".py",
   "mimetype": "text/x-python",
   "name": "python",
   "nbconvert_exporter": "python",
   "pygments_lexer": "ipython3",
   "version": "3.11.5"
  }
 },
 "nbformat": 4,
 "nbformat_minor": 5
}
