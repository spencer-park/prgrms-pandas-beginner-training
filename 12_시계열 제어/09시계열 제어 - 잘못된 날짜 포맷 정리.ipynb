{
 "cells": [
  {
   "cell_type": "markdown",
   "id": "8c73dbf4",
   "metadata": {},
   "source": [
    "## 데이터 셋\n",
    "- https://www.kaggle.com/datasets/suyashlakhani/apple-stock-prices-20152020\n",
    "- 날짜가 있는 데이터 셋이라면 모두 실습 가능하니, 복습할 땐 다른 데이터셋으로 해보자."
   ]
  },
  {
   "cell_type": "code",
   "execution_count": null,
   "id": "bfa6a146",
   "metadata": {},
   "outputs": [],
   "source": [
    "import pandas as pd"
   ]
  },
  {
   "cell_type": "code",
   "execution_count": null,
   "id": "6b633504",
   "metadata": {},
   "outputs": [],
   "source": [
    "stocks = pd.read_csv('APPL_NEW.csv')"
   ]
  },
  {
   "cell_type": "code",
   "execution_count": null,
   "id": "383a6904",
   "metadata": {},
   "outputs": [],
   "source": [
    "stocks"
   ]
  },
  {
   "cell_type": "code",
   "execution_count": null,
   "id": "318d1c03",
   "metadata": {},
   "outputs": [],
   "source": [
    "stocks.info()"
   ]
  },
  {
   "cell_type": "markdown",
   "id": "d12df7f3",
   "metadata": {},
   "source": [
    "## 날짜 포맷이 깨진 데이터 정리"
   ]
  },
  {
   "cell_type": "code",
   "execution_count": null,
   "id": "4d5493ba",
   "metadata": {},
   "outputs": [],
   "source": [
    "# 시도 1 parse_dates=['date']\n"
   ]
  },
  {
   "cell_type": "code",
   "execution_count": null,
   "id": "38c756e4",
   "metadata": {},
   "outputs": [],
   "source": []
  },
  {
   "cell_type": "code",
   "execution_count": null,
   "id": "612a80a4",
   "metadata": {
    "scrolled": true
   },
   "outputs": [],
   "source": [
    "# 시도 2 : to_datetime\n"
   ]
  },
  {
   "cell_type": "markdown",
   "id": "dfbb9064",
   "metadata": {},
   "source": [
    "## 현 데이터를 해석할 날짜 포맷 입력\n",
    "- Python의 날짜/시간 포맷(format) : https://docs.python.org/3/library/datetime.html#strftime-and-strptime-behavior\n",
    "| 포맷 | 설명 |\n",
    "|-------|:----|\n",
    "| %a    | 현 지역에 따른 요일의 축약된 이름     |\n",
    "| %A    | 현 지역에 따른 요일의 전체 이름       |\n",
    "| %w    | 일요일을 0으로 시작하여 6으로 끝나는 요일 |\n",
    "| %d    | 월의 일을 0으로 시작하여 31로 끝나는 날짜 |\n",
    "| %b    | 현 지역에 따른 월의 축약된 이름       |\n",
    "| %B    | 현 지역에 따른 월의 전체 이름         |\n",
    "| %m    | 월을 0으로 시작하여 12로 끝나는 숫자  |\n",
    "| %y    | 세기를 제외한 연도를 0으로 시작하여 99로 끝나는 숫자 |\n",
    "| %Y    | 세기를 포함한 연도                   |\n",
    "| %H    | 24시간 형식으로 표시된 시간을 0으로 시작하여 23로 끝나는 숫자 |\n",
    "| %I    | 12시간 형식으로 표시된 시간을 0으로 시작하여 12로 끝나는 숫자 |\n",
    "| %p    | 오전 또는 오후                      |\n",
    "| %M    | 분을 0으로 시작하여 59로 끝나는 숫자   |\n",
    "| %S    | 초를 0으로 시작하여 59로 끝나는 숫자   |\n",
    "| %f    | 마이크로초를 6자리 숫자로 표시       |\n",
    "| %z    | UTC 오프셋을 ±HHMM 또는 ±HHMMSS 형식 |\n",
    "| %Z    | 시간대 이름                         |\n",
    "| %j    | 연중 날짜를 0으로 시작하여 366으로 끝나는 숫자 |\n",
    "| %U    | 주 번호를 0으로 시작하여 일요일을 첫 번째 요일로 간주 |\n",
    "| %W    | 주 번호를 0으로 시작하여 월요일을 첫 번째 요일로 간주 |\n",
    "| %c    | 현 지역에 적합한 날짜와 시간 표현    |\n",
    "| %x    | 현 지역에 적합한 날짜 표현            |\n",
    "| %X    | 현 지역에 적합한 시간 표현            |\n",
    "| %%    | '%' 문자 표시                       |"
   ]
  },
  {
   "cell_type": "code",
   "execution_count": null,
   "id": "cc6664c2",
   "metadata": {},
   "outputs": [],
   "source": [
    "# 데이터 확인\n"
   ]
  },
  {
   "cell_type": "code",
   "execution_count": null,
   "id": "bf204b35",
   "metadata": {},
   "outputs": [],
   "source": [
    "# 해결 - 현재 데이터를 인식할 포맷 입력\n"
   ]
  },
  {
   "cell_type": "code",
   "execution_count": null,
   "id": "1e6b626e",
   "metadata": {},
   "outputs": [],
   "source": [
    "# 기존 열 변경\n"
   ]
  },
  {
   "cell_type": "code",
   "execution_count": null,
   "id": "2b2115c0",
   "metadata": {},
   "outputs": [],
   "source": []
  },
  {
   "cell_type": "code",
   "execution_count": null,
   "id": "f7e15783",
   "metadata": {},
   "outputs": [],
   "source": []
  }
 ],
 "metadata": {
  "kernelspec": {
   "display_name": "Python 3 (ipykernel)",
   "language": "python",
   "name": "python3"
  },
  "language_info": {
   "codemirror_mode": {
    "name": "ipython",
    "version": 3
   },
   "file_extension": ".py",
   "mimetype": "text/x-python",
   "name": "python",
   "nbconvert_exporter": "python",
   "pygments_lexer": "ipython3",
   "version": "3.11.5"
  }
 },
 "nbformat": 4,
 "nbformat_minor": 5
}
