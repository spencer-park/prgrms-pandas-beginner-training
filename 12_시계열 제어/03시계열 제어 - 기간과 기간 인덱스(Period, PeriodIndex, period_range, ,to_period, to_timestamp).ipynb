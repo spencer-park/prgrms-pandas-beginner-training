{
 "cells": [
  {
   "cell_type": "markdown",
   "id": "8c73dbf4",
   "metadata": {},
   "source": [
    "## 특정 시간(Timestamp) vs 기간(Period) vs 기간인덱스(PeriodIndex)"
   ]
  },
  {
   "cell_type": "code",
   "execution_count": null,
   "id": "7f7de7b8",
   "metadata": {},
   "outputs": [],
   "source": [
    "import pandas as pd"
   ]
  },
  {
   "cell_type": "code",
   "execution_count": null,
   "id": "85ddcaca",
   "metadata": {},
   "outputs": [],
   "source": [
    "# Timestamp - 그 때 -> 몇시 몇분 몇초\n"
   ]
  },
  {
   "cell_type": "code",
   "execution_count": null,
   "id": "ea4b7bb6",
   "metadata": {},
   "outputs": [],
   "source": [
    "# Period - 그 날 -> 24시간\n"
   ]
  },
  {
   "cell_type": "markdown",
   "id": "454b757d",
   "metadata": {},
   "source": [
    "## Period + range = period_range() = PeriodIndex\n",
    "- https://pandas.pydata.org/docs/reference/api/pandas.period_range.html\n",
    "- 사용 방법은 date_range()와 거의 같다."
   ]
  },
  {
   "cell_type": "code",
   "execution_count": null,
   "id": "1904f71c",
   "metadata": {},
   "outputs": [],
   "source": []
  },
  {
   "cell_type": "code",
   "execution_count": null,
   "id": "383ffe08",
   "metadata": {},
   "outputs": [],
   "source": []
  },
  {
   "cell_type": "code",
   "execution_count": null,
   "id": "046e9f4f",
   "metadata": {},
   "outputs": [],
   "source": [
    "# 비교\n"
   ]
  },
  {
   "cell_type": "markdown",
   "id": "a8a3a608",
   "metadata": {},
   "source": [
    "### PeriodIndex vs DatetimeIndex\n",
    "- PeriodIndex : 기간 단위의 정보 vs DatetimeIndex : 날짜와 시간의 정밀한 정보\n",
    "- dtype이 period[D], period[M] ... vs datetime64[ns]\n",
    "\n",
    "#### PeriodIndex:\n",
    "- 주어진 기간('2024-01', '2024-02', 등)을 나타내는 Period 객체의 배열로 구성\n",
    "- 각 원소는 해당 기간에 대한 정보\n",
    "    - 일반적으로 연, 월, 분기, 반기 등의 기간 단위를 표현하고 저장\n",
    "- dtype은 'period[M]'으로 표시되며, M은 월 단위\n",
    "    - '2024-01'은 2024년 1월을 나타내는 Period 객체\n",
    "\n",
    "#### DatetimeIndex\n",
    "- 주어진 날짜('2024-01-31', '2024-02-29', 등)를 나타내는 Timestamp 객체의 배열로 구성\n",
    "- 각 원소는 해당 날짜와 시간에 대한 정보를 표현하고 저장\n",
    "- dtype은 'datetime64[ns]'로 표시되며, ns는 나노초 단위의 정밀도를 나타냄\n",
    "    - '2024-01-31'은 2024년 1월 31일을 나타내는 Timestamp 객체 "
   ]
  },
  {
   "cell_type": "markdown",
   "id": "5c90a8d2",
   "metadata": {},
   "source": [
    "## PeriodIndex <-> DatetimeIndex 변환\n",
    "- `to_period()` : DatetimeIndex > PeriodIndex\n",
    "- `to_timestamp()` : PeriodIndex > DatetimeIndex"
   ]
  },
  {
   "cell_type": "code",
   "execution_count": null,
   "id": "ffdbcd27",
   "metadata": {},
   "outputs": [],
   "source": [
    "# DatetimeIndex > PeriodIndex\n"
   ]
  },
  {
   "cell_type": "code",
   "execution_count": null,
   "id": "a55e06d0",
   "metadata": {},
   "outputs": [],
   "source": [
    "# PeriodIndex > DatetimeIndex\n"
   ]
  }
 ],
 "metadata": {
  "kernelspec": {
   "display_name": "Python 3 (ipykernel)",
   "language": "python",
   "name": "python3"
  },
  "language_info": {
   "codemirror_mode": {
    "name": "ipython",
    "version": 3
   },
   "file_extension": ".py",
   "mimetype": "text/x-python",
   "name": "python",
   "nbconvert_exporter": "python",
   "pygments_lexer": "ipython3",
   "version": "3.11.5"
  }
 },
 "nbformat": 4,
 "nbformat_minor": 5
}
