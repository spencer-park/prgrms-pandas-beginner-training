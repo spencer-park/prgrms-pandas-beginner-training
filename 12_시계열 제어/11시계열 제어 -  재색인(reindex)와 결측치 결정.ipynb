{
 "cells": [
  {
   "cell_type": "markdown",
   "id": "ad76ff07",
   "metadata": {},
   "source": [
    "## 재색인(reindex)\n",
    "- https://pandas.pydata.org/docs/reference/api/pandas.DataFrame.reindex.html\n",
    "- https://pandas.pydata.org/docs/reference/api/pandas.Series.reindex.html\n",
    "- https://pandas.pydata.org/docs/reference/api/pandas.Index.reindex.html\n",
    "- 인덱스를 새로운 인덱스로 변경하거나 재정렬하는 작업\n",
    "- 데이터를 새로운 인덱스에 맞게 재배열하거나 누락된 값을 처리하는 데 유용\n",
    "- 시리즈, 데이터프레임 모두 가능"
   ]
  },
  {
   "cell_type": "markdown",
   "id": "58751ee4",
   "metadata": {},
   "source": [
    "## 재색인 간단 예제"
   ]
  },
  {
   "cell_type": "code",
   "execution_count": null,
   "id": "b3222b88",
   "metadata": {},
   "outputs": [],
   "source": [
    "import pandas as pd"
   ]
  },
  {
   "cell_type": "markdown",
   "id": "c40c37cd",
   "metadata": {},
   "source": [
    "### Series"
   ]
  },
  {
   "cell_type": "code",
   "execution_count": null,
   "id": "57b40a08",
   "metadata": {},
   "outputs": [],
   "source": [
    "# 기존 Series 생성\n",
    "series = pd.Series([1, 2, 3], index=['a', 'b', 'c'])\n",
    "series"
   ]
  },
  {
   "cell_type": "code",
   "execution_count": null,
   "id": "9f341601",
   "metadata": {},
   "outputs": [],
   "source": [
    "# 새로운 인덱스로 재정렬\n",
    "new_index = ['c', 'b', 'a', 'd']\n",
    "new_series = series.reindex(new_index)"
   ]
  },
  {
   "cell_type": "code",
   "execution_count": null,
   "id": "2bcc7517",
   "metadata": {},
   "outputs": [],
   "source": [
    "new_series"
   ]
  },
  {
   "cell_type": "markdown",
   "id": "ef5a4424",
   "metadata": {},
   "source": [
    "### DataFrame"
   ]
  },
  {
   "cell_type": "code",
   "execution_count": null,
   "id": "5b2bd0a5",
   "metadata": {},
   "outputs": [],
   "source": [
    "# 기존 DataFrame 생성\n",
    "df = pd.DataFrame({'A': [1, 2, 3], 'B': [4, 5, 6]}, index=['a', 'b', 'c'])\n",
    "df"
   ]
  },
  {
   "cell_type": "code",
   "execution_count": null,
   "id": "cf1e3ed3",
   "metadata": {},
   "outputs": [],
   "source": [
    "# 새로운 인덱스로 재정렬\n",
    "new_index = ['c', 'b', 'a', 'd']\n",
    "new_df = df.reindex(new_index)"
   ]
  },
  {
   "cell_type": "code",
   "execution_count": null,
   "id": "ef28079e",
   "metadata": {},
   "outputs": [],
   "source": [
    "new_df"
   ]
  },
  {
   "cell_type": "markdown",
   "id": "8c73dbf4",
   "metadata": {},
   "source": [
    "## 본 데이터 실습 - 시계열의 재색인"
   ]
  },
  {
   "cell_type": "code",
   "execution_count": null,
   "id": "bfa6a146",
   "metadata": {},
   "outputs": [],
   "source": []
  },
  {
   "cell_type": "code",
   "execution_count": null,
   "id": "376791c7",
   "metadata": {},
   "outputs": [],
   "source": []
  },
  {
   "cell_type": "code",
   "execution_count": null,
   "id": "6b633504",
   "metadata": {},
   "outputs": [],
   "source": []
  },
  {
   "cell_type": "code",
   "execution_count": null,
   "id": "383a6904",
   "metadata": {
    "scrolled": true
   },
   "outputs": [],
   "source": []
  },
  {
   "cell_type": "markdown",
   "id": "de194b3f",
   "metadata": {},
   "source": [
    "현재 위 데이터에 없는 요일이 있다."
   ]
  },
  {
   "cell_type": "code",
   "execution_count": null,
   "id": "9b85cd65",
   "metadata": {},
   "outputs": [],
   "source": []
  },
  {
   "cell_type": "markdown",
   "id": "782621eb",
   "metadata": {},
   "source": [
    "## 월화수목금+토일"
   ]
  },
  {
   "cell_type": "markdown",
   "id": "b4c43bc6",
   "metadata": {},
   "source": [
    "### 1. 기간 찾기"
   ]
  },
  {
   "cell_type": "code",
   "execution_count": null,
   "id": "967dd02a",
   "metadata": {},
   "outputs": [],
   "source": [
    "# 가장 과거 날짜\n"
   ]
  },
  {
   "cell_type": "code",
   "execution_count": null,
   "id": "1c84225b",
   "metadata": {},
   "outputs": [],
   "source": [
    "# 가장 최근 날짜\n"
   ]
  },
  {
   "cell_type": "markdown",
   "id": "8a2c26ed",
   "metadata": {},
   "source": [
    "2개 모두 Timestamp()이니 날짜 포맷 문자열 대신 활용 가능"
   ]
  },
  {
   "cell_type": "markdown",
   "id": "302bd14f",
   "metadata": {},
   "source": [
    "### 2. 비어있는 날짜까지 데이터 생성"
   ]
  },
  {
   "cell_type": "code",
   "execution_count": null,
   "id": "7233f1a8",
   "metadata": {},
   "outputs": [],
   "source": []
  },
  {
   "cell_type": "code",
   "execution_count": null,
   "id": "874cd7c0-2796-4cca-a777-ec2f37c18d2a",
   "metadata": {},
   "outputs": [],
   "source": []
  },
  {
   "cell_type": "markdown",
   "id": "b9cb43f4",
   "metadata": {},
   "source": [
    "### 3.1 재색인(reindex) + 결측치 채우기('휴장)"
   ]
  },
  {
   "cell_type": "code",
   "execution_count": null,
   "id": "ea080191",
   "metadata": {
    "scrolled": true
   },
   "outputs": [],
   "source": []
  },
  {
   "cell_type": "code",
   "execution_count": null,
   "id": "0927e65f",
   "metadata": {},
   "outputs": [],
   "source": [
    "# .fillna()로 채우거나, fill_value=로 채우거나\n"
   ]
  },
  {
   "cell_type": "markdown",
   "id": "cbc6e60c",
   "metadata": {},
   "source": [
    "### 3.2 재색인(reindex) + 결측치 채우기(이전일)"
   ]
  },
  {
   "cell_type": "code",
   "execution_count": null,
   "id": "d1fb538b",
   "metadata": {},
   "outputs": [],
   "source": []
  },
  {
   "cell_type": "code",
   "execution_count": null,
   "id": "28a06706",
   "metadata": {},
   "outputs": [],
   "source": []
  },
  {
   "cell_type": "markdown",
   "id": "cc052d32",
   "metadata": {},
   "source": [
    "## 4. 요일 열 추가"
   ]
  },
  {
   "cell_type": "code",
   "execution_count": null,
   "id": "eb01f46b-7065-4a49-892b-8d6a07abcbb8",
   "metadata": {},
   "outputs": [],
   "source": []
  },
  {
   "cell_type": "code",
   "execution_count": null,
   "id": "657955dc",
   "metadata": {},
   "outputs": [],
   "source": []
  }
 ],
 "metadata": {
  "kernelspec": {
   "display_name": "Python 3 (ipykernel)",
   "language": "python",
   "name": "python3"
  },
  "language_info": {
   "codemirror_mode": {
    "name": "ipython",
    "version": 3
   },
   "file_extension": ".py",
   "mimetype": "text/x-python",
   "name": "python",
   "nbconvert_exporter": "python",
   "pygments_lexer": "ipython3",
   "version": "3.11.5"
  }
 },
 "nbformat": 4,
 "nbformat_minor": 5
}
