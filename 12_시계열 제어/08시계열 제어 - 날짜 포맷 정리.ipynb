{
 "cells": [
  {
   "cell_type": "markdown",
   "id": "8c73dbf4",
   "metadata": {},
   "source": [
    "## 데이터 셋\n",
    "- https://www.kaggle.com/datasets/suyashlakhani/apple-stock-prices-20152020\n",
    "- 날짜가 있는 데이터 셋이라면 모두 실습 가능하니, 복습할 땐 다른 데이터셋으로 해보자."
   ]
  },
  {
   "cell_type": "code",
   "execution_count": null,
   "id": "bfa6a146",
   "metadata": {},
   "outputs": [],
   "source": [
    "import pandas as pd"
   ]
  },
  {
   "cell_type": "code",
   "execution_count": null,
   "id": "43ed3b8d",
   "metadata": {},
   "outputs": [],
   "source": [
    "cols = ['date', 'open', 'high', 'low', 'close']"
   ]
  },
  {
   "cell_type": "code",
   "execution_count": null,
   "id": "d1dc0021",
   "metadata": {},
   "outputs": [],
   "source": [
    "stocks = pd.read_csv('AAPL.csv', usecols=cols, parse_dates=['date'])"
   ]
  },
  {
   "cell_type": "code",
   "execution_count": null,
   "id": "f664bce2",
   "metadata": {},
   "outputs": [],
   "source": [
    "stocks"
   ]
  },
  {
   "cell_type": "code",
   "execution_count": null,
   "id": "bf038181",
   "metadata": {},
   "outputs": [],
   "source": [
    "stocks.info()"
   ]
  },
  {
   "cell_type": "markdown",
   "id": "f22c1909",
   "metadata": {},
   "source": [
    "## 날짜 포맷 정리"
   ]
  },
  {
   "cell_type": "code",
   "execution_count": null,
   "id": "3dd47a08",
   "metadata": {},
   "outputs": [],
   "source": []
  },
  {
   "cell_type": "code",
   "execution_count": null,
   "id": "9460299f",
   "metadata": {},
   "outputs": [],
   "source": [
    "# 변경 형태 : 미국장 현지시간 09:30 ~ 16:00\n"
   ]
  },
  {
   "cell_type": "markdown",
   "id": "7bea6235",
   "metadata": {},
   "source": [
    "## 새로 계산된 열을 index로"
   ]
  },
  {
   "cell_type": "code",
   "execution_count": null,
   "id": "9e200adc",
   "metadata": {},
   "outputs": [],
   "source": []
  },
  {
   "cell_type": "code",
   "execution_count": null,
   "id": "852ddf41",
   "metadata": {
    "scrolled": true
   },
   "outputs": [],
   "source": [
    "# 불필요해진 열 drop\n"
   ]
  },
  {
   "cell_type": "markdown",
   "id": "d6f28ef7",
   "metadata": {},
   "source": [
    "## 새로운 .csv로 저장"
   ]
  },
  {
   "cell_type": "code",
   "execution_count": null,
   "id": "744d55d4",
   "metadata": {},
   "outputs": [],
   "source": []
  }
 ],
 "metadata": {
  "kernelspec": {
   "display_name": "Python 3 (ipykernel)",
   "language": "python",
   "name": "python3"
  },
  "language_info": {
   "codemirror_mode": {
    "name": "ipython",
    "version": 3
   },
   "file_extension": ".py",
   "mimetype": "text/x-python",
   "name": "python",
   "nbconvert_exporter": "python",
   "pygments_lexer": "ipython3",
   "version": "3.11.5"
  }
 },
 "nbformat": 4,
 "nbformat_minor": 5
}
